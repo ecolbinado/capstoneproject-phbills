{
 "cells": [
  {
   "cell_type": "markdown",
   "metadata": {},
   "source": [
    "# Text Processing – Long Titles from Philippines Senate Bills"
   ]
  },
  {
   "cell_type": "code",
   "execution_count": 1,
   "metadata": {
    "ExecuteTime": {
     "end_time": "2019-11-28T04:10:26.351759Z",
     "start_time": "2019-11-28T04:10:25.843810Z"
    }
   },
   "outputs": [],
   "source": [
    "import pandas as pd\n",
    "import numpy as np\n",
    "import os\n",
    "import re\n",
    "import string\n",
    "from nltk import word_tokenize\n",
    "from nltk.corpus import words\n",
    "from nltk.stem import WordNetLemmatizer\n",
    "from nltk import pos_tag\n",
    "from nltk.corpus import stopwords"
   ]
  },
  {
   "cell_type": "markdown",
   "metadata": {},
   "source": [
    "Pandas Display Options Settings"
   ]
  },
  {
   "cell_type": "code",
   "execution_count": 2,
   "metadata": {
    "ExecuteTime": {
     "end_time": "2019-11-28T04:10:26.360111Z",
     "start_time": "2019-11-28T04:10:26.353773Z"
    }
   },
   "outputs": [],
   "source": [
    "# pd.options.display.max_columns = None\n",
    "# pd.options.display.max_rows = None\n",
    "# pd.set_option('display.max_colwidth', -1)"
   ]
  },
  {
   "cell_type": "markdown",
   "metadata": {},
   "source": [
    "## Loading the Data"
   ]
  },
  {
   "cell_type": "code",
   "execution_count": 3,
   "metadata": {
    "ExecuteTime": {
     "end_time": "2019-11-28T04:10:26.486246Z",
     "start_time": "2019-11-28T04:10:26.368386Z"
    }
   },
   "outputs": [
    {
     "name": "stdout",
     "output_type": "stream",
     "text": [
      "Dataframe has 15,078 observations and 22 dimensions.\n"
     ]
    }
   ],
   "source": [
    "df = pd.read_csv(os.path.join('data_files',\n",
    "                              'bills_data_set.csv'), index_col=0)\n",
    "print(f\"Dataframe has {df.shape[0]:,}\",\n",
    "      f\"observations and {df.shape[1]} dimensions.\")"
   ]
  },
  {
   "cell_type": "code",
   "execution_count": 4,
   "metadata": {
    "ExecuteTime": {
     "end_time": "2019-11-28T04:10:26.505264Z",
     "start_time": "2019-11-28T04:10:26.493445Z"
    }
   },
   "outputs": [],
   "source": [
    "df['bill_status'] = np.where(df.Pass == True,\n",
    "                             \"Passed\",\n",
    "                             np.where(df.status == 'Sent to the Archives',\n",
    "                                      \"Archived\",\n",
    "                                      \"Pending\"))"
   ]
  },
  {
   "cell_type": "code",
   "execution_count": 5,
   "metadata": {
    "ExecuteTime": {
     "end_time": "2019-11-28T04:10:26.525773Z",
     "start_time": "2019-11-28T04:10:26.507242Z"
    }
   },
   "outputs": [
    {
     "data": {
      "text/plain": [
       "<matplotlib.axes._subplots.AxesSubplot at 0x1a21acfed0>"
      ]
     },
     "execution_count": 5,
     "metadata": {},
     "output_type": "execute_result"
    },
    {
     "data": {
      "image/png": "[encoded data removed]",
      "text/plain": [
       "<Figure size 432x288 with 1 Axes>"
      ]
     },
     "metadata": {
      "needs_background": "light"
     },
     "output_type": "display_data"
    }
   ],
   "source": [
    "df.bill_status.value_counts(dropna=False).plot(kind='bar')"
   ]
  },
  {
   "cell_type": "markdown",
   "metadata": {},
   "source": [
    "## Cleaning Data"
   ]
  },
  {
   "cell_type": "markdown",
   "metadata": {},
   "source": [
    "### Feature Filtering"
   ]
  },
  {
   "cell_type": "code",
   "execution_count": 6,
   "metadata": {
    "ExecuteTime": {
     "end_time": "2019-11-28T04:10:26.561541Z",
     "start_time": "2019-11-28T04:10:26.535689Z"
    }
   },
   "outputs": [
    {
     "data": {
      "text/html": [
       "<div>\n",
       "<style scoped>\n",
       "    .dataframe tbody tr th:only-of-type {\n",
       "        vertical-align: middle;\n",
       "    }\n",
       "\n",
       "    .dataframe tbody tr th {\n",
       "        vertical-align: top;\n",
       "    }\n",
       "\n",
       "    .dataframe thead th {\n",
       "        text-align: right;\n",
       "    }\n",
       "</style>\n",
       "<table border=\"1\" class=\"dataframe\">\n",
       "  <thead>\n",
       "    <tr style=\"text-align: right;\">\n",
       "      <th></th>\n",
       "      <th>bill_id</th>\n",
       "      <th>long_title</th>\n",
       "      <th>bill_status</th>\n",
       "    </tr>\n",
       "  </thead>\n",
       "  <tbody>\n",
       "    <tr>\n",
       "      <th>0</th>\n",
       "      <td>17SBN-2235</td>\n",
       "      <td>an act establishing the fiscal regime for the ...</td>\n",
       "      <td>Pending</td>\n",
       "    </tr>\n",
       "    <tr>\n",
       "      <th>1</th>\n",
       "      <td>17SBN-2234</td>\n",
       "      <td>an act authorizing the sale of certain parcels...</td>\n",
       "      <td>Passed</td>\n",
       "    </tr>\n",
       "    <tr>\n",
       "      <th>2</th>\n",
       "      <td>17SBN-2233</td>\n",
       "      <td>an act increasing the excise tax on tobacco pr...</td>\n",
       "      <td>Passed</td>\n",
       "    </tr>\n",
       "    <tr>\n",
       "      <th>3</th>\n",
       "      <td>17SBN-2232</td>\n",
       "      <td>an act mandating the institutionalization, dev...</td>\n",
       "      <td>Pending</td>\n",
       "    </tr>\n",
       "    <tr>\n",
       "      <th>4</th>\n",
       "      <td>17SBN-2231</td>\n",
       "      <td>an act strengthening the al-amanah islamic bank</td>\n",
       "      <td>Pending</td>\n",
       "    </tr>\n",
       "  </tbody>\n",
       "</table>\n",
       "</div>"
      ],
      "text/plain": [
       "      bill_id                                         long_title bill_status\n",
       "0  17SBN-2235  an act establishing the fiscal regime for the ...     Pending\n",
       "1  17SBN-2234  an act authorizing the sale of certain parcels...      Passed\n",
       "2  17SBN-2233  an act increasing the excise tax on tobacco pr...      Passed\n",
       "3  17SBN-2232  an act mandating the institutionalization, dev...     Pending\n",
       "4  17SBN-2231    an act strengthening the al-amanah islamic bank     Pending"
      ]
     },
     "execution_count": 6,
     "metadata": {},
     "output_type": "execute_result"
    }
   ],
   "source": [
    "df = df[['bill_id', 'long_title', 'bill_status']]\n",
    "df.head()"
   ]
  },
  {
   "cell_type": "markdown",
   "metadata": {},
   "source": [
    "### Punctuations and Numbers Removal"
   ]
  },
  {
   "cell_type": "code",
   "execution_count": 7,
   "metadata": {
    "ExecuteTime": {
     "end_time": "2019-11-28T04:10:26.588647Z",
     "start_time": "2019-11-28T04:10:26.579295Z"
    }
   },
   "outputs": [],
   "source": [
    "def clean_text(text):\n",
    "    '''Make text lowercase, remove text in square brackets,\n",
    "    remove punctuation and remove words containing numbers.'''\n",
    "    text = text.lower()\n",
    "    text = re.sub('\\[.*?\\]', '', text)\n",
    "    text = re.sub('[%s]' % re.escape(string.punctuation), '', text)\n",
    "    text = re.sub('\\w*\\d\\w*', '', text)\n",
    "    text = re.sub('[‘’“”…]', '', text)\n",
    "    text = re.sub('\\n', '', text)\n",
    "    return text"
   ]
  },
  {
   "cell_type": "code",
   "execution_count": 8,
   "metadata": {
    "ExecuteTime": {
     "end_time": "2019-11-28T04:10:27.293476Z",
     "start_time": "2019-11-28T04:10:26.593500Z"
    }
   },
   "outputs": [
    {
     "data": {
      "text/html": [
       "<div>\n",
       "<style scoped>\n",
       "    .dataframe tbody tr th:only-of-type {\n",
       "        vertical-align: middle;\n",
       "    }\n",
       "\n",
       "    .dataframe tbody tr th {\n",
       "        vertical-align: top;\n",
       "    }\n",
       "\n",
       "    .dataframe thead th {\n",
       "        text-align: right;\n",
       "    }\n",
       "</style>\n",
       "<table border=\"1\" class=\"dataframe\">\n",
       "  <thead>\n",
       "    <tr style=\"text-align: right;\">\n",
       "      <th></th>\n",
       "      <th>bill_id</th>\n",
       "      <th>long_title</th>\n",
       "      <th>bill_status</th>\n",
       "    </tr>\n",
       "  </thead>\n",
       "  <tbody>\n",
       "    <tr>\n",
       "      <th>0</th>\n",
       "      <td>17SBN-2235</td>\n",
       "      <td>an act establishing the fiscal regime for the ...</td>\n",
       "      <td>Pending</td>\n",
       "    </tr>\n",
       "    <tr>\n",
       "      <th>1</th>\n",
       "      <td>17SBN-2234</td>\n",
       "      <td>an act authorizing the sale of certain parcels...</td>\n",
       "      <td>Passed</td>\n",
       "    </tr>\n",
       "    <tr>\n",
       "      <th>2</th>\n",
       "      <td>17SBN-2233</td>\n",
       "      <td>an act increasing the excise tax on tobacco pr...</td>\n",
       "      <td>Passed</td>\n",
       "    </tr>\n",
       "    <tr>\n",
       "      <th>3</th>\n",
       "      <td>17SBN-2232</td>\n",
       "      <td>an act mandating the institutionalization deve...</td>\n",
       "      <td>Pending</td>\n",
       "    </tr>\n",
       "    <tr>\n",
       "      <th>4</th>\n",
       "      <td>17SBN-2231</td>\n",
       "      <td>an act strengthening the alamanah islamic bank</td>\n",
       "      <td>Pending</td>\n",
       "    </tr>\n",
       "  </tbody>\n",
       "</table>\n",
       "</div>"
      ],
      "text/plain": [
       "      bill_id                                         long_title bill_status\n",
       "0  17SBN-2235  an act establishing the fiscal regime for the ...     Pending\n",
       "1  17SBN-2234  an act authorizing the sale of certain parcels...      Passed\n",
       "2  17SBN-2233  an act increasing the excise tax on tobacco pr...      Passed\n",
       "3  17SBN-2232  an act mandating the institutionalization deve...     Pending\n",
       "4  17SBN-2231     an act strengthening the alamanah islamic bank     Pending"
      ]
     },
     "execution_count": 8,
     "metadata": {},
     "output_type": "execute_result"
    }
   ],
   "source": [
    "df['long_title'] = df.long_title.map(clean_text)\n",
    "df.head()"
   ]
  },
  {
   "cell_type": "markdown",
   "metadata": {},
   "source": [
    "### Tokenization of Words "
   ]
  },
  {
   "cell_type": "code",
   "execution_count": 9,
   "metadata": {
    "ExecuteTime": {
     "end_time": "2019-11-28T04:10:30.670353Z",
     "start_time": "2019-11-28T04:10:28.288078Z"
    }
   },
   "outputs": [
    {
     "data": {
      "text/html": [
       "<div>\n",
       "<style scoped>\n",
       "    .dataframe tbody tr th:only-of-type {\n",
       "        vertical-align: middle;\n",
       "    }\n",
       "\n",
       "    .dataframe tbody tr th {\n",
       "        vertical-align: top;\n",
       "    }\n",
       "\n",
       "    .dataframe thead th {\n",
       "        text-align: right;\n",
       "    }\n",
       "</style>\n",
       "<table border=\"1\" class=\"dataframe\">\n",
       "  <thead>\n",
       "    <tr style=\"text-align: right;\">\n",
       "      <th></th>\n",
       "      <th>bill_id</th>\n",
       "      <th>long_title</th>\n",
       "      <th>bill_status</th>\n",
       "    </tr>\n",
       "  </thead>\n",
       "  <tbody>\n",
       "    <tr>\n",
       "      <th>0</th>\n",
       "      <td>17SBN-2235</td>\n",
       "      <td>[an, act, establishing, the, fiscal, regime, f...</td>\n",
       "      <td>Pending</td>\n",
       "    </tr>\n",
       "    <tr>\n",
       "      <th>1</th>\n",
       "      <td>17SBN-2234</td>\n",
       "      <td>[an, act, authorizing, the, sale, of, certain,...</td>\n",
       "      <td>Passed</td>\n",
       "    </tr>\n",
       "    <tr>\n",
       "      <th>2</th>\n",
       "      <td>17SBN-2233</td>\n",
       "      <td>[an, act, increasing, the, excise, tax, on, to...</td>\n",
       "      <td>Passed</td>\n",
       "    </tr>\n",
       "    <tr>\n",
       "      <th>3</th>\n",
       "      <td>17SBN-2232</td>\n",
       "      <td>[an, act, mandating, the, institutionalization...</td>\n",
       "      <td>Pending</td>\n",
       "    </tr>\n",
       "    <tr>\n",
       "      <th>4</th>\n",
       "      <td>17SBN-2231</td>\n",
       "      <td>[an, act, strengthening, the, alamanah, islami...</td>\n",
       "      <td>Pending</td>\n",
       "    </tr>\n",
       "  </tbody>\n",
       "</table>\n",
       "</div>"
      ],
      "text/plain": [
       "      bill_id                                         long_title bill_status\n",
       "0  17SBN-2235  [an, act, establishing, the, fiscal, regime, f...     Pending\n",
       "1  17SBN-2234  [an, act, authorizing, the, sale, of, certain,...      Passed\n",
       "2  17SBN-2233  [an, act, increasing, the, excise, tax, on, to...      Passed\n",
       "3  17SBN-2232  [an, act, mandating, the, institutionalization...     Pending\n",
       "4  17SBN-2231  [an, act, strengthening, the, alamanah, islami...     Pending"
      ]
     },
     "execution_count": 9,
     "metadata": {},
     "output_type": "execute_result"
    }
   ],
   "source": [
    "df['long_title'] = df.long_title.map(word_tokenize)\n",
    "df.head()"
   ]
  },
  {
   "cell_type": "markdown",
   "metadata": {},
   "source": [
    "### Removal of Non-English Words"
   ]
  },
  {
   "cell_type": "code",
   "execution_count": 10,
   "metadata": {
    "ExecuteTime": {
     "end_time": "2019-11-28T04:10:30.968411Z",
     "start_time": "2019-11-28T04:10:30.680264Z"
    }
   },
   "outputs": [
    {
     "data": {
      "text/html": [
       "<div>\n",
       "<style scoped>\n",
       "    .dataframe tbody tr th:only-of-type {\n",
       "        vertical-align: middle;\n",
       "    }\n",
       "\n",
       "    .dataframe tbody tr th {\n",
       "        vertical-align: top;\n",
       "    }\n",
       "\n",
       "    .dataframe thead th {\n",
       "        text-align: right;\n",
       "    }\n",
       "</style>\n",
       "<table border=\"1\" class=\"dataframe\">\n",
       "  <thead>\n",
       "    <tr style=\"text-align: right;\">\n",
       "      <th></th>\n",
       "      <th>bill_id</th>\n",
       "      <th>long_title</th>\n",
       "      <th>bill_status</th>\n",
       "    </tr>\n",
       "  </thead>\n",
       "  <tbody>\n",
       "    <tr>\n",
       "      <th>0</th>\n",
       "      <td>17SBN-2235</td>\n",
       "      <td>[an, act, the, fiscal, regime, for, the, minin...</td>\n",
       "      <td>Pending</td>\n",
       "    </tr>\n",
       "    <tr>\n",
       "      <th>1</th>\n",
       "      <td>17SBN-2234</td>\n",
       "      <td>[an, act, the, sale, of, certain, of, land, in...</td>\n",
       "      <td>Passed</td>\n",
       "    </tr>\n",
       "    <tr>\n",
       "      <th>2</th>\n",
       "      <td>17SBN-2233</td>\n",
       "      <td>[an, act, increasing, the, excise, tax, on, to...</td>\n",
       "      <td>Passed</td>\n",
       "    </tr>\n",
       "    <tr>\n",
       "      <th>3</th>\n",
       "      <td>17SBN-2232</td>\n",
       "      <td>[an, act, the, institutionalization, developme...</td>\n",
       "      <td>Pending</td>\n",
       "    </tr>\n",
       "    <tr>\n",
       "      <th>4</th>\n",
       "      <td>17SBN-2231</td>\n",
       "      <td>[an, act, strengthening, the, bank]</td>\n",
       "      <td>Pending</td>\n",
       "    </tr>\n",
       "  </tbody>\n",
       "</table>\n",
       "</div>"
      ],
      "text/plain": [
       "      bill_id                                         long_title bill_status\n",
       "0  17SBN-2235  [an, act, the, fiscal, regime, for, the, minin...     Pending\n",
       "1  17SBN-2234  [an, act, the, sale, of, certain, of, land, in...      Passed\n",
       "2  17SBN-2233  [an, act, increasing, the, excise, tax, on, to...      Passed\n",
       "3  17SBN-2232  [an, act, the, institutionalization, developme...     Pending\n",
       "4  17SBN-2231                [an, act, strengthening, the, bank]     Pending"
      ]
     },
     "execution_count": 10,
     "metadata": {},
     "output_type": "execute_result"
    }
   ],
   "source": [
    "eng_words = set(words.words())\n",
    "df['long_title'] = df.long_title.map(lambda lt:\n",
    "                                     [word for word in lt\n",
    "                                      if word in eng_words])\n",
    "df.head()"
   ]
  },
  {
   "cell_type": "markdown",
   "metadata": {},
   "source": [
    "### Word Lemmatizer"
   ]
  },
  {
   "cell_type": "code",
   "execution_count": 11,
   "metadata": {
    "ExecuteTime": {
     "end_time": "2019-11-28T04:10:33.519872Z",
     "start_time": "2019-11-28T04:10:30.977860Z"
    }
   },
   "outputs": [
    {
     "data": {
      "text/html": [
       "<div>\n",
       "<style scoped>\n",
       "    .dataframe tbody tr th:only-of-type {\n",
       "        vertical-align: middle;\n",
       "    }\n",
       "\n",
       "    .dataframe tbody tr th {\n",
       "        vertical-align: top;\n",
       "    }\n",
       "\n",
       "    .dataframe thead th {\n",
       "        text-align: right;\n",
       "    }\n",
       "</style>\n",
       "<table border=\"1\" class=\"dataframe\">\n",
       "  <thead>\n",
       "    <tr style=\"text-align: right;\">\n",
       "      <th></th>\n",
       "      <th>bill_id</th>\n",
       "      <th>long_title</th>\n",
       "      <th>bill_status</th>\n",
       "    </tr>\n",
       "  </thead>\n",
       "  <tbody>\n",
       "    <tr>\n",
       "      <th>0</th>\n",
       "      <td>17SBN-2235</td>\n",
       "      <td>[an, act, the, fiscal, regime, for, the, minin...</td>\n",
       "      <td>Pending</td>\n",
       "    </tr>\n",
       "    <tr>\n",
       "      <th>1</th>\n",
       "      <td>17SBN-2234</td>\n",
       "      <td>[an, act, the, sale, of, certain, of, land, in...</td>\n",
       "      <td>Passed</td>\n",
       "    </tr>\n",
       "    <tr>\n",
       "      <th>2</th>\n",
       "      <td>17SBN-2233</td>\n",
       "      <td>[an, act, increasing, the, excise, tax, on, to...</td>\n",
       "      <td>Passed</td>\n",
       "    </tr>\n",
       "    <tr>\n",
       "      <th>3</th>\n",
       "      <td>17SBN-2232</td>\n",
       "      <td>[an, act, the, institutionalization, developme...</td>\n",
       "      <td>Pending</td>\n",
       "    </tr>\n",
       "    <tr>\n",
       "      <th>4</th>\n",
       "      <td>17SBN-2231</td>\n",
       "      <td>[an, act, strengthening, the, bank]</td>\n",
       "      <td>Pending</td>\n",
       "    </tr>\n",
       "  </tbody>\n",
       "</table>\n",
       "</div>"
      ],
      "text/plain": [
       "      bill_id                                         long_title bill_status\n",
       "0  17SBN-2235  [an, act, the, fiscal, regime, for, the, minin...     Pending\n",
       "1  17SBN-2234  [an, act, the, sale, of, certain, of, land, in...      Passed\n",
       "2  17SBN-2233  [an, act, increasing, the, excise, tax, on, to...      Passed\n",
       "3  17SBN-2232  [an, act, the, institutionalization, developme...     Pending\n",
       "4  17SBN-2231                [an, act, strengthening, the, bank]     Pending"
      ]
     },
     "execution_count": 11,
     "metadata": {},
     "output_type": "execute_result"
    }
   ],
   "source": [
    "lemma = WordNetLemmatizer()\n",
    "df['long_title'] = df.long_title.map(lambda lt: [lemma.lemmatize(word)\n",
    "                                                 for word in lt])\n",
    "df.head()"
   ]
  },
  {
   "cell_type": "markdown",
   "metadata": {},
   "source": [
    "### Part of Speech Tagging"
   ]
  },
  {
   "cell_type": "code",
   "execution_count": 12,
   "metadata": {},
   "outputs": [
    {
     "data": {
      "text/html": [
       "<div>\n",
       "<style scoped>\n",
       "    .dataframe tbody tr th:only-of-type {\n",
       "        vertical-align: middle;\n",
       "    }\n",
       "\n",
       "    .dataframe tbody tr th {\n",
       "        vertical-align: top;\n",
       "    }\n",
       "\n",
       "    .dataframe thead th {\n",
       "        text-align: right;\n",
       "    }\n",
       "</style>\n",
       "<table border=\"1\" class=\"dataframe\">\n",
       "  <thead>\n",
       "    <tr style=\"text-align: right;\">\n",
       "      <th></th>\n",
       "      <th>bill_id</th>\n",
       "      <th>long_title</th>\n",
       "      <th>bill_status</th>\n",
       "    </tr>\n",
       "  </thead>\n",
       "  <tbody>\n",
       "    <tr>\n",
       "      <th>0</th>\n",
       "      <td>17SBN-2235</td>\n",
       "      <td>[(an, DT), (act, NN), (the, DT), (fiscal, JJ),...</td>\n",
       "      <td>Pending</td>\n",
       "    </tr>\n",
       "    <tr>\n",
       "      <th>1</th>\n",
       "      <td>17SBN-2234</td>\n",
       "      <td>[(an, DT), (act, NN), (the, DT), (sale, NN), (...</td>\n",
       "      <td>Passed</td>\n",
       "    </tr>\n",
       "    <tr>\n",
       "      <th>2</th>\n",
       "      <td>17SBN-2233</td>\n",
       "      <td>[(an, DT), (act, NN), (increasing, VBG), (the,...</td>\n",
       "      <td>Passed</td>\n",
       "    </tr>\n",
       "    <tr>\n",
       "      <th>3</th>\n",
       "      <td>17SBN-2232</td>\n",
       "      <td>[(an, DT), (act, NN), (the, DT), (institutiona...</td>\n",
       "      <td>Pending</td>\n",
       "    </tr>\n",
       "    <tr>\n",
       "      <th>4</th>\n",
       "      <td>17SBN-2231</td>\n",
       "      <td>[(an, DT), (act, NN), (strengthening, VBG), (t...</td>\n",
       "      <td>Pending</td>\n",
       "    </tr>\n",
       "  </tbody>\n",
       "</table>\n",
       "</div>"
      ],
      "text/plain": [
       "      bill_id                                         long_title bill_status\n",
       "0  17SBN-2235  [(an, DT), (act, NN), (the, DT), (fiscal, JJ),...     Pending\n",
       "1  17SBN-2234  [(an, DT), (act, NN), (the, DT), (sale, NN), (...      Passed\n",
       "2  17SBN-2233  [(an, DT), (act, NN), (increasing, VBG), (the,...      Passed\n",
       "3  17SBN-2232  [(an, DT), (act, NN), (the, DT), (institutiona...     Pending\n",
       "4  17SBN-2231  [(an, DT), (act, NN), (strengthening, VBG), (t...     Pending"
      ]
     },
     "execution_count": 12,
     "metadata": {},
     "output_type": "execute_result"
    }
   ],
   "source": [
    "df['long_title'] = df.long_title.map(pos_tag)\n",
    "df.head()"
   ]
  },
  {
   "cell_type": "code",
   "execution_count": 13,
   "metadata": {
    "ExecuteTime": {
     "end_time": "2019-11-28T04:10:44.634523Z",
     "start_time": "2019-11-28T04:10:33.530861Z"
    }
   },
   "outputs": [
    {
     "data": {
      "text/html": [
       "<div>\n",
       "<style scoped>\n",
       "    .dataframe tbody tr th:only-of-type {\n",
       "        vertical-align: middle;\n",
       "    }\n",
       "\n",
       "    .dataframe tbody tr th {\n",
       "        vertical-align: top;\n",
       "    }\n",
       "\n",
       "    .dataframe thead th {\n",
       "        text-align: right;\n",
       "    }\n",
       "</style>\n",
       "<table border=\"1\" class=\"dataframe\">\n",
       "  <thead>\n",
       "    <tr style=\"text-align: right;\">\n",
       "      <th></th>\n",
       "      <th>bill_id</th>\n",
       "      <th>long_title</th>\n",
       "      <th>bill_status</th>\n",
       "    </tr>\n",
       "  </thead>\n",
       "  <tbody>\n",
       "    <tr>\n",
       "      <th>0</th>\n",
       "      <td>17SBN-2235</td>\n",
       "      <td>[(act, NN), (fiscal, JJ), (regime, NN), (minin...</td>\n",
       "      <td>Pending</td>\n",
       "    </tr>\n",
       "    <tr>\n",
       "      <th>1</th>\n",
       "      <td>17SBN-2234</td>\n",
       "      <td>[(act, NN), (sale, NN), (certain, JJ), (land, ...</td>\n",
       "      <td>Passed</td>\n",
       "    </tr>\n",
       "    <tr>\n",
       "      <th>2</th>\n",
       "      <td>17SBN-2233</td>\n",
       "      <td>[(act, NN), (excise, NN), (tax, NN), (tobacco,...</td>\n",
       "      <td>Passed</td>\n",
       "    </tr>\n",
       "    <tr>\n",
       "      <th>3</th>\n",
       "      <td>17SBN-2232</td>\n",
       "      <td>[(act, NN), (institutionalization, NN), (devel...</td>\n",
       "      <td>Pending</td>\n",
       "    </tr>\n",
       "    <tr>\n",
       "      <th>4</th>\n",
       "      <td>17SBN-2231</td>\n",
       "      <td>[(act, NN), (bank, NN)]</td>\n",
       "      <td>Pending</td>\n",
       "    </tr>\n",
       "  </tbody>\n",
       "</table>\n",
       "</div>"
      ],
      "text/plain": [
       "      bill_id                                         long_title bill_status\n",
       "0  17SBN-2235  [(act, NN), (fiscal, JJ), (regime, NN), (minin...     Pending\n",
       "1  17SBN-2234  [(act, NN), (sale, NN), (certain, JJ), (land, ...      Passed\n",
       "2  17SBN-2233  [(act, NN), (excise, NN), (tax, NN), (tobacco,...      Passed\n",
       "3  17SBN-2232  [(act, NN), (institutionalization, NN), (devel...     Pending\n",
       "4  17SBN-2231                            [(act, NN), (bank, NN)]     Pending"
      ]
     },
     "execution_count": 13,
     "metadata": {},
     "output_type": "execute_result"
    }
   ],
   "source": [
    "df['long_title'] = df.long_title.map(lambda lt:\n",
    "                                     [word for word in lt\n",
    "                                      if (word[1].startswith(('N', 'J')))])\n",
    "df.head()"
   ]
  },
  {
   "cell_type": "code",
   "execution_count": 14,
   "metadata": {},
   "outputs": [
    {
     "data": {
      "text/html": [
       "<div>\n",
       "<style scoped>\n",
       "    .dataframe tbody tr th:only-of-type {\n",
       "        vertical-align: middle;\n",
       "    }\n",
       "\n",
       "    .dataframe tbody tr th {\n",
       "        vertical-align: top;\n",
       "    }\n",
       "\n",
       "    .dataframe thead th {\n",
       "        text-align: right;\n",
       "    }\n",
       "</style>\n",
       "<table border=\"1\" class=\"dataframe\">\n",
       "  <thead>\n",
       "    <tr style=\"text-align: right;\">\n",
       "      <th></th>\n",
       "      <th>bill_id</th>\n",
       "      <th>long_title</th>\n",
       "      <th>bill_status</th>\n",
       "    </tr>\n",
       "  </thead>\n",
       "  <tbody>\n",
       "    <tr>\n",
       "      <th>0</th>\n",
       "      <td>17SBN-2235</td>\n",
       "      <td>[act, fiscal, regime, mining, industry]</td>\n",
       "      <td>Pending</td>\n",
       "    </tr>\n",
       "    <tr>\n",
       "      <th>1</th>\n",
       "      <td>17SBN-2234</td>\n",
       "      <td>[act, sale, certain, land, barangay, na, ligas...</td>\n",
       "      <td>Passed</td>\n",
       "    </tr>\n",
       "    <tr>\n",
       "      <th>2</th>\n",
       "      <td>17SBN-2233</td>\n",
       "      <td>[act, excise, tax, tobacco, subject, tax, incr...</td>\n",
       "      <td>Passed</td>\n",
       "    </tr>\n",
       "    <tr>\n",
       "      <th>3</th>\n",
       "      <td>17SBN-2232</td>\n",
       "      <td>[act, institutionalization, development, train...</td>\n",
       "      <td>Pending</td>\n",
       "    </tr>\n",
       "    <tr>\n",
       "      <th>4</th>\n",
       "      <td>17SBN-2231</td>\n",
       "      <td>[act, bank]</td>\n",
       "      <td>Pending</td>\n",
       "    </tr>\n",
       "  </tbody>\n",
       "</table>\n",
       "</div>"
      ],
      "text/plain": [
       "      bill_id                                         long_title bill_status\n",
       "0  17SBN-2235            [act, fiscal, regime, mining, industry]     Pending\n",
       "1  17SBN-2234  [act, sale, certain, land, barangay, na, ligas...      Passed\n",
       "2  17SBN-2233  [act, excise, tax, tobacco, subject, tax, incr...      Passed\n",
       "3  17SBN-2232  [act, institutionalization, development, train...     Pending\n",
       "4  17SBN-2231                                        [act, bank]     Pending"
      ]
     },
     "execution_count": 14,
     "metadata": {},
     "output_type": "execute_result"
    }
   ],
   "source": [
    "df['long_title'] = df.long_title.map(lambda lt:\n",
    "                                     [_[0] for _ in lt])\n",
    "df.head()"
   ]
  },
  {
   "cell_type": "markdown",
   "metadata": {},
   "source": [
    "### Removal of Stop Words"
   ]
  },
  {
   "cell_type": "code",
   "execution_count": 15,
   "metadata": {
    "ExecuteTime": {
     "end_time": "2019-11-28T04:10:44.690637Z",
     "start_time": "2019-11-28T04:10:44.653653Z"
    },
    "scrolled": true
   },
   "outputs": [],
   "source": [
    "stoppers = stopwords.words('english')\n",
    "useless = ['act', 'presidential', 'code', 'government', 'therefore', 'penal',\n",
    "           'thereof', 'article', 'provision', 'therefore', 'decree',\n",
    "           'republic', 'purpose', 'therefor', 'therefrom', 'thereon',\n",
    "           'thereto', 'thereunder', 'therewith', 'thing', 'title',\n",
    "           'usage', 'use', 'used', 'useful', 'user', 'whomsoever', 'year',\n",
    "           'yearly', 'session', 'president', 'presidential', 'political',\n",
    "           'policy', 'plenary', 'plebiscite', 'ordinance', 'order', 'orderly',\n",
    "           'official', 'officer', 'office', 'oath', 'providing', 'executive']\n",
    "stoppers.extend(useless)"
   ]
  },
  {
   "cell_type": "code",
   "execution_count": 16,
   "metadata": {
    "ExecuteTime": {
     "end_time": "2019-11-28T04:10:45.191986Z",
     "start_time": "2019-11-28T04:10:44.695419Z"
    }
   },
   "outputs": [
    {
     "data": {
      "text/html": [
       "<div>\n",
       "<style scoped>\n",
       "    .dataframe tbody tr th:only-of-type {\n",
       "        vertical-align: middle;\n",
       "    }\n",
       "\n",
       "    .dataframe tbody tr th {\n",
       "        vertical-align: top;\n",
       "    }\n",
       "\n",
       "    .dataframe thead th {\n",
       "        text-align: right;\n",
       "    }\n",
       "</style>\n",
       "<table border=\"1\" class=\"dataframe\">\n",
       "  <thead>\n",
       "    <tr style=\"text-align: right;\">\n",
       "      <th></th>\n",
       "      <th>bill_id</th>\n",
       "      <th>long_title</th>\n",
       "      <th>bill_status</th>\n",
       "    </tr>\n",
       "  </thead>\n",
       "  <tbody>\n",
       "    <tr>\n",
       "      <th>0</th>\n",
       "      <td>17SBN-2235</td>\n",
       "      <td>[fiscal, regime, mining, industry]</td>\n",
       "      <td>Pending</td>\n",
       "    </tr>\n",
       "    <tr>\n",
       "      <th>1</th>\n",
       "      <td>17SBN-2234</td>\n",
       "      <td>[sale, certain, land, barangay, na, ligas, cit...</td>\n",
       "      <td>Passed</td>\n",
       "    </tr>\n",
       "    <tr>\n",
       "      <th>2</th>\n",
       "      <td>17SBN-2233</td>\n",
       "      <td>[excise, tax, tobacco, subject, tax, increment...</td>\n",
       "      <td>Passed</td>\n",
       "    </tr>\n",
       "    <tr>\n",
       "      <th>3</th>\n",
       "      <td>17SBN-2232</td>\n",
       "      <td>[institutionalization, development, training, ...</td>\n",
       "      <td>Pending</td>\n",
       "    </tr>\n",
       "    <tr>\n",
       "      <th>4</th>\n",
       "      <td>17SBN-2231</td>\n",
       "      <td>[bank]</td>\n",
       "      <td>Pending</td>\n",
       "    </tr>\n",
       "  </tbody>\n",
       "</table>\n",
       "</div>"
      ],
      "text/plain": [
       "      bill_id                                         long_title bill_status\n",
       "0  17SBN-2235                 [fiscal, regime, mining, industry]     Pending\n",
       "1  17SBN-2234  [sale, certain, land, barangay, na, ligas, cit...      Passed\n",
       "2  17SBN-2233  [excise, tax, tobacco, subject, tax, increment...      Passed\n",
       "3  17SBN-2232  [institutionalization, development, training, ...     Pending\n",
       "4  17SBN-2231                                             [bank]     Pending"
      ]
     },
     "execution_count": 16,
     "metadata": {},
     "output_type": "execute_result"
    }
   ],
   "source": [
    "df['long_title'] = df.long_title.map(lambda lt:\n",
    "                                     [word for word in lt\n",
    "                                      if word not in stoppers])\n",
    "df.head()"
   ]
  },
  {
   "cell_type": "markdown",
   "metadata": {},
   "source": [
    "Dropping observations with resulting 'long_title' length equal to 0.\n"
   ]
  },
  {
   "cell_type": "code",
   "execution_count": 17,
   "metadata": {},
   "outputs": [],
   "source": [
    "df.drop(df[df.long_title.map(len) == 0].index, inplace=True)"
   ]
  },
  {
   "cell_type": "code",
   "execution_count": 18,
   "metadata": {
    "ExecuteTime": {
     "end_time": "2019-11-28T04:10:45.775066Z",
     "start_time": "2019-11-28T04:10:45.737879Z"
    }
   },
   "outputs": [],
   "source": [
    "df.to_pickle(os.path.join('data_files', 'lt_processed.pkl'))"
   ]
  }
 ],
 "metadata": {
  "hide_input": false,
  "kernelspec": {
   "display_name": "Python 3",
   "language": "python",
   "name": "python3"
  },
  "language_info": {
   "codemirror_mode": {
    "name": "ipython",
    "version": 3
   },
   "file_extension": ".py",
   "mimetype": "text/x-python",
   "name": "python",
   "nbconvert_exporter": "python",
   "pygments_lexer": "ipython3",
   "version": "3.7.4"
  },
  "toc": {
   "base_numbering": 1,
   "nav_menu": {},
   "number_sections": false,
   "sideBar": true,
   "skip_h1_title": true,
   "title_cell": "Table of Contents",
   "title_sidebar": "Contents",
   "toc_cell": false,
   "toc_position": {
    "height": "calc(100% - 180px)",
    "left": "10px",
    "top": "150px",
    "width": "288px"
   },
   "toc_section_display": true,
   "toc_window_display": true
  },
  "varInspector": {
   "cols": {
    "lenName": 16,
    "lenType": 16,
    "lenVar": 40
   },
   "kernels_config": {
    "python": {
     "delete_cmd_postfix": "",
     "delete_cmd_prefix": "del ",
     "library": "var_list.py",
     "varRefreshCmd": "print(var_dic_list())"
    },
    "r": {
     "delete_cmd_postfix": ") ",
     "delete_cmd_prefix": "rm(",
     "library": "var_list.r",
     "varRefreshCmd": "cat(var_dic_list()) "
    }
   },
   "types_to_exclude": [
    "module",
    "function",
    "builtin_function_or_method",
    "instance",
    "_Feature"
   ],
   "window_display": false
  }
 },
 "nbformat": 4,
 "nbformat_minor": 4
}
