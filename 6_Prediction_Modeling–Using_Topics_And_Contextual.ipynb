{
 "cells": [
  {
   "cell_type": "markdown",
   "metadata": {},
   "source": [
    "# Prediction Modeling – Using Topics and Contextual Data"
   ]
  },
  {
   "cell_type": "code",
   "execution_count": 1,
   "metadata": {
    "ExecuteTime": {
     "end_time": "2019-11-28T04:10:26.351759Z",
     "start_time": "2019-11-28T04:10:25.843810Z"
    }
   },
   "outputs": [],
   "source": [
    "import pandas as pd\n",
    "import numpy as np\n",
    "import os\n",
    "import pickle\n",
    "from matplotlib import pyplot as plt\n",
    "%matplotlib inline\n",
    "import seaborn as sns\n",
    "\n",
    "from sklearn.preprocessing import StandardScaler\n",
    "from sklearn.model_selection import train_test_split\n",
    "from sklearn.svm import SVC\n",
    "from sklearn.metrics import classification_report\n",
    "from sklearn.ensemble import RandomForestClassifier\n",
    "from sklearn.neighbors import KNeighborsClassifier\n",
    "from sklearn.linear_model import LogisticRegression\n",
    "from sklearn.tree import DecisionTreeClassifier\n",
    "from sklearn.model_selection import cross_val_score"
   ]
  },
  {
   "cell_type": "markdown",
   "metadata": {},
   "source": [
    "### Load Text Data"
   ]
  },
  {
   "cell_type": "code",
   "execution_count": 2,
   "metadata": {},
   "outputs": [],
   "source": [
    "df_text = pd.read_pickle(os.path.join('data_files', 'lt_processed.pkl'))"
   ]
  },
  {
   "cell_type": "code",
   "execution_count": 3,
   "metadata": {},
   "outputs": [
    {
     "data": {
      "text/plain": [
       "(14786, 3)"
      ]
     },
     "execution_count": 3,
     "metadata": {},
     "output_type": "execute_result"
    }
   ],
   "source": [
    "df_text.shape"
   ]
  },
  {
   "cell_type": "code",
   "execution_count": 4,
   "metadata": {},
   "outputs": [
    {
     "data": {
      "text/html": [
       "<div>\n",
       "<style scoped>\n",
       "    .dataframe tbody tr th:only-of-type {\n",
       "        vertical-align: middle;\n",
       "    }\n",
       "\n",
       "    .dataframe tbody tr th {\n",
       "        vertical-align: top;\n",
       "    }\n",
       "\n",
       "    .dataframe thead th {\n",
       "        text-align: right;\n",
       "    }\n",
       "</style>\n",
       "<table border=\"1\" class=\"dataframe\">\n",
       "  <thead>\n",
       "    <tr style=\"text-align: right;\">\n",
       "      <th></th>\n",
       "      <th>bill_id</th>\n",
       "      <th>long_title</th>\n",
       "      <th>bill_status</th>\n",
       "    </tr>\n",
       "  </thead>\n",
       "  <tbody>\n",
       "    <tr>\n",
       "      <th>0</th>\n",
       "      <td>17SBN-2235</td>\n",
       "      <td>[fiscal, regime, mining, industry]</td>\n",
       "      <td>Pending</td>\n",
       "    </tr>\n",
       "    <tr>\n",
       "      <th>1</th>\n",
       "      <td>17SBN-2234</td>\n",
       "      <td>[sale, certain, land, barangay, na, ligas, cit...</td>\n",
       "      <td>Passed</td>\n",
       "    </tr>\n",
       "  </tbody>\n",
       "</table>\n",
       "</div>"
      ],
      "text/plain": [
       "      bill_id                                         long_title bill_status\n",
       "0  17SBN-2235                 [fiscal, regime, mining, industry]     Pending\n",
       "1  17SBN-2234  [sale, certain, land, barangay, na, ligas, cit...      Passed"
      ]
     },
     "execution_count": 4,
     "metadata": {},
     "output_type": "execute_result"
    }
   ],
   "source": [
    "df_text.head(2)"
   ]
  },
  {
   "cell_type": "markdown",
   "metadata": {},
   "source": [
    "Drop Pending Senate Bills"
   ]
  },
  {
   "cell_type": "code",
   "execution_count": 5,
   "metadata": {},
   "outputs": [
    {
     "data": {
      "text/plain": [
       "Pending     14270\n",
       "Passed        427\n",
       "Archived       89\n",
       "Name: bill_status, dtype: int64"
      ]
     },
     "execution_count": 5,
     "metadata": {},
     "output_type": "execute_result"
    }
   ],
   "source": [
    "df_text.bill_status.value_counts()"
   ]
  },
  {
   "cell_type": "code",
   "execution_count": 6,
   "metadata": {},
   "outputs": [],
   "source": [
    "df_text.drop(df_text[df_text.bill_status == 'Pending'].index,\n",
    "             inplace=True)"
   ]
  },
  {
   "cell_type": "markdown",
   "metadata": {},
   "source": [
    "Set Target Variable 'Pass'"
   ]
  },
  {
   "cell_type": "code",
   "execution_count": 7,
   "metadata": {},
   "outputs": [],
   "source": [
    "df_text['Pass'] = np.where(df_text.bill_status == 'Passed', True, False)"
   ]
  },
  {
   "cell_type": "code",
   "execution_count": 8,
   "metadata": {},
   "outputs": [],
   "source": [
    "df_text.drop(['bill_status'], axis=1, inplace=True)"
   ]
  },
  {
   "cell_type": "code",
   "execution_count": 9,
   "metadata": {},
   "outputs": [
    {
     "data": {
      "text/plain": [
       "(516, 3)"
      ]
     },
     "execution_count": 9,
     "metadata": {},
     "output_type": "execute_result"
    }
   ],
   "source": [
    "df_text.shape"
   ]
  },
  {
   "cell_type": "code",
   "execution_count": 10,
   "metadata": {},
   "outputs": [
    {
     "data": {
      "text/html": [
       "<div>\n",
       "<style scoped>\n",
       "    .dataframe tbody tr th:only-of-type {\n",
       "        vertical-align: middle;\n",
       "    }\n",
       "\n",
       "    .dataframe tbody tr th {\n",
       "        vertical-align: top;\n",
       "    }\n",
       "\n",
       "    .dataframe thead th {\n",
       "        text-align: right;\n",
       "    }\n",
       "</style>\n",
       "<table border=\"1\" class=\"dataframe\">\n",
       "  <thead>\n",
       "    <tr style=\"text-align: right;\">\n",
       "      <th></th>\n",
       "      <th>bill_id</th>\n",
       "      <th>long_title</th>\n",
       "      <th>Pass</th>\n",
       "    </tr>\n",
       "  </thead>\n",
       "  <tbody>\n",
       "    <tr>\n",
       "      <th>1</th>\n",
       "      <td>17SBN-2234</td>\n",
       "      <td>[sale, certain, land, barangay, na, ligas, cit...</td>\n",
       "      <td>True</td>\n",
       "    </tr>\n",
       "    <tr>\n",
       "      <th>2</th>\n",
       "      <td>17SBN-2233</td>\n",
       "      <td>[excise, tax, tobacco, subject, tax, increment...</td>\n",
       "      <td>True</td>\n",
       "    </tr>\n",
       "    <tr>\n",
       "      <th>7</th>\n",
       "      <td>17SBN-2228</td>\n",
       "      <td>[nature, park, barangay, city, province, bataa...</td>\n",
       "      <td>True</td>\n",
       "    </tr>\n",
       "    <tr>\n",
       "      <th>40</th>\n",
       "      <td>17SBN-2195</td>\n",
       "      <td>[court, community, service, lieu, imprisonment...</td>\n",
       "      <td>True</td>\n",
       "    </tr>\n",
       "    <tr>\n",
       "      <th>47</th>\n",
       "      <td>17SBN-2188</td>\n",
       "      <td>[bed, capacity, memorial, hospital, medical, c...</td>\n",
       "      <td>True</td>\n",
       "    </tr>\n",
       "  </tbody>\n",
       "</table>\n",
       "</div>"
      ],
      "text/plain": [
       "       bill_id                                         long_title  Pass\n",
       "1   17SBN-2234  [sale, certain, land, barangay, na, ligas, cit...  True\n",
       "2   17SBN-2233  [excise, tax, tobacco, subject, tax, increment...  True\n",
       "7   17SBN-2228  [nature, park, barangay, city, province, bataa...  True\n",
       "40  17SBN-2195  [court, community, service, lieu, imprisonment...  True\n",
       "47  17SBN-2188  [bed, capacity, memorial, hospital, medical, c...  True"
      ]
     },
     "execution_count": 10,
     "metadata": {},
     "output_type": "execute_result"
    }
   ],
   "source": [
    "df_text.head()"
   ]
  },
  {
   "cell_type": "markdown",
   "metadata": {},
   "source": [
    "### Load Context Data"
   ]
  },
  {
   "cell_type": "code",
   "execution_count": 11,
   "metadata": {},
   "outputs": [],
   "source": [
    "df_context = pd.read_pickle(os.path.join('data_files', 'encoded.pkl'))"
   ]
  },
  {
   "cell_type": "code",
   "execution_count": 12,
   "metadata": {},
   "outputs": [
    {
     "data": {
      "text/plain": [
       "(529, 31)"
      ]
     },
     "execution_count": 12,
     "metadata": {},
     "output_type": "execute_result"
    }
   ],
   "source": [
    "df_context.drop('Pass', axis=1, inplace=True)\n",
    "df_context.shape"
   ]
  },
  {
   "cell_type": "markdown",
   "metadata": {},
   "source": [
    "### Merged Data: Text + Context"
   ]
  },
  {
   "cell_type": "code",
   "execution_count": 13,
   "metadata": {},
   "outputs": [],
   "source": [
    "df = pd.merge(df_text, df_context, how='left', on='bill_id')"
   ]
  },
  {
   "cell_type": "code",
   "execution_count": 14,
   "metadata": {},
   "outputs": [
    {
     "data": {
      "text/plain": [
       "(516, 33)"
      ]
     },
     "execution_count": 14,
     "metadata": {},
     "output_type": "execute_result"
    }
   ],
   "source": [
    "df.shape"
   ]
  },
  {
   "cell_type": "code",
   "execution_count": 15,
   "metadata": {},
   "outputs": [
    {
     "data": {
      "text/html": [
       "<div>\n",
       "<style scoped>\n",
       "    .dataframe tbody tr th:only-of-type {\n",
       "        vertical-align: middle;\n",
       "    }\n",
       "\n",
       "    .dataframe tbody tr th {\n",
       "        vertical-align: top;\n",
       "    }\n",
       "\n",
       "    .dataframe thead th {\n",
       "        text-align: right;\n",
       "    }\n",
       "</style>\n",
       "<table border=\"1\" class=\"dataframe\">\n",
       "  <thead>\n",
       "    <tr style=\"text-align: right;\">\n",
       "      <th></th>\n",
       "      <th>bill_id</th>\n",
       "      <th>long_title</th>\n",
       "      <th>Pass</th>\n",
       "      <th>Years of Service</th>\n",
       "      <th>num_authors</th>\n",
       "      <th>delta_days</th>\n",
       "      <th>scope_national</th>\n",
       "      <th>majority_bloc</th>\n",
       "      <th>len_desc</th>\n",
       "      <th>Party_Bagumbayan-VNP</th>\n",
       "      <th>...</th>\n",
       "      <th>month_December</th>\n",
       "      <th>month_February</th>\n",
       "      <th>month_January</th>\n",
       "      <th>month_July</th>\n",
       "      <th>month_June</th>\n",
       "      <th>month_March</th>\n",
       "      <th>month_May</th>\n",
       "      <th>month_November</th>\n",
       "      <th>month_October</th>\n",
       "      <th>month_September</th>\n",
       "    </tr>\n",
       "  </thead>\n",
       "  <tbody>\n",
       "    <tr>\n",
       "      <th>0</th>\n",
       "      <td>17SBN-2234</td>\n",
       "      <td>[sale, certain, land, barangay, na, ligas, cit...</td>\n",
       "      <td>True</td>\n",
       "      <td>18</td>\n",
       "      <td>3</td>\n",
       "      <td>34</td>\n",
       "      <td>True</td>\n",
       "      <td>True</td>\n",
       "      <td>300</td>\n",
       "      <td>0</td>\n",
       "      <td>...</td>\n",
       "      <td>0</td>\n",
       "      <td>0</td>\n",
       "      <td>0</td>\n",
       "      <td>0</td>\n",
       "      <td>0</td>\n",
       "      <td>0</td>\n",
       "      <td>1</td>\n",
       "      <td>0</td>\n",
       "      <td>0</td>\n",
       "      <td>0</td>\n",
       "    </tr>\n",
       "    <tr>\n",
       "      <th>1</th>\n",
       "      <td>17SBN-2233</td>\n",
       "      <td>[excise, tax, tobacco, subject, tax, increment...</td>\n",
       "      <td>True</td>\n",
       "      <td>3</td>\n",
       "      <td>6</td>\n",
       "      <td>34</td>\n",
       "      <td>True</td>\n",
       "      <td>True</td>\n",
       "      <td>426</td>\n",
       "      <td>0</td>\n",
       "      <td>...</td>\n",
       "      <td>0</td>\n",
       "      <td>0</td>\n",
       "      <td>0</td>\n",
       "      <td>0</td>\n",
       "      <td>0</td>\n",
       "      <td>0</td>\n",
       "      <td>1</td>\n",
       "      <td>0</td>\n",
       "      <td>0</td>\n",
       "      <td>0</td>\n",
       "    </tr>\n",
       "  </tbody>\n",
       "</table>\n",
       "<p>2 rows × 33 columns</p>\n",
       "</div>"
      ],
      "text/plain": [
       "      bill_id                                         long_title  Pass  \\\n",
       "0  17SBN-2234  [sale, certain, land, barangay, na, ligas, cit...  True   \n",
       "1  17SBN-2233  [excise, tax, tobacco, subject, tax, increment...  True   \n",
       "\n",
       "   Years of Service  num_authors  delta_days  scope_national  majority_bloc  \\\n",
       "0                18            3          34            True           True   \n",
       "1                 3            6          34            True           True   \n",
       "\n",
       "   len_desc  Party_Bagumbayan-VNP  ...  month_December  month_February  \\\n",
       "0       300                     0  ...               0               0   \n",
       "1       426                     0  ...               0               0   \n",
       "\n",
       "   month_January  month_July  month_June  month_March  month_May  \\\n",
       "0              0           0           0            0          1   \n",
       "1              0           0           0            0          1   \n",
       "\n",
       "   month_November  month_October  month_September  \n",
       "0               0              0                0  \n",
       "1               0              0                0  \n",
       "\n",
       "[2 rows x 33 columns]"
      ]
     },
     "execution_count": 15,
     "metadata": {},
     "output_type": "execute_result"
    }
   ],
   "source": [
    "df.head(2)"
   ]
  },
  {
   "cell_type": "markdown",
   "metadata": {},
   "source": [
    "### Load Topic Modeling Results"
   ]
  },
  {
   "cell_type": "code",
   "execution_count": 16,
   "metadata": {
    "ExecuteTime": {
     "end_time": "2019-11-28T04:10:45.799510Z",
     "start_time": "2019-11-28T04:10:45.789510Z"
    }
   },
   "outputs": [],
   "source": [
    "topic_dict = pickle.load(open(os.path.join('data_files',\n",
    "                                           'topic_dict.pkl'), 'rb'))"
   ]
  },
  {
   "cell_type": "code",
   "execution_count": 17,
   "metadata": {
    "ExecuteTime": {
     "end_time": "2019-11-28T04:15:51.066818Z",
     "start_time": "2019-11-28T04:15:51.062953Z"
    }
   },
   "outputs": [],
   "source": [
    "def topic_mapper(lst1, lst2):\n",
    "    intersect_list = list(set(lst1) & set(lst2))\n",
    "    return 1 if len(intersect_list) > 0 else 0"
   ]
  },
  {
   "cell_type": "code",
   "execution_count": 18,
   "metadata": {
    "ExecuteTime": {
     "end_time": "2019-11-28T04:24:59.629417Z",
     "start_time": "2019-11-28T04:24:59.327983Z"
    }
   },
   "outputs": [],
   "source": [
    "df['t_0'] = df.long_title.map(lambda x: topic_mapper(x, topic_dict[0]))\n",
    "df['t_1'] = df.long_title.map(lambda x: topic_mapper(x, topic_dict[1]))\n",
    "df['t_2'] = df.long_title.map(lambda x: topic_mapper(x, topic_dict[2]))\n",
    "df['t_3'] = df.long_title.map(lambda x: topic_mapper(x, topic_dict[3]))\n",
    "df['t_4'] = df.long_title.map(lambda x: topic_mapper(x, topic_dict[4]))\n",
    "df['t_5'] = df.long_title.map(lambda x: topic_mapper(x, topic_dict[5]))\n",
    "df['t_6'] = df.long_title.map(lambda x: topic_mapper(x, topic_dict[6]))\n",
    "df['t_7'] = df.long_title.map(lambda x: topic_mapper(x, topic_dict[7]))\n",
    "df['t_8'] = df.long_title.map(lambda x: topic_mapper(x, topic_dict[8]))\n",
    "df['t_9'] = df.long_title.map(lambda x: topic_mapper(x, topic_dict[9]))"
   ]
  },
  {
   "cell_type": "code",
   "execution_count": 19,
   "metadata": {},
   "outputs": [
    {
     "name": "stdout",
     "output_type": "stream",
     "text": [
      " N-Topic 0 Obs: 261\n",
      " N-Topic 1 Obs: 227\n",
      " N-Topic 2 Obs: 77\n",
      " N-Topic 3 Obs: 221\n",
      " N-Topic 4 Obs: 259\n",
      " N-Topic 5 Obs: 59\n",
      " N-Topic 6 Obs: 256\n",
      " N-Topic 7 Obs: 226\n",
      " N-Topic 8 Obs: 37\n",
      " N-Topic 9 Obs: 249\n"
     ]
    }
   ],
   "source": [
    "print(f\" N-Topic 0 Obs: {df.t_0.sum()}\\n\",\n",
    "      f\"N-Topic 1 Obs: {df.t_1.sum()}\\n\",\n",
    "      f\"N-Topic 2 Obs: {df.t_2.sum()}\\n\",\n",
    "      f\"N-Topic 3 Obs: {df.t_3.sum()}\\n\",\n",
    "      f\"N-Topic 4 Obs: {df.t_4.sum()}\\n\",\n",
    "      f\"N-Topic 5 Obs: {df.t_5.sum()}\\n\",\n",
    "      f\"N-Topic 6 Obs: {df.t_6.sum()}\\n\",\n",
    "      f\"N-Topic 7 Obs: {df.t_7.sum()}\\n\",\n",
    "      f\"N-Topic 8 Obs: {df.t_8.sum()}\\n\",\n",
    "      f\"N-Topic 9 Obs: {df.t_9.sum()}\")"
   ]
  },
  {
   "cell_type": "markdown",
   "metadata": {},
   "source": [
    "### Combined Data: Merged Data + Topic"
   ]
  },
  {
   "cell_type": "code",
   "execution_count": 20,
   "metadata": {},
   "outputs": [],
   "source": [
    "df.drop(['bill_id', 'long_title'], axis=1, inplace=True)"
   ]
  },
  {
   "cell_type": "code",
   "execution_count": 21,
   "metadata": {
    "ExecuteTime": {
     "end_time": "2019-11-28T04:27:43.712014Z",
     "start_time": "2019-11-28T04:27:43.696498Z"
    }
   },
   "outputs": [
    {
     "data": {
      "text/html": [
       "<div>\n",
       "<style scoped>\n",
       "    .dataframe tbody tr th:only-of-type {\n",
       "        vertical-align: middle;\n",
       "    }\n",
       "\n",
       "    .dataframe tbody tr th {\n",
       "        vertical-align: top;\n",
       "    }\n",
       "\n",
       "    .dataframe thead th {\n",
       "        text-align: right;\n",
       "    }\n",
       "</style>\n",
       "<table border=\"1\" class=\"dataframe\">\n",
       "  <thead>\n",
       "    <tr style=\"text-align: right;\">\n",
       "      <th></th>\n",
       "      <th>Pass</th>\n",
       "      <th>Years of Service</th>\n",
       "      <th>num_authors</th>\n",
       "      <th>delta_days</th>\n",
       "      <th>scope_national</th>\n",
       "      <th>majority_bloc</th>\n",
       "      <th>len_desc</th>\n",
       "      <th>Party_Bagumbayan-VNP</th>\n",
       "      <th>Party_Independent</th>\n",
       "      <th>Party_LDP</th>\n",
       "      <th>...</th>\n",
       "      <th>t_0</th>\n",
       "      <th>t_1</th>\n",
       "      <th>t_2</th>\n",
       "      <th>t_3</th>\n",
       "      <th>t_4</th>\n",
       "      <th>t_5</th>\n",
       "      <th>t_6</th>\n",
       "      <th>t_7</th>\n",
       "      <th>t_8</th>\n",
       "      <th>t_9</th>\n",
       "    </tr>\n",
       "  </thead>\n",
       "  <tbody>\n",
       "    <tr>\n",
       "      <th>0</th>\n",
       "      <td>True</td>\n",
       "      <td>18</td>\n",
       "      <td>3</td>\n",
       "      <td>34</td>\n",
       "      <td>True</td>\n",
       "      <td>True</td>\n",
       "      <td>300</td>\n",
       "      <td>0</td>\n",
       "      <td>0</td>\n",
       "      <td>0</td>\n",
       "      <td>...</td>\n",
       "      <td>1</td>\n",
       "      <td>0</td>\n",
       "      <td>0</td>\n",
       "      <td>0</td>\n",
       "      <td>1</td>\n",
       "      <td>1</td>\n",
       "      <td>0</td>\n",
       "      <td>0</td>\n",
       "      <td>1</td>\n",
       "      <td>0</td>\n",
       "    </tr>\n",
       "    <tr>\n",
       "      <th>1</th>\n",
       "      <td>True</td>\n",
       "      <td>3</td>\n",
       "      <td>6</td>\n",
       "      <td>34</td>\n",
       "      <td>True</td>\n",
       "      <td>True</td>\n",
       "      <td>426</td>\n",
       "      <td>0</td>\n",
       "      <td>0</td>\n",
       "      <td>0</td>\n",
       "      <td>...</td>\n",
       "      <td>1</td>\n",
       "      <td>1</td>\n",
       "      <td>1</td>\n",
       "      <td>1</td>\n",
       "      <td>1</td>\n",
       "      <td>0</td>\n",
       "      <td>1</td>\n",
       "      <td>1</td>\n",
       "      <td>0</td>\n",
       "      <td>1</td>\n",
       "    </tr>\n",
       "    <tr>\n",
       "      <th>2</th>\n",
       "      <td>True</td>\n",
       "      <td>6</td>\n",
       "      <td>3</td>\n",
       "      <td>40</td>\n",
       "      <td>True</td>\n",
       "      <td>True</td>\n",
       "      <td>201</td>\n",
       "      <td>0</td>\n",
       "      <td>0</td>\n",
       "      <td>0</td>\n",
       "      <td>...</td>\n",
       "      <td>1</td>\n",
       "      <td>1</td>\n",
       "      <td>0</td>\n",
       "      <td>1</td>\n",
       "      <td>1</td>\n",
       "      <td>0</td>\n",
       "      <td>1</td>\n",
       "      <td>1</td>\n",
       "      <td>0</td>\n",
       "      <td>1</td>\n",
       "    </tr>\n",
       "    <tr>\n",
       "      <th>3</th>\n",
       "      <td>True</td>\n",
       "      <td>12</td>\n",
       "      <td>4</td>\n",
       "      <td>151</td>\n",
       "      <td>True</td>\n",
       "      <td>False</td>\n",
       "      <td>258</td>\n",
       "      <td>0</td>\n",
       "      <td>0</td>\n",
       "      <td>0</td>\n",
       "      <td>...</td>\n",
       "      <td>0</td>\n",
       "      <td>1</td>\n",
       "      <td>1</td>\n",
       "      <td>0</td>\n",
       "      <td>0</td>\n",
       "      <td>0</td>\n",
       "      <td>0</td>\n",
       "      <td>0</td>\n",
       "      <td>0</td>\n",
       "      <td>0</td>\n",
       "    </tr>\n",
       "    <tr>\n",
       "      <th>4</th>\n",
       "      <td>True</td>\n",
       "      <td>9</td>\n",
       "      <td>2</td>\n",
       "      <td>73</td>\n",
       "      <td>False</td>\n",
       "      <td>True</td>\n",
       "      <td>354</td>\n",
       "      <td>0</td>\n",
       "      <td>0</td>\n",
       "      <td>0</td>\n",
       "      <td>...</td>\n",
       "      <td>1</td>\n",
       "      <td>1</td>\n",
       "      <td>1</td>\n",
       "      <td>1</td>\n",
       "      <td>1</td>\n",
       "      <td>0</td>\n",
       "      <td>1</td>\n",
       "      <td>1</td>\n",
       "      <td>0</td>\n",
       "      <td>1</td>\n",
       "    </tr>\n",
       "  </tbody>\n",
       "</table>\n",
       "<p>5 rows × 41 columns</p>\n",
       "</div>"
      ],
      "text/plain": [
       "   Pass  Years of Service  num_authors  delta_days  scope_national  \\\n",
       "0  True                18            3          34            True   \n",
       "1  True                 3            6          34            True   \n",
       "2  True                 6            3          40            True   \n",
       "3  True                12            4         151            True   \n",
       "4  True                 9            2          73           False   \n",
       "\n",
       "   majority_bloc  len_desc  Party_Bagumbayan-VNP  Party_Independent  \\\n",
       "0           True       300                     0                  0   \n",
       "1           True       426                     0                  0   \n",
       "2           True       201                     0                  0   \n",
       "3          False       258                     0                  0   \n",
       "4           True       354                     0                  0   \n",
       "\n",
       "   Party_LDP  ...  t_0  t_1  t_2  t_3  t_4  t_5  t_6  t_7  t_8  t_9  \n",
       "0          0  ...    1    0    0    0    1    1    0    0    1    0  \n",
       "1          0  ...    1    1    1    1    1    0    1    1    0    1  \n",
       "2          0  ...    1    1    0    1    1    0    1    1    0    1  \n",
       "3          0  ...    0    1    1    0    0    0    0    0    0    0  \n",
       "4          0  ...    1    1    1    1    1    0    1    1    0    1  \n",
       "\n",
       "[5 rows x 41 columns]"
      ]
     },
     "execution_count": 21,
     "metadata": {},
     "output_type": "execute_result"
    }
   ],
   "source": [
    "df.head()"
   ]
  },
  {
   "cell_type": "code",
   "execution_count": 22,
   "metadata": {},
   "outputs": [
    {
     "data": {
      "text/plain": [
       "Pass                      bool\n",
       "Years of Service         int64\n",
       "num_authors              int64\n",
       "delta_days               int64\n",
       "scope_national            bool\n",
       "majority_bloc             bool\n",
       "len_desc                 int64\n",
       "Party_Bagumbayan-VNP     uint8\n",
       "Party_Independent        uint8\n",
       "Party_LDP                uint8\n",
       "Party_Lakas              uint8\n",
       "Party_Lakas-CMD          uint8\n",
       "Party_Lakas-Kampi-CMD    uint8\n",
       "Party_Liberal            uint8\n",
       "Party_NPC                uint8\n",
       "Party_Nacionalista       uint8\n",
       "Party_PDP_Laban          uint8\n",
       "Party_PMP                uint8\n",
       "Party_PRP                uint8\n",
       "Party_UNA                uint8\n",
       "month_August             uint8\n",
       "month_December           uint8\n",
       "month_February           uint8\n",
       "month_January            uint8\n",
       "month_July               uint8\n",
       "month_June               uint8\n",
       "month_March              uint8\n",
       "month_May                uint8\n",
       "month_November           uint8\n",
       "month_October            uint8\n",
       "month_September          uint8\n",
       "t_0                      int64\n",
       "t_1                      int64\n",
       "t_2                      int64\n",
       "t_3                      int64\n",
       "t_4                      int64\n",
       "t_5                      int64\n",
       "t_6                      int64\n",
       "t_7                      int64\n",
       "t_8                      int64\n",
       "t_9                      int64\n",
       "dtype: object"
      ]
     },
     "execution_count": 22,
     "metadata": {},
     "output_type": "execute_result"
    }
   ],
   "source": [
    "df.dtypes"
   ]
  },
  {
   "cell_type": "markdown",
   "metadata": {},
   "source": [
    "### Correlation Matrix"
   ]
  },
  {
   "cell_type": "code",
   "execution_count": 23,
   "metadata": {},
   "outputs": [],
   "source": [
    "cols_to_move = ['Pass']\n",
    "cols = [col for col in df if col not in cols_to_move] + cols_to_move\n",
    "df = df[cols]"
   ]
  },
  {
   "cell_type": "code",
   "execution_count": 24,
   "metadata": {},
   "outputs": [
    {
     "data": {
      "image/png": "[encoded data removed]",
      "text/plain": [
       "<Figure size 1440x720 with 2 Axes>"
      ]
     },
     "metadata": {},
     "output_type": "display_data"
    }
   ],
   "source": [
    "sns.set()\n",
    "cor = df.corr()\n",
    "plt.figure(figsize=(20, 10))\n",
    "sns.heatmap(cor, annot=False, cmap=\"RdYlGn\")\n",
    "plt.title('Correlation Matrix Philippine Senate Bills Data')\n",
    "plt.show()"
   ]
  },
  {
   "cell_type": "code",
   "execution_count": 25,
   "metadata": {},
   "outputs": [
    {
     "data": {
      "text/plain": [
       "Years of Service        -0.353325\n",
       "num_authors              0.338666\n",
       "delta_days               0.194373\n",
       "scope_national          -0.058840\n",
       "majority_bloc           -0.024889\n",
       "len_desc                 0.198616\n",
       "Party_Bagumbayan-VNP     0.009195\n",
       "Party_Independent        0.181348\n",
       "Party_LDP                0.119334\n",
       "Party_Lakas              0.053539\n",
       "Party_Lakas-CMD          0.040353\n",
       "Party_Lakas-Kampi-CMD    0.070446\n",
       "Party_Liberal            0.099561\n",
       "Party_NPC                0.133601\n",
       "Party_Nacionalista       0.128765\n",
       "Party_PDP_Laban          0.073753\n",
       "Party_PMP               -0.065198\n",
       "Party_PRP               -0.668373\n",
       "Party_UNA               -0.047451\n",
       "month_August             0.064070\n",
       "month_December           0.115163\n",
       "month_February          -0.378081\n",
       "month_January           -0.250947\n",
       "month_July              -0.047946\n",
       "month_June               0.119334\n",
       "month_March              0.113429\n",
       "month_May                0.103773\n",
       "month_November           0.164299\n",
       "month_October            0.074853\n",
       "month_September          0.045502\n",
       "t_0                      0.225901\n",
       "t_1                      0.249604\n",
       "t_2                      0.004046\n",
       "t_3                      0.146357\n",
       "t_4                      0.242867\n",
       "t_5                     -0.061636\n",
       "t_6                      0.155486\n",
       "t_7                      0.206584\n",
       "t_8                      0.047356\n",
       "t_9                      0.194510\n",
       "Pass                     1.000000\n",
       "Name: Pass, dtype: float64"
      ]
     },
     "execution_count": 25,
     "metadata": {},
     "output_type": "execute_result"
    }
   ],
   "source": [
    "cor.Pass"
   ]
  },
  {
   "cell_type": "markdown",
   "metadata": {},
   "source": [
    "### Feature Selection"
   ]
  },
  {
   "cell_type": "code",
   "execution_count": 26,
   "metadata": {},
   "outputs": [
    {
     "name": "stdout",
     "output_type": "stream",
     "text": [
      "5\n"
     ]
    },
    {
     "data": {
      "text/plain": [
       "['Years of Service', 'num_authors', 'Party_PRP', 'month_February', 'Pass']"
      ]
     },
     "execution_count": 26,
     "metadata": {},
     "output_type": "execute_result"
    }
   ],
   "source": [
    "colsOfInterest = list(cor[(cor.Pass > 0.3) |\n",
    "                          (cor.Pass < -0.3)]['Pass'].index)\n",
    "print(len(colsOfInterest))\n",
    "colsOfInterest"
   ]
  },
  {
   "cell_type": "markdown",
   "metadata": {},
   "source": [
    "Oddly, our topic fields created from our Topic Modeling does not show strong correlation to our target variable.\n",
    "<br>\n",
    "Hence, the result of our modeling is the same with the Step 4."
   ]
  },
  {
   "cell_type": "code",
   "execution_count": 27,
   "metadata": {},
   "outputs": [
    {
     "data": {
      "text/html": [
       "<div>\n",
       "<style scoped>\n",
       "    .dataframe tbody tr th:only-of-type {\n",
       "        vertical-align: middle;\n",
       "    }\n",
       "\n",
       "    .dataframe tbody tr th {\n",
       "        vertical-align: top;\n",
       "    }\n",
       "\n",
       "    .dataframe thead th {\n",
       "        text-align: right;\n",
       "    }\n",
       "</style>\n",
       "<table border=\"1\" class=\"dataframe\">\n",
       "  <thead>\n",
       "    <tr style=\"text-align: right;\">\n",
       "      <th></th>\n",
       "      <th>Years of Service</th>\n",
       "      <th>num_authors</th>\n",
       "      <th>Party_PRP</th>\n",
       "      <th>month_February</th>\n",
       "      <th>Pass</th>\n",
       "    </tr>\n",
       "  </thead>\n",
       "  <tbody>\n",
       "    <tr>\n",
       "      <th>0</th>\n",
       "      <td>18</td>\n",
       "      <td>3</td>\n",
       "      <td>0</td>\n",
       "      <td>0</td>\n",
       "      <td>True</td>\n",
       "    </tr>\n",
       "    <tr>\n",
       "      <th>1</th>\n",
       "      <td>3</td>\n",
       "      <td>6</td>\n",
       "      <td>0</td>\n",
       "      <td>0</td>\n",
       "      <td>True</td>\n",
       "    </tr>\n",
       "    <tr>\n",
       "      <th>2</th>\n",
       "      <td>6</td>\n",
       "      <td>3</td>\n",
       "      <td>0</td>\n",
       "      <td>0</td>\n",
       "      <td>True</td>\n",
       "    </tr>\n",
       "  </tbody>\n",
       "</table>\n",
       "</div>"
      ],
      "text/plain": [
       "   Years of Service  num_authors  Party_PRP  month_February  Pass\n",
       "0                18            3          0               0  True\n",
       "1                 3            6          0               0  True\n",
       "2                 6            3          0               0  True"
      ]
     },
     "execution_count": 27,
     "metadata": {},
     "output_type": "execute_result"
    }
   ],
   "source": [
    "df = df[colsOfInterest]\n",
    "df.head(3)"
   ]
  },
  {
   "cell_type": "markdown",
   "metadata": {},
   "source": [
    "### Train-Test Split"
   ]
  },
  {
   "cell_type": "markdown",
   "metadata": {},
   "source": [
    "##### Xy Variable Selection"
   ]
  },
  {
   "cell_type": "code",
   "execution_count": 28,
   "metadata": {},
   "outputs": [
    {
     "name": "stdout",
     "output_type": "stream",
     "text": [
      "(516, 4)\n"
     ]
    }
   ],
   "source": [
    "X = df.drop(['Pass'], axis=1)\n",
    "print(X.shape)"
   ]
  },
  {
   "cell_type": "code",
   "execution_count": 29,
   "metadata": {},
   "outputs": [
    {
     "data": {
      "text/plain": [
       "(516,)"
      ]
     },
     "execution_count": 29,
     "metadata": {},
     "output_type": "execute_result"
    }
   ],
   "source": [
    "y = df['Pass']\n",
    "y.shape"
   ]
  },
  {
   "cell_type": "markdown",
   "metadata": {},
   "source": [
    "##### Standardization"
   ]
  },
  {
   "cell_type": "code",
   "execution_count": 30,
   "metadata": {},
   "outputs": [],
   "source": [
    "scaler = StandardScaler()"
   ]
  },
  {
   "cell_type": "code",
   "execution_count": 31,
   "metadata": {},
   "outputs": [],
   "source": [
    "X = scaler.fit_transform(X)"
   ]
  },
  {
   "cell_type": "code",
   "execution_count": 32,
   "metadata": {},
   "outputs": [],
   "source": [
    "X_train, X_test, y_train, y_test = train_test_split(X, y,\n",
    "                                                    test_size=0.25,\n",
    "                                                    random_state=43)"
   ]
  },
  {
   "cell_type": "code",
   "execution_count": 33,
   "metadata": {},
   "outputs": [
    {
     "name": "stdout",
     "output_type": "stream",
     "text": [
      "Our new train set has 387 data points; 330 of which are actual positives.\n"
     ]
    }
   ],
   "source": [
    "print(f\"Our new train set has {X_train.shape[0]} data points;\",\n",
    "      f\"{np.sum(y_train)} of which are actual positives.\")"
   ]
  },
  {
   "cell_type": "markdown",
   "metadata": {},
   "source": [
    "### SVC"
   ]
  },
  {
   "cell_type": "code",
   "execution_count": 34,
   "metadata": {},
   "outputs": [],
   "source": [
    "svc = SVC(gamma='auto', kernel='linear', random_state=42)"
   ]
  },
  {
   "cell_type": "code",
   "execution_count": 35,
   "metadata": {},
   "outputs": [
    {
     "data": {
      "text/plain": [
       "SVC(C=1.0, break_ties=False, cache_size=200, class_weight=None, coef0=0.0,\n",
       "    decision_function_shape='ovr', degree=3, gamma='auto', kernel='linear',\n",
       "    max_iter=-1, probability=False, random_state=42, shrinking=True, tol=0.001,\n",
       "    verbose=False)"
      ]
     },
     "execution_count": 35,
     "metadata": {},
     "output_type": "execute_result"
    }
   ],
   "source": [
    "svc.fit(X_train, y_train)"
   ]
  },
  {
   "cell_type": "code",
   "execution_count": 36,
   "metadata": {},
   "outputs": [],
   "source": [
    "predicted = svc.predict(X_test)"
   ]
  },
  {
   "cell_type": "code",
   "execution_count": 37,
   "metadata": {},
   "outputs": [
    {
     "name": "stdout",
     "output_type": "stream",
     "text": [
      "              precision    recall  f1-score   support\n",
      "\n",
      "       False       1.00      0.72      0.84        32\n",
      "        True       0.92      1.00      0.96        97\n",
      "\n",
      "    accuracy                           0.93       129\n",
      "   macro avg       0.96      0.86      0.90       129\n",
      "weighted avg       0.94      0.93      0.93       129\n",
      "\n"
     ]
    }
   ],
   "source": [
    "print(classification_report(y_test, predicted))"
   ]
  },
  {
   "cell_type": "markdown",
   "metadata": {},
   "source": [
    "### Random Forest"
   ]
  },
  {
   "cell_type": "code",
   "execution_count": 38,
   "metadata": {},
   "outputs": [],
   "source": [
    "rf_model = RandomForestClassifier(n_estimators=100, max_depth=15,\n",
    "                                  random_state=42)"
   ]
  },
  {
   "cell_type": "code",
   "execution_count": 39,
   "metadata": {},
   "outputs": [
    {
     "data": {
      "text/plain": [
       "RandomForestClassifier(bootstrap=True, ccp_alpha=0.0, class_weight=None,\n",
       "                       criterion='gini', max_depth=15, max_features='auto',\n",
       "                       max_leaf_nodes=None, max_samples=None,\n",
       "                       min_impurity_decrease=0.0, min_impurity_split=None,\n",
       "                       min_samples_leaf=1, min_samples_split=2,\n",
       "                       min_weight_fraction_leaf=0.0, n_estimators=100,\n",
       "                       n_jobs=None, oob_score=False, random_state=42, verbose=0,\n",
       "                       warm_start=False)"
      ]
     },
     "execution_count": 39,
     "metadata": {},
     "output_type": "execute_result"
    }
   ],
   "source": [
    "rf_model.fit(X_train, y_train)"
   ]
  },
  {
   "cell_type": "code",
   "execution_count": 40,
   "metadata": {},
   "outputs": [],
   "source": [
    "predicted = rf_model.predict(X_test)"
   ]
  },
  {
   "cell_type": "code",
   "execution_count": 41,
   "metadata": {},
   "outputs": [
    {
     "name": "stdout",
     "output_type": "stream",
     "text": [
      "              precision    recall  f1-score   support\n",
      "\n",
      "       False       1.00      0.81      0.90        32\n",
      "        True       0.94      1.00      0.97        97\n",
      "\n",
      "    accuracy                           0.95       129\n",
      "   macro avg       0.97      0.91      0.93       129\n",
      "weighted avg       0.96      0.95      0.95       129\n",
      "\n"
     ]
    }
   ],
   "source": [
    "print(classification_report(y_test, predicted))"
   ]
  },
  {
   "cell_type": "markdown",
   "metadata": {},
   "source": [
    "### k-Fold Cross Validation"
   ]
  },
  {
   "cell_type": "markdown",
   "metadata": {},
   "source": [
    "##### Using K-Neighbors Classifier"
   ]
  },
  {
   "cell_type": "code",
   "execution_count": 42,
   "metadata": {},
   "outputs": [
    {
     "name": "stdout",
     "output_type": "stream",
     "text": [
      "[0.90384615 0.88461538 0.96153846 0.96153846 0.98076923 1.\n",
      " 1.         0.94117647 0.88235294 0.88235294]\n"
     ]
    }
   ],
   "source": [
    "# 10-fold cross-validation with K=5 for KNN (the n_neighbors parameter)\n",
    "knn = KNeighborsClassifier(n_neighbors=5)\n",
    "scores = cross_val_score(knn, X, y, cv=10, scoring='accuracy')\n",
    "print(scores)"
   ]
  },
  {
   "cell_type": "code",
   "execution_count": 43,
   "metadata": {},
   "outputs": [
    {
     "name": "stdout",
     "output_type": "stream",
     "text": [
      "0.9398190045248869\n"
     ]
    }
   ],
   "source": [
    "print(scores.mean())"
   ]
  },
  {
   "cell_type": "code",
   "execution_count": 44,
   "metadata": {},
   "outputs": [
    {
     "name": "stdout",
     "output_type": "stream",
     "text": [
      "[0.928054298642534, 0.9223981900452489, 0.9398567119155354, 0.9303544494720966, 0.9398190045248869, 0.9437782805429864, 0.9358974358974359, 0.9340497737556561, 0.9340497737556561, 0.9282805429864254, 0.9203242835595777, 0.9067496229260936, 0.9164027149321268, 0.9067119155354451, 0.9144042232277527, 0.9144042232277527, 0.9201734539969835, 0.918212669683258, 0.9220588235294118, 0.9181372549019609, 0.9200603318250377, 0.9200603318250377, 0.9200603318250377, 0.9180995475113122, 0.9180995475113122, 0.9142533936651585, 0.9142533936651585, 0.912292609351433, 0.912292609351433, 0.912292609351433]\n"
     ]
    }
   ],
   "source": [
    "# search for an optimal value of K for KNN\n",
    "k_range = list(range(1, 31))\n",
    "k_scores = []\n",
    "for k in k_range:\n",
    "    knn = KNeighborsClassifier(n_neighbors=k)\n",
    "    scores = cross_val_score(knn, X, y, cv=10, scoring='accuracy')\n",
    "    k_scores.append(scores.mean())\n",
    "print(k_scores)"
   ]
  },
  {
   "cell_type": "code",
   "execution_count": 45,
   "metadata": {},
   "outputs": [
    {
     "data": {
      "text/plain": [
       "Text(0, 0.5, 'Cross-Validated Accuracy')"
      ]
     },
     "execution_count": 45,
     "metadata": {},
     "output_type": "execute_result"
    },
    {
     "data": {
      "image/png": "[encoded data removed]",
      "text/plain": [
       "<Figure size 432x288 with 1 Axes>"
      ]
     },
     "metadata": {},
     "output_type": "display_data"
    }
   ],
   "source": [
    "# plot the value of K for KNN (x-axis) versus the cross-validated accuracy (y-axis)\n",
    "plt.style.use('seaborn-dark')\n",
    "\n",
    "plt.plot(k_range, k_scores)\n",
    "plt.xlabel('Value of K for KNN')\n",
    "plt.ylabel('Cross-Validated Accuracy')"
   ]
  },
  {
   "cell_type": "markdown",
   "metadata": {},
   "source": [
    "##### Using Logistic Regression"
   ]
  },
  {
   "cell_type": "code",
   "execution_count": 46,
   "metadata": {},
   "outputs": [
    {
     "name": "stdout",
     "output_type": "stream",
     "text": [
      "0.9260180995475114\n"
     ]
    }
   ],
   "source": [
    "# Best k for knn is 8. How about Logistic Regression?\n",
    "# 10-fold cross-validation with logistic regression\n",
    "logreg = LogisticRegression()\n",
    "print(cross_val_score(logreg, X, y, cv=10, scoring='accuracy').mean())"
   ]
  },
  {
   "cell_type": "markdown",
   "metadata": {},
   "source": [
    "##### Using Decision Tree Classifier"
   ]
  },
  {
   "cell_type": "code",
   "execution_count": 47,
   "metadata": {},
   "outputs": [
    {
     "name": "stdout",
     "output_type": "stream",
     "text": [
      "0.9437405731523378\n"
     ]
    }
   ],
   "source": [
    "tree_model = DecisionTreeClassifier(random_state=42)\n",
    "print(cross_val_score(tree_model, X, y, cv=10, scoring='accuracy').mean())"
   ]
  },
  {
   "cell_type": "markdown",
   "metadata": {},
   "source": [
    "##### Using Random Forest Classifier"
   ]
  },
  {
   "cell_type": "code",
   "execution_count": 48,
   "metadata": {},
   "outputs": [
    {
     "name": "stdout",
     "output_type": "stream",
     "text": [
      "0.9417797888386124\n"
     ]
    }
   ],
   "source": [
    "rf_model = RandomForestClassifier(n_estimators=100, max_depth=15,\n",
    "                                  random_state=42)\n",
    "print(cross_val_score(rf_model, X, y, cv=10, scoring='accuracy').mean())"
   ]
  },
  {
   "cell_type": "code",
   "execution_count": 49,
   "metadata": {},
   "outputs": [
    {
     "name": "stdout",
     "output_type": "stream",
     "text": [
      "[0.9396304675716441, 0.9377828054298643, 0.9417043740573152, 0.9378582202111614, 0.9378582202111614, 0.9378582202111614, 0.9378582202111614, 0.9378582202111614, 0.9378582202111614, 0.9378582202111614]\n"
     ]
    }
   ],
   "source": [
    "# search for an optimal value of K for KNN\n",
    "n_range = list(range(5, 15))\n",
    "rf_scores = []\n",
    "for n in n_range:\n",
    "    rf_model = RandomForestClassifier(n_estimators=200, max_depth=n,\n",
    "                                      random_state=42)\n",
    "    scores = cross_val_score(rf_model, X, y, cv=10, scoring='accuracy')\n",
    "    rf_scores.append(scores.mean())\n",
    "print(rf_scores)"
   ]
  },
  {
   "cell_type": "code",
   "execution_count": 50,
   "metadata": {},
   "outputs": [
    {
     "data": {
      "text/plain": [
       "Text(0, 0.5, 'Cross-Validated Accuracy')"
      ]
     },
     "execution_count": 50,
     "metadata": {},
     "output_type": "execute_result"
    },
    {
     "data": {
      "image/png": "[encoded data removed]",
      "text/plain": [
       "<Figure size 432x288 with 1 Axes>"
      ]
     },
     "metadata": {},
     "output_type": "display_data"
    }
   ],
   "source": [
    "# plot the value of K for rf (x-axis) vs the cross-validated accuracy (y-axis)\n",
    "plt.style.use('seaborn-dark')\n",
    "\n",
    "plt.plot(n_range, rf_scores)\n",
    "plt.ylim(0.8, 1)\n",
    "plt.xlabel('Value of n_estimators for RFC')\n",
    "plt.ylabel('Cross-Validated Accuracy')"
   ]
  }
 ],
 "metadata": {
  "hide_input": false,
  "kernelspec": {
   "display_name": "Python 3",
   "language": "python",
   "name": "python3"
  },
  "language_info": {
   "codemirror_mode": {
    "name": "ipython",
    "version": 3
   },
   "file_extension": ".py",
   "mimetype": "text/x-python",
   "name": "python",
   "nbconvert_exporter": "python",
   "pygments_lexer": "ipython3",
   "version": "3.7.4"
  },
  "toc": {
   "base_numbering": 1,
   "nav_menu": {},
   "number_sections": false,
   "sideBar": true,
   "skip_h1_title": true,
   "title_cell": "Table of Contents",
   "title_sidebar": "Contents",
   "toc_cell": false,
   "toc_position": {
    "height": "calc(100% - 180px)",
    "left": "10px",
    "top": "150px",
    "width": "288px"
   },
   "toc_section_display": true,
   "toc_window_display": true
  },
  "varInspector": {
   "cols": {
    "lenName": 16,
    "lenType": 16,
    "lenVar": 40
   },
   "kernels_config": {
    "python": {
     "delete_cmd_postfix": "",
     "delete_cmd_prefix": "del ",
     "library": "var_list.py",
     "varRefreshCmd": "print(var_dic_list())"
    },
    "r": {
     "delete_cmd_postfix": ") ",
     "delete_cmd_prefix": "rm(",
     "library": "var_list.r",
     "varRefreshCmd": "cat(var_dic_list()) "
    }
   },
   "types_to_exclude": [
    "module",
    "function",
    "builtin_function_or_method",
    "instance",
    "_Feature"
   ],
   "window_display": false
  }
 },
 "nbformat": 4,
 "nbformat_minor": 4
}
