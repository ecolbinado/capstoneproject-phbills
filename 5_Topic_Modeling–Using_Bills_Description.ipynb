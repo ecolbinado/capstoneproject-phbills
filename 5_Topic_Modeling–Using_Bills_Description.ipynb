{
 "cells": [
  {
   "cell_type": "markdown",
   "metadata": {},
   "source": [
    "# Topic Modeling Using Senate Bills' Long Title Field"
   ]
  },
  {
   "cell_type": "code",
   "execution_count": 1,
   "metadata": {
    "ExecuteTime": {
     "end_time": "2019-11-27T23:13:19.594993Z",
     "start_time": "2019-11-27T23:13:19.579035Z"
    }
   },
   "outputs": [],
   "source": [
    "import pandas as pd\n",
    "import os\n",
    "from collections import Counter\n",
    "from gensim import models\n",
    "from gensim import corpora\n",
    "from gensim.models import CoherenceModel\n",
    "import pyLDAvis\n",
    "import pyLDAvis.gensim\n",
    "import re\n",
    "import pickle\n",
    "import warnings\n",
    "warnings.filterwarnings('ignore')"
   ]
  },
  {
   "cell_type": "code",
   "execution_count": 2,
   "metadata": {
    "ExecuteTime": {
     "end_time": "2019-11-27T23:13:19.709900Z",
     "start_time": "2019-11-27T23:13:19.658875Z"
    }
   },
   "outputs": [],
   "source": [
    "df = pd.read_pickle(os.path.join('data_files', 'lt_processed.pkl'))"
   ]
  },
  {
   "cell_type": "code",
   "execution_count": 3,
   "metadata": {},
   "outputs": [
    {
     "data": {
      "text/html": [
       "<div>\n",
       "<style scoped>\n",
       "    .dataframe tbody tr th:only-of-type {\n",
       "        vertical-align: middle;\n",
       "    }\n",
       "\n",
       "    .dataframe tbody tr th {\n",
       "        vertical-align: top;\n",
       "    }\n",
       "\n",
       "    .dataframe thead th {\n",
       "        text-align: right;\n",
       "    }\n",
       "</style>\n",
       "<table border=\"1\" class=\"dataframe\">\n",
       "  <thead>\n",
       "    <tr style=\"text-align: right;\">\n",
       "      <th></th>\n",
       "      <th>bill_id</th>\n",
       "      <th>long_title</th>\n",
       "      <th>bill_status</th>\n",
       "    </tr>\n",
       "  </thead>\n",
       "  <tbody>\n",
       "    <tr>\n",
       "      <th>0</th>\n",
       "      <td>17SBN-2235</td>\n",
       "      <td>[fiscal, regime, mining, industry]</td>\n",
       "      <td>Pending</td>\n",
       "    </tr>\n",
       "    <tr>\n",
       "      <th>1</th>\n",
       "      <td>17SBN-2234</td>\n",
       "      <td>[sale, certain, land, barangay, na, ligas, cit...</td>\n",
       "      <td>Passed</td>\n",
       "    </tr>\n",
       "    <tr>\n",
       "      <th>2</th>\n",
       "      <td>17SBN-2233</td>\n",
       "      <td>[excise, tax, tobacco, subject, tax, increment...</td>\n",
       "      <td>Passed</td>\n",
       "    </tr>\n",
       "    <tr>\n",
       "      <th>3</th>\n",
       "      <td>17SBN-2232</td>\n",
       "      <td>[institutionalization, development, training, ...</td>\n",
       "      <td>Pending</td>\n",
       "    </tr>\n",
       "    <tr>\n",
       "      <th>4</th>\n",
       "      <td>17SBN-2231</td>\n",
       "      <td>[bank]</td>\n",
       "      <td>Pending</td>\n",
       "    </tr>\n",
       "  </tbody>\n",
       "</table>\n",
       "</div>"
      ],
      "text/plain": [
       "      bill_id                                         long_title bill_status\n",
       "0  17SBN-2235                 [fiscal, regime, mining, industry]     Pending\n",
       "1  17SBN-2234  [sale, certain, land, barangay, na, ligas, cit...      Passed\n",
       "2  17SBN-2233  [excise, tax, tobacco, subject, tax, increment...      Passed\n",
       "3  17SBN-2232  [institutionalization, development, training, ...     Pending\n",
       "4  17SBN-2231                                             [bank]     Pending"
      ]
     },
     "execution_count": 3,
     "metadata": {},
     "output_type": "execute_result"
    }
   ],
   "source": [
    "df.head()"
   ]
  },
  {
   "cell_type": "markdown",
   "metadata": {},
   "source": [
    "## Most Common Words"
   ]
  },
  {
   "cell_type": "code",
   "execution_count": 4,
   "metadata": {},
   "outputs": [],
   "source": [
    "lt_list = df.long_title.tolist()"
   ]
  },
  {
   "cell_type": "code",
   "execution_count": 5,
   "metadata": {},
   "outputs": [],
   "source": [
    "lt_flat = [item for sublist in lt_list for item in sublist]"
   ]
  },
  {
   "cell_type": "code",
   "execution_count": 6,
   "metadata": {
    "ExecuteTime": {
     "end_time": "2019-11-27T23:13:19.894961Z",
     "start_time": "2019-11-27T23:13:19.864023Z"
    }
   },
   "outputs": [
    {
     "data": {
      "text/plain": [
       "[('fund', 2859),\n",
       " ('national', 2204),\n",
       " ('public', 1243),\n",
       " ('section', 1156),\n",
       " ('program', 1091),\n",
       " ('development', 998),\n",
       " ('health', 920),\n",
       " ('education', 899),\n",
       " ('local', 852),\n",
       " ('system', 749)]"
      ]
     },
     "execution_count": 6,
     "metadata": {},
     "output_type": "execute_result"
    }
   ],
   "source": [
    "word_counter = Counter(lt_flat)\n",
    "most_common_words = word_counter.most_common()[:10]\n",
    "most_common_words"
   ]
  },
  {
   "cell_type": "markdown",
   "metadata": {},
   "source": [
    "## Topic Modeling\n",
    "Topic Modeling Using Latent Dirichlet Allocation(LDA)"
   ]
  },
  {
   "cell_type": "markdown",
   "metadata": {},
   "source": [
    "### Create Dictionary"
   ]
  },
  {
   "cell_type": "code",
   "execution_count": 7,
   "metadata": {},
   "outputs": [],
   "source": [
    "id2word = corpora.Dictionary(df.long_title)"
   ]
  },
  {
   "cell_type": "markdown",
   "metadata": {},
   "source": [
    "### Create Corpus"
   ]
  },
  {
   "cell_type": "code",
   "execution_count": 8,
   "metadata": {},
   "outputs": [],
   "source": [
    "texts = df.long_title"
   ]
  },
  {
   "cell_type": "markdown",
   "metadata": {},
   "source": [
    "#### Term Document Frequency"
   ]
  },
  {
   "cell_type": "code",
   "execution_count": 9,
   "metadata": {},
   "outputs": [],
   "source": [
    "corpus = [id2word.doc2bow(text) for text in texts]"
   ]
  },
  {
   "cell_type": "markdown",
   "metadata": {},
   "source": [
    "### LDA"
   ]
  },
  {
   "cell_type": "code",
   "execution_count": 10,
   "metadata": {
    "ExecuteTime": {
     "end_time": "2019-11-27T23:20:50.217386Z",
     "start_time": "2019-11-27T23:19:22.742303Z"
    }
   },
   "outputs": [],
   "source": [
    "# LDA for num_topics = 15\n",
    "lda = models.LdaModel(corpus=corpus, id2word=id2word, num_topics=15, passes=50,\n",
    "                      random_state=43)"
   ]
  },
  {
   "cell_type": "code",
   "execution_count": 11,
   "metadata": {},
   "outputs": [
    {
     "data": {
      "text/plain": [
       "[(0,\n",
       "  '0.073*\"additional\" + 0.071*\"fund\" + 0.046*\"court\" + 0.044*\"national\" + 0.044*\"region\" + 0.043*\"judiciary\" + 0.041*\"reorganization\" + 0.038*\"regional\" + 0.037*\"trial\" + 0.034*\"judicial\"'),\n",
       " (1,\n",
       "  '0.081*\"health\" + 0.051*\"care\" + 0.050*\"medical\" + 0.042*\"fund\" + 0.041*\"family\" + 0.040*\"security\" + 0.033*\"research\" + 0.032*\"development\" + 0.027*\"center\" + 0.025*\"system\"'),\n",
       " (2,\n",
       "  '0.148*\"program\" + 0.054*\"fund\" + 0.049*\"national\" + 0.047*\"civil\" + 0.039*\"comprehensive\" + 0.031*\"medium\" + 0.030*\"prevention\" + 0.028*\"human\" + 0.023*\"small\" + 0.020*\"modernization\"'),\n",
       " (3,\n",
       "  '0.070*\"department\" + 0.050*\"fund\" + 0.043*\"health\" + 0.033*\"management\" + 0.031*\"water\" + 0.025*\"agriculture\" + 0.023*\"national\" + 0.021*\"justice\" + 0.019*\"discrimination\" + 0.018*\"rural\"'),\n",
       " (4,\n",
       "  '0.088*\"commission\" + 0.070*\"labor\" + 0.064*\"national\" + 0.050*\"employment\" + 0.049*\"safety\" + 0.033*\"administration\" + 0.029*\"land\" + 0.025*\"agricultural\" + 0.024*\"fund\" + 0.024*\"board\"'),\n",
       " (5,\n",
       "  '0.072*\"province\" + 0.062*\"barangay\" + 0.055*\"special\" + 0.049*\"fund\" + 0.047*\"city\" + 0.042*\"day\" + 0.041*\"national\" + 0.036*\"municipality\" + 0.026*\"area\" + 0.024*\"management\"'),\n",
       " (6,\n",
       "  '0.106*\"development\" + 0.086*\"protection\" + 0.062*\"authority\" + 0.043*\"fund\" + 0.040*\"practice\" + 0.040*\"welfare\" + 0.026*\"overseas\" + 0.025*\"environmental\" + 0.022*\"housing\" + 0.021*\"promotion\"'),\n",
       " (7,\n",
       "  '0.060*\"national\" + 0.044*\"system\" + 0.034*\"fund\" + 0.034*\"food\" + 0.033*\"motor\" + 0.024*\"transportation\" + 0.023*\"energy\" + 0.022*\"registration\" + 0.021*\"vehicle\" + 0.019*\"senior\"'),\n",
       " (8,\n",
       "  '0.113*\"public\" + 0.092*\"school\" + 0.045*\"high\" + 0.043*\"crime\" + 0.039*\"state\" + 0.036*\"penalty\" + 0.034*\"educational\" + 0.031*\"university\" + 0.023*\"private\" + 0.020*\"college\"'),\n",
       " (9,\n",
       "  '0.107*\"national\" + 0.092*\"tax\" + 0.077*\"revenue\" + 0.076*\"internal\" + 0.050*\"section\" + 0.034*\"income\" + 0.018*\"business\" + 0.017*\"conduct\" + 0.016*\"b\" + 0.015*\"individual\"'),\n",
       " (10,\n",
       "  '0.122*\"education\" + 0.064*\"fund\" + 0.043*\"program\" + 0.040*\"public\" + 0.035*\"technology\" + 0.027*\"secondary\" + 0.027*\"assistance\" + 0.024*\"elementary\" + 0.024*\"free\" + 0.018*\"system\"'),\n",
       " (11,\n",
       "  '0.171*\"local\" + 0.146*\"section\" + 0.034*\"property\" + 0.028*\"book\" + 0.023*\"computer\" + 0.022*\"administrative\" + 0.022*\"chapter\" + 0.019*\"national\" + 0.015*\"law\" + 0.014*\"first\"'),\n",
       " (12,\n",
       "  '0.048*\"information\" + 0.046*\"public\" + 0.042*\"section\" + 0.040*\"international\" + 0.033*\"reform\" + 0.030*\"right\" + 0.029*\"election\" + 0.022*\"law\" + 0.022*\"omnibus\" + 0.020*\"disclosure\"'),\n",
       " (13,\n",
       "  '0.061*\"service\" + 0.051*\"insurance\" + 0.036*\"economic\" + 0.033*\"establishment\" + 0.028*\"work\" + 0.025*\"retirement\" + 0.025*\"health\" + 0.025*\"credit\" + 0.024*\"corporation\" + 0.024*\"mandatory\"'),\n",
       " (14,\n",
       "  '0.141*\"certain\" + 0.050*\"sale\" + 0.027*\"distribution\" + 0.026*\"ra\" + 0.025*\"consumer\" + 0.023*\"manufacture\" + 0.020*\"television\" + 0.020*\"commercial\" + 0.019*\"grant\" + 0.019*\"importation\"')]"
      ]
     },
     "execution_count": 11,
     "metadata": {},
     "output_type": "execute_result"
    }
   ],
   "source": [
    "lda.print_topics()"
   ]
  },
  {
   "cell_type": "markdown",
   "metadata": {
    "ExecuteTime": {
     "end_time": "2019-11-27T23:22:07.902746Z",
     "start_time": "2019-11-27T23:22:07.899369Z"
    }
   },
   "source": [
    "#### Compute Perplexity"
   ]
  },
  {
   "cell_type": "code",
   "execution_count": 12,
   "metadata": {},
   "outputs": [
    {
     "name": "stdout",
     "output_type": "stream",
     "text": [
      "Perplexity:  -7.8540893118471145\n"
     ]
    }
   ],
   "source": [
    "print('Perplexity: ', lda.log_perplexity(corpus))"
   ]
  },
  {
   "cell_type": "markdown",
   "metadata": {},
   "source": [
    "#### Compute Coherence Score"
   ]
  },
  {
   "cell_type": "code",
   "execution_count": 13,
   "metadata": {
    "ExecuteTime": {
     "end_time": "2019-11-27T23:22:11.388345Z",
     "start_time": "2019-11-27T23:22:08.659128Z"
    }
   },
   "outputs": [],
   "source": [
    "coherence_model_lda = CoherenceModel(model=lda, texts=df.long_title,\n",
    "                                     dictionary=id2word, coherence='c_v')"
   ]
  },
  {
   "cell_type": "code",
   "execution_count": 14,
   "metadata": {
    "ExecuteTime": {
     "end_time": "2019-11-27T23:22:13.430075Z",
     "start_time": "2019-11-27T23:22:11.604851Z"
    }
   },
   "outputs": [
    {
     "name": "stdout",
     "output_type": "stream",
     "text": [
      "Coherence Score:  0.4201803694043507\n"
     ]
    }
   ],
   "source": [
    "coherence_lda = coherence_model_lda.get_coherence()\n",
    "print('Coherence Score: ', coherence_lda)"
   ]
  },
  {
   "cell_type": "markdown",
   "metadata": {},
   "source": [
    "#### Visualize the Topics"
   ]
  },
  {
   "cell_type": "code",
   "execution_count": 15,
   "metadata": {
    "ExecuteTime": {
     "end_time": "2019-11-27T23:23:48.806539Z",
     "start_time": "2019-11-27T23:23:48.803466Z"
    }
   },
   "outputs": [],
   "source": [
    "pyLDAvis.enable_notebook()"
   ]
  },
  {
   "cell_type": "code",
   "execution_count": 16,
   "metadata": {
    "ExecuteTime": {
     "end_time": "2019-11-27T23:25:26.757890Z",
     "start_time": "2019-11-27T23:23:49.905017Z"
    }
   },
   "outputs": [],
   "source": [
    "vis = pyLDAvis.gensim.prepare(lda, corpus, id2word, R=10)"
   ]
  },
  {
   "cell_type": "markdown",
   "metadata": {},
   "source": [
    "#### Save Outputs to Disk"
   ]
  },
  {
   "cell_type": "code",
   "execution_count": 17,
   "metadata": {
    "ExecuteTime": {
     "end_time": "2019-11-27T23:25:27.042422Z",
     "start_time": "2019-11-27T23:25:27.030599Z"
    }
   },
   "outputs": [],
   "source": [
    "pyLDAvis.save_html(vis, os.path.join('reports', 'LDAvis.html'))"
   ]
  },
  {
   "cell_type": "code",
   "execution_count": 18,
   "metadata": {},
   "outputs": [],
   "source": [
    "topic_dict = {}\n",
    "for idx, i in enumerate(lda.show_topics()):\n",
    "    topic_dict[idx] = re.findall('\"([^\"]*)\"', i[1])"
   ]
  },
  {
   "cell_type": "code",
   "execution_count": 19,
   "metadata": {},
   "outputs": [],
   "source": [
    "pickle.dump(topic_dict, open(os.path.join('data_files',\n",
    "                                          'topic_dict.pkl'), 'wb'))"
   ]
  }
 ],
 "metadata": {
  "hide_input": false,
  "kernelspec": {
   "display_name": "Python 3",
   "language": "python",
   "name": "python3"
  },
  "language_info": {
   "codemirror_mode": {
    "name": "ipython",
    "version": 3
   },
   "file_extension": ".py",
   "mimetype": "text/x-python",
   "name": "python",
   "nbconvert_exporter": "python",
   "pygments_lexer": "ipython3",
   "version": "3.7.4"
  },
  "toc": {
   "base_numbering": 1,
   "nav_menu": {},
   "number_sections": false,
   "sideBar": true,
   "skip_h1_title": true,
   "title_cell": "Table of Contents",
   "title_sidebar": "Contents",
   "toc_cell": false,
   "toc_position": {
    "height": "calc(100% - 180px)",
    "left": "10px",
    "top": "150px",
    "width": "288px"
   },
   "toc_section_display": true,
   "toc_window_display": true
  },
  "varInspector": {
   "cols": {
    "lenName": 16,
    "lenType": 16,
    "lenVar": 40
   },
   "kernels_config": {
    "python": {
     "delete_cmd_postfix": "",
     "delete_cmd_prefix": "del ",
     "library": "var_list.py",
     "varRefreshCmd": "print(var_dic_list())"
    },
    "r": {
     "delete_cmd_postfix": ") ",
     "delete_cmd_prefix": "rm(",
     "library": "var_list.r",
     "varRefreshCmd": "cat(var_dic_list()) "
    }
   },
   "types_to_exclude": [
    "module",
    "function",
    "builtin_function_or_method",
    "instance",
    "_Feature"
   ],
   "window_display": false
  }
 },
 "nbformat": 4,
 "nbformat_minor": 4
}
