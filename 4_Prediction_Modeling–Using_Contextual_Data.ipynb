{
 "cells": [
  {
   "cell_type": "markdown",
   "metadata": {},
   "source": [
    "# Modeling – Using Contextual Data"
   ]
  },
  {
   "cell_type": "markdown",
   "metadata": {},
   "source": [
    "## Importing Packages"
   ]
  },
  {
   "cell_type": "code",
   "execution_count": 1,
   "metadata": {},
   "outputs": [],
   "source": [
    "from sklearn.preprocessing import StandardScaler\n",
    "from sklearn.model_selection import train_test_split\n",
    "from sklearn.svm import SVC\n",
    "from sklearn.metrics import classification_report\n",
    "from sklearn.ensemble import RandomForestClassifier\n",
    "from sklearn.neighbors import KNeighborsClassifier\n",
    "from sklearn.linear_model import LogisticRegression\n",
    "from sklearn.tree import DecisionTreeClassifier\n",
    "from sklearn.model_selection import cross_val_score\n",
    "\n",
    "import pandas as pd\n",
    "import numpy as np\n",
    "import os\n",
    "from matplotlib import pyplot as plt\n",
    "%matplotlib inline\n",
    "import seaborn as sns\n",
    "\n",
    "import warnings\n",
    "warnings.filterwarnings('ignore')"
   ]
  },
  {
   "cell_type": "code",
   "execution_count": 2,
   "metadata": {
    "ExecuteTime": {
     "end_time": "2019-11-25T06:12:31.862425Z",
     "start_time": "2019-11-25T06:12:31.763198Z"
    }
   },
   "outputs": [],
   "source": [
    "df = pd.read_csv(os.path.join('data_files',\n",
    "                              'congress_data_set.csv'), index_col=0)"
   ]
  },
  {
   "cell_type": "code",
   "execution_count": 3,
   "metadata": {
    "ExecuteTime": {
     "end_time": "2019-11-25T06:12:31.877874Z",
     "start_time": "2019-11-25T06:12:31.864754Z"
    }
   },
   "outputs": [
    {
     "data": {
      "text/plain": [
       "(15078, 22)"
      ]
     },
     "execution_count": 3,
     "metadata": {},
     "output_type": "execute_result"
    }
   ],
   "source": [
    "df.shape"
   ]
  },
  {
   "cell_type": "code",
   "execution_count": 4,
   "metadata": {
    "ExecuteTime": {
     "end_time": "2019-11-25T06:12:31.913206Z",
     "start_time": "2019-11-25T06:12:31.880679Z"
    }
   },
   "outputs": [
    {
     "data": {
      "text/html": [
       "<div>\n",
       "<style scoped>\n",
       "    .dataframe tbody tr th:only-of-type {\n",
       "        vertical-align: middle;\n",
       "    }\n",
       "\n",
       "    .dataframe tbody tr th {\n",
       "        vertical-align: top;\n",
       "    }\n",
       "\n",
       "    .dataframe thead th {\n",
       "        text-align: right;\n",
       "    }\n",
       "</style>\n",
       "<table border=\"1\" class=\"dataframe\">\n",
       "  <thead>\n",
       "    <tr style=\"text-align: right;\">\n",
       "      <th></th>\n",
       "      <th>bill_id</th>\n",
       "      <th>num</th>\n",
       "      <th>congress</th>\n",
       "      <th>long_title</th>\n",
       "      <th>date_filed</th>\n",
       "      <th>scope</th>\n",
       "      <th>status</th>\n",
       "      <th>author</th>\n",
       "      <th>date_lastUpdate</th>\n",
       "      <th>Pass</th>\n",
       "      <th>...</th>\n",
       "      <th>Bloc</th>\n",
       "      <th>Years of Service</th>\n",
       "      <th>num_authors</th>\n",
       "      <th>delta_days</th>\n",
       "      <th>upper</th>\n",
       "      <th>mon</th>\n",
       "      <th>quarter</th>\n",
       "      <th>scope_national</th>\n",
       "      <th>majority_bloc</th>\n",
       "      <th>len_desc</th>\n",
       "    </tr>\n",
       "  </thead>\n",
       "  <tbody>\n",
       "    <tr>\n",
       "      <th>0</th>\n",
       "      <td>17SBN-2235</td>\n",
       "      <td>SBN-2235</td>\n",
       "      <td>17</td>\n",
       "      <td>an act establishing the fiscal regime for the ...</td>\n",
       "      <td>5/28/19</td>\n",
       "      <td>National</td>\n",
       "      <td>Pending Second Reading, Special Order</td>\n",
       "      <td>Drilon, Franklin M., Recto, Ralph G., Sotto II...</td>\n",
       "      <td>5/28/19</td>\n",
       "      <td>False</td>\n",
       "      <td>...</td>\n",
       "      <td>Minority</td>\n",
       "      <td>24</td>\n",
       "      <td>4</td>\n",
       "      <td>0</td>\n",
       "      <td>False</td>\n",
       "      <td>5</td>\n",
       "      <td>2</td>\n",
       "      <td>True</td>\n",
       "      <td>False</td>\n",
       "      <td>61</td>\n",
       "    </tr>\n",
       "  </tbody>\n",
       "</table>\n",
       "<p>1 rows × 22 columns</p>\n",
       "</div>"
      ],
      "text/plain": [
       "      bill_id       num  congress  \\\n",
       "0  17SBN-2235  SBN-2235        17   \n",
       "\n",
       "                                          long_title date_filed     scope  \\\n",
       "0  an act establishing the fiscal regime for the ...    5/28/19  National   \n",
       "\n",
       "                                  status  \\\n",
       "0  Pending Second Reading, Special Order   \n",
       "\n",
       "                                              author date_lastUpdate   Pass  \\\n",
       "0  Drilon, Franklin M., Recto, Ralph G., Sotto II...         5/28/19  False   \n",
       "\n",
       "   ...      Bloc Years of Service num_authors  delta_days  upper  mon  \\\n",
       "0  ...  Minority               24           4           0  False    5   \n",
       "\n",
       "   quarter  scope_national  majority_bloc  len_desc  \n",
       "0        2            True          False        61  \n",
       "\n",
       "[1 rows x 22 columns]"
      ]
     },
     "execution_count": 4,
     "metadata": {},
     "output_type": "execute_result"
    }
   ],
   "source": [
    "df.head(1)"
   ]
  },
  {
   "cell_type": "markdown",
   "metadata": {},
   "source": [
    "## Feature Selection"
   ]
  },
  {
   "cell_type": "code",
   "execution_count": 5,
   "metadata": {
    "ExecuteTime": {
     "end_time": "2019-11-25T06:12:31.924307Z",
     "start_time": "2019-11-25T06:12:31.915806Z"
    }
   },
   "outputs": [
    {
     "name": "stdout",
     "output_type": "stream",
     "text": [
      "Data Points: 529\n"
     ]
    }
   ],
   "source": [
    "df = df[(df.status == 'Sent to the Archives') | (df['Pass'] == True)]\n",
    "print(f\"Data Points: {df.shape[0]:,}\")"
   ]
  },
  {
   "cell_type": "code",
   "execution_count": 6,
   "metadata": {},
   "outputs": [
    {
     "data": {
      "text/plain": [
       "True     438\n",
       "False     91\n",
       "Name: Pass, dtype: int64"
      ]
     },
     "execution_count": 6,
     "metadata": {},
     "output_type": "execute_result"
    }
   ],
   "source": [
    "df.Pass.value_counts()"
   ]
  },
  {
   "cell_type": "code",
   "execution_count": 7,
   "metadata": {
    "ExecuteTime": {
     "end_time": "2019-11-25T06:12:31.934278Z",
     "start_time": "2019-11-25T06:12:31.927221Z"
    }
   },
   "outputs": [
    {
     "data": {
      "text/plain": [
       "Index(['bill_id', 'num', 'congress', 'long_title', 'date_filed', 'scope',\n",
       "       'status', 'author', 'date_lastUpdate', 'Pass',\n",
       "       'Full Name Primary Author', 'Party', 'Bloc', 'Years of Service',\n",
       "       'num_authors', 'delta_days', 'upper', 'mon', 'quarter',\n",
       "       'scope_national', 'majority_bloc', 'len_desc'],\n",
       "      dtype='object')"
      ]
     },
     "execution_count": 7,
     "metadata": {},
     "output_type": "execute_result"
    }
   ],
   "source": [
    "df.columns"
   ]
  },
  {
   "cell_type": "code",
   "execution_count": 8,
   "metadata": {
    "ExecuteTime": {
     "end_time": "2019-11-25T06:12:31.943633Z",
     "start_time": "2019-11-25T06:12:31.938313Z"
    }
   },
   "outputs": [],
   "source": [
    "cols_of_interest = ['bill_id', 'Party', 'Years of Service', 'num_authors',\n",
    "                    'delta_days', 'mon', 'scope_national', 'majority_bloc',\n",
    "                    'len_desc', 'Pass']\n",
    "ndf = df[cols_of_interest]"
   ]
  },
  {
   "cell_type": "code",
   "execution_count": 9,
   "metadata": {
    "ExecuteTime": {
     "end_time": "2019-11-25T06:12:31.952405Z",
     "start_time": "2019-11-25T06:12:31.946743Z"
    }
   },
   "outputs": [
    {
     "data": {
      "text/plain": [
       "(529, 10)"
      ]
     },
     "execution_count": 9,
     "metadata": {},
     "output_type": "execute_result"
    }
   ],
   "source": [
    "ndf.shape"
   ]
  },
  {
   "cell_type": "markdown",
   "metadata": {},
   "source": [
    "## Data Preprocessing"
   ]
  },
  {
   "cell_type": "markdown",
   "metadata": {},
   "source": [
    "### Month field"
   ]
  },
  {
   "cell_type": "code",
   "execution_count": 10,
   "metadata": {},
   "outputs": [],
   "source": [
    "month_dict = {1: 'January', 2: 'February', 3: 'March',\n",
    "              4: 'April', 5: 'May', 6: 'June', 7: 'July',\n",
    "              8: 'August', 9: 'September', 10: 'October',\n",
    "              11: 'November', 12: 'December'}"
   ]
  },
  {
   "cell_type": "code",
   "execution_count": 11,
   "metadata": {},
   "outputs": [],
   "source": [
    "ndf['month'] = ndf.mon.map(lambda month: month_dict.get(month))"
   ]
  },
  {
   "cell_type": "code",
   "execution_count": 12,
   "metadata": {},
   "outputs": [],
   "source": [
    "ndf.drop(['mon'], axis=1, inplace=True)"
   ]
  },
  {
   "cell_type": "code",
   "execution_count": 13,
   "metadata": {},
   "outputs": [
    {
     "data": {
      "text/html": [
       "<div>\n",
       "<style scoped>\n",
       "    .dataframe tbody tr th:only-of-type {\n",
       "        vertical-align: middle;\n",
       "    }\n",
       "\n",
       "    .dataframe tbody tr th {\n",
       "        vertical-align: top;\n",
       "    }\n",
       "\n",
       "    .dataframe thead th {\n",
       "        text-align: right;\n",
       "    }\n",
       "</style>\n",
       "<table border=\"1\" class=\"dataframe\">\n",
       "  <thead>\n",
       "    <tr style=\"text-align: right;\">\n",
       "      <th></th>\n",
       "      <th>bill_id</th>\n",
       "      <th>Party</th>\n",
       "      <th>Years of Service</th>\n",
       "      <th>num_authors</th>\n",
       "      <th>delta_days</th>\n",
       "      <th>scope_national</th>\n",
       "      <th>majority_bloc</th>\n",
       "      <th>len_desc</th>\n",
       "      <th>Pass</th>\n",
       "      <th>month</th>\n",
       "    </tr>\n",
       "  </thead>\n",
       "  <tbody>\n",
       "    <tr>\n",
       "      <th>1</th>\n",
       "      <td>17SBN-2234</td>\n",
       "      <td>Nacionalista</td>\n",
       "      <td>18</td>\n",
       "      <td>3</td>\n",
       "      <td>34</td>\n",
       "      <td>True</td>\n",
       "      <td>True</td>\n",
       "      <td>300</td>\n",
       "      <td>True</td>\n",
       "      <td>May</td>\n",
       "    </tr>\n",
       "    <tr>\n",
       "      <th>2</th>\n",
       "      <td>17SBN-2233</td>\n",
       "      <td>PDP_Laban</td>\n",
       "      <td>3</td>\n",
       "      <td>6</td>\n",
       "      <td>34</td>\n",
       "      <td>True</td>\n",
       "      <td>True</td>\n",
       "      <td>426</td>\n",
       "      <td>True</td>\n",
       "      <td>May</td>\n",
       "    </tr>\n",
       "    <tr>\n",
       "      <th>7</th>\n",
       "      <td>17SBN-2228</td>\n",
       "      <td>Nacionalista</td>\n",
       "      <td>6</td>\n",
       "      <td>3</td>\n",
       "      <td>40</td>\n",
       "      <td>True</td>\n",
       "      <td>True</td>\n",
       "      <td>201</td>\n",
       "      <td>True</td>\n",
       "      <td>May</td>\n",
       "    </tr>\n",
       "    <tr>\n",
       "      <th>40</th>\n",
       "      <td>17SBN-2195</td>\n",
       "      <td>Nacionalista</td>\n",
       "      <td>12</td>\n",
       "      <td>4</td>\n",
       "      <td>151</td>\n",
       "      <td>True</td>\n",
       "      <td>False</td>\n",
       "      <td>258</td>\n",
       "      <td>True</td>\n",
       "      <td>January</td>\n",
       "    </tr>\n",
       "    <tr>\n",
       "      <th>47</th>\n",
       "      <td>17SBN-2188</td>\n",
       "      <td>PDP_Laban</td>\n",
       "      <td>9</td>\n",
       "      <td>2</td>\n",
       "      <td>73</td>\n",
       "      <td>False</td>\n",
       "      <td>True</td>\n",
       "      <td>354</td>\n",
       "      <td>True</td>\n",
       "      <td>January</td>\n",
       "    </tr>\n",
       "  </tbody>\n",
       "</table>\n",
       "</div>"
      ],
      "text/plain": [
       "       bill_id         Party  Years of Service  num_authors  delta_days  \\\n",
       "1   17SBN-2234  Nacionalista                18            3          34   \n",
       "2   17SBN-2233     PDP_Laban                 3            6          34   \n",
       "7   17SBN-2228  Nacionalista                 6            3          40   \n",
       "40  17SBN-2195  Nacionalista                12            4         151   \n",
       "47  17SBN-2188     PDP_Laban                 9            2          73   \n",
       "\n",
       "    scope_national  majority_bloc  len_desc  Pass    month  \n",
       "1             True           True       300  True      May  \n",
       "2             True           True       426  True      May  \n",
       "7             True           True       201  True      May  \n",
       "40            True          False       258  True  January  \n",
       "47           False           True       354  True  January  "
      ]
     },
     "execution_count": 13,
     "metadata": {},
     "output_type": "execute_result"
    }
   ],
   "source": [
    "ndf.head()"
   ]
  },
  {
   "cell_type": "code",
   "execution_count": 14,
   "metadata": {},
   "outputs": [
    {
     "data": {
      "text/plain": [
       "bill_id             object\n",
       "Party               object\n",
       "Years of Service     int64\n",
       "num_authors          int64\n",
       "delta_days           int64\n",
       "scope_national        bool\n",
       "majority_bloc         bool\n",
       "len_desc             int64\n",
       "Pass                  bool\n",
       "month               object\n",
       "dtype: object"
      ]
     },
     "execution_count": 14,
     "metadata": {},
     "output_type": "execute_result"
    }
   ],
   "source": [
    "ndf.dtypes"
   ]
  },
  {
   "cell_type": "markdown",
   "metadata": {},
   "source": [
    "### Encode Categorical fields"
   ]
  },
  {
   "cell_type": "code",
   "execution_count": 15,
   "metadata": {
    "ExecuteTime": {
     "end_time": "2019-11-25T06:12:31.983906Z",
     "start_time": "2019-11-25T06:12:31.955256Z"
    }
   },
   "outputs": [
    {
     "data": {
      "text/plain": [
       "['Party', 'month']"
      ]
     },
     "execution_count": 15,
     "metadata": {},
     "output_type": "execute_result"
    }
   ],
   "source": [
    "cols_to_encode = ndf.select_dtypes(include=[object]).columns.tolist()\n",
    "cols_to_encode.remove('bill_id')\n",
    "cols_to_encode"
   ]
  },
  {
   "cell_type": "code",
   "execution_count": 16,
   "metadata": {},
   "outputs": [],
   "source": [
    "ndf = pd.get_dummies(ndf, columns=cols_to_encode, drop_first=True)"
   ]
  },
  {
   "cell_type": "code",
   "execution_count": 17,
   "metadata": {
    "ExecuteTime": {
     "end_time": "2019-11-25T06:12:32.003609Z",
     "start_time": "2019-11-25T06:12:31.992977Z"
    }
   },
   "outputs": [
    {
     "data": {
      "text/plain": [
       "(529, 32)"
      ]
     },
     "execution_count": 17,
     "metadata": {},
     "output_type": "execute_result"
    }
   ],
   "source": [
    "ndf.shape"
   ]
  },
  {
   "cell_type": "code",
   "execution_count": 18,
   "metadata": {},
   "outputs": [
    {
     "data": {
      "text/html": [
       "<div>\n",
       "<style scoped>\n",
       "    .dataframe tbody tr th:only-of-type {\n",
       "        vertical-align: middle;\n",
       "    }\n",
       "\n",
       "    .dataframe tbody tr th {\n",
       "        vertical-align: top;\n",
       "    }\n",
       "\n",
       "    .dataframe thead th {\n",
       "        text-align: right;\n",
       "    }\n",
       "</style>\n",
       "<table border=\"1\" class=\"dataframe\">\n",
       "  <thead>\n",
       "    <tr style=\"text-align: right;\">\n",
       "      <th></th>\n",
       "      <th>bill_id</th>\n",
       "      <th>Years of Service</th>\n",
       "      <th>num_authors</th>\n",
       "      <th>delta_days</th>\n",
       "      <th>scope_national</th>\n",
       "      <th>majority_bloc</th>\n",
       "      <th>len_desc</th>\n",
       "      <th>Pass</th>\n",
       "      <th>Party_Bagumbayan-VNP</th>\n",
       "      <th>Party_Independent</th>\n",
       "      <th>...</th>\n",
       "      <th>month_December</th>\n",
       "      <th>month_February</th>\n",
       "      <th>month_January</th>\n",
       "      <th>month_July</th>\n",
       "      <th>month_June</th>\n",
       "      <th>month_March</th>\n",
       "      <th>month_May</th>\n",
       "      <th>month_November</th>\n",
       "      <th>month_October</th>\n",
       "      <th>month_September</th>\n",
       "    </tr>\n",
       "  </thead>\n",
       "  <tbody>\n",
       "    <tr>\n",
       "      <th>1</th>\n",
       "      <td>17SBN-2234</td>\n",
       "      <td>18</td>\n",
       "      <td>3</td>\n",
       "      <td>34</td>\n",
       "      <td>True</td>\n",
       "      <td>True</td>\n",
       "      <td>300</td>\n",
       "      <td>True</td>\n",
       "      <td>0</td>\n",
       "      <td>0</td>\n",
       "      <td>...</td>\n",
       "      <td>0</td>\n",
       "      <td>0</td>\n",
       "      <td>0</td>\n",
       "      <td>0</td>\n",
       "      <td>0</td>\n",
       "      <td>0</td>\n",
       "      <td>1</td>\n",
       "      <td>0</td>\n",
       "      <td>0</td>\n",
       "      <td>0</td>\n",
       "    </tr>\n",
       "  </tbody>\n",
       "</table>\n",
       "<p>1 rows × 32 columns</p>\n",
       "</div>"
      ],
      "text/plain": [
       "      bill_id  Years of Service  num_authors  delta_days  scope_national  \\\n",
       "1  17SBN-2234                18            3          34            True   \n",
       "\n",
       "   majority_bloc  len_desc  Pass  Party_Bagumbayan-VNP  Party_Independent  \\\n",
       "1           True       300  True                     0                  0   \n",
       "\n",
       "   ...  month_December  month_February  month_January  month_July  month_June  \\\n",
       "1  ...               0               0              0           0           0   \n",
       "\n",
       "   month_March  month_May  month_November  month_October  month_September  \n",
       "1            0          1               0              0                0  \n",
       "\n",
       "[1 rows x 32 columns]"
      ]
     },
     "execution_count": 18,
     "metadata": {},
     "output_type": "execute_result"
    }
   ],
   "source": [
    "ndf.head(1)"
   ]
  },
  {
   "cell_type": "markdown",
   "metadata": {},
   "source": [
    "### Reorder Dataframe"
   ]
  },
  {
   "cell_type": "code",
   "execution_count": 19,
   "metadata": {},
   "outputs": [],
   "source": [
    "cols_to_move = ['Pass']\n",
    "cols = [col for col in ndf if col not in cols_to_move] + cols_to_move\n",
    "ndf = ndf[cols]"
   ]
  },
  {
   "cell_type": "code",
   "execution_count": 20,
   "metadata": {},
   "outputs": [],
   "source": [
    "ndf.to_pickle(os.path.join('data_files', 'encoded.pkl'))"
   ]
  },
  {
   "cell_type": "markdown",
   "metadata": {},
   "source": [
    "## Correlation Matrix"
   ]
  },
  {
   "cell_type": "code",
   "execution_count": 21,
   "metadata": {
    "ExecuteTime": {
     "end_time": "2019-11-25T06:45:49.668150Z",
     "start_time": "2019-11-25T06:45:48.555509Z"
    }
   },
   "outputs": [
    {
     "data": {
      "image/png": "[encoded data removed]",
      "text/plain": [
       "<Figure size 1440x720 with 2 Axes>"
      ]
     },
     "metadata": {
      "needs_background": "light"
     },
     "output_type": "display_data"
    }
   ],
   "source": [
    "cor = ndf.corr()\n",
    "plt.figure(figsize=(20, 10))\n",
    "sns.heatmap(cor, annot=False, cmap=\"RdYlGn\")\n",
    "plt.title('Correlation Matrix Philippine Senate Bills Data')\n",
    "plt.show()"
   ]
  },
  {
   "cell_type": "code",
   "execution_count": 22,
   "metadata": {
    "ExecuteTime": {
     "end_time": "2019-11-25T06:12:32.122046Z",
     "start_time": "2019-11-25T06:12:32.111559Z"
    }
   },
   "outputs": [
    {
     "data": {
      "text/plain": [
       "Years of Service        -0.353261\n",
       "num_authors              0.334389\n",
       "delta_days               0.197407\n",
       "scope_national          -0.057920\n",
       "majority_bloc           -0.017514\n",
       "len_desc                 0.194832\n",
       "Party_Bagumbayan-VNP     0.008949\n",
       "Party_Independent        0.184177\n",
       "Party_LDP                0.119459\n",
       "Party_Lakas              0.052783\n",
       "Party_Lakas-CMD          0.044525\n",
       "Party_Lakas-Kampi-CMD    0.069443\n",
       "Party_Liberal            0.103794\n",
       "Party_NPC                0.131441\n",
       "Party_Nacionalista       0.130164\n",
       "Party_PDP_Laban          0.072617\n",
       "Party_PMP               -0.064774\n",
       "Party_PRP               -0.676308\n",
       "Party_UNA               -0.047070\n",
       "month_August             0.063013\n",
       "month_December           0.113387\n",
       "month_February          -0.364208\n",
       "month_January           -0.254779\n",
       "month_July              -0.047712\n",
       "month_June               0.119459\n",
       "month_March              0.111762\n",
       "month_May                0.107994\n",
       "month_November           0.164771\n",
       "month_October            0.073637\n",
       "month_September          0.044536\n",
       "Pass                     1.000000\n",
       "Name: Pass, dtype: float64"
      ]
     },
     "execution_count": 22,
     "metadata": {},
     "output_type": "execute_result"
    }
   ],
   "source": [
    "cor.Pass"
   ]
  },
  {
   "cell_type": "markdown",
   "metadata": {},
   "source": [
    "### Feature Selection"
   ]
  },
  {
   "cell_type": "code",
   "execution_count": 23,
   "metadata": {},
   "outputs": [
    {
     "name": "stdout",
     "output_type": "stream",
     "text": [
      "5\n"
     ]
    },
    {
     "data": {
      "text/plain": [
       "['Years of Service', 'num_authors', 'Party_PRP', 'month_February', 'Pass']"
      ]
     },
     "execution_count": 23,
     "metadata": {},
     "output_type": "execute_result"
    }
   ],
   "source": [
    "colsOfInterest = list(cor[(cor.Pass > 0.3) |\n",
    "                          (cor.Pass < -0.3)]['Pass'].index)\n",
    "print(len(colsOfInterest))\n",
    "colsOfInterest"
   ]
  },
  {
   "cell_type": "code",
   "execution_count": 24,
   "metadata": {},
   "outputs": [
    {
     "data": {
      "text/html": [
       "<div>\n",
       "<style scoped>\n",
       "    .dataframe tbody tr th:only-of-type {\n",
       "        vertical-align: middle;\n",
       "    }\n",
       "\n",
       "    .dataframe tbody tr th {\n",
       "        vertical-align: top;\n",
       "    }\n",
       "\n",
       "    .dataframe thead th {\n",
       "        text-align: right;\n",
       "    }\n",
       "</style>\n",
       "<table border=\"1\" class=\"dataframe\">\n",
       "  <thead>\n",
       "    <tr style=\"text-align: right;\">\n",
       "      <th></th>\n",
       "      <th>Years of Service</th>\n",
       "      <th>num_authors</th>\n",
       "      <th>Party_PRP</th>\n",
       "      <th>month_February</th>\n",
       "      <th>Pass</th>\n",
       "    </tr>\n",
       "  </thead>\n",
       "  <tbody>\n",
       "    <tr>\n",
       "      <th>1</th>\n",
       "      <td>18</td>\n",
       "      <td>3</td>\n",
       "      <td>0</td>\n",
       "      <td>0</td>\n",
       "      <td>True</td>\n",
       "    </tr>\n",
       "    <tr>\n",
       "      <th>2</th>\n",
       "      <td>3</td>\n",
       "      <td>6</td>\n",
       "      <td>0</td>\n",
       "      <td>0</td>\n",
       "      <td>True</td>\n",
       "    </tr>\n",
       "    <tr>\n",
       "      <th>7</th>\n",
       "      <td>6</td>\n",
       "      <td>3</td>\n",
       "      <td>0</td>\n",
       "      <td>0</td>\n",
       "      <td>True</td>\n",
       "    </tr>\n",
       "  </tbody>\n",
       "</table>\n",
       "</div>"
      ],
      "text/plain": [
       "   Years of Service  num_authors  Party_PRP  month_February  Pass\n",
       "1                18            3          0               0  True\n",
       "2                 3            6          0               0  True\n",
       "7                 6            3          0               0  True"
      ]
     },
     "execution_count": 24,
     "metadata": {},
     "output_type": "execute_result"
    }
   ],
   "source": [
    "ndf = ndf[colsOfInterest]\n",
    "ndf.head(3)"
   ]
  },
  {
   "cell_type": "markdown",
   "metadata": {},
   "source": [
    "## Train-Test Split"
   ]
  },
  {
   "cell_type": "markdown",
   "metadata": {},
   "source": [
    "### Xy Variable Selection"
   ]
  },
  {
   "cell_type": "code",
   "execution_count": 25,
   "metadata": {
    "ExecuteTime": {
     "end_time": "2019-11-25T06:12:32.230578Z",
     "start_time": "2019-11-25T06:12:32.218501Z"
    }
   },
   "outputs": [
    {
     "name": "stdout",
     "output_type": "stream",
     "text": [
      "(529, 4)\n"
     ]
    }
   ],
   "source": [
    "X = ndf.drop(['Pass'], axis=1)\n",
    "print(X.shape)"
   ]
  },
  {
   "cell_type": "code",
   "execution_count": 26,
   "metadata": {
    "ExecuteTime": {
     "end_time": "2019-11-25T06:12:32.244109Z",
     "start_time": "2019-11-25T06:12:32.237265Z"
    }
   },
   "outputs": [
    {
     "data": {
      "text/plain": [
       "(529,)"
      ]
     },
     "execution_count": 26,
     "metadata": {},
     "output_type": "execute_result"
    }
   ],
   "source": [
    "y = ndf['Pass']\n",
    "y.shape"
   ]
  },
  {
   "cell_type": "markdown",
   "metadata": {},
   "source": [
    "### Standardization"
   ]
  },
  {
   "cell_type": "code",
   "execution_count": 27,
   "metadata": {
    "ExecuteTime": {
     "end_time": "2019-11-25T06:12:32.266642Z",
     "start_time": "2019-11-25T06:12:32.262346Z"
    }
   },
   "outputs": [],
   "source": [
    "scaler = StandardScaler()"
   ]
  },
  {
   "cell_type": "code",
   "execution_count": 28,
   "metadata": {
    "ExecuteTime": {
     "end_time": "2019-11-25T06:12:32.279385Z",
     "start_time": "2019-11-25T06:12:32.269832Z"
    }
   },
   "outputs": [],
   "source": [
    "X = scaler.fit_transform(X)"
   ]
  },
  {
   "cell_type": "code",
   "execution_count": 29,
   "metadata": {
    "ExecuteTime": {
     "end_time": "2019-11-25T06:12:32.288521Z",
     "start_time": "2019-11-25T06:12:32.282379Z"
    }
   },
   "outputs": [],
   "source": [
    "X_train, X_test, y_train, y_test = train_test_split(X, y,\n",
    "                                                    test_size=0.25,\n",
    "                                                    random_state=43)"
   ]
  },
  {
   "cell_type": "code",
   "execution_count": 30,
   "metadata": {
    "ExecuteTime": {
     "end_time": "2019-11-25T06:12:32.302130Z",
     "start_time": "2019-11-25T06:12:32.292541Z"
    }
   },
   "outputs": [
    {
     "name": "stdout",
     "output_type": "stream",
     "text": [
      "Our new train set has 396 data points; 331 of which are actual positives.\n"
     ]
    }
   ],
   "source": [
    "print(f\"Our new train set has {X_train.shape[0]} data points;\",\n",
    "      f\"{np.sum(y_train)} of which are actual positives.\")"
   ]
  },
  {
   "cell_type": "markdown",
   "metadata": {},
   "source": [
    "## SVC"
   ]
  },
  {
   "cell_type": "code",
   "execution_count": 31,
   "metadata": {
    "ExecuteTime": {
     "end_time": "2019-11-25T06:50:58.874292Z",
     "start_time": "2019-11-25T06:50:58.862227Z"
    }
   },
   "outputs": [],
   "source": [
    "svc = SVC(gamma='auto', kernel='linear', random_state=42)"
   ]
  },
  {
   "cell_type": "code",
   "execution_count": 32,
   "metadata": {},
   "outputs": [
    {
     "data": {
      "text/plain": [
       "SVC(C=1.0, break_ties=False, cache_size=200, class_weight=None, coef0=0.0,\n",
       "    decision_function_shape='ovr', degree=3, gamma='auto', kernel='linear',\n",
       "    max_iter=-1, probability=False, random_state=42, shrinking=True, tol=0.001,\n",
       "    verbose=False)"
      ]
     },
     "execution_count": 32,
     "metadata": {},
     "output_type": "execute_result"
    }
   ],
   "source": [
    "svc.fit(X_train, y_train)"
   ]
  },
  {
   "cell_type": "code",
   "execution_count": 33,
   "metadata": {
    "ExecuteTime": {
     "end_time": "2019-11-25T06:51:12.128471Z",
     "start_time": "2019-11-25T06:51:12.125218Z"
    }
   },
   "outputs": [],
   "source": [
    "predicted = svc.predict(X_test)"
   ]
  },
  {
   "cell_type": "code",
   "execution_count": 34,
   "metadata": {
    "ExecuteTime": {
     "end_time": "2019-11-25T06:51:13.494565Z",
     "start_time": "2019-11-25T06:51:13.476436Z"
    },
    "scrolled": true
   },
   "outputs": [
    {
     "name": "stdout",
     "output_type": "stream",
     "text": [
      "              precision    recall  f1-score   support\n",
      "\n",
      "       False       1.00      0.81      0.89        26\n",
      "        True       0.96      1.00      0.98       107\n",
      "\n",
      "    accuracy                           0.96       133\n",
      "   macro avg       0.98      0.90      0.94       133\n",
      "weighted avg       0.96      0.96      0.96       133\n",
      "\n"
     ]
    }
   ],
   "source": [
    "print(classification_report(y_test, predicted))"
   ]
  },
  {
   "cell_type": "markdown",
   "metadata": {},
   "source": [
    "## RF"
   ]
  },
  {
   "cell_type": "code",
   "execution_count": 35,
   "metadata": {
    "ExecuteTime": {
     "end_time": "2019-11-25T06:52:00.368016Z",
     "start_time": "2019-11-25T06:52:00.363893Z"
    }
   },
   "outputs": [],
   "source": [
    "rf_model = RandomForestClassifier(n_estimators=100, max_depth=15,\n",
    "                                  random_state=42)"
   ]
  },
  {
   "cell_type": "code",
   "execution_count": 36,
   "metadata": {
    "ExecuteTime": {
     "end_time": "2019-11-25T06:52:01.340714Z",
     "start_time": "2019-11-25T06:52:01.146044Z"
    }
   },
   "outputs": [
    {
     "data": {
      "text/plain": [
       "RandomForestClassifier(bootstrap=True, ccp_alpha=0.0, class_weight=None,\n",
       "                       criterion='gini', max_depth=15, max_features='auto',\n",
       "                       max_leaf_nodes=None, max_samples=None,\n",
       "                       min_impurity_decrease=0.0, min_impurity_split=None,\n",
       "                       min_samples_leaf=1, min_samples_split=2,\n",
       "                       min_weight_fraction_leaf=0.0, n_estimators=100,\n",
       "                       n_jobs=None, oob_score=False, random_state=42, verbose=0,\n",
       "                       warm_start=False)"
      ]
     },
     "execution_count": 36,
     "metadata": {},
     "output_type": "execute_result"
    }
   ],
   "source": [
    "rf_model.fit(X_train, y_train)"
   ]
  },
  {
   "cell_type": "code",
   "execution_count": 37,
   "metadata": {
    "ExecuteTime": {
     "end_time": "2019-11-25T06:52:04.048562Z",
     "start_time": "2019-11-25T06:52:04.032302Z"
    }
   },
   "outputs": [],
   "source": [
    "predicted = rf_model.predict(X_test)"
   ]
  },
  {
   "cell_type": "code",
   "execution_count": 38,
   "metadata": {
    "ExecuteTime": {
     "end_time": "2019-11-25T06:52:04.982480Z",
     "start_time": "2019-11-25T06:52:04.970115Z"
    }
   },
   "outputs": [
    {
     "name": "stdout",
     "output_type": "stream",
     "text": [
      "              precision    recall  f1-score   support\n",
      "\n",
      "       False       0.92      0.88      0.90        26\n",
      "        True       0.97      0.98      0.98       107\n",
      "\n",
      "    accuracy                           0.96       133\n",
      "   macro avg       0.95      0.93      0.94       133\n",
      "weighted avg       0.96      0.96      0.96       133\n",
      "\n"
     ]
    }
   ],
   "source": [
    "print(classification_report(y_test, predicted))"
   ]
  },
  {
   "cell_type": "markdown",
   "metadata": {},
   "source": [
    "## k-Fold Cross Validation"
   ]
  },
  {
   "cell_type": "markdown",
   "metadata": {},
   "source": [
    "#### Using K-Neighbors Classifier"
   ]
  },
  {
   "cell_type": "code",
   "execution_count": 39,
   "metadata": {
    "ExecuteTime": {
     "end_time": "2019-11-25T06:12:32.622338Z",
     "start_time": "2019-11-25T06:12:32.577170Z"
    }
   },
   "outputs": [
    {
     "name": "stdout",
     "output_type": "stream",
     "text": [
      "[0.90566038 0.88679245 0.96226415 0.98113208 0.98113208 1.\n",
      " 1.         0.94339623 0.88679245 0.88461538]\n"
     ]
    }
   ],
   "source": [
    "# 10-fold cross-validation with K=5 for KNN (the n_neighbors parameter)\n",
    "knn = KNeighborsClassifier(n_neighbors=5)\n",
    "scores = cross_val_score(knn, X, y, cv=10, scoring='accuracy')\n",
    "print(scores)"
   ]
  },
  {
   "cell_type": "code",
   "execution_count": 40,
   "metadata": {
    "ExecuteTime": {
     "end_time": "2019-11-25T06:12:32.639715Z",
     "start_time": "2019-11-25T06:12:32.631491Z"
    }
   },
   "outputs": [
    {
     "name": "stdout",
     "output_type": "stream",
     "text": [
      "0.943178519593614\n"
     ]
    }
   ],
   "source": [
    "# use average accuracy as an estimate of out-of-sample accuracy\n",
    "print(scores.mean())"
   ]
  },
  {
   "cell_type": "code",
   "execution_count": 41,
   "metadata": {
    "ExecuteTime": {
     "end_time": "2019-11-25T06:12:33.749837Z",
     "start_time": "2019-11-25T06:12:32.644885Z"
    }
   },
   "outputs": [
    {
     "name": "stdout",
     "output_type": "stream",
     "text": [
      "[0.9299346879535559, 0.9223149492017416, 0.9356313497822931, 0.933744557329463, 0.943178519593614, 0.9412917271407839, 0.9280478955007256, 0.9205007256894049, 0.9223875181422351, 0.9223875181422351, 0.9261611030478955, 0.9242380261248186, 0.9223875181422352, 0.911066763425254, 0.9223875181422352, 0.9166908563134978, 0.9242743105950652, 0.9205007256894049, 0.9242743105950652, 0.9242743105950652, 0.9261611030478955, 0.9223875181422352, 0.9223875181422352, 0.9205007256894049, 0.9205007256894049, 0.9148040638606677, 0.9148040638606677, 0.9148040638606677, 0.9148040638606677, 0.9148040638606677]\n"
     ]
    }
   ],
   "source": [
    "# search for an optimal value of K for KNN\n",
    "k_range = list(range(1, 31))\n",
    "k_scores = []\n",
    "for k in k_range:\n",
    "    knn = KNeighborsClassifier(n_neighbors=k)\n",
    "    scores = cross_val_score(knn, X, y, cv=10, scoring='accuracy')\n",
    "    k_scores.append(scores.mean())\n",
    "print(k_scores)"
   ]
  },
  {
   "cell_type": "code",
   "execution_count": 42,
   "metadata": {
    "ExecuteTime": {
     "end_time": "2019-11-25T06:12:33.997227Z",
     "start_time": "2019-11-25T06:12:33.752893Z"
    }
   },
   "outputs": [
    {
     "data": {
      "text/plain": [
       "Text(0, 0.5, 'Cross-Validated Accuracy')"
      ]
     },
     "execution_count": 42,
     "metadata": {},
     "output_type": "execute_result"
    },
    {
     "data": {
      "image/png": "[encoded data removed]",
      "text/plain": [
       "<Figure size 432x288 with 1 Axes>"
      ]
     },
     "metadata": {},
     "output_type": "display_data"
    }
   ],
   "source": [
    "# plot the value of K for KNN (x-axis) versus the cross-validated accuracy (y-axis)\n",
    "plt.style.use('seaborn-dark')\n",
    "\n",
    "plt.plot(k_range, k_scores)\n",
    "plt.xlabel('Value of K for KNN')\n",
    "plt.ylabel('Cross-Validated Accuracy')"
   ]
  },
  {
   "cell_type": "markdown",
   "metadata": {},
   "source": [
    "#### Using Logistic Regression"
   ]
  },
  {
   "cell_type": "code",
   "execution_count": 43,
   "metadata": {
    "ExecuteTime": {
     "end_time": "2019-11-25T06:12:34.369408Z",
     "start_time": "2019-11-25T06:12:33.999694Z"
    }
   },
   "outputs": [
    {
     "name": "stdout",
     "output_type": "stream",
     "text": [
      "0.9243105950653121\n"
     ]
    }
   ],
   "source": [
    "# Best k for knn is 8. How about Logistic Regression?\n",
    "# 10-fold cross-validation with logistic regression\n",
    "logreg = LogisticRegression()\n",
    "print(cross_val_score(logreg, X, y, cv=10, scoring='accuracy').mean())"
   ]
  },
  {
   "cell_type": "markdown",
   "metadata": {},
   "source": [
    "#### Using Decision Tree Classifier"
   ]
  },
  {
   "cell_type": "code",
   "execution_count": 44,
   "metadata": {
    "ExecuteTime": {
     "end_time": "2019-11-25T06:12:34.406642Z",
     "start_time": "2019-11-25T06:12:34.373797Z"
    }
   },
   "outputs": [
    {
     "name": "stdout",
     "output_type": "stream",
     "text": [
      "0.941255442670537\n"
     ]
    }
   ],
   "source": [
    "tree_model = DecisionTreeClassifier(random_state=42)\n",
    "print(cross_val_score(tree_model, X, y, cv=10, scoring='accuracy').mean())"
   ]
  },
  {
   "cell_type": "markdown",
   "metadata": {},
   "source": [
    "#### Using Random Forest Classifier"
   ]
  },
  {
   "cell_type": "code",
   "execution_count": 45,
   "metadata": {
    "ExecuteTime": {
     "end_time": "2019-11-25T06:16:08.276033Z",
     "start_time": "2019-11-25T06:16:06.692282Z"
    }
   },
   "outputs": [
    {
     "name": "stdout",
     "output_type": "stream",
     "text": [
      "0.9450290275761974\n"
     ]
    }
   ],
   "source": [
    "rf_model = RandomForestClassifier(n_estimators=100, max_depth=15,\n",
    "                                  random_state=42)\n",
    "print(cross_val_score(rf_model, X, y, cv=10, scoring='accuracy').mean())"
   ]
  },
  {
   "cell_type": "code",
   "execution_count": 46,
   "metadata": {
    "ExecuteTime": {
     "end_time": "2019-11-25T06:13:01.913673Z",
     "start_time": "2019-11-25T06:12:36.945633Z"
    },
    "scrolled": true
   },
   "outputs": [
    {
     "name": "stdout",
     "output_type": "stream",
     "text": [
      "[0.9356313497822933, 0.9337808417997095, 0.9393686502177069, 0.9450290275761974, 0.9450290275761974, 0.9450290275761974, 0.9450290275761974, 0.9450290275761974, 0.9450290275761974, 0.9450290275761974]\n"
     ]
    }
   ],
   "source": [
    "# search for an optimal value of K for KNN\n",
    "n_range = list(range(5, 15))\n",
    "rf_scores = []\n",
    "for n in n_range:\n",
    "    rf_model = RandomForestClassifier(n_estimators=200, max_depth=n,\n",
    "                                      random_state=42)\n",
    "    scores = cross_val_score(rf_model, X, y, cv=10, scoring='accuracy')\n",
    "    rf_scores.append(scores.mean())\n",
    "print(rf_scores)"
   ]
  },
  {
   "cell_type": "code",
   "execution_count": 47,
   "metadata": {
    "ExecuteTime": {
     "end_time": "2019-11-25T06:13:02.269078Z",
     "start_time": "2019-11-25T06:13:01.919527Z"
    }
   },
   "outputs": [
    {
     "data": {
      "text/plain": [
       "Text(0, 0.5, 'Cross-Validated Accuracy')"
      ]
     },
     "execution_count": 47,
     "metadata": {},
     "output_type": "execute_result"
    },
    {
     "data": {
      "image/png": "[encoded data removed]",
      "text/plain": [
       "<Figure size 432x288 with 1 Axes>"
      ]
     },
     "metadata": {},
     "output_type": "display_data"
    }
   ],
   "source": [
    "# plot the value of K for rf (x-axis) vs the cross-validated accuracy (y-axis)\n",
    "plt.style.use('seaborn-dark')\n",
    "\n",
    "plt.plot(n_range, rf_scores)\n",
    "plt.ylim(0.8, 1)\n",
    "plt.xlabel('Value of n_estimators for RFC')\n",
    "plt.ylabel('Cross-Validated Accuracy')"
   ]
  }
 ],
 "metadata": {
  "hide_input": false,
  "kernelspec": {
   "display_name": "Python 3",
   "language": "python",
   "name": "python3"
  },
  "language_info": {
   "codemirror_mode": {
    "name": "ipython",
    "version": 3
   },
   "file_extension": ".py",
   "mimetype": "text/x-python",
   "name": "python",
   "nbconvert_exporter": "python",
   "pygments_lexer": "ipython3",
   "version": "3.7.4"
  },
  "toc": {
   "base_numbering": 1,
   "nav_menu": {},
   "number_sections": false,
   "sideBar": true,
   "skip_h1_title": true,
   "title_cell": "Table of Contents",
   "title_sidebar": "Contents",
   "toc_cell": false,
   "toc_position": {
    "height": "calc(100% - 180px)",
    "left": "10px",
    "top": "150px",
    "width": "288px"
   },
   "toc_section_display": true,
   "toc_window_display": true
  },
  "toc-showmarkdowntxt": false,
  "varInspector": {
   "cols": {
    "lenName": 16,
    "lenType": 16,
    "lenVar": 40
   },
   "kernels_config": {
    "python": {
     "delete_cmd_postfix": "",
     "delete_cmd_prefix": "del ",
     "library": "var_list.py",
     "varRefreshCmd": "print(var_dic_list())"
    },
    "r": {
     "delete_cmd_postfix": ") ",
     "delete_cmd_prefix": "rm(",
     "library": "var_list.r",
     "varRefreshCmd": "cat(var_dic_list()) "
    }
   },
   "types_to_exclude": [
    "module",
    "function",
    "builtin_function_or_method",
    "instance",
    "_Feature"
   ],
   "window_display": false
  }
 },
 "nbformat": 4,
 "nbformat_minor": 4
}
