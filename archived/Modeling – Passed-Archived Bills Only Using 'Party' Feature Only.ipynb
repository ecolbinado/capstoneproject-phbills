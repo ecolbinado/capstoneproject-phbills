{
 "cells": [
  {
   "cell_type": "markdown",
   "metadata": {},
   "source": [
    "# Modeling – Passed and Archived Bills Only Using 'Party' Feature"
   ]
  },
  {
   "cell_type": "markdown",
   "metadata": {},
   "source": [
    "## Importing Python Packages"
   ]
  },
  {
   "cell_type": "code",
   "execution_count": 2,
   "metadata": {
    "ExecuteTime": {
     "end_time": "2019-11-21T08:51:40.581463Z",
     "start_time": "2019-11-21T08:51:38.203319Z"
    }
   },
   "outputs": [],
   "source": [
    "# For loading, manipulating dataframe.\n",
    "import pandas as pd\n",
    "import sqlite3, datetime, sklearn\n",
    "\n",
    "# Visualizations\n",
    "from matplotlib import pyplot as plt\n",
    "%matplotlib inline\n",
    "import seaborn as sns\n",
    "\n",
    "# Text Preprocessing\n",
    "from nltk import word_tokenize, pos_tag\n",
    "from nltk.corpus import stopwords\n",
    "from nltk.stem import WordNetLemmatizer\n",
    "from nltk.stem import SnowballStemmer\n",
    "\n",
    "# Sampling\n",
    "from sklearn.model_selection import train_test_split\n",
    "from imblearn.under_sampling import RandomUnderSampler \n",
    "\n",
    "# Vectorizers\n",
    "from sklearn.feature_extraction.text import TfidfVectorizer\n",
    "from sklearn.preprocessing import StandardScaler\n",
    "\n",
    "# Feature Processing \n",
    "from sklearn.decomposition import TruncatedSVD\n",
    "from sklearn.preprocessing import OneHotEncoder\n",
    "from sklearn.compose import make_column_transformer\n",
    "\n",
    "# Modeling\n",
    "from sklearn.svm import SVC\n",
    "from sklearn.linear_model import LogisticRegression\n",
    "\n",
    "# Evaluation\n",
    "from sklearn.model_selection import cross_val_score\n",
    "from sklearn.metrics import classification_report\n",
    "\n",
    "# Hide Warning messages\n",
    "import warnings\n",
    "warnings.filterwarnings('ignore')"
   ]
  },
  {
   "cell_type": "code",
   "execution_count": 3,
   "metadata": {
    "ExecuteTime": {
     "end_time": "2019-11-21T08:51:41.197965Z",
     "start_time": "2019-11-21T08:51:40.584335Z"
    }
   },
   "outputs": [],
   "source": [
    "con = sqlite3.connect(\"phBills.db\")\n",
    "df_bills = pd.read_sql_query(\"SELECT * from senateBills\", con, index_col = None, parse_dates = ['date_filed','date_lastUpdate'])\n",
    "con.close()"
   ]
  },
  {
   "cell_type": "code",
   "execution_count": 4,
   "metadata": {
    "ExecuteTime": {
     "end_time": "2019-11-21T08:51:43.333123Z",
     "start_time": "2019-11-21T08:51:41.200678Z"
    }
   },
   "outputs": [],
   "source": [
    "df_senators = pd.read_excel('Bills with Authors.xlsx',sheet_name='Sheet1')"
   ]
  },
  {
   "cell_type": "code",
   "execution_count": 5,
   "metadata": {
    "ExecuteTime": {
     "end_time": "2019-11-21T08:51:43.367611Z",
     "start_time": "2019-11-21T08:51:43.335192Z"
    }
   },
   "outputs": [],
   "source": [
    "df_bills['passed']=np.where(df_bills.ra!='',True, False)\n",
    "df_bills['long_title']=df_bills['long_title'].str.lower()\n",
    "df_bills = df_bills[df_bills['congress']!=18]"
   ]
  },
  {
   "cell_type": "code",
   "execution_count": 6,
   "metadata": {
    "ExecuteTime": {
     "end_time": "2019-11-21T08:51:43.381264Z",
     "start_time": "2019-11-21T08:51:43.371868Z"
    }
   },
   "outputs": [],
   "source": [
    "df_bills.drop(['link','short_title','subject','pri_committee','ra','logs'],axis=1,inplace=True)"
   ]
  },
  {
   "cell_type": "code",
   "execution_count": 7,
   "metadata": {
    "ExecuteTime": {
     "end_time": "2019-11-21T08:51:43.395248Z",
     "start_time": "2019-11-21T08:51:43.384361Z"
    }
   },
   "outputs": [],
   "source": [
    "df_senators=df_senators[['bill_id','Full Name Primary Author','Party','Bloc','Years of Service']]"
   ]
  },
  {
   "cell_type": "code",
   "execution_count": 8,
   "metadata": {
    "ExecuteTime": {
     "end_time": "2019-11-21T08:51:43.435370Z",
     "start_time": "2019-11-21T08:51:43.398229Z"
    }
   },
   "outputs": [
    {
     "name": "stdout",
     "output_type": "stream",
     "text": [
      "Congress DF Data Points: 15,131\n"
     ]
    }
   ],
   "source": [
    "df_congress = pd.merge(df_bills,df_senators,how='left',on=['bill_id'])\n",
    "print(f\"Congress DF Data Points: {df_congress.shape[0]:,}\")"
   ]
  },
  {
   "cell_type": "code",
   "execution_count": 9,
   "metadata": {
    "ExecuteTime": {
     "end_time": "2019-11-21T08:51:43.458346Z",
     "start_time": "2019-11-21T08:51:43.439489Z"
    }
   },
   "outputs": [],
   "source": [
    "df_congress=df_congress[df_congress.status!='Withdrawn']"
   ]
  },
  {
   "cell_type": "code",
   "execution_count": 10,
   "metadata": {
    "ExecuteTime": {
     "end_time": "2019-11-21T08:51:43.661374Z",
     "start_time": "2019-11-21T08:51:43.461188Z"
    }
   },
   "outputs": [],
   "source": [
    "df_congress.loc[df_congress['Full Name Primary Author']=='Mannuel Villar Jr','Years of Service'] = df_congress.date_filed.apply(\n",
    "                                                        lambda x: x.year - 2001)\n",
    "df_congress.loc[df_congress['Full Name Primary Author']=='Mannuel Villar Jr','Party'] = 'Independent'\n",
    "df_congress.loc[df_congress['Full Name Primary Author']=='Mannuel Villar Jr','Bloc'] = 'Majority'"
   ]
  },
  {
   "cell_type": "code",
   "execution_count": 11,
   "metadata": {
    "ExecuteTime": {
     "end_time": "2019-11-21T08:51:43.910342Z",
     "start_time": "2019-11-21T08:51:43.663907Z"
    }
   },
   "outputs": [],
   "source": [
    "df_congress['num_authors']=((df_congress.author.str.count(',') + 1)/2).astype('int')"
   ]
  },
  {
   "cell_type": "code",
   "execution_count": 12,
   "metadata": {
    "ExecuteTime": {
     "end_time": "2019-11-21T08:51:43.921521Z",
     "start_time": "2019-11-21T08:51:43.912910Z"
    }
   },
   "outputs": [],
   "source": [
    "df_congress['delta_days']=df_congress.date_lastUpdate-df_congress.date_filed"
   ]
  },
  {
   "cell_type": "code",
   "execution_count": 13,
   "metadata": {
    "ExecuteTime": {
     "end_time": "2019-11-21T08:51:43.930218Z",
     "start_time": "2019-11-21T08:51:43.924140Z"
    }
   },
   "outputs": [],
   "source": [
    "df_congress['delta_days']=df_congress['delta_days'].astype('timedelta64[D]')"
   ]
  },
  {
   "cell_type": "code",
   "execution_count": 14,
   "metadata": {
    "ExecuteTime": {
     "end_time": "2019-11-21T08:51:43.950103Z",
     "start_time": "2019-11-21T08:51:43.935939Z"
    }
   },
   "outputs": [
    {
     "name": "stdout",
     "output_type": "stream",
     "text": [
      "median: 306.5\n",
      "mean: 374.64611872146116\n",
      "mode: 546.0\n"
     ]
    }
   ],
   "source": [
    "print(f\"median: {df_congress[df_congress['passed']==True]['delta_days'].median()}\")\n",
    "print(f\"mean: {df_congress[df_congress['passed']==True]['delta_days'].mean()}\")\n",
    "print(f\"mode: {df_congress[df_congress['passed']==True]['delta_days'].mode()[0]}\")"
   ]
  },
  {
   "cell_type": "code",
   "execution_count": 15,
   "metadata": {
    "ExecuteTime": {
     "end_time": "2019-11-21T08:51:43.970023Z",
     "start_time": "2019-11-21T08:51:43.956400Z"
    }
   },
   "outputs": [],
   "source": [
    "bound = df_congress[df_congress['passed']==True]['delta_days'].mean()\n",
    "df_congress['upper']=np.where(df_congress.delta_days>bound,True,False)"
   ]
  },
  {
   "cell_type": "code",
   "execution_count": 16,
   "metadata": {
    "ExecuteTime": {
     "end_time": "2019-11-21T08:51:44.080360Z",
     "start_time": "2019-11-21T08:51:43.972547Z"
    }
   },
   "outputs": [],
   "source": [
    "df_congress['mon']=df_congress.date_filed.apply(lambda x: x.month)"
   ]
  },
  {
   "cell_type": "code",
   "execution_count": 17,
   "metadata": {
    "ExecuteTime": {
     "end_time": "2019-11-21T08:51:44.108819Z",
     "start_time": "2019-11-21T08:51:44.082654Z"
    }
   },
   "outputs": [],
   "source": [
    "df_congress.loc[(df_congress.mon.isin([1,2,3])), 'quarter']= 1\n",
    "df_congress.loc[df_congress.mon.isin([4,5,6]), 'quarter']= 2\n",
    "df_congress.loc[df_congress.mon.isin([7,8,9]), 'quarter']= 3\n",
    "df_congress.loc[df_congress.mon.isin([10,11,12]), 'quarter']= 4"
   ]
  },
  {
   "cell_type": "code",
   "execution_count": 18,
   "metadata": {
    "ExecuteTime": {
     "end_time": "2019-11-21T08:51:44.128485Z",
     "start_time": "2019-11-21T08:51:44.112182Z"
    }
   },
   "outputs": [],
   "source": [
    "df_congress['scope_national']=np.where(df_congress.scope=='National',True,False)"
   ]
  },
  {
   "cell_type": "code",
   "execution_count": 19,
   "metadata": {
    "ExecuteTime": {
     "end_time": "2019-11-21T08:51:44.137496Z",
     "start_time": "2019-11-21T08:51:44.130643Z"
    }
   },
   "outputs": [],
   "source": [
    "df_congress['majority_bloc']=np.where(df_congress['Bloc']=='Majority',True,False)"
   ]
  },
  {
   "cell_type": "code",
   "execution_count": 20,
   "metadata": {
    "ExecuteTime": {
     "end_time": "2019-11-21T08:51:44.154050Z",
     "start_time": "2019-11-21T08:51:44.140783Z"
    }
   },
   "outputs": [],
   "source": [
    "df_congress['len_desc']=df_congress.long_title.str.len()"
   ]
  },
  {
   "cell_type": "code",
   "execution_count": 21,
   "metadata": {
    "ExecuteTime": {
     "end_time": "2019-11-21T08:51:44.175191Z",
     "start_time": "2019-11-21T08:51:44.157960Z"
    }
   },
   "outputs": [
    {
     "name": "stdout",
     "output_type": "stream",
     "text": [
      "df_congress Data Points: 529\n"
     ]
    }
   ],
   "source": [
    "df_congress=df_congress[(df_congress.status=='Sent to the Archives') | (df_congress.passed==True)]\n",
    "print(f\"df_congress Data Points: {df_congress.shape[0]:,}\")"
   ]
  },
  {
   "cell_type": "code",
   "execution_count": 22,
   "metadata": {
    "ExecuteTime": {
     "end_time": "2019-11-21T08:51:44.204085Z",
     "start_time": "2019-11-21T08:51:44.186623Z"
    }
   },
   "outputs": [
    {
     "data": {
      "text/plain": [
       "False"
      ]
     },
     "execution_count": 22,
     "metadata": {},
     "output_type": "execute_result"
    }
   ],
   "source": [
    "df_congress.isna().sum().any()"
   ]
  },
  {
   "cell_type": "markdown",
   "metadata": {},
   "source": [
    "## One-Hot Encoding on 'Party' Feature"
   ]
  },
  {
   "cell_type": "code",
   "execution_count": 23,
   "metadata": {
    "ExecuteTime": {
     "end_time": "2019-11-21T08:51:44.237456Z",
     "start_time": "2019-11-21T08:51:44.225305Z"
    }
   },
   "outputs": [],
   "source": [
    "ohe = OneHotEncoder(sparse=False)"
   ]
  },
  {
   "cell_type": "code",
   "execution_count": 24,
   "metadata": {
    "ExecuteTime": {
     "end_time": "2019-11-21T08:51:44.247622Z",
     "start_time": "2019-11-21T08:51:44.239776Z"
    }
   },
   "outputs": [],
   "source": [
    "X = ohe.fit_transform(df_congress[['Party']])"
   ]
  },
  {
   "cell_type": "code",
   "execution_count": 25,
   "metadata": {
    "ExecuteTime": {
     "end_time": "2019-11-21T08:51:44.277314Z",
     "start_time": "2019-11-21T08:51:44.258791Z"
    }
   },
   "outputs": [
    {
     "data": {
      "text/plain": [
       "(529, 15)"
      ]
     },
     "execution_count": 25,
     "metadata": {},
     "output_type": "execute_result"
    }
   ],
   "source": [
    "X.shape"
   ]
  },
  {
   "cell_type": "code",
   "execution_count": 26,
   "metadata": {
    "ExecuteTime": {
     "end_time": "2019-11-21T08:51:44.305306Z",
     "start_time": "2019-11-21T08:51:44.293267Z"
    }
   },
   "outputs": [
    {
     "data": {
      "text/plain": [
       "(529, 22)"
      ]
     },
     "execution_count": 26,
     "metadata": {},
     "output_type": "execute_result"
    }
   ],
   "source": [
    "df_congress.shape"
   ]
  },
  {
   "cell_type": "code",
   "execution_count": 27,
   "metadata": {
    "ExecuteTime": {
     "end_time": "2019-11-21T08:51:44.319076Z",
     "start_time": "2019-11-21T08:51:44.308842Z"
    }
   },
   "outputs": [
    {
     "data": {
      "text/plain": [
       "[array(['Akbayan', 'Bagumbayan-VNP', 'Independent', 'LDP', 'Lakas',\n",
       "        'Lakas-CMD', 'Lakas-Kampi-CMD', 'Liberal', 'NPC', 'Nacionalista',\n",
       "        'PDP-Laban', 'PDP–Laban', 'PMP', 'PRP', 'UNA'], dtype=object)]"
      ]
     },
     "execution_count": 27,
     "metadata": {},
     "output_type": "execute_result"
    }
   ],
   "source": [
    "ohe.categories_"
   ]
  },
  {
   "cell_type": "markdown",
   "metadata": {},
   "source": [
    "## Prediction Using Hot-Encoded 'Party' field Only"
   ]
  },
  {
   "cell_type": "code",
   "execution_count": 28,
   "metadata": {
    "ExecuteTime": {
     "end_time": "2019-11-21T08:51:44.340047Z",
     "start_time": "2019-11-21T08:51:44.328793Z"
    }
   },
   "outputs": [],
   "source": [
    "log_reg = LogisticRegression(solver='lbfgs')"
   ]
  },
  {
   "cell_type": "code",
   "execution_count": 29,
   "metadata": {
    "ExecuteTime": {
     "end_time": "2019-11-21T08:51:44.352322Z",
     "start_time": "2019-11-21T08:51:44.346356Z"
    }
   },
   "outputs": [
    {
     "data": {
      "text/plain": [
       "(529,)"
      ]
     },
     "execution_count": 29,
     "metadata": {},
     "output_type": "execute_result"
    }
   ],
   "source": [
    "y = df_congress['passed']\n",
    "y.shape"
   ]
  },
  {
   "cell_type": "code",
   "execution_count": 30,
   "metadata": {
    "ExecuteTime": {
     "end_time": "2019-11-21T08:51:44.678796Z",
     "start_time": "2019-11-21T08:51:44.356745Z"
    }
   },
   "outputs": [
    {
     "data": {
      "text/plain": [
       "0.9127915627545322"
      ]
     },
     "execution_count": 30,
     "metadata": {},
     "output_type": "execute_result"
    }
   ],
   "source": [
    "cross_val_score(log_reg, X, y, cv=5, scoring='accuracy').mean()"
   ]
  },
  {
   "cell_type": "code",
   "execution_count": 31,
   "metadata": {
    "ExecuteTime": {
     "end_time": "2019-11-21T08:51:44.692186Z",
     "start_time": "2019-11-21T08:51:44.681386Z"
    }
   },
   "outputs": [
    {
     "data": {
      "text/plain": [
       "True     438\n",
       "False     91\n",
       "Name: passed, dtype: int64"
      ]
     },
     "execution_count": 31,
     "metadata": {},
     "output_type": "execute_result"
    }
   ],
   "source": [
    "y.value_counts()"
   ]
  },
  {
   "cell_type": "code",
   "execution_count": 32,
   "metadata": {
    "ExecuteTime": {
     "end_time": "2019-11-21T08:51:44.705144Z",
     "start_time": "2019-11-21T08:51:44.695234Z"
    }
   },
   "outputs": [
    {
     "data": {
      "text/plain": [
       "True     0.827977\n",
       "False    0.172023\n",
       "Name: passed, dtype: float64"
      ]
     },
     "execution_count": 32,
     "metadata": {},
     "output_type": "execute_result"
    }
   ],
   "source": [
    "y.value_counts(normalize=True)"
   ]
  },
  {
   "cell_type": "code",
   "execution_count": 33,
   "metadata": {
    "ExecuteTime": {
     "end_time": "2019-11-21T08:51:44.713393Z",
     "start_time": "2019-11-21T08:51:44.707484Z"
    }
   },
   "outputs": [],
   "source": [
    "X_train, X_test, y_train, y_test = train_test_split(X, y, test_size = 0.25, random_state=43)"
   ]
  },
  {
   "cell_type": "code",
   "execution_count": 34,
   "metadata": {
    "ExecuteTime": {
     "end_time": "2019-11-21T08:51:44.738075Z",
     "start_time": "2019-11-21T08:51:44.722099Z"
    }
   },
   "outputs": [
    {
     "name": "stdout",
     "output_type": "stream",
     "text": [
      "Our new train set has 396 data points, 331 of which are actual positives.\n"
     ]
    }
   ],
   "source": [
    "print(f\"Our new train set has {X_train.shape[0]} data points, {np.sum(y_train)} of which are actual positives.\")"
   ]
  },
  {
   "cell_type": "code",
   "execution_count": 35,
   "metadata": {
    "ExecuteTime": {
     "end_time": "2019-11-21T08:51:44.787180Z",
     "start_time": "2019-11-21T08:51:44.745867Z"
    }
   },
   "outputs": [
    {
     "data": {
      "text/plain": [
       "SVC(C=1.0, cache_size=200, class_weight=None, coef0=0.0,\n",
       "    decision_function_shape='ovr', degree=3, gamma='auto', kernel='linear',\n",
       "    max_iter=-1, probability=False, random_state=42, shrinking=True, tol=0.001,\n",
       "    verbose=False)"
      ]
     },
     "execution_count": 35,
     "metadata": {},
     "output_type": "execute_result"
    }
   ],
   "source": [
    "svc = SVC(gamma='auto', kernel='linear', random_state = 42)\n",
    "svc.fit(X_train, y_train)"
   ]
  },
  {
   "cell_type": "code",
   "execution_count": 36,
   "metadata": {
    "ExecuteTime": {
     "end_time": "2019-11-21T08:51:44.827208Z",
     "start_time": "2019-11-21T08:51:44.793140Z"
    }
   },
   "outputs": [],
   "source": [
    "predicted = svc.predict(X_test)"
   ]
  },
  {
   "cell_type": "markdown",
   "metadata": {},
   "source": [
    "## Evaluation"
   ]
  },
  {
   "cell_type": "code",
   "execution_count": 37,
   "metadata": {
    "ExecuteTime": {
     "end_time": "2019-11-21T08:51:44.884385Z",
     "start_time": "2019-11-21T08:51:44.857988Z"
    }
   },
   "outputs": [
    {
     "name": "stdout",
     "output_type": "stream",
     "text": [
      "              precision    recall  f1-score   support\n",
      "\n",
      "       False       0.75      0.58      0.66        65\n",
      "        True       0.92      0.96      0.94       331\n",
      "\n",
      "    accuracy                           0.90       396\n",
      "   macro avg       0.83      0.77      0.80       396\n",
      "weighted avg       0.89      0.90      0.89       396\n",
      "\n"
     ]
    }
   ],
   "source": [
    "print(classification_report(y_train, svc.predict(X_train)))"
   ]
  },
  {
   "cell_type": "code",
   "execution_count": 38,
   "metadata": {
    "ExecuteTime": {
     "end_time": "2019-11-21T08:51:44.899319Z",
     "start_time": "2019-11-21T08:51:44.888762Z"
    }
   },
   "outputs": [
    {
     "name": "stdout",
     "output_type": "stream",
     "text": [
      "              precision    recall  f1-score   support\n",
      "\n",
      "       False       0.92      0.85      0.88        26\n",
      "        True       0.96      0.98      0.97       107\n",
      "\n",
      "    accuracy                           0.95       133\n",
      "   macro avg       0.94      0.91      0.93       133\n",
      "weighted avg       0.95      0.95      0.95       133\n",
      "\n"
     ]
    }
   ],
   "source": [
    "print(classification_report(y_test, predicted))"
   ]
  }
 ],
 "metadata": {
  "hide_input": false,
  "kernelspec": {
   "display_name": "Python 3",
   "language": "python",
   "name": "python3"
  },
  "language_info": {
   "codemirror_mode": {
    "name": "ipython",
    "version": 3
   },
   "file_extension": ".py",
   "mimetype": "text/x-python",
   "name": "python",
   "nbconvert_exporter": "python",
   "pygments_lexer": "ipython3",
   "version": "3.6.5"
  },
  "toc": {
   "base_numbering": 1,
   "nav_menu": {},
   "number_sections": false,
   "sideBar": true,
   "skip_h1_title": true,
   "title_cell": "Table of Contents",
   "title_sidebar": "Contents",
   "toc_cell": false,
   "toc_position": {},
   "toc_section_display": true,
   "toc_window_display": true
  },
  "varInspector": {
   "cols": {
    "lenName": 16,
    "lenType": 16,
    "lenVar": 40
   },
   "kernels_config": {
    "python": {
     "delete_cmd_postfix": "",
     "delete_cmd_prefix": "del ",
     "library": "var_list.py",
     "varRefreshCmd": "print(var_dic_list())"
    },
    "r": {
     "delete_cmd_postfix": ") ",
     "delete_cmd_prefix": "rm(",
     "library": "var_list.r",
     "varRefreshCmd": "cat(var_dic_list()) "
    }
   },
   "types_to_exclude": [
    "module",
    "function",
    "builtin_function_or_method",
    "instance",
    "_Feature"
   ],
   "window_display": false
  }
 },
 "nbformat": 4,
 "nbformat_minor": 2
}
