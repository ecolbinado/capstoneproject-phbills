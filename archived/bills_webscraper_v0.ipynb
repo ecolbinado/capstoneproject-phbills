{
 "cells": [
  {
   "cell_type": "markdown",
   "metadata": {},
   "source": [
    "# bills_webscraper.ipynb"
   ]
  },
  {
   "cell_type": "markdown",
   "metadata": {},
   "source": [
    "### Import python packages"
   ]
  },
  {
   "cell_type": "code",
   "execution_count": 1,
   "metadata": {
    "ExecuteTime": {
     "end_time": "2019-11-10T01:50:42.640658Z",
     "start_time": "2019-11-10T01:50:42.228848Z"
    }
   },
   "outputs": [],
   "source": [
    "import warnings\n",
    "warnings.filterwarnings('ignore')\n",
    "\n",
    "import re, sqlite3\n",
    "from collections import OrderedDict\n",
    "\n",
    "import requests\n",
    "from bs4 import BeautifulSoup\n",
    "import selenium.webdriver\n",
    "from selenium.webdriver.support.ui import WebDriverWait\n",
    "from selenium.common.exceptions import NoSuchElementException"
   ]
  },
  {
   "cell_type": "markdown",
   "metadata": {},
   "source": [
    "### Define Bill class"
   ]
  },
  {
   "cell_type": "code",
   "execution_count": 2,
   "metadata": {
    "ExecuteTime": {
     "end_time": "2019-11-10T01:50:45.896415Z",
     "start_time": "2019-11-10T01:50:45.889123Z"
    }
   },
   "outputs": [],
   "source": [
    "class Bill:\n",
    "    \n",
    "    def __init__(self, num, link, congress, short_title, long_title, date_filed, scope, status, author,\n",
    "                 subject, pri_committee, sec_committee, date_lastUpdate, logs):\n",
    "        self.num = num\n",
    "        self.link = link\n",
    "        self.congress = congress\n",
    "        self.short_title = short_title\n",
    "        self.long_title = long_title\n",
    "        self.date_filed = date_filed\n",
    "        self.scope = scope\n",
    "        self.status = status\n",
    "        self.author = author\n",
    "        self.subject = subject\n",
    "        self.pri_committee = pri_committee\n",
    "        self.sec_committee = sec_committee\n",
    "        self.date_lastUpdate = date_lastUpdate\n",
    "        self.logs = logs\n",
    "        self.entities = (num, link, congress, short_title, long_title, date_filed, scope, status, author,\n",
    "                 subject, pri_committee, sec_committee, date_lastUpdate, logs)\n",
    "        \n",
    "    def __str__(self):\n",
    "        return 'from ' + str(self.congress) + '_' + self.num + ': ' + self.short_title\n",
    "    \n",
    "    def insert_bill():\n",
    "        pass\n",
    "    \n",
    "    def update_bill():\n",
    "        pass\n",
    "    \n",
    "    def remove_bill():\n",
    "        pass"
   ]
  },
  {
   "cell_type": "markdown",
   "metadata": {},
   "source": [
    "### Compile Regex Patterns\n",
    "These regex patterns will be used to extract relevant strings only from the webscraping function."
   ]
  },
  {
   "cell_type": "code",
   "execution_count": 3,
   "metadata": {
    "ExecuteTime": {
     "end_time": "2019-11-10T01:50:48.382171Z",
     "start_time": "2019-11-10T01:50:48.376506Z"
    }
   },
   "outputs": [],
   "source": [
    "bill_number_regex = re.compile(r'(?<=\\d\\d&q=).*')\n",
    "filed_date_regex = re.compile(r'(?<=Filed on ).*(?= by )')\n",
    "author_regex = re.compile(r'(?<= by ).*(?=\\n)')\n",
    "status_regex = re.compile(r'.*(?= \\()')\n",
    "last_update_regex = re.compile(r'(?<=\\().*(?=\\))')\n",
    "logs_regex = re.compile('(?<=\\[ FIRST REGULAR SESSION, 18TH CONGRESS ]\\n\\[ \\d\\d\\d\\d ]\\n).*(?=\\(The legislative history)',\n",
    "                       re.DOTALL)"
   ]
  },
  {
   "cell_type": "markdown",
   "metadata": {},
   "source": [
    "### Define getBill function\n",
    "getBill function is our web scraping script. It follows the following workflow: <br>\n",
    "1. Access Home URL of 'senate.gov.ph' <br>\n",
    "2. Collect all the bills' links on that page.<br>\n",
    "3. Iterate over the gathered links.<br>\n",
    "4. Click the \"All Information\" button and then scrape all the bills' informations from that frame.<br>\n",
    "5. Go to next page from the Home URL and repeat all steps again.<br>"
   ]
  },
  {
   "cell_type": "code",
   "execution_count": 4,
   "metadata": {
    "ExecuteTime": {
     "end_time": "2019-11-10T01:50:52.199419Z",
     "start_time": "2019-11-10T01:50:52.187637Z"
    },
    "scrolled": true
   },
   "outputs": [],
   "source": [
    "def getBill(congress_num, page_num):\n",
    "    \n",
    "    driver = selenium.webdriver.PhantomJS()\n",
    "    \n",
    "    home_url = 'http://www.senate.gov.ph/lis/leg_sys.aspx?congress='+str(congress_num)+'&type=bill&p='+str(page_num)\n",
    "    res = requests.get(home_url)\n",
    "    res.raise_for_status()\n",
    "    print('Accessing '+ 'http://www.senate.gov.ph' + ' ...\\n')\n",
    "    \n",
    "    soup = BeautifulSoup(res.content, 'html.parser')\n",
    "    sublinks=[str(bill.attrs['href']) for bill in soup.select('a') if 'bill_res' in str(bill.attrs['href'])]\n",
    "    print('There are ' + str(len(sublinks)) + ' bills on this page, '+ 'p' + str(page_num) + '.\\n')\n",
    "    \n",
    "    bills_dict = OrderedDict()\n",
    "    for sublink in sublinks:\n",
    "        #\n",
    "        link = 'http://www.senate.gov.ph/lis/'+sublink\n",
    "        num = bill_number_regex.search(sublink).group()\n",
    "        print(\"Trying to access child link \"+ link + ' ...')\n",
    "        driver.get(link)\n",
    "        driver.implicitly_wait(100)\n",
    "        \n",
    "        allInfo_btn = driver.find_element_by_xpath(\"//a[@id='lbAll']\")\n",
    "        allInfo_btn.click()\n",
    "        element = WebDriverWait(driver, 10).until(lambda x:x.find_element_by_xpath(\"//p[contains(text(),'Subject(s)')]\")) \n",
    "        soup_allinfo = BeautifulSoup(driver.page_source, 'html.parser')\n",
    "        \n",
    "        short_title = soup_allinfo.select('p[class=\"h1_bold\"]')[0].getText()\n",
    "        allinfo_frame_text = soup_allinfo.select('td[id=\"content\"]')[0].getText()\n",
    "        date_filed = filed_date_regex.search(allinfo_frame_text).group()\n",
    "        author = author_regex.search(allinfo_frame_text).group()\n",
    "        long_title = soup_allinfo.select('blockquote')[0].getText()\n",
    "        scope = soup_allinfo.select('blockquote')[1].getText()\n",
    "        legis_status = soup_allinfo.select('blockquote')[2].getText()\n",
    "        status = status_regex.search(legis_status).group()\n",
    "        date_lastUpdate = last_update_regex.search(legis_status).group()\n",
    "        subject = soup_allinfo.select('blockquote')[3].getText()\n",
    "        pri_committee = soup_allinfo.select('blockquote')[4].getText()\n",
    "        \n",
    "        if len(soup_allinfo.select('blockquote'))==7:\n",
    "            sec_committee = soup_allinfo.select('blockquote')[5].getText()\n",
    "            logs = soup_allinfo.select('blockquote')[6].getText()\n",
    "            logs = logs_regex.search(logs).group()\n",
    "        else:\n",
    "            sec_committee = ''\n",
    "            logs = soup_allinfo.select('blockquote')[5].getText()\n",
    "            logs = logs_regex.search(logs).group()\n",
    "            \n",
    "        bills_dict[num]=(num, link, congress_num, short_title, long_title, date_filed, scope, status, author,\n",
    "                 subject, pri_committee, sec_committee, date_lastUpdate, logs)\n",
    "        print('\\t' + str(num) + ' has been successfully scraped.\\n')\n",
    "        \n",
    "    print('All Bills have been successfully scraped on this page.')\n",
    "    # Must close the ghostDriver before exiting this program...\n",
    "    driver.quit()\n",
    "    \n",
    "    return bills_dict"
   ]
  },
  {
   "cell_type": "markdown",
   "metadata": {},
   "source": [
    "### Define getMax_page function\n",
    "This function will get the maximum/last page number of a Congressional Bill list."
   ]
  },
  {
   "cell_type": "code",
   "execution_count": 5,
   "metadata": {
    "ExecuteTime": {
     "end_time": "2019-11-10T01:50:55.253732Z",
     "start_time": "2019-11-10T01:50:55.249207Z"
    }
   },
   "outputs": [],
   "source": [
    "def getMax_page(congress_num):\n",
    "    driver = selenium.webdriver.PhantomJS()\n",
    "    home_url = 'http://www.senate.gov.ph/lis/leg_sys.aspx?congress='+str(congress_num)+'&type=bill&p=1'\n",
    "    clicks = 1\n",
    "    driver.get(home_url)\n",
    "    \n",
    "    while True:\n",
    "        try:\n",
    "            more_btn = driver.find_element_by_xpath(\"//div[@id='pnl_NavBottom']//a[contains(text(),'Next')]\")\n",
    "            more_btn.click()\n",
    "            bill_elem = WebDriverWait(driver, 10).until(lambda x:x.find_element_by_xpath(\"//span[@class='h1_sub']\"))\n",
    "            clicks += 1\n",
    "            continue\n",
    "        except NoSuchElementException:\n",
    "            print('We reached last page... that is page ' + str(clicks) + '.')\n",
    "            break\n",
    "            \n",
    "    driver.quit()\n",
    "    return clicks"
   ]
  },
  {
   "cell_type": "markdown",
   "metadata": {},
   "source": [
    "### Define Database functions\n",
    "These database functions will create a database connection instance. It will create table within the database, check for records, insert records, as well as update existing records."
   ]
  },
  {
   "cell_type": "code",
   "execution_count": 6,
   "metadata": {
    "ExecuteTime": {
     "end_time": "2019-11-10T01:50:58.082565Z",
     "start_time": "2019-11-10T01:50:58.076619Z"
    }
   },
   "outputs": [],
   "source": [
    "def connect_db(database):\n",
    "    try:\n",
    "        conn = sqlite3.connect(database)\n",
    "        cursor = conn.cursor()\n",
    "        return conn, cursor\n",
    "    except sqlite3.Error as error:\n",
    "        print(\"Error in connecting to sqlite3\", error)\n",
    "\n",
    "def create_bills_table(conn, cursor):\n",
    "    cursor.execute(\"\"\"CREATE TABLE if not exists senateBills(\n",
    "                    num text PRIMARY KEY,\n",
    "                    link text,\n",
    "                    congress integer,\n",
    "                    short_title text,\n",
    "                    long_title text,\n",
    "                    date_filed text,\n",
    "                    scope text,\n",
    "                    status integer,\n",
    "                    author text,\n",
    "                    subject text,\n",
    "                    pri_committee text,\n",
    "                    sec_committee text,\n",
    "                    date_lastUpdate text,\n",
    "                    logs text)\"\"\")\n",
    "    \n",
    "def check_bill_exists(bill_num, conn, cursor):\n",
    "    with conn:\n",
    "        cursor.execute(\"SELECT num FROM senateBills WHERE num = (?)\",(bill_num,))\n",
    "    rows = cursor.fetchall()\n",
    "    return True if len(rows) else False\n",
    "\n",
    "def insert_bill(entities, conn, cursor):\n",
    "    with conn:\n",
    "        cursor.execute(\"\"\"INSERT INTO senateBills(\n",
    "                        num, link, congress, short_title, long_title, date_filed, \n",
    "                        scope, status, author, subject, pri_committee, sec_committee, \n",
    "                        date_lastUpdate, logs) VALUES(?,?,?,?,?,?,?,?,?,?,?,?,?,?)\"\"\",(entities))\n",
    "        \n",
    "def update_date_lastUpdate(bill_num, date_lastUpdate, conn, cursor):\n",
    "    with conn:\n",
    "        cursor.execute(\"UPDATE senateBills SET date_lastUpdate = (?) WHERE num = (?)\",(date_lastUpdate, bill_num))"
   ]
  },
  {
   "cell_type": "markdown",
   "metadata": {},
   "source": [
    "### Main Program"
   ]
  },
  {
   "cell_type": "code",
   "execution_count": 7,
   "metadata": {
    "ExecuteTime": {
     "end_time": "2019-11-10T01:51:00.921605Z",
     "start_time": "2019-11-10T01:51:00.916653Z"
    }
   },
   "outputs": [],
   "source": [
    "def scrape_thisCongress(congress):\n",
    "    pages = list(range(1, getMax_page(congress) + 1, 1))\n",
    "    conn, cursor = connect_db('phBills.db')\n",
    "    create_bills_table(conn, cursor)\n",
    "    bill_count = 0\n",
    "    for page in pages:\n",
    "        thisPage_bills = getBill(congress, page)\n",
    "        for bill, contents in thisPage_bills.items():\n",
    "            some_bill = Bill(*contents)\n",
    "            if check_bill_exists(some_bill.num, conn, cursor):\n",
    "                print(str(some_bill) + \" already exists in our database. Updating 'date_lastUpdate' instead.\")\n",
    "                update_date_lastUpdate(some_bill.num, some_bill.date_lastUpdate, conn, cursor)\n",
    "            else:\n",
    "                insert_bill(some_bill.entities, conn, cursor)\n",
    "            bill_count += 1\n",
    "    conn.close()\n",
    "    print('Collected ' + str(bill_count) + 'bills from ' + congress + 'th congress.')"
   ]
  },
  {
   "cell_type": "code",
   "execution_count": 27,
   "metadata": {
    "ExecuteTime": {
     "end_time": "2019-11-10T09:03:14.073133Z",
     "start_time": "2019-11-10T09:03:04.924514Z"
    }
   },
   "outputs": [
    {
     "name": "stdout",
     "output_type": "stream",
     "text": [
      "Accessing http://www.senate.gov.ph ...\n",
      "\n",
      "Trying to access child link http://www.senate.gov.ph/lis/bill_res.aspx?congress=17&q=SBN-2234 ...\n",
      "\n",
      "Done!\n"
     ]
    }
   ],
   "source": [
    "congress_num = 18\n",
    "page_num = 1\n",
    "driver = selenium.webdriver.PhantomJS()\n",
    "home_url = 'http://www.senate.gov.ph/lis/leg_sys.aspx?congress='+str(congress_num)+'&type=bill&p='+str(page_num)\n",
    "res = requests.get(home_url)\n",
    "res.raise_for_status()\n",
    "print('Accessing '+ 'http://www.senate.gov.ph' + ' ...\\n')\n",
    "\n",
    "soup = BeautifulSoup(res.content, 'html.parser')\n",
    "sublinks=[str(bill.attrs['href']) for bill in soup.select('a') if 'bill_res' in str(bill.attrs['href'])]\n",
    "link = 'http://www.senate.gov.ph/lis/bill_res.aspx?congress=17&q=SBN-2234'\n",
    "\n",
    "print(\"Trying to access child link \"+ link + ' ...')\n",
    "driver.get(link)\n",
    "driver.implicitly_wait(100)\n",
    "allInfo_btn = driver.find_element_by_xpath(\"//a[@id='lbAll']\")\n",
    "allInfo_btn.click()\n",
    "element = WebDriverWait(driver, 10).until(lambda x:x.find_element_by_xpath(\"//p[contains(text(),'Long title')]\"))   \n",
    "soup_allinfo = BeautifulSoup(driver.page_source, 'html.parser')\n",
    "# driver.quit()\n",
    "# //p[contains(text(),'Secondary committee')]\n",
    "print(\"\\nDone!\")"
   ]
  },
  {
   "cell_type": "code",
   "execution_count": 38,
   "metadata": {
    "ExecuteTime": {
     "end_time": "2019-11-10T09:10:33.198312Z",
     "start_time": "2019-11-10T09:10:33.188707Z"
    }
   },
   "outputs": [],
   "source": [
    "allcontents = [soup_allinfo.select('blockquote')[i].getText() for i in range(len(soup_allinfo.select('blockquote')))]"
   ]
  },
  {
   "cell_type": "code",
   "execution_count": 50,
   "metadata": {
    "ExecuteTime": {
     "end_time": "2019-11-10T12:17:47.921920Z",
     "start_time": "2019-11-10T12:17:47.919218Z"
    }
   },
   "outputs": [],
   "source": [
    "import pandas as pd\n",
    "import sqlite3\n",
    "con = sqlite3.connect(\"phBills.db\")\n",
    "df = pd.read_sql_query(\"SELECT * from senateBills\", con)\n",
    "con.close()"
   ]
  },
  {
   "cell_type": "code",
   "execution_count": 54,
   "metadata": {
    "ExecuteTime": {
     "end_time": "2019-11-10T12:20:50.709511Z",
     "start_time": "2019-11-10T12:20:50.706056Z"
    }
   },
   "outputs": [],
   "source": [
    "con = sqlite3.connect(\"phBills.db\")"
   ]
  },
  {
   "cell_type": "code",
   "execution_count": 55,
   "metadata": {
    "ExecuteTime": {
     "end_time": "2019-11-10T12:20:55.947749Z",
     "start_time": "2019-11-10T12:20:55.892033Z"
    }
   },
   "outputs": [],
   "source": [
    "df = pd.read_sql_query(\"SELECT * from senateBills\", con)"
   ]
  },
  {
   "cell_type": "code",
   "execution_count": 56,
   "metadata": {
    "ExecuteTime": {
     "end_time": "2019-11-10T12:21:15.389181Z",
     "start_time": "2019-11-10T12:21:15.386266Z"
    }
   },
   "outputs": [],
   "source": [
    "con.close()"
   ]
  },
  {
   "cell_type": "code",
   "execution_count": 65,
   "metadata": {
    "ExecuteTime": {
     "end_time": "2019-11-10T12:26:20.756710Z",
     "start_time": "2019-11-10T12:26:20.752215Z"
    }
   },
   "outputs": [
    {
     "name": "stdout",
     "output_type": "stream",
     "text": [
      "5/27/2019\n",
      "Prepared and submitted by the Committee on WAYS AND MEANS with Senator(s) EMMANUEL \"MANNY\" D. PACQUIAO, JOSEPH VICTOR G. EJERCITO, SHERWIN T. GATCHALIAN and JUAN EDGARDO \"SONNY\" M. ANGARA as author(s)  per Committee Report No. 714, recommending its approval in substitution of SBNos. 1599, 1605 and 2177, taking into consideration HBN-8677;\n",
      "5/27/2019\n",
      "Committee Report Calendared for Ordinary Business;\n",
      "5/27/2019\n",
      "Sponsor: Senator JUAN EDGARDO \"SONNY\" M. ANGARA;\n",
      "5/27/2019\n",
      "Transferred from the Calendar for Ordinary Business to the Calendar for Special Order;\n",
      "5/27/2019\n",
      "Sponsorship speech of Senator JUAN EDGARDO \"SONNY\" M. ANGARA;\n",
      "5/27/2019\n",
      "Co-sponsorship speech of Senators JOSEPH VICTOR G. EJERCITO, EMMANUEL \"MANNY\" D. PACQUIAO and SHERWIN T. GATCHALIAN;\n",
      "5/27/2019\n",
      "Remarks of Senator RISA HONTIVEROS;\n",
      "5/27/2019\n",
      "Interpellation of Senators VICENTE C. SOTTO III and RICHARD J. GORDON;\n",
      "5/28/2019\n",
      "Certified by the President of the Philippines, His Excellency President Rodrigo Roa Duterte, for its IMMEDIATE enactment on 05/28/2019;\n",
      "5/28/2019\n",
      "Interpellation of Senators SHERWIN T. GATCHALIAN, RICHARD J. GORDON, RALPH G. RECTO and FRANKLIN M. DRILON;\n",
      "5/28/2019\n",
      "Letter from Senator LEILA M. DE LIMA on even date conveying her intention to be made coauthor of SBN-2233, received by the LBIS;\n",
      "5/29/2019\n",
      "Interpellation of Senator PANFILO M. LACSON;\n",
      "5/29/2019\n",
      "Manifestation of Senator Drilon;\n",
      "5/29/2019\n",
      "Manifestation of Senator Zubiri that Senator De Lima requested that she be made co-author;\n",
      "5/29/2019\n",
      "Period of interpellation closed;\n",
      "6/3/2019\n",
      "Period of committee amendments closed;\n",
      "6/3/2019\n",
      "Period of individual amendments;\n",
      "6/3/2019\n",
      "Period of individual amendments closed;\n",
      "6/3/2019\n",
      "Approved on Second Reading with Amendments;\n",
      "6/3/2019\n",
      "Approved on Third Reading;\n",
      "6/3/2019\n",
      "In favor:  (20) JUAN EDGARDO \"SONNY\" M. ANGARA, PAOLO BENIGNO \"BAM\" AQUINO IV, MARIA LOURDES NANCY S. BINAY, FRANKLIN M. DRILON, JOSEPH VICTOR G. EJERCITO, FRANCIS \"CHIZ\" G. ESCUDERO, SHERWIN T. GATCHALIAN, RISA HONTIVEROS, PANFILO M. LACSON, LOREN B. LEGARDA, EMMANUEL \"MANNY\" D. PACQUIAO, FRANCIS N. PANGILINAN, AQUILINO KOKO III L. PIMENTEL, GRACE L. POE, RALPH G. RECTO, VICENTE C. SOTTO III, ANTONIO \"SONNY\" F. TRILLANES, JOEL VILLANUEVA, CYNTHIA A. VILLAR and JUAN MIGUEL F. ZUBIRI;\n",
      "6/3/2019\n",
      "Against:  (None) ;\n",
      "6/3/2019\n",
      "Abstention:  (None) ;\n",
      "6/3/2019\n",
      "Motion of Senator Zubiri that Senator Villanueva be made co-author;\n",
      "6/4/2019\n",
      "Reconsideration of the approval on Second Reading;\n",
      "6/4/2019\n",
      "Period of individual amendments;\n",
      "6/4/2019\n",
      "Period of individual amendments closed;\n",
      "6/4/2019\n",
      "Approved on Second Reading with Amendments;\n",
      "6/4/2019\n",
      "Approved on Third Reading;\n",
      "FINAL TITLE: AN ACT INCREASING THE EXCISE TAX ON TOBACCO PRODUCTS, IMPOSING EXCISE TAX ON HEATED TOBACCO PRODUCTS AND VAPOR PRODUCTS, INCREASING THE PENALTIES FOR VIOLATIONS OF PROVISIONS ON ARTICLES SUBJECT TO EXCISE TAX, AND EARMARKING A PORTION OF THE TOTAL EXCISE TAX COLLECTION FROM SUGAR-SWEETENED BEVERAGES, ALCOHOL TOBACCO, HEATED TOBACCO AND VAPOR PRODUCTS FOR UNIVERSAL HEALTH CARE, AMENDING FOR THIS PURPOSE SECTIONS 144, 145, 146, 147, 152, 164, 260, 262, 263, 265, 288 AND 289, REPEALING SECTION 288(B) AND 288(C), AND CREATING NEW SECTIONS 263-A, 265-B, AND 288-A OF THE NATIONAL INTERNAL REVENUE CODE OF 1997, AS AMENDED BY REPUBLIC ACT NO. 10963, AND FOR OTHER PURPOSES\n",
      "6/6/2019\n",
      "House of Representatives adopted SBN-2233 as an amendment to HBN-8677 on June 4, 2019;\n",
      "6/19/2019\n",
      "Letter from Acting Secretary General of the House of Representatives, Mr. Dante Roberto P. Maling, dated June 19, 2019, transmitting nine (9) enrolled copies of consolidated version of HBN-8677 and SBN-2233, for the signature of Senate Secretary Atty. Myra Marie D. Villarica and Senate President Vicente C. Sotto III;\n",
      "6/25/2019\n",
      "Letter for Speaker Gloria Macapagal-Arroyo of the House of Representatives, dated June 24, 2019, returning eight (8) enrolled copies of SBN-2233 which was adopted as an amendment to HBN-8677, which were signed by Senate Secretary Atty. Myra Marie D. Villarica and Senate President Vicente C. Sotto III;\n",
      "6/30/2019\n",
      "Consolidated with HBN-8677, which was Approved and Signed into Law by the President of the Philippines, His Excellency, President Rodrigo Roa Duterte on July 25, 2019 and became (Communication received by the LBIS on July 29, 2019)\n",
      "6/30/2019\n",
      "REPUBLIC ACT NO. 11346. (See: O.B. dated August 19, 2019, 18th Congress)\n",
      "\n"
     ]
    }
   ],
   "source": [
    "print(df.iloc[2]['logs'])"
   ]
  },
  {
   "cell_type": "code",
   "execution_count": 51,
   "metadata": {
    "ExecuteTime": {
     "end_time": "2019-11-10T12:19:16.356241Z",
     "start_time": "2019-11-10T12:19:16.101160Z"
    }
   },
   "outputs": [
    {
     "ename": "DatabaseError",
     "evalue": "Execution failed on sql 'SELECT * from senateBills': no such table: senateBills",
     "output_type": "error",
     "traceback": [
      "\u001b[0;31m---------------------------------------------------------------------------\u001b[0m",
      "\u001b[0;31mOperationalError\u001b[0m                          Traceback (most recent call last)",
      "\u001b[0;32m~/anaconda3/lib/python3.6/site-packages/pandas/io/sql.py\u001b[0m in \u001b[0;36mexecute\u001b[0;34m(self, *args, **kwargs)\u001b[0m\n\u001b[1;32m   1594\u001b[0m             \u001b[0;32melse\u001b[0m\u001b[0;34m:\u001b[0m\u001b[0;34m\u001b[0m\u001b[0m\n\u001b[0;32m-> 1595\u001b[0;31m                 \u001b[0mcur\u001b[0m\u001b[0;34m.\u001b[0m\u001b[0mexecute\u001b[0m\u001b[0;34m(\u001b[0m\u001b[0;34m*\u001b[0m\u001b[0margs\u001b[0m\u001b[0;34m)\u001b[0m\u001b[0;34m\u001b[0m\u001b[0m\n\u001b[0m\u001b[1;32m   1596\u001b[0m             \u001b[0;32mreturn\u001b[0m \u001b[0mcur\u001b[0m\u001b[0;34m\u001b[0m\u001b[0m\n",
      "\u001b[0;31mOperationalError\u001b[0m: no such table: senateBills",
      "\nDuring handling of the above exception, another exception occurred:\n",
      "\u001b[0;31mDatabaseError\u001b[0m                             Traceback (most recent call last)",
      "\u001b[0;32m<ipython-input-51-85d0fe03eedf>\u001b[0m in \u001b[0;36m<module>\u001b[0;34m()\u001b[0m\n\u001b[1;32m      1\u001b[0m \u001b[0;31m# Read sqlite query results into a pandas DataFrame\u001b[0m\u001b[0;34m\u001b[0m\u001b[0;34m\u001b[0m\u001b[0m\n\u001b[1;32m      2\u001b[0m \u001b[0mcon\u001b[0m \u001b[0;34m=\u001b[0m \u001b[0msqlite3\u001b[0m\u001b[0;34m.\u001b[0m\u001b[0mconnect\u001b[0m\u001b[0;34m(\u001b[0m\u001b[0;34m\"phBills.sqlite\"\u001b[0m\u001b[0;34m)\u001b[0m\u001b[0;34m\u001b[0m\u001b[0m\n\u001b[0;32m----> 3\u001b[0;31m \u001b[0mdf\u001b[0m \u001b[0;34m=\u001b[0m \u001b[0mpd\u001b[0m\u001b[0;34m.\u001b[0m\u001b[0mread_sql_query\u001b[0m\u001b[0;34m(\u001b[0m\u001b[0;34m\"SELECT * from senateBills\"\u001b[0m\u001b[0;34m,\u001b[0m \u001b[0mcon\u001b[0m\u001b[0;34m)\u001b[0m\u001b[0;34m\u001b[0m\u001b[0m\n\u001b[0m\u001b[1;32m      4\u001b[0m \u001b[0;34m\u001b[0m\u001b[0m\n\u001b[1;32m      5\u001b[0m \u001b[0;31m# Verify that result of SQL query is stored in the dataframe\u001b[0m\u001b[0;34m\u001b[0m\u001b[0;34m\u001b[0m\u001b[0m\n",
      "\u001b[0;32m~/anaconda3/lib/python3.6/site-packages/pandas/io/sql.py\u001b[0m in \u001b[0;36mread_sql_query\u001b[0;34m(sql, con, index_col, coerce_float, params, parse_dates, chunksize)\u001b[0m\n\u001b[1;32m    330\u001b[0m         \u001b[0mcoerce_float\u001b[0m\u001b[0;34m=\u001b[0m\u001b[0mcoerce_float\u001b[0m\u001b[0;34m,\u001b[0m\u001b[0;34m\u001b[0m\u001b[0m\n\u001b[1;32m    331\u001b[0m         \u001b[0mparse_dates\u001b[0m\u001b[0;34m=\u001b[0m\u001b[0mparse_dates\u001b[0m\u001b[0;34m,\u001b[0m\u001b[0;34m\u001b[0m\u001b[0m\n\u001b[0;32m--> 332\u001b[0;31m         \u001b[0mchunksize\u001b[0m\u001b[0;34m=\u001b[0m\u001b[0mchunksize\u001b[0m\u001b[0;34m,\u001b[0m\u001b[0;34m\u001b[0m\u001b[0m\n\u001b[0m\u001b[1;32m    333\u001b[0m     )\n\u001b[1;32m    334\u001b[0m \u001b[0;34m\u001b[0m\u001b[0m\n",
      "\u001b[0;32m~/anaconda3/lib/python3.6/site-packages/pandas/io/sql.py\u001b[0m in \u001b[0;36mread_query\u001b[0;34m(self, sql, index_col, coerce_float, params, parse_dates, chunksize)\u001b[0m\n\u001b[1;32m   1643\u001b[0m \u001b[0;34m\u001b[0m\u001b[0m\n\u001b[1;32m   1644\u001b[0m         \u001b[0margs\u001b[0m \u001b[0;34m=\u001b[0m \u001b[0m_convert_params\u001b[0m\u001b[0;34m(\u001b[0m\u001b[0msql\u001b[0m\u001b[0;34m,\u001b[0m \u001b[0mparams\u001b[0m\u001b[0;34m)\u001b[0m\u001b[0;34m\u001b[0m\u001b[0m\n\u001b[0;32m-> 1645\u001b[0;31m         \u001b[0mcursor\u001b[0m \u001b[0;34m=\u001b[0m \u001b[0mself\u001b[0m\u001b[0;34m.\u001b[0m\u001b[0mexecute\u001b[0m\u001b[0;34m(\u001b[0m\u001b[0;34m*\u001b[0m\u001b[0margs\u001b[0m\u001b[0;34m)\u001b[0m\u001b[0;34m\u001b[0m\u001b[0m\n\u001b[0m\u001b[1;32m   1646\u001b[0m         \u001b[0mcolumns\u001b[0m \u001b[0;34m=\u001b[0m \u001b[0;34m[\u001b[0m\u001b[0mcol_desc\u001b[0m\u001b[0;34m[\u001b[0m\u001b[0;36m0\u001b[0m\u001b[0;34m]\u001b[0m \u001b[0;32mfor\u001b[0m \u001b[0mcol_desc\u001b[0m \u001b[0;32min\u001b[0m \u001b[0mcursor\u001b[0m\u001b[0;34m.\u001b[0m\u001b[0mdescription\u001b[0m\u001b[0;34m]\u001b[0m\u001b[0;34m\u001b[0m\u001b[0m\n\u001b[1;32m   1647\u001b[0m \u001b[0;34m\u001b[0m\u001b[0m\n",
      "\u001b[0;32m~/anaconda3/lib/python3.6/site-packages/pandas/io/sql.py\u001b[0m in \u001b[0;36mexecute\u001b[0;34m(self, *args, **kwargs)\u001b[0m\n\u001b[1;32m   1608\u001b[0m                 \u001b[0;34m\"Execution failed on sql '{sql}': {exc}\"\u001b[0m\u001b[0;34m.\u001b[0m\u001b[0mformat\u001b[0m\u001b[0;34m(\u001b[0m\u001b[0msql\u001b[0m\u001b[0;34m=\u001b[0m\u001b[0margs\u001b[0m\u001b[0;34m[\u001b[0m\u001b[0;36m0\u001b[0m\u001b[0;34m]\u001b[0m\u001b[0;34m,\u001b[0m \u001b[0mexc\u001b[0m\u001b[0;34m=\u001b[0m\u001b[0mexc\u001b[0m\u001b[0;34m)\u001b[0m\u001b[0;34m\u001b[0m\u001b[0m\n\u001b[1;32m   1609\u001b[0m             )\n\u001b[0;32m-> 1610\u001b[0;31m             \u001b[0mraise_with_traceback\u001b[0m\u001b[0;34m(\u001b[0m\u001b[0mex\u001b[0m\u001b[0;34m)\u001b[0m\u001b[0;34m\u001b[0m\u001b[0m\n\u001b[0m\u001b[1;32m   1611\u001b[0m \u001b[0;34m\u001b[0m\u001b[0m\n\u001b[1;32m   1612\u001b[0m     \u001b[0;34m@\u001b[0m\u001b[0mstaticmethod\u001b[0m\u001b[0;34m\u001b[0m\u001b[0m\n",
      "\u001b[0;32m~/anaconda3/lib/python3.6/site-packages/pandas/compat/__init__.py\u001b[0m in \u001b[0;36mraise_with_traceback\u001b[0;34m(exc, traceback)\u001b[0m\n\u001b[1;32m     44\u001b[0m     \u001b[0;32mif\u001b[0m \u001b[0mtraceback\u001b[0m \u001b[0;34m==\u001b[0m \u001b[0mEllipsis\u001b[0m\u001b[0;34m:\u001b[0m\u001b[0;34m\u001b[0m\u001b[0m\n\u001b[1;32m     45\u001b[0m         \u001b[0m_\u001b[0m\u001b[0;34m,\u001b[0m \u001b[0m_\u001b[0m\u001b[0;34m,\u001b[0m \u001b[0mtraceback\u001b[0m \u001b[0;34m=\u001b[0m \u001b[0msys\u001b[0m\u001b[0;34m.\u001b[0m\u001b[0mexc_info\u001b[0m\u001b[0;34m(\u001b[0m\u001b[0;34m)\u001b[0m\u001b[0;34m\u001b[0m\u001b[0m\n\u001b[0;32m---> 46\u001b[0;31m     \u001b[0;32mraise\u001b[0m \u001b[0mexc\u001b[0m\u001b[0;34m.\u001b[0m\u001b[0mwith_traceback\u001b[0m\u001b[0;34m(\u001b[0m\u001b[0mtraceback\u001b[0m\u001b[0;34m)\u001b[0m\u001b[0;34m\u001b[0m\u001b[0m\n\u001b[0m\u001b[1;32m     47\u001b[0m \u001b[0;34m\u001b[0m\u001b[0m\n\u001b[1;32m     48\u001b[0m \u001b[0;34m\u001b[0m\u001b[0m\n",
      "\u001b[0;32m~/anaconda3/lib/python3.6/site-packages/pandas/io/sql.py\u001b[0m in \u001b[0;36mexecute\u001b[0;34m(self, *args, **kwargs)\u001b[0m\n\u001b[1;32m   1593\u001b[0m                 \u001b[0mcur\u001b[0m\u001b[0;34m.\u001b[0m\u001b[0mexecute\u001b[0m\u001b[0;34m(\u001b[0m\u001b[0;34m*\u001b[0m\u001b[0margs\u001b[0m\u001b[0;34m,\u001b[0m \u001b[0;34m**\u001b[0m\u001b[0mkwargs\u001b[0m\u001b[0;34m)\u001b[0m\u001b[0;34m\u001b[0m\u001b[0m\n\u001b[1;32m   1594\u001b[0m             \u001b[0;32melse\u001b[0m\u001b[0;34m:\u001b[0m\u001b[0;34m\u001b[0m\u001b[0m\n\u001b[0;32m-> 1595\u001b[0;31m                 \u001b[0mcur\u001b[0m\u001b[0;34m.\u001b[0m\u001b[0mexecute\u001b[0m\u001b[0;34m(\u001b[0m\u001b[0;34m*\u001b[0m\u001b[0margs\u001b[0m\u001b[0;34m)\u001b[0m\u001b[0;34m\u001b[0m\u001b[0m\n\u001b[0m\u001b[1;32m   1596\u001b[0m             \u001b[0;32mreturn\u001b[0m \u001b[0mcur\u001b[0m\u001b[0;34m\u001b[0m\u001b[0m\n\u001b[1;32m   1597\u001b[0m         \u001b[0;32mexcept\u001b[0m \u001b[0mException\u001b[0m \u001b[0;32mas\u001b[0m \u001b[0mexc\u001b[0m\u001b[0;34m:\u001b[0m\u001b[0;34m\u001b[0m\u001b[0m\n",
      "\u001b[0;31mDatabaseError\u001b[0m: Execution failed on sql 'SELECT * from senateBills': no such table: senateBills"
     ]
    }
   ],
   "source": [
    "# Read sqlite query results into a pandas DataFrame\n",
    "con = sqlite3.connect(\"phBills.db\")\n",
    "df = pd.read_sql_query(\"SELECT * from senateBills\", con)\n",
    "\n",
    "# Verify that result of SQL query is stored in the dataframe\n",
    "print(df.head())\n",
    "\n",
    "con.close()"
   ]
  },
  {
   "cell_type": "code",
   "execution_count": 47,
   "metadata": {
    "ExecuteTime": {
     "end_time": "2019-11-10T09:18:42.950790Z",
     "start_time": "2019-11-10T09:18:42.946148Z"
    }
   },
   "outputs": [
    {
     "name": "stdout",
     "output_type": "stream",
     "text": [
      "AN ACT AUTHORIZING THE SALE OF CERTAIN PARCELS OF LAND IN BARANGAY KRUS NA LIGAS, QUEZON CITY BY THE UNIVERSITY OF THE PHILIPPINES TO THE QUEZON CITY GOVERNMENT AMENDING FOR THE PURPOSE REPUBLIC ACT NO. 9500, OTHERWISE KNOWN AS THE UNIVERSITY OF THE PHILIPPINES CHARTER OF 2008 AND FOR OTHER PURPOSES\n",
      "National\n",
      "Approved by the President of the Philippines (6/30/2019)\n",
      "University of the Philippines Charter (R.A.No.9500)\n",
      "Education, Arts and Culture\n",
      "Urban Planning, Housing and Resettlement          \n",
      "No. 719 - Parcels of Land in Barangay Krus Na Ligas, Quezon City (5/27/2019)\n",
      "Escudero, Francis \"Chiz\" G.\n",
      "No Certification\n",
      "\n",
      "\n",
      "Date\n",
      "\n",
      "Parliamentary status\n",
      "\n",
      "Senator(s)\n",
      "\n",
      "\n",
      "5/28/2019\n",
      "Sponsorship Speech\n",
      "Escudero, Francis \"Chiz\" G.\n",
      "\n",
      "5/28/2019\n",
      "Interpellation\n",
      "Drilon, Franklin M.\n",
      "\n",
      "5/28/2019\n",
      "Period of Interpellation Closed\n",
      "\n",
      "\n",
      "5/28/2019\n",
      "Period of Individual Amendments\n",
      "\n",
      "\n",
      "5/28/2019\n",
      "Period of Individual Amendments Closed\n",
      "\n",
      "\n",
      "5/28/2019\n",
      "Period of Committee Amendments Closed\n",
      "\n",
      "\n",
      "5/28/2019\n",
      "Period of Committee Amendments\n",
      "\n",
      "\n",
      "\n",
      "Type of voteThird Reading (6/3/2019)\n",
      "\n",
      "\n",
      "Voted Yes\n",
      "\n",
      "Voted No\n",
      "\n",
      "\n",
      "\n",
      "Angara, Juan Edgardo \"Sonny\" M.Aquino IV, Paolo Benigno \"Bam\"Binay, Maria Lourdes Nancy S.Drilon, Franklin M.Ejercito, Joseph Victor G.Gatchalian, Sherwin T.Honasan II, Gregorio B.Hontiveros, RisaLacson, Panfilo M.Legarda, Loren B.Pangilinan, Francis N.Pimentel, Aquilino Koko III L.Poe, Grace L.Recto, Ralph G.Sotto III, Vicente C.Trillanes, Antonio \"Sonny\" F.Villanueva, JoelVillar, Cynthia A.Zubiri, Juan Miguel F.\n",
      "Third Reading (6/3/2019)\n",
      "Angara, Juan Edgardo \"Sonny\" M.Aquino IV, Paolo Benigno \"Bam\"Binay, Maria Lourdes Nancy S.Drilon, Franklin M.Ejercito, Joseph Victor G.Gatchalian, Sherwin T.Honasan II, Gregorio B.Hontiveros, RisaLacson, Panfilo M.Legarda, Loren B.Pangilinan, Francis N.Pimentel, Aquilino Koko III L.Poe, Grace L.Recto, Ralph G.Sotto III, Vicente C.Trillanes, Antonio \"Sonny\" F.Villanueva, JoelVillar, Cynthia A.Zubiri, Juan Miguel F.\n",
      "\n",
      "\n",
      "Entitled:\n",
      "AN ACT AUTHORIZING THE SALE OF CERTAIN PARCELS OF LAND IN BARANGAY KRUS NA LIGAS, QUEZON CITY BY THE UNIVERSITY OF THE PHILIPPINES TO THE QUEZON CITY GOVERNMENT AMENDING FOR THE PURPOSE REPUBLIC ACT NO. 9500, OTHERWISE KNOWN AS THE UNIVERSITY OF THE PHILIPPINES CHARTER OF 2008 AND FOR OTHER PURPOSES\n",
      "[ THIRD REGULAR SESSION, 17TH CONGRESS ]\n",
      "[ 2019 ]\n",
      "5/27/2019\n",
      "Prepared and submitted jointly by the Committee(s) on EDUCATION, ARTS AND CULTURE and URBAN PLANNING, HOUSING AND RESETTLEMENT with Senator(s) RALPH G. RECTO, VICENTE C. SOTTO III and FRANCIS \"CHIZ\" G. ESCUDERO as author(s)  per Committee Report No. 719, recommending its approval in substitution of SBNos. 864, 1606 and taking into consideration HBN-165;\n",
      "5/27/2019\n",
      "Committee Report Calendared for Ordinary Business;\n",
      "5/27/2019\n",
      "Sponsor: Senator FRANCIS \"CHIZ\" G. ESCUDERO;\n",
      "5/28/2019\n",
      "Transferred from the Calendar for Ordinary Business to the Calendar for Special Order;\n",
      "5/28/2019\n",
      "Sponsorship speech of Senator FRANCIS \"CHIZ\" G. ESCUDERO;\n",
      "5/28/2019\n",
      "Interpellation of Senator FRANKLIN M. DRILON;\n",
      "5/28/2019\n",
      "Period of interpellation closed;\n",
      "5/28/2019\n",
      "Period of committee amendments;\n",
      "5/28/2019\n",
      "Period of committee amendments closed;\n",
      "5/28/2019\n",
      "Period of individual amendments;\n",
      "5/28/2019\n",
      "Period of individual amendments closed;\n",
      "5/28/2019\n",
      "Approved on Second Reading with Amendments;\n",
      "5/29/2019\n",
      "Reconsideration of the Approval on Second Reading;\n",
      "5/29/2019\n",
      "Period of individual amendments;\n",
      "5/29/2019\n",
      "Period of individual amendments closed;\n",
      "5/29/2019\n",
      "Approved on Second Reading with Amendments;\n",
      "5/29/2019\n",
      "Printed copies were distributed to the Senators;\n",
      "6/3/2019\n",
      "Approved on Third Reading;\n",
      "6/3/2019\n",
      "In favor:  (19) JUAN EDGARDO \"SONNY\" M. ANGARA, PAOLO BENIGNO \"BAM\" AQUINO IV, MARIA LOURDES NANCY S. BINAY, FRANKLIN M. DRILON, JOSEPH VICTOR G. EJERCITO, SHERWIN T. GATCHALIAN, GREGORIO B. HONASAN II, RISA HONTIVEROS, PANFILO M. LACSON, LOREN B. LEGARDA, FRANCIS N. PANGILINAN, AQUILINO KOKO III L. PIMENTEL, GRACE L. POE, RALPH G. RECTO, VICENTE C. SOTTO III, ANTONIO \"SONNY\" F. TRILLANES, JOEL VILLANUEVA, CYNTHIA A. VILLAR and JUAN MIGUEL F. ZUBIRI;\n",
      "6/3/2019\n",
      "Against:  (None) ;\n",
      "6/3/2019\n",
      "Abstention:  (None) ;\n",
      "6/4/2019\n",
      "House of Representatives adopted SBN-2234 as an amendment to HBN-165 on June 3, 2019;\n",
      "6/30/2019\n",
      "Letter from Senate Secretary Atty. Myra Marie D. Villarica, dated July 17, 2019, transmitting nine (9) enrolled copies of SBN-2234 which was adopted as an amendment to HBN-165, for the signature of Speaker Gloria Macapagal-Arroyo and Acting Secretary General of the House of Representatives, Mr. Dante Roberto P. Maling; (Communication received by the HOR on July 19, 2019)\n",
      "6/30/2019\n",
      "Letter for Senate Secretary Myra Marie D. Villarica, dated July 24, 2019, returning eight (8) enrolled copies of the consolidated version of SBN-2234 and HBN-165, which were signed by Speaker Gloria Macapagal-Arroyo and the Acting Secretary General of the House of Representatives, Mr. Dante Roberto P. Maling; (Communication received by the LBIS on July 29, 2019)\n",
      "6/30/2019\n",
      "Enrolled copies of SBN-2234 which was adopted as an amendment to HBN-165, sent to the Office of the President of the Philippines through PLLO for the signature and approval of His Excellency, President Rodrigo Roa Duterte on July 31, 2019;\n",
      "6/30/2019\n",
      "Approved and signed into law, in consolidation with HBN-165, by the President of the Philippines, His Excellency, President Rodrigo Roa Duterte on August 30, 2019 and became (Communication received by the LBIS on September 10, 2019)\n",
      "6/30/2019\n",
      "REPUBLIC ACT NO. 11454. (See: O.B. dated September 23, 2019, 18th Congress)\n",
      "(The legislative history/plenary deliberations is prepared by the INDEXING, MONITORING AND LIS SECTION, LEGISLATIVE BILLS AND INDEX SERVICE; The data entry on committee meetings is prepared by the Committee Affairs Bureau)\n",
      "Approved by the President\n",
      "Republic Act No. 11454 An Act Authorizing the Sale of Certain Parcels of Land in Barangay Krus Na Ligas, Quezon City by the University of the Philippines to the Quezon City Government Amending for the Purpose Republic Act No. 9500, Otherwise Known as the University of the Philippines Charter of 2008 and for Other Purposes  1.6MB\n",
      "6/30/2019\n",
      "6/30/2019\n"
     ]
    }
   ],
   "source": [
    "print(x)"
   ]
  },
  {
   "cell_type": "code",
   "execution_count": 21,
   "metadata": {
    "ExecuteTime": {
     "end_time": "2019-11-10T02:22:45.566663Z",
     "start_time": "2019-11-10T02:22:45.560005Z"
    }
   },
   "outputs": [
    {
     "data": {
      "text/plain": [
       "'\\n\\nDate\\n\\nParliamentary status\\n\\nSenator(s)\\n\\n\\n11/5/2019\\nSponsorship Speech\\nPoe, Grace\\n\\n11/5/2019\\nCo-Sponsorship Speech\\nRecto, Ralph G.\\n\\n11/6/2019\\nInterpellation\\nDrilon, Franklin M.\\n\\n11/6/2019\\nPeriod of Interpellation Closed\\n\\n\\n11/6/2019\\nPeriod of Committee Amendments\\n\\n\\n11/6/2019\\nPeriod of Committee Amendments Closed\\n\\n\\n11/6/2019\\nPeriod of Individual Amendments Closed\\n\\n\\n'"
      ]
     },
     "execution_count": 21,
     "metadata": {},
     "output_type": "execute_result"
    }
   ],
   "source": [
    "soup_allinfo.select('blockquote')[-2].getText()"
   ]
  },
  {
   "cell_type": "code",
   "execution_count": 22,
   "metadata": {
    "ExecuteTime": {
     "end_time": "2019-11-10T06:27:26.115776Z",
     "start_time": "2019-11-10T06:27:26.007196Z"
    }
   },
   "outputs": [
    {
     "data": {
      "text/plain": [
       "True"
      ]
     },
     "execution_count": 22,
     "metadata": {},
     "output_type": "execute_result"
    }
   ],
   "source": [
    "'Entitled:' in soup_allinfo.select('blockquote')[-1].getText()"
   ]
  },
  {
   "cell_type": "code",
   "execution_count": 11,
   "metadata": {
    "ExecuteTime": {
     "end_time": "2019-11-10T01:56:51.947251Z",
     "start_time": "2019-11-10T01:56:51.941471Z"
    }
   },
   "outputs": [
    {
     "data": {
      "text/plain": [
       "'\\nEntitled:\\nNATIONAL AUTISM CARE PLAN\\n[ FIRST REGULAR SESSION, 18TH CONGRESS ]\\n[ 2019 ]\\n8/14/2019\\nIntroduced by Senator RISA HONTIVEROS;\\n8/15/2019\\nWITHDRAWN.\\n(The legislative history/plenary deliberations is prepared by the INDEXING, MONITORING AND LIS SECTION, LEGISLATIVE BILLS AND INDEX SERVICE)'"
      ]
     },
     "execution_count": 11,
     "metadata": {},
     "output_type": "execute_result"
    }
   ],
   "source": [
    "soup_allinfo.select('blockquote')[4].getText()"
   ]
  },
  {
   "cell_type": "code",
   "execution_count": 10,
   "metadata": {
    "ExecuteTime": {
     "end_time": "2019-11-10T01:56:35.447157Z",
     "start_time": "2019-11-10T01:56:35.436422Z"
    }
   },
   "outputs": [
    {
     "data": {
      "text/plain": [
       "''"
      ]
     },
     "execution_count": 10,
     "metadata": {},
     "output_type": "execute_result"
    }
   ],
   "source": [
    "soup_allinfo.select('blockquote')[3].getText()"
   ]
  },
  {
   "cell_type": "code",
   "execution_count": 90,
   "metadata": {
    "ExecuteTime": {
     "end_time": "2019-11-09T10:26:28.132391Z",
     "start_time": "2019-11-09T10:26:28.126561Z"
    }
   },
   "outputs": [
    {
     "data": {
      "text/plain": [
       "'Hospitals (Doh Retained)Hospitals, Increase Bed Capacity'"
      ]
     },
     "execution_count": 90,
     "metadata": {},
     "output_type": "execute_result"
    }
   ],
   "source": [
    "soup_allinfo.select('blockquote')[3].getText()"
   ]
  },
  {
   "cell_type": "code",
   "execution_count": 89,
   "metadata": {
    "ExecuteTime": {
     "end_time": "2019-11-09T10:19:26.622082Z",
     "start_time": "2019-11-09T10:19:26.611404Z"
    }
   },
   "outputs": [
    {
     "ename": "IndexError",
     "evalue": "list index out of range",
     "output_type": "error",
     "traceback": [
      "\u001b[0;31m---------------------------------------------------------------------------\u001b[0m",
      "\u001b[0;31mIndexError\u001b[0m                                Traceback (most recent call last)",
      "\u001b[0;32m<ipython-input-89-c9e455b9b743>\u001b[0m in \u001b[0;36m<module>\u001b[0;34m()\u001b[0m\n\u001b[0;32m----> 1\u001b[0;31m \u001b[0;32mif\u001b[0m \u001b[0;34m'Entitled:'\u001b[0m \u001b[0;32min\u001b[0m \u001b[0msoup_allinfo\u001b[0m\u001b[0;34m.\u001b[0m\u001b[0mselect\u001b[0m\u001b[0;34m(\u001b[0m\u001b[0;34m'blockquote tbody'\u001b[0m\u001b[0;34m)\u001b[0m\u001b[0;34m[\u001b[0m\u001b[0;36m1\u001b[0m\u001b[0;34m]\u001b[0m\u001b[0;34m.\u001b[0m\u001b[0mgetText\u001b[0m\u001b[0;34m(\u001b[0m\u001b[0;34m)\u001b[0m\u001b[0;34m:\u001b[0m\u001b[0;34m\u001b[0m\u001b[0m\n\u001b[0m\u001b[1;32m      2\u001b[0m     \u001b[0mprint\u001b[0m\u001b[0;34m(\u001b[0m\u001b[0;32mTrue\u001b[0m\u001b[0;34m)\u001b[0m\u001b[0;34m\u001b[0m\u001b[0m\n",
      "\u001b[0;31mIndexError\u001b[0m: list index out of range"
     ]
    }
   ],
   "source": [
    "if 'Entitled:' in soup_allinfo.select('blockquote tbody')[1].getText():\n",
    "    print(True)"
   ]
  },
  {
   "cell_type": "code",
   "execution_count": 81,
   "metadata": {
    "ExecuteTime": {
     "end_time": "2019-11-09T09:51:52.289910Z",
     "start_time": "2019-11-09T09:51:52.247541Z"
    }
   },
   "outputs": [
    {
     "data": {
      "text/plain": [
       "[<tbody><tr><td><a href=\"journal.aspx?congress=16&amp;session=3R&amp;q=44\">12/14/2015</a></td>\n",
       " <td>Period of Interpellation Closed</td>\n",
       " <td></td>\n",
       " </tr>\n",
       " <tr class=\"alt_color_g\"><td><a href=\"journal.aspx?congress=16&amp;session=3R&amp;q=44\">12/14/2015</a></td>\n",
       " <td>Period of Amendment Closed</td>\n",
       " <td></td>\n",
       " </tr>\n",
       " <tr><td><a href=\"journal.aspx?congress=16&amp;session=3R&amp;q=44\">12/14/2015</a></td>\n",
       " <td>Sponsorship Speech</td>\n",
       " <td>Villar, Cynthia A.</td>\n",
       " </tr>\n",
       " </tbody>,\n",
       " <tbody><tr><td><blockquote>Angara, Juan Edgardo \"Sonny\" M.<br/>Aquino IV, Paolo Benigno \"Bam\"<br/>Binay, Maria Lourdes Nancy S.<br/>Cayetano, Alan Peter Companero S.<br/>Cayetano, Pia S.<br/>Drilon, Franklin M.<br/>Ejercito, Joseph Victor G.<br/>Enrile, Juan Ponce<br/>Escudero, Francis \"Chiz\" G.<br/>Guingona III, Teofisto \"Tg\"<br/>Honasan II, Gregorio B.<br/>Lapid, Manuel \"Lito\" M.<br/>Legarda, Loren B.<br/>Osmena III, Sergio R.<br/>Pimentel, Aquilino Koko III L.<br/>Poe, Grace L.<br/>Recto, Ralph G.<br/>Sotto III, Vicente C.<br/>Trillanes, Antonio \"Sonny\" F.<br/>Villar, Cynthia A.</blockquote></td><td><blockquote></blockquote></td></tr></tbody>,\n",
       " <tbody><tr class=\"alt_color_g\"><td colspan=\"2\">\n",
       " Entitled:</td></tr><tr><td colspan=\"2\">\n",
       " AN ACT DECLARING THE SECOND WEEK OF NOVEMBER OF EVERY YEAR AS ECONOMIC AND FINANCIAL LITERACY WEEK</td></tr><tr class=\"alt_color_g\"><td colspan=\"2\">\n",
       " [ SECOND REGULAR SESSION, 16TH CONGRESS ]</td></tr><tr><td colspan=\"2\">\n",
       " [ 2015 ]</td></tr><tr class=\"alt_color_g\"><td class=\"lis_table_date\">\n",
       " 5/25/2015</td><td>\n",
       " Introduced by Senator JUAN EDGARDO \"SONNY\" M. ANGARA;</td></tr><tr><td>\n",
       " 5/26/2015</td><td>\n",
       " Read on First Reading and Referred to the Committee on ECONOMIC AFFAIRS;</td></tr><tr class=\"alt_color_g\"><td colspan=\"2\">\n",
       " [ THIRD REGULAR SESSION ]</td></tr><tr><td>\n",
       " 12/8/2015</td><td>\n",
       " Returned and submitted by the Committee on ECONOMIC AFFAIRS per Committee Report No. 335, recommending its approval without amendment, taking into consideration HBN-5452;</td></tr><tr class=\"alt_color_g\"><td>\n",
       " 12/9/2015</td><td>\n",
       " Committee Report Calendared for Ordinary Business;</td></tr><tr><td>\n",
       " 12/9/2015</td><td>\n",
       " Sponsor: Senator JOSEPH VICTOR G. EJERCITO;</td></tr><tr class=\"alt_color_g\"><td>\n",
       " 12/14/2015</td><td>\n",
       " Transferred from the Calendar for Ordinary Business to the Calendar for Special Order;</td></tr><tr><td>\n",
       " 12/14/2015</td><td>\n",
       " Sponsorship speech of Senator CYNTHIA A. VILLAR;</td></tr><tr class=\"alt_color_g\"><td>\n",
       " 12/14/2015</td><td>\n",
       " Period of interpellation closed;</td></tr><tr><td>\n",
       " 12/14/2015</td><td>\n",
       " Period of amendments closed;</td></tr><tr class=\"alt_color_g\"><td>\n",
       " 12/14/2015</td><td>\n",
       " Approved on Second Reading without Amendment;</td></tr><tr><td colspan=\"2\">\n",
       " [ 2016 ]</td></tr><tr class=\"alt_color_g\"><td>\n",
       " 1/7/2016</td><td>\n",
       " Printed copies were distributed to the Senators;</td></tr><tr><td>\n",
       " 1/18/2016</td><td>\n",
       " Approved on Third Reading;</td></tr><tr class=\"alt_color_g\"><td>\n",
       " 1/18/2016</td><td>\n",
       " In favor:  (20) JUAN EDGARDO \"SONNY\" M. ANGARA, PAOLO BENIGNO \"BAM\" AQUINO IV, MARIA LOURDES NANCY S. BINAY, ALAN PETER COMPANERO S. CAYETANO, PIA S. CAYETANO, FRANKLIN M. DRILON, JOSEPH VICTOR G. EJERCITO, JUAN PONCE ENRILE, FRANCIS \"CHIZ\" G. ESCUDERO, TEOFISTO \"TG\" GUINGONA III, GREGORIO B. HONASAN II, MANUEL \"LITO\" M. LAPID, LOREN B. LEGARDA, SERGIO R. OSMENA III, AQUILINO KOKO III L. PIMENTEL, GRACE L. POE, RALPH G. RECTO, VICENTE C. SOTTO III, ANTONIO \"SONNY\" F. TRILLANES and CYNTHIA A. VILLAR;</td></tr><tr><td>\n",
       " 1/18/2016</td><td>\n",
       " Against:  N o n e ;</td></tr><tr class=\"alt_color_g\"><td>\n",
       " 1/18/2016</td><td>\n",
       " Abstention:  N o n e ;</td></tr><tr><td>\n",
       " 1/20/2016</td><td>\n",
       " Sent to the House of Representatives requesting for concurrence;</td></tr><tr class=\"alt_color_g\"><td>\n",
       " 6/6/2016</td><td>\n",
       " Senate adopted HBN-5452 as an amendment to SBN-2779;(Transmittal letter sent to the House of Representatives on June 8, 2016);</td></tr><tr><td>\n",
       " 6/21/2016</td><td>\n",
       " Enrolled copies of the consolidated version of HBN-5452 and SBN-2779, sent to the Office of the President of the Philippines through PLLO, for the signature and approval of His Excellency, President Benigno S. Aquino III;</td></tr><tr class=\"alt_color_g\"><td>\n",
       " 6/30/2016</td><td>\n",
       " Consolidated with HBN-5452, which was lapsed into Law on July 22, 2016 and became</td></tr><tr><td>\n",
       " 6/30/2016</td><td>\n",
       " REPUBLIC ACT NO. 10922.</td></tr><tr class=\"alt_color_g\"><td colspan=\"2\">\n",
       " (Pursuant to paragraph g, Sec. 7, Rule V of the Rules of the Senate, R.A.No. 10922 (HBN-5452/SBN-2779) with pertinent documents transmitted to the Legislative Records and Archives Service for safekeeping and preservation on August 9, 2016)</td></tr><tr><td colspan=\"2\">\n",
       " (The legislative history/plenary deliberations is prepared by the INDEXING, MONITORING AND LIS SECTION, LEGISLATIVE BILLS AND INDEX SERVICE; The data entry re conducted committee meetings/hearings, conducted technical working group, is prepared by the Committee concerned/Committee Affairs Bureau)</td></tr></tbody>]"
      ]
     },
     "execution_count": 81,
     "metadata": {},
     "output_type": "execute_result"
    }
   ],
   "source": [
    "soup_allinfo.select('blockquote tbody')"
   ]
  },
  {
   "cell_type": "code",
   "execution_count": 38,
   "metadata": {
    "ExecuteTime": {
     "end_time": "2019-11-09T09:27:34.435251Z",
     "start_time": "2019-11-09T09:27:34.427816Z"
    }
   },
   "outputs": [
    {
     "name": "stdout",
     "output_type": "stream",
     "text": [
      "40\n"
     ]
    }
   ],
   "source": [
    "x=soup_allinfo.select('p').index(soup_allinfo.find('p',text='Subject(s)'))\n",
    "print(x)"
   ]
  },
  {
   "cell_type": "code",
   "execution_count": 41,
   "metadata": {
    "ExecuteTime": {
     "end_time": "2019-11-09T09:28:48.082919Z",
     "start_time": "2019-11-09T09:28:48.077326Z"
    }
   },
   "outputs": [
    {
     "data": {
      "text/plain": [
       "51"
      ]
     },
     "execution_count": 41,
     "metadata": {},
     "output_type": "execute_result"
    }
   ],
   "source": [
    "len(soup_allinfo.select('p'))"
   ]
  },
  {
   "cell_type": "code",
   "execution_count": 42,
   "metadata": {
    "ExecuteTime": {
     "end_time": "2019-11-09T09:29:08.029521Z",
     "start_time": "2019-11-09T09:29:08.023922Z"
    }
   },
   "outputs": [
    {
     "data": {
      "text/plain": [
       "18"
      ]
     },
     "execution_count": 42,
     "metadata": {},
     "output_type": "execute_result"
    }
   ],
   "source": [
    "len(soup_allinfo.select('blockquote'))"
   ]
  },
  {
   "cell_type": "code",
   "execution_count": 40,
   "metadata": {
    "ExecuteTime": {
     "end_time": "2019-11-09T09:28:24.394125Z",
     "start_time": "2019-11-09T09:28:24.372947Z"
    }
   },
   "outputs": [
    {
     "ename": "IndexError",
     "evalue": "list index out of range",
     "output_type": "error",
     "traceback": [
      "\u001b[0;31m---------------------------------------------------------------------------\u001b[0m",
      "\u001b[0;31mIndexError\u001b[0m                                Traceback (most recent call last)",
      "\u001b[0;32m<ipython-input-40-8e754d82aca2>\u001b[0m in \u001b[0;36m<module>\u001b[0;34m()\u001b[0m\n\u001b[0;32m----> 1\u001b[0;31m \u001b[0msoup_allinfo\u001b[0m\u001b[0;34m.\u001b[0m\u001b[0mselect\u001b[0m\u001b[0;34m(\u001b[0m\u001b[0;34m'blockquote'\u001b[0m\u001b[0;34m)\u001b[0m\u001b[0;34m[\u001b[0m\u001b[0mx\u001b[0m\u001b[0;34m]\u001b[0m\u001b[0;34m\u001b[0m\u001b[0m\n\u001b[0m",
      "\u001b[0;31mIndexError\u001b[0m: list index out of range"
     ]
    }
   ],
   "source": [
    "soup_allinfo.select('blockquote')[x]"
   ]
  },
  {
   "cell_type": "code",
   "execution_count": null,
   "metadata": {},
   "outputs": [],
   "source": [
    "soup_allinfo.select('p')"
   ]
  },
  {
   "cell_type": "code",
   "execution_count": 17,
   "metadata": {
    "ExecuteTime": {
     "end_time": "2019-11-09T08:56:30.784714Z",
     "start_time": "2019-11-09T08:56:30.771315Z"
    }
   },
   "outputs": [
    {
     "name": "stdout",
     "output_type": "stream",
     "text": [
      "Rules of the Senate\n",
      "History of the Senate\n",
      "Symbols of Authority\n",
      "Legislative Process\n",
      "18th Congress Senators\n",
      "List of Previous Senators\n",
      "Roll of Senate President\n",
      "Composition of the Senate\n",
      "Terms of Office and Privileges\n",
      "Committee Chairmanship \n",
      "Oversight/Ad hoc Committee Chairmanship \n",
      "Duties, Power & Jurisdiction\n",
      "Committee Directory \n",
      "Oversight/Ad hoc Committee Directory \n",
      "Notice of Committee Meetings\n",
      "Committee Schedule\n",
      "Vision and Mission\n",
      "Officers of the Secretariat\n",
      "Office of the Secretary\n",
      "Legislation\n",
      "Administration and Financial Services\n",
      "External Affairs and Relations\n",
      "Office of the Sergeant-At-Arms\n",
      "Bills\n",
      "Resolutions\n",
      "Journals\n",
      "Committee Reports\n",
      "Republic Acts\n",
      "Adopted Resolutions\n",
      "Treaties\n",
      "Statistical Data\n",
      "SEPO Publications\n",
      "STSRO Publications\n",
      "LBRMO Publications\n",
      "ILS Publications\n",
      "Other Publications\n",
      "ECONOMIC AND FINANCIAL LITERACY ACT\n",
      "Long title\n",
      "Scope\n",
      "Legislative status\n",
      "Subject(s)\n",
      "Primary committee\n",
      "Committee report\n",
      "Sponsor(s)\n",
      "Document certification\n",
      "Floor activity\n",
      "Vote(s)\n",
      "Legislative History\n",
      "President's action\n",
      "\n",
      "back to top\n"
     ]
    }
   ],
   "source": [
    "for x in soup_allinfo.select('p'):\n",
    "    print(x.getText())"
   ]
  },
  {
   "cell_type": "code",
   "execution_count": 15,
   "metadata": {
    "ExecuteTime": {
     "end_time": "2019-11-09T08:51:59.278375Z",
     "start_time": "2019-11-09T08:51:59.267678Z"
    }
   },
   "outputs": [
    {
     "data": {
      "text/plain": [
       "[]"
      ]
     },
     "execution_count": 15,
     "metadata": {},
     "output_type": "execute_result"
    }
   ],
   "source": [
    "soup_allinfo.select('p[\"Scope\"]')"
   ]
  },
  {
   "cell_type": "code",
   "execution_count": null,
   "metadata": {
    "ExecuteTime": {
     "end_time": "2019-11-09T07:41:51.572165Z",
     "start_time": "2019-11-09T07:41:51.568551Z"
    }
   },
   "outputs": [],
   "source": [
    "logs_wFootNote_regex = re.compile(r'(?<=\\[ FIRST REGULAR SESSION, \\d\\d\\w\\w CONGRESS ]\\n\\[ \\d\\d\\d\\d ]\\n).*(?=;)',re.DOTALL)"
   ]
  },
  {
   "cell_type": "code",
   "execution_count": null,
   "metadata": {
    "ExecuteTime": {
     "end_time": "2019-11-09T07:41:52.977793Z",
     "start_time": "2019-11-09T07:41:52.973614Z"
    }
   },
   "outputs": [],
   "source": [
    "def bills_logScraper(logs):\n",
    "    try:\n",
    "        out = logs_regex.search(logs).group()\n",
    "    except AttributeError:\n",
    "        out = logs_wFootNote_regex.search(logs).group()\n",
    "    return out"
   ]
  },
  {
   "cell_type": "code",
   "execution_count": null,
   "metadata": {
    "ExecuteTime": {
     "end_time": "2019-11-09T07:41:55.761718Z",
     "start_time": "2019-11-09T07:41:55.757656Z"
    }
   },
   "outputs": [],
   "source": [
    "print(soup_allinfo.select('blockquote')[5].getText())"
   ]
  },
  {
   "cell_type": "code",
   "execution_count": null,
   "metadata": {
    "ExecuteTime": {
     "end_time": "2019-11-09T07:42:34.727743Z",
     "start_time": "2019-11-09T07:42:34.721025Z"
    }
   },
   "outputs": [],
   "source": [
    "bills_logScraper(soup_allinfo.select('blockquote')[-1].getText())"
   ]
  },
  {
   "cell_type": "code",
   "execution_count": null,
   "metadata": {
    "ExecuteTime": {
     "end_time": "2019-11-09T06:55:36.734799Z",
     "start_time": "2019-11-09T06:55:36.728916Z"
    }
   },
   "outputs": [],
   "source": [
    "len(soup_allinfo.select('blockquote'))"
   ]
  },
  {
   "cell_type": "code",
   "execution_count": null,
   "metadata": {
    "ExecuteTime": {
     "end_time": "2019-11-09T06:56:32.480920Z",
     "start_time": "2019-11-09T06:56:32.466676Z"
    }
   },
   "outputs": [],
   "source": [
    "soup_allinfo.select('blockquote')[-1]"
   ]
  },
  {
   "cell_type": "code",
   "execution_count": null,
   "metadata": {
    "ExecuteTime": {
     "end_time": "2019-11-09T07:30:55.400964Z",
     "start_time": "2019-11-09T07:30:55.396099Z"
    }
   },
   "outputs": [],
   "source": [
    "if len(soup_allinfo.select('blockquote'))==7:\n",
    "    sec_committee = soup_allinfo.select('blockquote')[5].getText()\n",
    "    logs = bills_logScraper(soup_allinfo.select('blockquote')[-1].getText())\n",
    "else:\n",
    "    sec_committee = ''\n",
    "    logs = bills_logScraper(soup_allinfo.select('blockquote')[-1].getText())"
   ]
  },
  {
   "cell_type": "code",
   "execution_count": null,
   "metadata": {
    "ExecuteTime": {
     "end_time": "2019-11-09T07:31:10.062283Z",
     "start_time": "2019-11-09T07:31:10.056725Z"
    }
   },
   "outputs": [],
   "source": [
    "logs"
   ]
  },
  {
   "cell_type": "code",
   "execution_count": null,
   "metadata": {
    "ExecuteTime": {
     "end_time": "2019-11-08T17:07:00.565463Z",
     "start_time": "2019-11-08T17:07:00.551872Z"
    }
   },
   "outputs": [],
   "source": [
    "# Must close the ghostDriver before exiting this program...\n",
    "driver.quit()"
   ]
  },
  {
   "cell_type": "code",
   "execution_count": null,
   "metadata": {},
   "outputs": [],
   "source": []
  }
 ],
 "metadata": {
  "hide_input": false,
  "kernelspec": {
   "display_name": "Python 3",
   "language": "python",
   "name": "python3"
  },
  "language_info": {
   "codemirror_mode": {
    "name": "ipython",
    "version": 3
   },
   "file_extension": ".py",
   "mimetype": "text/x-python",
   "name": "python",
   "nbconvert_exporter": "python",
   "pygments_lexer": "ipython3",
   "version": "3.6.5"
  },
  "toc": {
   "base_numbering": 1,
   "nav_menu": {},
   "number_sections": false,
   "sideBar": true,
   "skip_h1_title": true,
   "title_cell": "Table of Contents",
   "title_sidebar": "Contents",
   "toc_cell": false,
   "toc_position": {
    "height": "calc(100% - 180px)",
    "left": "10px",
    "top": "150px",
    "width": "288px"
   },
   "toc_section_display": true,
   "toc_window_display": true
  },
  "varInspector": {
   "cols": {
    "lenName": 16,
    "lenType": 16,
    "lenVar": 40
   },
   "kernels_config": {
    "python": {
     "delete_cmd_postfix": "",
     "delete_cmd_prefix": "del ",
     "library": "var_list.py",
     "varRefreshCmd": "print(var_dic_list())"
    },
    "r": {
     "delete_cmd_postfix": ") ",
     "delete_cmd_prefix": "rm(",
     "library": "var_list.r",
     "varRefreshCmd": "cat(var_dic_list()) "
    }
   },
   "types_to_exclude": [
    "module",
    "function",
    "builtin_function_or_method",
    "instance",
    "_Feature"
   ],
   "window_display": false
  }
 },
 "nbformat": 4,
 "nbformat_minor": 2
}
