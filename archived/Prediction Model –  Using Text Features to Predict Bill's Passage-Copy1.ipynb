{
 "cells": [
  {
   "cell_type": "markdown",
   "metadata": {},
   "source": [
    "# Prediction Model –  Using Text Features to Predict Bill's Passage"
   ]
  },
  {
   "cell_type": "code",
   "execution_count": 1,
   "metadata": {
    "ExecuteTime": {
     "end_time": "2019-11-28T04:00:14.925998Z",
     "start_time": "2019-11-28T04:00:14.546462Z"
    }
   },
   "outputs": [],
   "source": [
    "import pandas as pd\n",
    "import numpy as np\n",
    "import pickle"
   ]
  },
  {
   "cell_type": "code",
   "execution_count": 2,
   "metadata": {
    "ExecuteTime": {
     "end_time": "2019-11-28T04:00:14.969161Z",
     "start_time": "2019-11-28T04:00:14.928275Z"
    }
   },
   "outputs": [
    {
     "data": {
      "text/html": [
       "<div>\n",
       "<style scoped>\n",
       "    .dataframe tbody tr th:only-of-type {\n",
       "        vertical-align: middle;\n",
       "    }\n",
       "\n",
       "    .dataframe tbody tr th {\n",
       "        vertical-align: top;\n",
       "    }\n",
       "\n",
       "    .dataframe thead th {\n",
       "        text-align: right;\n",
       "    }\n",
       "</style>\n",
       "<table border=\"1\" class=\"dataframe\">\n",
       "  <thead>\n",
       "    <tr style=\"text-align: right;\">\n",
       "      <th></th>\n",
       "      <th>bill_id</th>\n",
       "      <th>long_title</th>\n",
       "      <th>bill_status</th>\n",
       "    </tr>\n",
       "  </thead>\n",
       "  <tbody>\n",
       "    <tr>\n",
       "      <td>0</td>\n",
       "      <td>17SBN-2235</td>\n",
       "      <td>fiscal regime mining industry</td>\n",
       "      <td>Pending</td>\n",
       "    </tr>\n",
       "    <tr>\n",
       "      <td>1</td>\n",
       "      <td>17SBN-2234</td>\n",
       "      <td>sale certain land barangay city university cit...</td>\n",
       "      <td>Passed</td>\n",
       "    </tr>\n",
       "    <tr>\n",
       "      <td>2</td>\n",
       "      <td>17SBN-2233</td>\n",
       "      <td>excise tax tobacco tax incremental tobacco exc...</td>\n",
       "      <td>Passed</td>\n",
       "    </tr>\n",
       "    <tr>\n",
       "      <td>3</td>\n",
       "      <td>17SBN-2232</td>\n",
       "      <td>institutionalization development training orga...</td>\n",
       "      <td>Pending</td>\n",
       "    </tr>\n",
       "    <tr>\n",
       "      <td>4</td>\n",
       "      <td>17SBN-2231</td>\n",
       "      <td>bank</td>\n",
       "      <td>Pending</td>\n",
       "    </tr>\n",
       "  </tbody>\n",
       "</table>\n",
       "</div>"
      ],
      "text/plain": [
       "      bill_id                                         long_title bill_status\n",
       "0  17SBN-2235                      fiscal regime mining industry     Pending\n",
       "1  17SBN-2234  sale certain land barangay city university cit...      Passed\n",
       "2  17SBN-2233  excise tax tobacco tax incremental tobacco exc...      Passed\n",
       "3  17SBN-2232  institutionalization development training orga...     Pending\n",
       "4  17SBN-2231                                               bank     Pending"
      ]
     },
     "execution_count": 2,
     "metadata": {},
     "output_type": "execute_result"
    }
   ],
   "source": [
    "df_billText = pd.read_csv('billText_Processed_n.csv',index_col=0)\n",
    "df_billText.head()"
   ]
  },
  {
   "cell_type": "code",
   "execution_count": 3,
   "metadata": {
    "ExecuteTime": {
     "end_time": "2019-11-28T04:00:14.982114Z",
     "start_time": "2019-11-28T04:00:14.972274Z"
    }
   },
   "outputs": [
    {
     "data": {
      "text/plain": [
       "Pending     14167\n",
       "Passed        422\n",
       "Archived       89\n",
       "Name: bill_status, dtype: int64"
      ]
     },
     "execution_count": 3,
     "metadata": {},
     "output_type": "execute_result"
    }
   ],
   "source": [
    "df_billText.bill_status.value_counts()"
   ]
  },
  {
   "cell_type": "code",
   "execution_count": 4,
   "metadata": {
    "ExecuteTime": {
     "end_time": "2019-11-28T04:00:15.000706Z",
     "start_time": "2019-11-28T04:00:14.987094Z"
    }
   },
   "outputs": [],
   "source": [
    "df_billText = df_billText[df_billText.bill_status!='Pending']"
   ]
  },
  {
   "cell_type": "code",
   "execution_count": 5,
   "metadata": {
    "ExecuteTime": {
     "end_time": "2019-11-28T04:00:15.021226Z",
     "start_time": "2019-11-28T04:00:15.009034Z"
    }
   },
   "outputs": [],
   "source": [
    "df_billText['target']=np.where(df_billText.bill_status=='Passed',True,False)"
   ]
  },
  {
   "cell_type": "code",
   "execution_count": 6,
   "metadata": {
    "ExecuteTime": {
     "end_time": "2019-11-28T04:00:15.051209Z",
     "start_time": "2019-11-28T04:00:15.025907Z"
    }
   },
   "outputs": [
    {
     "data": {
      "text/html": [
       "<div>\n",
       "<style scoped>\n",
       "    .dataframe tbody tr th:only-of-type {\n",
       "        vertical-align: middle;\n",
       "    }\n",
       "\n",
       "    .dataframe tbody tr th {\n",
       "        vertical-align: top;\n",
       "    }\n",
       "\n",
       "    .dataframe thead th {\n",
       "        text-align: right;\n",
       "    }\n",
       "</style>\n",
       "<table border=\"1\" class=\"dataframe\">\n",
       "  <thead>\n",
       "    <tr style=\"text-align: right;\">\n",
       "      <th></th>\n",
       "      <th>bill_id</th>\n",
       "      <th>long_title</th>\n",
       "      <th>bill_status</th>\n",
       "      <th>target</th>\n",
       "    </tr>\n",
       "  </thead>\n",
       "  <tbody>\n",
       "    <tr>\n",
       "      <td>1</td>\n",
       "      <td>17SBN-2234</td>\n",
       "      <td>sale certain land barangay city university cit...</td>\n",
       "      <td>Passed</td>\n",
       "      <td>True</td>\n",
       "    </tr>\n",
       "    <tr>\n",
       "      <td>2</td>\n",
       "      <td>17SBN-2233</td>\n",
       "      <td>excise tax tobacco tax incremental tobacco exc...</td>\n",
       "      <td>Passed</td>\n",
       "      <td>True</td>\n",
       "    </tr>\n",
       "    <tr>\n",
       "      <td>7</td>\n",
       "      <td>17SBN-2228</td>\n",
       "      <td>nature park barangay city province responsible...</td>\n",
       "      <td>Passed</td>\n",
       "      <td>True</td>\n",
       "    </tr>\n",
       "    <tr>\n",
       "      <td>40</td>\n",
       "      <td>17SBN-2195</td>\n",
       "      <td>court community service lieu imprisonment chap...</td>\n",
       "      <td>Passed</td>\n",
       "      <td>True</td>\n",
       "    </tr>\n",
       "    <tr>\n",
       "      <td>47</td>\n",
       "      <td>17SBN-2188</td>\n",
       "      <td>bed capacity memorial hospital medical center ...</td>\n",
       "      <td>Passed</td>\n",
       "      <td>True</td>\n",
       "    </tr>\n",
       "  </tbody>\n",
       "</table>\n",
       "</div>"
      ],
      "text/plain": [
       "       bill_id                                         long_title bill_status  \\\n",
       "1   17SBN-2234  sale certain land barangay city university cit...      Passed   \n",
       "2   17SBN-2233  excise tax tobacco tax incremental tobacco exc...      Passed   \n",
       "7   17SBN-2228  nature park barangay city province responsible...      Passed   \n",
       "40  17SBN-2195  court community service lieu imprisonment chap...      Passed   \n",
       "47  17SBN-2188  bed capacity memorial hospital medical center ...      Passed   \n",
       "\n",
       "    target  \n",
       "1     True  \n",
       "2     True  \n",
       "7     True  \n",
       "40    True  \n",
       "47    True  "
      ]
     },
     "execution_count": 6,
     "metadata": {},
     "output_type": "execute_result"
    }
   ],
   "source": [
    "df_billText.head()"
   ]
  },
  {
   "cell_type": "code",
   "execution_count": 7,
   "metadata": {
    "ExecuteTime": {
     "end_time": "2019-11-28T04:00:15.075943Z",
     "start_time": "2019-11-28T04:00:15.063216Z"
    }
   },
   "outputs": [
    {
     "data": {
      "text/plain": [
       "True     422\n",
       "False     89\n",
       "Name: target, dtype: int64"
      ]
     },
     "execution_count": 7,
     "metadata": {},
     "output_type": "execute_result"
    }
   ],
   "source": [
    "df_billText.target.value_counts(dropna=False)"
   ]
  },
  {
   "cell_type": "code",
   "execution_count": 8,
   "metadata": {
    "ExecuteTime": {
     "end_time": "2019-11-28T04:00:15.686702Z",
     "start_time": "2019-11-28T04:00:15.080146Z"
    }
   },
   "outputs": [],
   "source": [
    "from sklearn.feature_extraction.text import TfidfVectorizer"
   ]
  },
  {
   "cell_type": "code",
   "execution_count": 9,
   "metadata": {
    "ExecuteTime": {
     "end_time": "2019-11-28T04:00:15.701013Z",
     "start_time": "2019-11-28T04:00:15.688617Z"
    }
   },
   "outputs": [],
   "source": [
    "tfidf = TfidfVectorizer(stop_words=\"english\")\n",
    "tfidf_v = tfidf.fit_transform(df_billText.long_title)"
   ]
  },
  {
   "cell_type": "code",
   "execution_count": 10,
   "metadata": {
    "ExecuteTime": {
     "end_time": "2019-11-28T04:00:15.720752Z",
     "start_time": "2019-11-28T04:00:15.703782Z"
    }
   },
   "outputs": [],
   "source": [
    "from sklearn.model_selection import train_test_split"
   ]
  },
  {
   "cell_type": "code",
   "execution_count": 11,
   "metadata": {
    "ExecuteTime": {
     "end_time": "2019-11-28T04:00:15.737007Z",
     "start_time": "2019-11-28T04:00:15.724916Z"
    }
   },
   "outputs": [
    {
     "name": "stdout",
     "output_type": "stream",
     "text": [
      "Our train set has 383 data points whilst our test set has 128 data points.\n",
      "\n",
      "78.12% from the test set are actual positives.\n"
     ]
    }
   ],
   "source": [
    "X_train, X_test, y_train, y_test = train_test_split(tfidf_v, df_billText.target, test_size = 0.25, random_state=43)\n",
    "print(f\"Our train set has {X_train.shape[0]:,} data points whilst our test set has {X_test.shape[0]:,} data points.\")\n",
    "print(f\"\\n{y_test.sum()/X_test.shape[0]:.2%} from the test set are actual positives.\")"
   ]
  },
  {
   "cell_type": "code",
   "execution_count": 12,
   "metadata": {
    "ExecuteTime": {
     "end_time": "2019-11-28T04:00:15.757428Z",
     "start_time": "2019-11-28T04:00:15.746157Z"
    }
   },
   "outputs": [
    {
     "name": "stdout",
     "output_type": "stream",
     "text": [
      "\n",
      "84.07% from the test set are actual positives.\n"
     ]
    }
   ],
   "source": [
    "print(f\"\\n{y_train.sum()/X_train.shape[0]:.2%} from the test set are actual positives.\")"
   ]
  },
  {
   "cell_type": "code",
   "execution_count": 13,
   "metadata": {
    "ExecuteTime": {
     "end_time": "2019-11-28T04:00:15.887309Z",
     "start_time": "2019-11-28T04:00:15.760789Z"
    }
   },
   "outputs": [],
   "source": [
    "from imblearn.under_sampling import RandomUnderSampler "
   ]
  },
  {
   "cell_type": "code",
   "execution_count": 14,
   "metadata": {
    "ExecuteTime": {
     "end_time": "2019-11-28T04:00:15.897167Z",
     "start_time": "2019-11-28T04:00:15.890181Z"
    }
   },
   "outputs": [
    {
     "name": "stdout",
     "output_type": "stream",
     "text": [
      "Our new data set has 122 data points.\n"
     ]
    }
   ],
   "source": [
    "rus = RandomUnderSampler(random_state=42)\n",
    "nx, ny = rus.fit_resample(X_train, y_train)\n",
    "print(f\"Our new data set has {ny.shape[0]} data points.\")"
   ]
  },
  {
   "cell_type": "code",
   "execution_count": 15,
   "metadata": {
    "ExecuteTime": {
     "end_time": "2019-11-28T04:00:15.905108Z",
     "start_time": "2019-11-28T04:00:15.899228Z"
    }
   },
   "outputs": [],
   "source": [
    "from sklearn.decomposition import TruncatedSVD"
   ]
  },
  {
   "cell_type": "code",
   "execution_count": 16,
   "metadata": {
    "ExecuteTime": {
     "end_time": "2019-11-28T04:00:16.145419Z",
     "start_time": "2019-11-28T04:00:15.908319Z"
    }
   },
   "outputs": [],
   "source": [
    "svd = TruncatedSVD(n_components=20, algorithm='arpack', random_state = 42)\n",
    "nx_train_svd = svd.fit_transform(nx)\n",
    "x_test_svd = svd.transform(X_test)"
   ]
  },
  {
   "cell_type": "code",
   "execution_count": 17,
   "metadata": {
    "ExecuteTime": {
     "end_time": "2019-11-28T04:00:16.162161Z",
     "start_time": "2019-11-28T04:00:16.151716Z"
    }
   },
   "outputs": [],
   "source": [
    "from sklearn.svm import SVC"
   ]
  },
  {
   "cell_type": "code",
   "execution_count": 18,
   "metadata": {
    "ExecuteTime": {
     "end_time": "2019-11-28T04:00:16.182710Z",
     "start_time": "2019-11-28T04:00:16.170639Z"
    }
   },
   "outputs": [
    {
     "data": {
      "text/plain": [
       "SVC(C=1.0, cache_size=200, class_weight=None, coef0=0.0,\n",
       "    decision_function_shape='ovr', degree=3, gamma='auto', kernel='linear',\n",
       "    max_iter=-1, probability=False, random_state=42, shrinking=True, tol=0.001,\n",
       "    verbose=False)"
      ]
     },
     "execution_count": 18,
     "metadata": {},
     "output_type": "execute_result"
    }
   ],
   "source": [
    "svc = SVC(gamma='auto', kernel='linear', random_state = 42)\n",
    "svc.fit(nx_train_svd, ny)"
   ]
  },
  {
   "cell_type": "code",
   "execution_count": 19,
   "metadata": {
    "ExecuteTime": {
     "end_time": "2019-11-28T04:00:16.197592Z",
     "start_time": "2019-11-28T04:00:16.186226Z"
    }
   },
   "outputs": [],
   "source": [
    "predicted = svc.predict(x_test_svd)"
   ]
  },
  {
   "cell_type": "code",
   "execution_count": 20,
   "metadata": {
    "ExecuteTime": {
     "end_time": "2019-11-28T04:00:16.209455Z",
     "start_time": "2019-11-28T04:00:16.200477Z"
    }
   },
   "outputs": [],
   "source": [
    "from sklearn.metrics import classification_report"
   ]
  },
  {
   "cell_type": "code",
   "execution_count": 21,
   "metadata": {
    "ExecuteTime": {
     "end_time": "2019-11-28T04:00:16.255667Z",
     "start_time": "2019-11-28T04:00:16.217462Z"
    }
   },
   "outputs": [
    {
     "name": "stdout",
     "output_type": "stream",
     "text": [
      "              precision    recall  f1-score   support\n",
      "\n",
      "       False       0.27      0.89      0.41        28\n",
      "        True       0.91      0.32      0.47       100\n",
      "\n",
      "    accuracy                           0.45       128\n",
      "   macro avg       0.59      0.61      0.44       128\n",
      "weighted avg       0.77      0.45      0.46       128\n",
      "\n"
     ]
    }
   ],
   "source": [
    "print(classification_report(y_test, predicted))"
   ]
  },
  {
   "cell_type": "code",
   "execution_count": null,
   "metadata": {},
   "outputs": [],
   "source": []
  }
 ],
 "metadata": {
  "hide_input": false,
  "kernelspec": {
   "display_name": "Python 3",
   "language": "python",
   "name": "python3"
  },
  "language_info": {
   "codemirror_mode": {
    "name": "ipython",
    "version": 3
   },
   "file_extension": ".py",
   "mimetype": "text/x-python",
   "name": "python",
   "nbconvert_exporter": "python",
   "pygments_lexer": "ipython3",
   "version": "3.6.9"
  },
  "toc": {
   "base_numbering": 1,
   "nav_menu": {},
   "number_sections": false,
   "sideBar": true,
   "skip_h1_title": true,
   "title_cell": "Table of Contents",
   "title_sidebar": "Contents",
   "toc_cell": false,
   "toc_position": {},
   "toc_section_display": true,
   "toc_window_display": true
  },
  "varInspector": {
   "cols": {
    "lenName": 16,
    "lenType": 16,
    "lenVar": 40
   },
   "kernels_config": {
    "python": {
     "delete_cmd_postfix": "",
     "delete_cmd_prefix": "del ",
     "library": "var_list.py",
     "varRefreshCmd": "print(var_dic_list())"
    },
    "r": {
     "delete_cmd_postfix": ") ",
     "delete_cmd_prefix": "rm(",
     "library": "var_list.r",
     "varRefreshCmd": "cat(var_dic_list()) "
    }
   },
   "types_to_exclude": [
    "module",
    "function",
    "builtin_function_or_method",
    "instance",
    "_Feature"
   ],
   "window_display": false
  }
 },
 "nbformat": 4,
 "nbformat_minor": 4
}
