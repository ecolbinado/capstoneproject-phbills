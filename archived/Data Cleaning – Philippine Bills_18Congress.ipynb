{
 "cells": [
  {
   "cell_type": "markdown",
   "metadata": {},
   "source": [
    "# Data Cleaning on Senate Bills from 13th Congress to 17th Congress"
   ]
  },
  {
   "cell_type": "markdown",
   "metadata": {},
   "source": [
    "## Importing Python Packages"
   ]
  },
  {
   "cell_type": "code",
   "execution_count": 1,
   "metadata": {
    "ExecuteTime": {
     "end_time": "2019-11-27T09:33:33.417315Z",
     "start_time": "2019-11-27T09:33:30.926642Z"
    }
   },
   "outputs": [],
   "source": [
    "# For loading, manipulating dataframe.\n",
    "import pandas as pd\n",
    "import sqlite3, datetime, re\n",
    "\n",
    "# For Text Preprocessing\n",
    "from nltk import word_tokenize, pos_tag\n",
    "from nltk.corpus import stopwords\n",
    "from nltk.stem import WordNetLemmatizer\n",
    "from nltk.stem import SnowballStemmer\n",
    "\n",
    "# Vectorizers\n",
    "from sklearn.feature_extraction.text import TfidfVectorizer\n",
    "from sklearn.preprocessing import StandardScaler\n",
    "\n",
    "# Visualizations\n",
    "from matplotlib import pyplot as plt\n",
    "%matplotlib inline\n",
    "import seaborn as sns\n",
    "\n",
    "# Modeling\n",
    "from sklearn.model_selection import train_test_split\n",
    "from imblearn.under_sampling import RandomUnderSampler \n",
    "from sklearn.decomposition import TruncatedSVD\n",
    "from sklearn.svm import SVC\n",
    "from sklearn.metrics import classification_report\n",
    "\n",
    "# Hide Warning messages\n",
    "import warnings\n",
    "warnings.filterwarnings('ignore')"
   ]
  },
  {
   "cell_type": "code",
   "execution_count": 2,
   "metadata": {
    "ExecuteTime": {
     "end_time": "2019-11-27T09:33:33.979881Z",
     "start_time": "2019-11-27T09:33:33.463306Z"
    }
   },
   "outputs": [],
   "source": [
    "con = sqlite3.connect(\"phBills.db\")\n",
    "df_bills = pd.read_sql_query(\"SELECT * from senateBills\", con, index_col = None, parse_dates = ['date_filed','date_lastUpdate'])\n",
    "con.close()"
   ]
  },
  {
   "cell_type": "code",
   "execution_count": 3,
   "metadata": {
    "ExecuteTime": {
     "end_time": "2019-11-27T09:33:35.174647Z",
     "start_time": "2019-11-27T09:33:34.893316Z"
    }
   },
   "outputs": [],
   "source": [
    "df_senators = pd.read_excel('Bills_18congress_w_authors.xlsx',sheet_name='Sheet2')"
   ]
  },
  {
   "cell_type": "code",
   "execution_count": 4,
   "metadata": {
    "ExecuteTime": {
     "end_time": "2019-11-27T09:33:40.026977Z",
     "start_time": "2019-11-27T09:33:39.989141Z"
    }
   },
   "outputs": [],
   "source": [
    "df_bills['passed']=np.where(df_bills.ra!='',True, False)\n",
    "df_bills['long_title']=df_bills['long_title'].str.lower()\n",
    "df_bills = df_bills[df_bills['congress']==18]"
   ]
  },
  {
   "cell_type": "code",
   "execution_count": 5,
   "metadata": {
    "ExecuteTime": {
     "end_time": "2019-11-27T09:33:41.023525Z",
     "start_time": "2019-11-27T09:33:40.976115Z"
    }
   },
   "outputs": [
    {
     "data": {
      "text/html": [
       "<div>\n",
       "<style scoped>\n",
       "    .dataframe tbody tr th:only-of-type {\n",
       "        vertical-align: middle;\n",
       "    }\n",
       "\n",
       "    .dataframe tbody tr th {\n",
       "        vertical-align: top;\n",
       "    }\n",
       "\n",
       "    .dataframe thead th {\n",
       "        text-align: right;\n",
       "    }\n",
       "</style>\n",
       "<table border=\"1\" class=\"dataframe\">\n",
       "  <thead>\n",
       "    <tr style=\"text-align: right;\">\n",
       "      <th></th>\n",
       "      <th>bill_id</th>\n",
       "      <th>num</th>\n",
       "      <th>link</th>\n",
       "      <th>congress</th>\n",
       "      <th>short_title</th>\n",
       "      <th>long_title</th>\n",
       "      <th>date_filed</th>\n",
       "      <th>scope</th>\n",
       "      <th>status</th>\n",
       "      <th>author</th>\n",
       "      <th>subject</th>\n",
       "      <th>pri_committee</th>\n",
       "      <th>date_lastUpdate</th>\n",
       "      <th>logs</th>\n",
       "      <th>ra</th>\n",
       "      <th>passed</th>\n",
       "    </tr>\n",
       "  </thead>\n",
       "  <tbody>\n",
       "    <tr>\n",
       "      <td>0</td>\n",
       "      <td>18SBN-1153</td>\n",
       "      <td>SBN-1153</td>\n",
       "      <td>http://www.senate.gov.ph/lis/bill_res.aspx?con...</td>\n",
       "      <td>18</td>\n",
       "      <td>AMENDING SEC. 65 OF R.A. 11260, GENERAL APPROP...</td>\n",
       "      <td>an act amending section 65 of republic act no....</td>\n",
       "      <td>2019-11-06</td>\n",
       "      <td>National</td>\n",
       "      <td>Pending in the Committee</td>\n",
       "      <td>Angara, Sonny</td>\n",
       "      <td>General Appropriations Act (GAA)</td>\n",
       "      <td>Finance</td>\n",
       "      <td>2019-11-06</td>\n",
       "      <td>11/6/2019\\nIntroduced by Senator SONNY ANGARA;...</td>\n",
       "      <td></td>\n",
       "      <td>False</td>\n",
       "    </tr>\n",
       "    <tr>\n",
       "      <td>1</td>\n",
       "      <td>18SBN-1152</td>\n",
       "      <td>SBN-1152</td>\n",
       "      <td>http://www.senate.gov.ph/lis/bill_res.aspx?con...</td>\n",
       "      <td>18</td>\n",
       "      <td>PROFESSIONAL FILIPINO ATHLETES INSURANCE BENEF...</td>\n",
       "      <td>an act providing insurance coverage to profess...</td>\n",
       "      <td>2019-11-06</td>\n",
       "      <td>National</td>\n",
       "      <td>Pending in the Committee</td>\n",
       "      <td>Lapid, Manuel \"Lito\" M.</td>\n",
       "      <td>AthletesInsuranceGames and Amusements Board</td>\n",
       "      <td>Sports</td>\n",
       "      <td>2019-11-06</td>\n",
       "      <td>11/6/2019\\nIntroduced by Senator MANUEL \"LITO\"...</td>\n",
       "      <td></td>\n",
       "      <td>False</td>\n",
       "    </tr>\n",
       "  </tbody>\n",
       "</table>\n",
       "</div>"
      ],
      "text/plain": [
       "      bill_id       num                                               link  \\\n",
       "0  18SBN-1153  SBN-1153  http://www.senate.gov.ph/lis/bill_res.aspx?con...   \n",
       "1  18SBN-1152  SBN-1152  http://www.senate.gov.ph/lis/bill_res.aspx?con...   \n",
       "\n",
       "   congress                                        short_title  \\\n",
       "0        18  AMENDING SEC. 65 OF R.A. 11260, GENERAL APPROP...   \n",
       "1        18  PROFESSIONAL FILIPINO ATHLETES INSURANCE BENEF...   \n",
       "\n",
       "                                          long_title date_filed     scope  \\\n",
       "0  an act amending section 65 of republic act no.... 2019-11-06  National   \n",
       "1  an act providing insurance coverage to profess... 2019-11-06  National   \n",
       "\n",
       "                     status                   author  \\\n",
       "0  Pending in the Committee            Angara, Sonny   \n",
       "1  Pending in the Committee  Lapid, Manuel \"Lito\" M.   \n",
       "\n",
       "                                       subject pri_committee date_lastUpdate  \\\n",
       "0             General Appropriations Act (GAA)       Finance      2019-11-06   \n",
       "1  AthletesInsuranceGames and Amusements Board        Sports      2019-11-06   \n",
       "\n",
       "                                                logs ra  passed  \n",
       "0  11/6/2019\\nIntroduced by Senator SONNY ANGARA;...      False  \n",
       "1  11/6/2019\\nIntroduced by Senator MANUEL \"LITO\"...      False  "
      ]
     },
     "execution_count": 5,
     "metadata": {},
     "output_type": "execute_result"
    }
   ],
   "source": [
    "df_bills.head(2)"
   ]
  },
  {
   "cell_type": "code",
   "execution_count": 6,
   "metadata": {
    "ExecuteTime": {
     "end_time": "2019-11-27T09:33:44.456761Z",
     "start_time": "2019-11-27T09:33:44.416606Z"
    }
   },
   "outputs": [
    {
     "data": {
      "text/html": [
       "<div>\n",
       "<style scoped>\n",
       "    .dataframe tbody tr th:only-of-type {\n",
       "        vertical-align: middle;\n",
       "    }\n",
       "\n",
       "    .dataframe tbody tr th {\n",
       "        vertical-align: top;\n",
       "    }\n",
       "\n",
       "    .dataframe thead th {\n",
       "        text-align: right;\n",
       "    }\n",
       "</style>\n",
       "<table border=\"1\" class=\"dataframe\">\n",
       "  <thead>\n",
       "    <tr style=\"text-align: right;\">\n",
       "      <th></th>\n",
       "      <th>bill_id</th>\n",
       "      <th>num</th>\n",
       "      <th>link</th>\n",
       "      <th>congress</th>\n",
       "      <th>short_title</th>\n",
       "      <th>long_title</th>\n",
       "      <th>date_filed</th>\n",
       "      <th>scope</th>\n",
       "      <th>status</th>\n",
       "      <th>author</th>\n",
       "      <th>subject</th>\n",
       "      <th>pri_committee</th>\n",
       "      <th>date_lastUpdate</th>\n",
       "      <th>logs</th>\n",
       "      <th>ra</th>\n",
       "      <th>passed</th>\n",
       "    </tr>\n",
       "  </thead>\n",
       "  <tbody>\n",
       "    <tr>\n",
       "      <td>39</td>\n",
       "      <td>18SBN-1114</td>\n",
       "      <td>SBN-1114</td>\n",
       "      <td>http://www.senate.gov.ph/lis/bill_res.aspx?con...</td>\n",
       "      <td>18</td>\n",
       "      <td>GREEN ENERGY EDUCATION ACT OF 2019</td>\n",
       "      <td>an act authorizing higher education curriculum...</td>\n",
       "      <td>2019-10-14</td>\n",
       "      <td>National</td>\n",
       "      <td>Withdrawn</td>\n",
       "      <td>Revilla Jr., Ramon Bong</td>\n",
       "      <td></td>\n",
       "      <td></td>\n",
       "      <td>2019-10-28</td>\n",
       "      <td>10/14/2019\\nIntroduced by Senator RAMON BONG R...</td>\n",
       "      <td></td>\n",
       "      <td>False</td>\n",
       "    </tr>\n",
       "  </tbody>\n",
       "</table>\n",
       "</div>"
      ],
      "text/plain": [
       "       bill_id       num                                               link  \\\n",
       "39  18SBN-1114  SBN-1114  http://www.senate.gov.ph/lis/bill_res.aspx?con...   \n",
       "\n",
       "    congress                         short_title  \\\n",
       "39        18  GREEN ENERGY EDUCATION ACT OF 2019   \n",
       "\n",
       "                                           long_title date_filed     scope  \\\n",
       "39  an act authorizing higher education curriculum... 2019-10-14  National   \n",
       "\n",
       "       status                   author subject pri_committee date_lastUpdate  \\\n",
       "39  Withdrawn  Revilla Jr., Ramon Bong                            2019-10-28   \n",
       "\n",
       "                                                 logs ra  passed  \n",
       "39  10/14/2019\\nIntroduced by Senator RAMON BONG R...      False  "
      ]
     },
     "execution_count": 6,
     "metadata": {},
     "output_type": "execute_result"
    }
   ],
   "source": [
    "df_bills[df_bills.bill_id=='18SBN-1114']"
   ]
  },
  {
   "cell_type": "code",
   "execution_count": 7,
   "metadata": {
    "ExecuteTime": {
     "end_time": "2019-11-27T09:34:02.408373Z",
     "start_time": "2019-11-27T09:34:02.357596Z"
    }
   },
   "outputs": [
    {
     "data": {
      "text/html": [
       "<div>\n",
       "<style scoped>\n",
       "    .dataframe tbody tr th:only-of-type {\n",
       "        vertical-align: middle;\n",
       "    }\n",
       "\n",
       "    .dataframe tbody tr th {\n",
       "        vertical-align: top;\n",
       "    }\n",
       "\n",
       "    .dataframe thead th {\n",
       "        text-align: right;\n",
       "    }\n",
       "</style>\n",
       "<table border=\"1\" class=\"dataframe\">\n",
       "  <thead>\n",
       "    <tr style=\"text-align: right;\">\n",
       "      <th></th>\n",
       "      <th>Index</th>\n",
       "      <th>bill_id</th>\n",
       "      <th>num</th>\n",
       "      <th>congress</th>\n",
       "      <th>scope</th>\n",
       "      <th>Status2</th>\n",
       "      <th>ra</th>\n",
       "      <th># of Authors</th>\n",
       "      <th>Primary Auth S</th>\n",
       "      <th>Primary Auth F</th>\n",
       "      <th>...</th>\n",
       "      <th>Party</th>\n",
       "      <th># of Terms</th>\n",
       "      <th>Term Starts</th>\n",
       "      <th>Term Ends</th>\n",
       "      <th>Bloc</th>\n",
       "      <th>City/municipality of registration</th>\n",
       "      <th>Congress starts</th>\n",
       "      <th>Filing Year</th>\n",
       "      <th>Senate Service start</th>\n",
       "      <th>Years of Service</th>\n",
       "    </tr>\n",
       "  </thead>\n",
       "  <tbody>\n",
       "    <tr>\n",
       "      <td>39</td>\n",
       "      <td>39</td>\n",
       "      <td>18SBN-1114</td>\n",
       "      <td>SBN-1114</td>\n",
       "      <td>18</td>\n",
       "      <td>National</td>\n",
       "      <td>Others</td>\n",
       "      <td>NaN</td>\n",
       "      <td>1</td>\n",
       "      <td>Revilla Jr</td>\n",
       "      <td>Ramon</td>\n",
       "      <td>...</td>\n",
       "      <td>Lakas</td>\n",
       "      <td>1</td>\n",
       "      <td>June 30, 2019</td>\n",
       "      <td>June 30, 2025</td>\n",
       "      <td>Majority</td>\n",
       "      <td>Bacoor</td>\n",
       "      <td>2004</td>\n",
       "      <td>2019</td>\n",
       "      <td>2004</td>\n",
       "      <td>15</td>\n",
       "    </tr>\n",
       "  </tbody>\n",
       "</table>\n",
       "<p>1 rows × 23 columns</p>\n",
       "</div>"
      ],
      "text/plain": [
       "    Index     bill_id       num  congress     scope Status2  ra # of Authors  \\\n",
       "39     39  18SBN-1114  SBN-1114        18  National  Others NaN            1   \n",
       "\n",
       "   Primary Auth S Primary Auth F  ...  Party # of Terms    Term Starts  \\\n",
       "39     Revilla Jr          Ramon  ...  Lakas          1  June 30, 2019   \n",
       "\n",
       "        Term Ends      Bloc City/municipality of registration Congress starts  \\\n",
       "39  June 30, 2025  Majority                            Bacoor            2004   \n",
       "\n",
       "   Filing Year Senate Service start  Years of Service  \n",
       "39        2019                 2004                15  \n",
       "\n",
       "[1 rows x 23 columns]"
      ]
     },
     "execution_count": 7,
     "metadata": {},
     "output_type": "execute_result"
    }
   ],
   "source": [
    "df_senators[df_senators.bill_id=='18SBN-1114']"
   ]
  },
  {
   "cell_type": "code",
   "execution_count": 8,
   "metadata": {
    "ExecuteTime": {
     "end_time": "2019-11-27T09:34:07.384182Z",
     "start_time": "2019-11-27T09:34:07.375931Z"
    }
   },
   "outputs": [
    {
     "data": {
      "text/plain": [
       "Pending in the Committee                            1112\n",
       "Consolidated/Substituted in the Committee Report      27\n",
       "Pending Second Reading, Special Order                  6\n",
       "Withdrawn                                              4\n",
       "Approved on  Second Reading, with Amendments           2\n",
       "Pending Conference Committee                           1\n",
       "Pending Second Reading, Ordinary Business              1\n",
       "Name: status, dtype: int64"
      ]
     },
     "execution_count": 8,
     "metadata": {},
     "output_type": "execute_result"
    }
   ],
   "source": [
    "df_bills.status.value_counts()"
   ]
  },
  {
   "cell_type": "code",
   "execution_count": 9,
   "metadata": {
    "ExecuteTime": {
     "end_time": "2019-11-27T09:34:12.102920Z",
     "start_time": "2019-11-27T09:34:12.098431Z"
    }
   },
   "outputs": [],
   "source": [
    "df_bills.drop(['link','short_title','subject','pri_committee','ra','logs'],axis=1,inplace=True)"
   ]
  },
  {
   "cell_type": "code",
   "execution_count": 10,
   "metadata": {
    "ExecuteTime": {
     "end_time": "2019-11-27T09:34:13.812431Z",
     "start_time": "2019-11-27T09:34:13.804537Z"
    }
   },
   "outputs": [
    {
     "data": {
      "text/plain": [
       "bill_id            False\n",
       "num                False\n",
       "congress           False\n",
       "long_title         False\n",
       "date_filed         False\n",
       "scope              False\n",
       "status             False\n",
       "author             False\n",
       "date_lastUpdate    False\n",
       "passed             False\n",
       "dtype: bool"
      ]
     },
     "execution_count": 10,
     "metadata": {},
     "output_type": "execute_result"
    }
   ],
   "source": [
    "df_bills.isna().any()"
   ]
  },
  {
   "cell_type": "code",
   "execution_count": 11,
   "metadata": {
    "ExecuteTime": {
     "end_time": "2019-11-27T09:34:25.291302Z",
     "start_time": "2019-11-27T09:34:25.285521Z"
    }
   },
   "outputs": [],
   "source": [
    "df_senators=df_senators[['bill_id','Full Name Primary Author','Party','Bloc','Years of Service']]"
   ]
  },
  {
   "cell_type": "code",
   "execution_count": 12,
   "metadata": {
    "ExecuteTime": {
     "end_time": "2019-11-27T09:34:26.172481Z",
     "start_time": "2019-11-27T09:34:26.163398Z"
    }
   },
   "outputs": [
    {
     "data": {
      "text/html": [
       "<div>\n",
       "<style scoped>\n",
       "    .dataframe tbody tr th:only-of-type {\n",
       "        vertical-align: middle;\n",
       "    }\n",
       "\n",
       "    .dataframe tbody tr th {\n",
       "        vertical-align: top;\n",
       "    }\n",
       "\n",
       "    .dataframe thead th {\n",
       "        text-align: right;\n",
       "    }\n",
       "</style>\n",
       "<table border=\"1\" class=\"dataframe\">\n",
       "  <thead>\n",
       "    <tr style=\"text-align: right;\">\n",
       "      <th></th>\n",
       "      <th>bill_id</th>\n",
       "      <th>Full Name Primary Author</th>\n",
       "      <th>Party</th>\n",
       "      <th>Bloc</th>\n",
       "      <th>Years of Service</th>\n",
       "    </tr>\n",
       "  </thead>\n",
       "  <tbody>\n",
       "    <tr>\n",
       "      <td>0</td>\n",
       "      <td>18SBN-1153</td>\n",
       "      <td>Eduardo Angara</td>\n",
       "      <td>LDP</td>\n",
       "      <td>Majority</td>\n",
       "      <td>15</td>\n",
       "    </tr>\n",
       "    <tr>\n",
       "      <td>1</td>\n",
       "      <td>18SBN-1152</td>\n",
       "      <td>Lito Lapid</td>\n",
       "      <td>NPC</td>\n",
       "      <td>Majority</td>\n",
       "      <td>15</td>\n",
       "    </tr>\n",
       "  </tbody>\n",
       "</table>\n",
       "</div>"
      ],
      "text/plain": [
       "      bill_id Full Name Primary Author Party      Bloc  Years of Service\n",
       "0  18SBN-1153           Eduardo Angara   LDP  Majority                15\n",
       "1  18SBN-1152               Lito Lapid   NPC  Majority                15"
      ]
     },
     "execution_count": 12,
     "metadata": {},
     "output_type": "execute_result"
    }
   ],
   "source": [
    "df_senators.head(2)"
   ]
  },
  {
   "cell_type": "code",
   "execution_count": 13,
   "metadata": {
    "ExecuteTime": {
     "end_time": "2019-11-27T09:34:30.204557Z",
     "start_time": "2019-11-27T09:34:30.192765Z"
    }
   },
   "outputs": [
    {
     "data": {
      "text/html": [
       "<div>\n",
       "<style scoped>\n",
       "    .dataframe tbody tr th:only-of-type {\n",
       "        vertical-align: middle;\n",
       "    }\n",
       "\n",
       "    .dataframe tbody tr th {\n",
       "        vertical-align: top;\n",
       "    }\n",
       "\n",
       "    .dataframe thead th {\n",
       "        text-align: right;\n",
       "    }\n",
       "</style>\n",
       "<table border=\"1\" class=\"dataframe\">\n",
       "  <thead>\n",
       "    <tr style=\"text-align: right;\">\n",
       "      <th></th>\n",
       "      <th>bill_id</th>\n",
       "      <th>Full Name Primary Author</th>\n",
       "      <th>Party</th>\n",
       "      <th>Bloc</th>\n",
       "      <th>Years of Service</th>\n",
       "    </tr>\n",
       "  </thead>\n",
       "  <tbody>\n",
       "    <tr>\n",
       "      <td>39</td>\n",
       "      <td>18SBN-1114</td>\n",
       "      <td>Ramon Revilla Jr</td>\n",
       "      <td>Lakas</td>\n",
       "      <td>Majority</td>\n",
       "      <td>15</td>\n",
       "    </tr>\n",
       "  </tbody>\n",
       "</table>\n",
       "</div>"
      ],
      "text/plain": [
       "       bill_id Full Name Primary Author  Party      Bloc  Years of Service\n",
       "39  18SBN-1114         Ramon Revilla Jr  Lakas  Majority                15"
      ]
     },
     "execution_count": 13,
     "metadata": {},
     "output_type": "execute_result"
    }
   ],
   "source": [
    "df_senators[df_senators.bill_id=='18SBN-1114']"
   ]
  },
  {
   "cell_type": "code",
   "execution_count": 14,
   "metadata": {
    "ExecuteTime": {
     "end_time": "2019-11-27T09:34:34.404027Z",
     "start_time": "2019-11-27T09:34:34.399502Z"
    }
   },
   "outputs": [
    {
     "name": "stdout",
     "output_type": "stream",
     "text": [
      "Bills Data Points: 1,153\n",
      "Senators Data Points: 1,153\n"
     ]
    }
   ],
   "source": [
    "print(f\"Bills Data Points: {df_bills.shape[0]:,}\\nSenators Data Points: {df_senators.shape[0]:,}\")"
   ]
  },
  {
   "cell_type": "code",
   "execution_count": 15,
   "metadata": {
    "ExecuteTime": {
     "end_time": "2019-11-27T09:34:55.597125Z",
     "start_time": "2019-11-27T09:34:55.582276Z"
    }
   },
   "outputs": [
    {
     "data": {
      "text/html": [
       "<div>\n",
       "<style scoped>\n",
       "    .dataframe tbody tr th:only-of-type {\n",
       "        vertical-align: middle;\n",
       "    }\n",
       "\n",
       "    .dataframe tbody tr th {\n",
       "        vertical-align: top;\n",
       "    }\n",
       "\n",
       "    .dataframe thead th {\n",
       "        text-align: right;\n",
       "    }\n",
       "</style>\n",
       "<table border=\"1\" class=\"dataframe\">\n",
       "  <thead>\n",
       "    <tr style=\"text-align: right;\">\n",
       "      <th></th>\n",
       "      <th>bill_id</th>\n",
       "      <th>num</th>\n",
       "      <th>congress</th>\n",
       "      <th>long_title</th>\n",
       "      <th>date_filed</th>\n",
       "      <th>scope</th>\n",
       "      <th>status</th>\n",
       "      <th>author</th>\n",
       "      <th>date_lastUpdate</th>\n",
       "      <th>passed</th>\n",
       "    </tr>\n",
       "  </thead>\n",
       "  <tbody>\n",
       "    <tr>\n",
       "      <td>39</td>\n",
       "      <td>18SBN-1114</td>\n",
       "      <td>SBN-1114</td>\n",
       "      <td>18</td>\n",
       "      <td>an act authorizing higher education curriculum...</td>\n",
       "      <td>2019-10-14</td>\n",
       "      <td>National</td>\n",
       "      <td>Withdrawn</td>\n",
       "      <td>Revilla Jr., Ramon Bong</td>\n",
       "      <td>2019-10-28</td>\n",
       "      <td>False</td>\n",
       "    </tr>\n",
       "  </tbody>\n",
       "</table>\n",
       "</div>"
      ],
      "text/plain": [
       "       bill_id       num  congress  \\\n",
       "39  18SBN-1114  SBN-1114        18   \n",
       "\n",
       "                                           long_title date_filed     scope  \\\n",
       "39  an act authorizing higher education curriculum... 2019-10-14  National   \n",
       "\n",
       "       status                   author date_lastUpdate  passed  \n",
       "39  Withdrawn  Revilla Jr., Ramon Bong      2019-10-28   False  "
      ]
     },
     "execution_count": 15,
     "metadata": {},
     "output_type": "execute_result"
    }
   ],
   "source": [
    "df_bills[df_bills.bill_id=='18SBN-1114']"
   ]
  },
  {
   "cell_type": "code",
   "execution_count": 16,
   "metadata": {
    "ExecuteTime": {
     "end_time": "2019-11-27T09:35:10.494487Z",
     "start_time": "2019-11-27T09:35:10.481515Z"
    }
   },
   "outputs": [
    {
     "name": "stdout",
     "output_type": "stream",
     "text": [
      "Congress DF Data Points: 1,153\n"
     ]
    }
   ],
   "source": [
    "df_congress = pd.merge(df_bills,df_senators,how='left',on=['bill_id'])\n",
    "print(f\"Congress DF Data Points: {df_congress.shape[0]:,}\")"
   ]
  },
  {
   "cell_type": "code",
   "execution_count": 17,
   "metadata": {
    "ExecuteTime": {
     "end_time": "2019-11-27T09:35:21.594937Z",
     "start_time": "2019-11-27T09:35:21.575232Z"
    }
   },
   "outputs": [
    {
     "data": {
      "text/html": [
       "<div>\n",
       "<style scoped>\n",
       "    .dataframe tbody tr th:only-of-type {\n",
       "        vertical-align: middle;\n",
       "    }\n",
       "\n",
       "    .dataframe tbody tr th {\n",
       "        vertical-align: top;\n",
       "    }\n",
       "\n",
       "    .dataframe thead th {\n",
       "        text-align: right;\n",
       "    }\n",
       "</style>\n",
       "<table border=\"1\" class=\"dataframe\">\n",
       "  <thead>\n",
       "    <tr style=\"text-align: right;\">\n",
       "      <th></th>\n",
       "      <th>bill_id</th>\n",
       "      <th>num</th>\n",
       "      <th>congress</th>\n",
       "      <th>long_title</th>\n",
       "      <th>date_filed</th>\n",
       "      <th>scope</th>\n",
       "      <th>status</th>\n",
       "      <th>author</th>\n",
       "      <th>date_lastUpdate</th>\n",
       "      <th>passed</th>\n",
       "      <th>Full Name Primary Author</th>\n",
       "      <th>Party</th>\n",
       "      <th>Bloc</th>\n",
       "      <th>Years of Service</th>\n",
       "    </tr>\n",
       "  </thead>\n",
       "  <tbody>\n",
       "    <tr>\n",
       "      <td>39</td>\n",
       "      <td>18SBN-1114</td>\n",
       "      <td>SBN-1114</td>\n",
       "      <td>18</td>\n",
       "      <td>an act authorizing higher education curriculum...</td>\n",
       "      <td>2019-10-14</td>\n",
       "      <td>National</td>\n",
       "      <td>Withdrawn</td>\n",
       "      <td>Revilla Jr., Ramon Bong</td>\n",
       "      <td>2019-10-28</td>\n",
       "      <td>False</td>\n",
       "      <td>Ramon Revilla Jr</td>\n",
       "      <td>Lakas</td>\n",
       "      <td>Majority</td>\n",
       "      <td>15</td>\n",
       "    </tr>\n",
       "  </tbody>\n",
       "</table>\n",
       "</div>"
      ],
      "text/plain": [
       "       bill_id       num  congress  \\\n",
       "39  18SBN-1114  SBN-1114        18   \n",
       "\n",
       "                                           long_title date_filed     scope  \\\n",
       "39  an act authorizing higher education curriculum... 2019-10-14  National   \n",
       "\n",
       "       status                   author date_lastUpdate  passed  \\\n",
       "39  Withdrawn  Revilla Jr., Ramon Bong      2019-10-28   False   \n",
       "\n",
       "   Full Name Primary Author  Party      Bloc  Years of Service  \n",
       "39         Ramon Revilla Jr  Lakas  Majority                15  "
      ]
     },
     "execution_count": 17,
     "metadata": {},
     "output_type": "execute_result"
    }
   ],
   "source": [
    "df_congress[df_congress.bill_id=='18SBN-1114']"
   ]
  },
  {
   "cell_type": "code",
   "execution_count": null,
   "metadata": {
    "ExecuteTime": {
     "end_time": "2019-11-27T09:28:58.440844Z",
     "start_time": "2019-11-27T09:28:58.435391Z"
    }
   },
   "outputs": [],
   "source": [
    "df_congress=df_congress[df_congress.status!='Withdrawn']"
   ]
  },
  {
   "cell_type": "code",
   "execution_count": null,
   "metadata": {
    "ExecuteTime": {
     "end_time": "2019-11-26T15:04:33.150200Z",
     "start_time": "2019-11-26T15:04:33.141941Z"
    }
   },
   "outputs": [],
   "source": [
    "df_congress.isna().sum()"
   ]
  },
  {
   "cell_type": "code",
   "execution_count": null,
   "metadata": {
    "ExecuteTime": {
     "end_time": "2019-11-27T09:29:07.551423Z",
     "start_time": "2019-11-27T09:29:07.504979Z"
    }
   },
   "outputs": [],
   "source": [
    "df_congress.loc[df_congress['Full Name Primary Author']=='Mannuel Villar Jr','Years of Service'] = df_congress.date_filed.apply(\n",
    "                                                        lambda x: x.year - 2001)\n",
    "df_congress.loc[df_congress['Full Name Primary Author']=='Mannuel Villar Jr','Party'] = 'Independent'\n",
    "df_congress.loc[df_congress['Full Name Primary Author']=='Mannuel Villar Jr','Bloc'] = 'Majority'"
   ]
  },
  {
   "cell_type": "code",
   "execution_count": null,
   "metadata": {
    "ExecuteTime": {
     "end_time": "2019-11-27T09:29:08.270794Z",
     "start_time": "2019-11-27T09:29:08.262013Z"
    }
   },
   "outputs": [],
   "source": [
    "df_congress.isna().sum()"
   ]
  },
  {
   "cell_type": "code",
   "execution_count": null,
   "metadata": {
    "ExecuteTime": {
     "end_time": "2019-11-27T09:29:11.703316Z",
     "start_time": "2019-11-27T09:29:11.694385Z"
    }
   },
   "outputs": [],
   "source": [
    "df_congress.Party.value_counts(dropna=False)"
   ]
  },
  {
   "cell_type": "code",
   "execution_count": null,
   "metadata": {
    "ExecuteTime": {
     "end_time": "2019-11-27T09:29:15.448582Z",
     "start_time": "2019-11-27T09:29:15.440150Z"
    }
   },
   "outputs": [],
   "source": [
    "df_congress.Bloc.value_counts(dropna=False)"
   ]
  },
  {
   "cell_type": "code",
   "execution_count": null,
   "metadata": {
    "ExecuteTime": {
     "end_time": "2019-11-27T09:29:16.414763Z",
     "start_time": "2019-11-27T09:29:16.410717Z"
    }
   },
   "outputs": [],
   "source": [
    "print(f\"df_congress Data Points: {df_congress.shape[0]:,}\")"
   ]
  },
  {
   "cell_type": "code",
   "execution_count": null,
   "metadata": {
    "ExecuteTime": {
     "end_time": "2019-11-27T09:29:46.079533Z",
     "start_time": "2019-11-27T09:29:45.833462Z"
    }
   },
   "outputs": [],
   "source": [
    "df_congress['num_authors']=((df_congress.author.str.count(',') + 1)/2).astype('int')"
   ]
  },
  {
   "cell_type": "code",
   "execution_count": null,
   "metadata": {
    "ExecuteTime": {
     "end_time": "2019-11-27T09:29:46.569673Z",
     "start_time": "2019-11-27T09:29:46.563330Z"
    }
   },
   "outputs": [],
   "source": [
    "df_congress['delta_days']=df_congress.date_lastUpdate-df_congress.date_filed"
   ]
  },
  {
   "cell_type": "code",
   "execution_count": null,
   "metadata": {
    "ExecuteTime": {
     "end_time": "2019-11-27T09:29:47.288292Z",
     "start_time": "2019-11-27T09:29:47.282625Z"
    }
   },
   "outputs": [],
   "source": [
    "df_congress['delta_days']=df_congress['delta_days'].astype('timedelta64[D]')"
   ]
  },
  {
   "cell_type": "code",
   "execution_count": null,
   "metadata": {
    "ExecuteTime": {
     "end_time": "2019-11-27T09:29:48.223797Z",
     "start_time": "2019-11-27T09:29:48.214918Z"
    }
   },
   "outputs": [],
   "source": [
    "df_congress['mon']=df_congress.date_filed.apply(lambda x: x.month)"
   ]
  },
  {
   "cell_type": "code",
   "execution_count": null,
   "metadata": {
    "ExecuteTime": {
     "end_time": "2019-11-27T09:29:51.132466Z",
     "start_time": "2019-11-27T09:29:51.117665Z"
    }
   },
   "outputs": [],
   "source": [
    "df_congress.loc[(df_congress.mon.isin([1,2,3])), 'quarter']= 1\n",
    "df_congress.loc[df_congress.mon.isin([4,5,6]), 'quarter']= 2\n",
    "df_congress.loc[df_congress.mon.isin([7,8,9]), 'quarter']= 3\n",
    "df_congress.loc[df_congress.mon.isin([10,11,12]), 'quarter']= 4"
   ]
  },
  {
   "cell_type": "code",
   "execution_count": null,
   "metadata": {
    "ExecuteTime": {
     "end_time": "2019-11-27T09:29:52.265691Z",
     "start_time": "2019-11-27T09:29:52.257971Z"
    }
   },
   "outputs": [],
   "source": [
    "df_congress[df_congress['passed']==True].mon.value_counts(sort=False)"
   ]
  },
  {
   "cell_type": "code",
   "execution_count": null,
   "metadata": {
    "ExecuteTime": {
     "end_time": "2019-11-26T15:06:05.627771Z",
     "start_time": "2019-11-26T15:06:05.619771Z"
    }
   },
   "outputs": [],
   "source": [
    "df_congress[df_congress['passed']==True].quarter.value_counts(sort=False)"
   ]
  },
  {
   "cell_type": "code",
   "execution_count": null,
   "metadata": {
    "ExecuteTime": {
     "end_time": "2019-11-26T15:06:18.133322Z",
     "start_time": "2019-11-26T15:06:18.124519Z"
    }
   },
   "outputs": [],
   "source": [
    "df_congress.scope.value_counts()"
   ]
  },
  {
   "cell_type": "code",
   "execution_count": null,
   "metadata": {
    "ExecuteTime": {
     "end_time": "2019-11-26T15:06:19.532859Z",
     "start_time": "2019-11-26T15:06:19.528638Z"
    }
   },
   "outputs": [],
   "source": [
    "df_congress['scope_national']=np.where(df_congress.scope=='National',True,False)"
   ]
  },
  {
   "cell_type": "code",
   "execution_count": null,
   "metadata": {
    "ExecuteTime": {
     "end_time": "2019-11-26T15:06:21.480026Z",
     "start_time": "2019-11-26T15:06:21.471242Z"
    }
   },
   "outputs": [],
   "source": [
    "df_congress.scope_national.value_counts()"
   ]
  },
  {
   "cell_type": "code",
   "execution_count": null,
   "metadata": {
    "ExecuteTime": {
     "end_time": "2019-11-26T15:06:22.744325Z",
     "start_time": "2019-11-26T15:06:22.733013Z"
    }
   },
   "outputs": [],
   "source": [
    "df_congress[df_congress['passed']==True].Bloc.value_counts(dropna=False)"
   ]
  },
  {
   "cell_type": "code",
   "execution_count": null,
   "metadata": {
    "ExecuteTime": {
     "end_time": "2019-11-26T15:06:23.949345Z",
     "start_time": "2019-11-26T15:06:23.939753Z"
    }
   },
   "outputs": [],
   "source": [
    "df_congress[df_congress['passed']==False].Bloc.value_counts(dropna=False)"
   ]
  },
  {
   "cell_type": "code",
   "execution_count": null,
   "metadata": {
    "ExecuteTime": {
     "end_time": "2019-11-26T15:06:24.929961Z",
     "start_time": "2019-11-26T15:06:24.925802Z"
    }
   },
   "outputs": [],
   "source": [
    "df_congress['majority_bloc']=np.where(df_congress['Bloc']=='Majority',True,False)"
   ]
  },
  {
   "cell_type": "code",
   "execution_count": null,
   "metadata": {
    "ExecuteTime": {
     "end_time": "2019-11-26T15:06:26.865356Z",
     "start_time": "2019-11-26T15:06:26.858692Z"
    }
   },
   "outputs": [],
   "source": [
    "df_congress.dtypes"
   ]
  },
  {
   "cell_type": "code",
   "execution_count": null,
   "metadata": {
    "ExecuteTime": {
     "end_time": "2019-11-26T15:06:28.734076Z",
     "start_time": "2019-11-26T15:06:28.729434Z"
    }
   },
   "outputs": [],
   "source": [
    "df_congress['len_desc']=df_congress.long_title.str.len()"
   ]
  },
  {
   "cell_type": "code",
   "execution_count": null,
   "metadata": {
    "ExecuteTime": {
     "end_time": "2019-11-26T15:06:29.864836Z",
     "start_time": "2019-11-26T15:06:29.823966Z"
    }
   },
   "outputs": [],
   "source": [
    "df_congress.head(2)"
   ]
  },
  {
   "cell_type": "code",
   "execution_count": null,
   "metadata": {
    "ExecuteTime": {
     "end_time": "2019-11-26T15:06:46.040583Z",
     "start_time": "2019-11-26T15:06:45.964376Z"
    }
   },
   "outputs": [],
   "source": [
    "df_congress.to_csv(r'congress18_data_set.csv')"
   ]
  },
  {
   "cell_type": "code",
   "execution_count": null,
   "metadata": {},
   "outputs": [],
   "source": []
  }
 ],
 "metadata": {
  "hide_input": false,
  "kernelspec": {
   "display_name": "Python 3",
   "language": "python",
   "name": "python3"
  },
  "language_info": {
   "codemirror_mode": {
    "name": "ipython",
    "version": 3
   },
   "file_extension": ".py",
   "mimetype": "text/x-python",
   "name": "python",
   "nbconvert_exporter": "python",
   "pygments_lexer": "ipython3",
   "version": "3.6.5"
  },
  "toc": {
   "base_numbering": 1,
   "nav_menu": {},
   "number_sections": false,
   "sideBar": true,
   "skip_h1_title": true,
   "title_cell": "Table of Contents",
   "title_sidebar": "Contents",
   "toc_cell": false,
   "toc_position": {},
   "toc_section_display": true,
   "toc_window_display": true
  },
  "varInspector": {
   "cols": {
    "lenName": 16,
    "lenType": 16,
    "lenVar": 40
   },
   "kernels_config": {
    "python": {
     "delete_cmd_postfix": "",
     "delete_cmd_prefix": "del ",
     "library": "var_list.py",
     "varRefreshCmd": "print(var_dic_list())"
    },
    "r": {
     "delete_cmd_postfix": ") ",
     "delete_cmd_prefix": "rm(",
     "library": "var_list.r",
     "varRefreshCmd": "cat(var_dic_list()) "
    }
   },
   "types_to_exclude": [
    "module",
    "function",
    "builtin_function_or_method",
    "instance",
    "_Feature"
   ],
   "window_display": false
  }
 },
 "nbformat": 4,
 "nbformat_minor": 2
}
