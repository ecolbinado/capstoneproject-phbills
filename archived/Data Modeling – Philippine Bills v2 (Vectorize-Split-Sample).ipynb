{
 "cells": [
  {
   "cell_type": "markdown",
   "metadata": {},
   "source": [
    "# Pre-processing Bill's Text Data"
   ]
  },
  {
   "cell_type": "markdown",
   "metadata": {},
   "source": [
    "## Import Python Packages"
   ]
  },
  {
   "cell_type": "code",
   "execution_count": 1,
   "metadata": {
    "ExecuteTime": {
     "end_time": "2019-11-17T03:23:54.266880Z",
     "start_time": "2019-11-17T03:23:51.771842Z"
    }
   },
   "outputs": [],
   "source": [
    "# For loading, manipulating dataframe.\n",
    "import pandas as pd\n",
    "import sqlite3\n",
    "\n",
    "# For Text Preprocessing\n",
    "from nltk import word_tokenize\n",
    "from nltk.corpus import stopwords\n",
    "from nltk.stem import WordNetLemmatizer\n",
    "\n",
    "# Vectorizers\n",
    "from sklearn.feature_extraction.text import TfidfVectorizer\n",
    "\n",
    "# For visualization\n",
    "from wordcloud import WordCloud\n",
    "from matplotlib import pyplot as plt\n",
    "%matplotlib inline\n",
    "import seaborn as sns\n",
    "\n",
    "\n",
    "# ML Modeling packages\n",
    "from sklearn.model_selection import train_test_split\n",
    "from imblearn.under_sampling import RandomUnderSampler \n",
    "from sklearn.decomposition import TruncatedSVD\n",
    "from sklearn.svm import SVC\n",
    "from sklearn.tree import DecisionTreeClassifier\n",
    "from sklearn.ensemble import RandomForestClassifier\n",
    "from sklearn import model_selection as ms\n",
    "import sklearn.metrics\n",
    "from sklearn.metrics import classification_report\n",
    "\n",
    "# Hide Warning messages\n",
    "import warnings\n",
    "warnings.filterwarnings('ignore')"
   ]
  },
  {
   "cell_type": "markdown",
   "metadata": {},
   "source": [
    "## Load Philippines' Bills Data"
   ]
  },
  {
   "cell_type": "code",
   "execution_count": 2,
   "metadata": {
    "ExecuteTime": {
     "end_time": "2019-11-17T03:23:54.889348Z",
     "start_time": "2019-11-17T03:23:54.269210Z"
    }
   },
   "outputs": [],
   "source": [
    "con = sqlite3.connect(\"phBills.db\")\n",
    "df = pd.read_sql_query(\"SELECT * from senateBills\", con, index_col = 'bill_id', parse_dates = ['date_filed','date_lastUpdate'])\n",
    "con.close()"
   ]
  },
  {
   "cell_type": "code",
   "execution_count": 3,
   "metadata": {
    "ExecuteTime": {
     "end_time": "2019-11-17T03:23:54.930676Z",
     "start_time": "2019-11-17T03:23:54.891527Z"
    }
   },
   "outputs": [
    {
     "name": "stdout",
     "output_type": "stream",
     "text": [
      "There are 16284 records and 15 features on our original data frame.\n",
      "From 13th Congress to 17th Congress, the PH Bill Passage Rate is 2.89%\n"
     ]
    }
   ],
   "source": [
    "df['Passed']=np.where(df.ra!='',True, False)\n",
    "df['long_title']=df['long_title'].str.lower()\n",
    "df_13_17_all = df[df['congress']!=18]\n",
    "df_num_rows, df_num_col = df.shape\n",
    "print(f\"There are {df_num_rows} records and {df_num_col} features from our original data frame.\")\n",
    "bill_passage_rate = (df_13_17_all['ra']!='').sum()/((df_13_17_all['ra']!='').sum() + (df_13_17_all['ra']=='').sum())\n",
    "print(f\"From 13th Congress to 17th Congress, the PH Bill Passage Rate is {(bill_passage_rate*100):.2f}%\")"
   ]
  },
  {
   "cell_type": "markdown",
   "metadata": {},
   "source": [
    "## Text Preprocessing"
   ]
  },
  {
   "cell_type": "markdown",
   "metadata": {},
   "source": [
    "### Tokenizer"
   ]
  },
  {
   "cell_type": "code",
   "execution_count": 4,
   "metadata": {
    "ExecuteTime": {
     "end_time": "2019-11-17T03:23:57.856225Z",
     "start_time": "2019-11-17T03:23:54.933194Z"
    }
   },
   "outputs": [],
   "source": [
    "df_13_17_all['long_title'] = df_13_17_all['long_title'].map(word_tokenize)"
   ]
  },
  {
   "cell_type": "markdown",
   "metadata": {},
   "source": [
    "### Lemmatizer"
   ]
  },
  {
   "cell_type": "code",
   "execution_count": 5,
   "metadata": {
    "ExecuteTime": {
     "end_time": "2019-11-17T03:23:57.866851Z",
     "start_time": "2019-11-17T03:23:57.859871Z"
    }
   },
   "outputs": [],
   "source": [
    "lemmatizer = WordNetLemmatizer()"
   ]
  },
  {
   "cell_type": "code",
   "execution_count": 6,
   "metadata": {
    "ExecuteTime": {
     "end_time": "2019-11-17T03:24:02.194575Z",
     "start_time": "2019-11-17T03:23:57.871545Z"
    }
   },
   "outputs": [],
   "source": [
    "df_13_17_all['long_title_lem'] = df_13_17_all['long_title'].apply(lambda x: [lemmatizer.lemmatize(word) for word in x])\n",
    "df_13_17_all['long_title_lem'] = df_13_17_all['long_title_lem'].apply(lambda x: ' '.join(x))"
   ]
  },
  {
   "cell_type": "markdown",
   "metadata": {},
   "source": [
    "## Machine Learning Modeling"
   ]
  },
  {
   "cell_type": "markdown",
   "metadata": {},
   "source": [
    "### Preparing our Data Sets"
   ]
  },
  {
   "cell_type": "markdown",
   "metadata": {},
   "source": [
    "#### Vectorizing Train Text Feature"
   ]
  },
  {
   "cell_type": "code",
   "execution_count": 7,
   "metadata": {
    "ExecuteTime": {
     "end_time": "2019-11-17T03:24:02.795474Z",
     "start_time": "2019-11-17T03:24:02.207142Z"
    }
   },
   "outputs": [],
   "source": [
    "vectorizer_model = TfidfVectorizer(min_df=10, max_df=0.90)\n",
    "x_matrix = vectorizer_model.fit_transform(df_13_17_all['long_title_lem'].values.astype('U'))"
   ]
  },
  {
   "cell_type": "markdown",
   "metadata": {},
   "source": [
    "#### Splitting Data Into Train & Test Sets"
   ]
  },
  {
   "cell_type": "code",
   "execution_count": 8,
   "metadata": {
    "ExecuteTime": {
     "end_time": "2019-11-17T03:24:02.813818Z",
     "start_time": "2019-11-17T03:24:02.798379Z"
    }
   },
   "outputs": [
    {
     "name": "stdout",
     "output_type": "stream",
     "text": [
      "Our train set has 11,348 data points whilst our test set has 3,783 data points.\n"
     ]
    }
   ],
   "source": [
    "X_train, X_test, y_train, y_test = train_test_split(x_matrix, df_13_17_all['Passed'], test_size = 0.25, random_state=43)\n",
    "print(f\"Our train set has {X_train.shape[0]:,} data points whilst our test set has {X_test.shape[0]:,} data points.\")"
   ]
  },
  {
   "cell_type": "markdown",
   "metadata": {},
   "source": [
    "#### Sampling Technique"
   ]
  },
  {
   "cell_type": "code",
   "execution_count": 9,
   "metadata": {
    "ExecuteTime": {
     "end_time": "2019-11-17T03:24:02.845021Z",
     "start_time": "2019-11-17T03:24:02.820298Z"
    }
   },
   "outputs": [
    {
     "name": "stdout",
     "output_type": "stream",
     "text": [
      "Our new train set has 644 data points, 322 of which are actual positives.\n"
     ]
    }
   ],
   "source": [
    "# Under sample the majority target variable, so that we get about equal number of observations from both classes.\n",
    "rus = RandomUnderSampler(random_state=42)\n",
    "nx_train, ny_train = rus.fit_resample(X_train, y_train)\n",
    "print(f\"Our new train set has {ny_train.shape[0]} data points, {np.sum(ny_train)} of which are actual positives.\")"
   ]
  },
  {
   "cell_type": "markdown",
   "metadata": {},
   "source": [
    "#### Truncated SVD to Reduce Dimension"
   ]
  },
  {
   "cell_type": "code",
   "execution_count": 10,
   "metadata": {
    "ExecuteTime": {
     "end_time": "2019-11-17T03:24:04.493669Z",
     "start_time": "2019-11-17T03:24:02.861998Z"
    }
   },
   "outputs": [],
   "source": [
    "svd = TruncatedSVD(n_components=400, algorithm='arpack', random_state = 42)\n",
    "nx_train_svd = svd.fit_transform(nx_train)\n",
    "x_test_svd = svd.transform(X_test)"
   ]
  },
  {
   "cell_type": "markdown",
   "metadata": {},
   "source": [
    "### Using SVC"
   ]
  },
  {
   "cell_type": "code",
   "execution_count": 11,
   "metadata": {
    "ExecuteTime": {
     "end_time": "2019-11-17T03:24:04.515380Z",
     "start_time": "2019-11-17T03:24:04.507002Z"
    }
   },
   "outputs": [],
   "source": [
    "svc = SVC(gamma='auto', kernel='linear', random_state = 42)"
   ]
  },
  {
   "cell_type": "markdown",
   "metadata": {},
   "source": [
    "#### Fit Model Using Train Set"
   ]
  },
  {
   "cell_type": "code",
   "execution_count": 12,
   "metadata": {
    "ExecuteTime": {
     "end_time": "2019-11-17T03:24:04.751865Z",
     "start_time": "2019-11-17T03:24:04.519329Z"
    }
   },
   "outputs": [
    {
     "data": {
      "text/plain": [
       "SVC(C=1.0, cache_size=200, class_weight=None, coef0=0.0,\n",
       "    decision_function_shape='ovr', degree=3, gamma='auto', kernel='linear',\n",
       "    max_iter=-1, probability=False, random_state=42, shrinking=True, tol=0.001,\n",
       "    verbose=False)"
      ]
     },
     "execution_count": 12,
     "metadata": {},
     "output_type": "execute_result"
    }
   ],
   "source": [
    "svc.fit(nx_train_svd, ny_train)"
   ]
  },
  {
   "cell_type": "markdown",
   "metadata": {},
   "source": [
    "#### Predictions Using New Model"
   ]
  },
  {
   "cell_type": "markdown",
   "metadata": {},
   "source": [
    "##### On Train Set"
   ]
  },
  {
   "cell_type": "code",
   "execution_count": 13,
   "metadata": {
    "ExecuteTime": {
     "end_time": "2019-11-17T03:24:04.976692Z",
     "start_time": "2019-11-17T03:24:04.760963Z"
    }
   },
   "outputs": [],
   "source": [
    "predicted_train = svc.predict(nx_train_svd)"
   ]
  },
  {
   "cell_type": "markdown",
   "metadata": {},
   "source": [
    "##### On Test Set"
   ]
  },
  {
   "cell_type": "code",
   "execution_count": 14,
   "metadata": {
    "ExecuteTime": {
     "end_time": "2019-11-17T03:24:06.095429Z",
     "start_time": "2019-11-17T03:24:04.978391Z"
    }
   },
   "outputs": [],
   "source": [
    "predicted = svc.predict(x_test_svd)"
   ]
  },
  {
   "cell_type": "markdown",
   "metadata": {},
   "source": [
    "#### Model Evaluation"
   ]
  },
  {
   "cell_type": "markdown",
   "metadata": {},
   "source": [
    "##### On Train Set"
   ]
  },
  {
   "cell_type": "code",
   "execution_count": 15,
   "metadata": {
    "ExecuteTime": {
     "end_time": "2019-11-17T03:24:06.129019Z",
     "start_time": "2019-11-17T03:24:06.100160Z"
    }
   },
   "outputs": [
    {
     "name": "stdout",
     "output_type": "stream",
     "text": [
      "              precision    recall  f1-score   support\n",
      "\n",
      "       False       0.85      0.85      0.85       322\n",
      "        True       0.85      0.85      0.85       322\n",
      "\n",
      "    accuracy                           0.85       644\n",
      "   macro avg       0.85      0.85      0.85       644\n",
      "weighted avg       0.85      0.85      0.85       644\n",
      "\n"
     ]
    }
   ],
   "source": [
    "print(classification_report(ny_train, predicted_train))"
   ]
  },
  {
   "cell_type": "markdown",
   "metadata": {},
   "source": [
    "##### On Test Set"
   ]
  },
  {
   "cell_type": "code",
   "execution_count": 16,
   "metadata": {
    "ExecuteTime": {
     "end_time": "2019-11-17T03:24:06.178025Z",
     "start_time": "2019-11-17T03:24:06.145721Z"
    }
   },
   "outputs": [
    {
     "name": "stdout",
     "output_type": "stream",
     "text": [
      "              precision    recall  f1-score   support\n",
      "\n",
      "       False       0.98      0.66      0.79      3667\n",
      "        True       0.05      0.57      0.09       116\n",
      "\n",
      "    accuracy                           0.66      3783\n",
      "   macro avg       0.52      0.61      0.44      3783\n",
      "weighted avg       0.95      0.66      0.77      3783\n",
      "\n"
     ]
    }
   ],
   "source": [
    "print(classification_report(y_test, predicted))"
   ]
  },
  {
   "cell_type": "markdown",
   "metadata": {},
   "source": [
    "### Using Decision Tree Classifier"
   ]
  },
  {
   "cell_type": "code",
   "execution_count": 17,
   "metadata": {
    "ExecuteTime": {
     "end_time": "2019-11-17T03:24:06.238536Z",
     "start_time": "2019-11-17T03:24:06.189555Z"
    }
   },
   "outputs": [],
   "source": [
    "tree_model = DecisionTreeClassifier(random_state=42)"
   ]
  },
  {
   "cell_type": "markdown",
   "metadata": {},
   "source": [
    "#### Fit Model Using Train Set"
   ]
  },
  {
   "cell_type": "code",
   "execution_count": 18,
   "metadata": {
    "ExecuteTime": {
     "end_time": "2019-11-17T03:24:06.537801Z",
     "start_time": "2019-11-17T03:24:06.244136Z"
    }
   },
   "outputs": [
    {
     "data": {
      "text/plain": [
       "DecisionTreeClassifier(class_weight=None, criterion='gini', max_depth=None,\n",
       "                       max_features=None, max_leaf_nodes=None,\n",
       "                       min_impurity_decrease=0.0, min_impurity_split=None,\n",
       "                       min_samples_leaf=1, min_samples_split=2,\n",
       "                       min_weight_fraction_leaf=0.0, presort=False,\n",
       "                       random_state=42, splitter='best')"
      ]
     },
     "execution_count": 18,
     "metadata": {},
     "output_type": "execute_result"
    }
   ],
   "source": [
    "tree_model.fit(nx_train_svd, ny_train)"
   ]
  },
  {
   "cell_type": "markdown",
   "metadata": {},
   "source": [
    "#### Predictions Using New Model"
   ]
  },
  {
   "cell_type": "code",
   "execution_count": 19,
   "metadata": {
    "ExecuteTime": {
     "end_time": "2019-11-17T03:24:06.553750Z",
     "start_time": "2019-11-17T03:24:06.546707Z"
    }
   },
   "outputs": [],
   "source": [
    "predicted = tree_model.predict(x_test_svd)"
   ]
  },
  {
   "cell_type": "markdown",
   "metadata": {},
   "source": [
    "#### Model Evaluation"
   ]
  },
  {
   "cell_type": "code",
   "execution_count": 20,
   "metadata": {
    "ExecuteTime": {
     "end_time": "2019-11-17T03:24:06.589751Z",
     "start_time": "2019-11-17T03:24:06.555833Z"
    }
   },
   "outputs": [
    {
     "name": "stdout",
     "output_type": "stream",
     "text": [
      "              precision    recall  f1-score   support\n",
      "\n",
      "       False       0.98      0.63      0.76      3667\n",
      "        True       0.05      0.58      0.09       116\n",
      "\n",
      "    accuracy                           0.63      3783\n",
      "   macro avg       0.51      0.60      0.43      3783\n",
      "weighted avg       0.95      0.63      0.74      3783\n",
      "\n"
     ]
    }
   ],
   "source": [
    "print(classification_report(y_test, predicted))"
   ]
  },
  {
   "cell_type": "markdown",
   "metadata": {},
   "source": [
    "### Using Random Forrest Classifier"
   ]
  },
  {
   "cell_type": "code",
   "execution_count": 21,
   "metadata": {
    "ExecuteTime": {
     "end_time": "2019-11-17T03:24:06.613308Z",
     "start_time": "2019-11-17T03:24:06.602936Z"
    }
   },
   "outputs": [],
   "source": [
    "rf_model = RandomForestClassifier(n_estimators=100, max_depth=5, random_state=42)"
   ]
  },
  {
   "cell_type": "markdown",
   "metadata": {},
   "source": [
    "#### Fit Model Using Train Set"
   ]
  },
  {
   "cell_type": "code",
   "execution_count": 22,
   "metadata": {
    "ExecuteTime": {
     "end_time": "2019-11-17T03:24:07.095737Z",
     "start_time": "2019-11-17T03:24:06.620018Z"
    }
   },
   "outputs": [
    {
     "data": {
      "text/plain": [
       "RandomForestClassifier(bootstrap=True, class_weight=None, criterion='gini',\n",
       "                       max_depth=5, max_features='auto', max_leaf_nodes=None,\n",
       "                       min_impurity_decrease=0.0, min_impurity_split=None,\n",
       "                       min_samples_leaf=1, min_samples_split=2,\n",
       "                       min_weight_fraction_leaf=0.0, n_estimators=100,\n",
       "                       n_jobs=None, oob_score=False, random_state=42, verbose=0,\n",
       "                       warm_start=False)"
      ]
     },
     "execution_count": 22,
     "metadata": {},
     "output_type": "execute_result"
    }
   ],
   "source": [
    "rf_model.fit(nx_train_svd, ny_train)"
   ]
  },
  {
   "cell_type": "markdown",
   "metadata": {},
   "source": [
    "#### Predictions Using New Model"
   ]
  },
  {
   "cell_type": "code",
   "execution_count": 23,
   "metadata": {
    "ExecuteTime": {
     "end_time": "2019-11-17T03:24:07.165140Z",
     "start_time": "2019-11-17T03:24:07.097923Z"
    }
   },
   "outputs": [],
   "source": [
    "predicted = rf_model.predict(x_test_svd)"
   ]
  },
  {
   "cell_type": "markdown",
   "metadata": {
    "ExecuteTime": {
     "end_time": "2019-11-14T02:30:45.762881Z",
     "start_time": "2019-11-14T02:30:45.758393Z"
    }
   },
   "source": [
    "#### Model Evaluation"
   ]
  },
  {
   "cell_type": "code",
   "execution_count": 24,
   "metadata": {
    "ExecuteTime": {
     "end_time": "2019-11-17T03:24:07.183954Z",
     "start_time": "2019-11-17T03:24:07.167230Z"
    }
   },
   "outputs": [
    {
     "name": "stdout",
     "output_type": "stream",
     "text": [
      "              precision    recall  f1-score   support\n",
      "\n",
      "       False       0.98      0.38      0.55      3667\n",
      "        True       0.04      0.78      0.07       116\n",
      "\n",
      "    accuracy                           0.39      3783\n",
      "   macro avg       0.51      0.58      0.31      3783\n",
      "weighted avg       0.95      0.39      0.54      3783\n",
      "\n"
     ]
    }
   ],
   "source": [
    "print(classification_report(y_test, predicted))"
   ]
  }
 ],
 "metadata": {
  "hide_input": false,
  "kernelspec": {
   "display_name": "Python 3",
   "language": "python",
   "name": "python3"
  },
  "language_info": {
   "codemirror_mode": {
    "name": "ipython",
    "version": 3
   },
   "file_extension": ".py",
   "mimetype": "text/x-python",
   "name": "python",
   "nbconvert_exporter": "python",
   "pygments_lexer": "ipython3",
   "version": "3.6.5"
  },
  "toc": {
   "base_numbering": 1,
   "nav_menu": {},
   "number_sections": false,
   "sideBar": true,
   "skip_h1_title": true,
   "title_cell": "Table of Contents",
   "title_sidebar": "Contents",
   "toc_cell": false,
   "toc_position": {
    "height": "calc(100% - 180px)",
    "left": "10px",
    "top": "150px",
    "width": "288px"
   },
   "toc_section_display": true,
   "toc_window_display": true
  },
  "varInspector": {
   "cols": {
    "lenName": 16,
    "lenType": 16,
    "lenVar": 40
   },
   "kernels_config": {
    "python": {
     "delete_cmd_postfix": "",
     "delete_cmd_prefix": "del ",
     "library": "var_list.py",
     "varRefreshCmd": "print(var_dic_list())"
    },
    "r": {
     "delete_cmd_postfix": ") ",
     "delete_cmd_prefix": "rm(",
     "library": "var_list.r",
     "varRefreshCmd": "cat(var_dic_list()) "
    }
   },
   "types_to_exclude": [
    "module",
    "function",
    "builtin_function_or_method",
    "instance",
    "_Feature"
   ],
   "window_display": false
  }
 },
 "nbformat": 4,
 "nbformat_minor": 2
}
