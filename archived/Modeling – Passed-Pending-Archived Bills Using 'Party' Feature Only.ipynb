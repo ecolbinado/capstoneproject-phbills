{
 "cells": [
  {
   "cell_type": "markdown",
   "metadata": {},
   "source": [
    "# Modeling – Passed, Pending, Archived Bills Using 'Party' Feature Only"
   ]
  },
  {
   "cell_type": "markdown",
   "metadata": {},
   "source": [
    "## Importing Python Packages"
   ]
  },
  {
   "cell_type": "code",
   "execution_count": 1,
   "metadata": {
    "ExecuteTime": {
     "end_time": "2019-11-21T07:07:26.381748Z",
     "start_time": "2019-11-21T07:07:23.538384Z"
    }
   },
   "outputs": [],
   "source": [
    "# For loading, manipulating dataframe.\n",
    "import pandas as pd\n",
    "import sqlite3, datetime, sklearn\n",
    "\n",
    "# Visualizations\n",
    "from matplotlib import pyplot as plt\n",
    "%matplotlib inline\n",
    "import seaborn as sns\n",
    "\n",
    "# Text Preprocessing\n",
    "from nltk import word_tokenize, pos_tag\n",
    "from nltk.corpus import stopwords\n",
    "from nltk.stem import WordNetLemmatizer\n",
    "from nltk.stem import SnowballStemmer\n",
    "\n",
    "# Sampling\n",
    "from sklearn.model_selection import train_test_split\n",
    "from imblearn.under_sampling import RandomUnderSampler \n",
    "\n",
    "# Vectorizers\n",
    "from sklearn.feature_extraction.text import TfidfVectorizer\n",
    "from sklearn.preprocessing import StandardScaler\n",
    "\n",
    "# Feature Processing \n",
    "from sklearn.decomposition import TruncatedSVD\n",
    "from sklearn.preprocessing import OneHotEncoder\n",
    "from sklearn.compose import make_column_transformer\n",
    "\n",
    "# Modeling\n",
    "from sklearn.svm import SVC\n",
    "from sklearn.linear_model import LogisticRegression\n",
    "\n",
    "# Evaluation\n",
    "from sklearn.model_selection import cross_val_score\n",
    "from sklearn.metrics import classification_report\n",
    "\n",
    "# Hide Warning messages\n",
    "import warnings\n",
    "warnings.filterwarnings('ignore')"
   ]
  },
  {
   "cell_type": "code",
   "execution_count": 2,
   "metadata": {
    "ExecuteTime": {
     "end_time": "2019-11-21T07:07:27.116184Z",
     "start_time": "2019-11-21T07:07:26.383943Z"
    }
   },
   "outputs": [],
   "source": [
    "con = sqlite3.connect(\"phBills.db\")\n",
    "df_bills = pd.read_sql_query(\"SELECT * from senateBills\", con, index_col = None, parse_dates = ['date_filed','date_lastUpdate'])\n",
    "con.close()"
   ]
  },
  {
   "cell_type": "code",
   "execution_count": 3,
   "metadata": {
    "ExecuteTime": {
     "end_time": "2019-11-21T07:07:29.356620Z",
     "start_time": "2019-11-21T07:07:27.118610Z"
    }
   },
   "outputs": [],
   "source": [
    "df_senators = pd.read_excel('Bills with Authors.xlsx',sheet_name='Sheet1')"
   ]
  },
  {
   "cell_type": "code",
   "execution_count": 4,
   "metadata": {
    "ExecuteTime": {
     "end_time": "2019-11-21T07:07:29.402151Z",
     "start_time": "2019-11-21T07:07:29.359134Z"
    }
   },
   "outputs": [],
   "source": [
    "df_bills['passed']=np.where(df_bills.ra!='',True, False)\n",
    "df_bills['long_title']=df_bills['long_title'].str.lower()\n",
    "df_bills = df_bills[df_bills['congress']!=18]"
   ]
  },
  {
   "cell_type": "code",
   "execution_count": 5,
   "metadata": {
    "ExecuteTime": {
     "end_time": "2019-11-21T07:07:29.417917Z",
     "start_time": "2019-11-21T07:07:29.405002Z"
    }
   },
   "outputs": [],
   "source": [
    "df_bills.drop(['link','short_title','subject','pri_committee','ra','logs'],axis=1,inplace=True)"
   ]
  },
  {
   "cell_type": "code",
   "execution_count": 6,
   "metadata": {
    "ExecuteTime": {
     "end_time": "2019-11-21T07:07:29.430346Z",
     "start_time": "2019-11-21T07:07:29.421229Z"
    }
   },
   "outputs": [],
   "source": [
    "df_senators=df_senators[['bill_id','Full Name Primary Author','Party','Bloc','Years of Service']]"
   ]
  },
  {
   "cell_type": "code",
   "execution_count": 7,
   "metadata": {
    "ExecuteTime": {
     "end_time": "2019-11-21T07:07:29.472276Z",
     "start_time": "2019-11-21T07:07:29.434511Z"
    }
   },
   "outputs": [
    {
     "name": "stdout",
     "output_type": "stream",
     "text": [
      "Congress DF Data Points: 15,131\n"
     ]
    }
   ],
   "source": [
    "df_congress = pd.merge(df_bills,df_senators,how='left',on=['bill_id'])\n",
    "print(f\"Congress DF Data Points: {df_congress.shape[0]:,}\")"
   ]
  },
  {
   "cell_type": "code",
   "execution_count": 8,
   "metadata": {
    "ExecuteTime": {
     "end_time": "2019-11-21T07:07:29.502405Z",
     "start_time": "2019-11-21T07:07:29.482894Z"
    }
   },
   "outputs": [],
   "source": [
    "df_congress=df_congress[df_congress.status!='Withdrawn']"
   ]
  },
  {
   "cell_type": "code",
   "execution_count": 9,
   "metadata": {
    "ExecuteTime": {
     "end_time": "2019-11-21T07:07:29.687055Z",
     "start_time": "2019-11-21T07:07:29.504609Z"
    }
   },
   "outputs": [],
   "source": [
    "df_congress.loc[df_congress['Full Name Primary Author']=='Mannuel Villar Jr','Years of Service'] = df_congress.date_filed.apply(\n",
    "                                                        lambda x: x.year - 2001)\n",
    "df_congress.loc[df_congress['Full Name Primary Author']=='Mannuel Villar Jr','Party'] = 'Independent'\n",
    "df_congress.loc[df_congress['Full Name Primary Author']=='Mannuel Villar Jr','Bloc'] = 'Majority'"
   ]
  },
  {
   "cell_type": "code",
   "execution_count": 10,
   "metadata": {
    "ExecuteTime": {
     "end_time": "2019-11-21T07:07:29.953496Z",
     "start_time": "2019-11-21T07:07:29.689451Z"
    }
   },
   "outputs": [],
   "source": [
    "df_congress['num_authors']=((df_congress.author.str.count(',') + 1)/2).astype('int')"
   ]
  },
  {
   "cell_type": "code",
   "execution_count": 11,
   "metadata": {
    "ExecuteTime": {
     "end_time": "2019-11-21T07:07:29.968617Z",
     "start_time": "2019-11-21T07:07:29.955620Z"
    }
   },
   "outputs": [],
   "source": [
    "df_congress['delta_days']=df_congress.date_lastUpdate-df_congress.date_filed"
   ]
  },
  {
   "cell_type": "code",
   "execution_count": 12,
   "metadata": {
    "ExecuteTime": {
     "end_time": "2019-11-21T07:07:29.982830Z",
     "start_time": "2019-11-21T07:07:29.971386Z"
    }
   },
   "outputs": [],
   "source": [
    "df_congress['delta_days']=df_congress['delta_days'].astype('timedelta64[D]')"
   ]
  },
  {
   "cell_type": "code",
   "execution_count": 13,
   "metadata": {
    "ExecuteTime": {
     "end_time": "2019-11-21T07:07:30.014522Z",
     "start_time": "2019-11-21T07:07:29.987743Z"
    }
   },
   "outputs": [
    {
     "name": "stdout",
     "output_type": "stream",
     "text": [
      "median: 306.5\n",
      "mean: 374.64611872146116\n",
      "mode: 546.0\n"
     ]
    }
   ],
   "source": [
    "print(f\"median: {df_congress[df_congress['passed']==True]['delta_days'].median()}\")\n",
    "print(f\"mean: {df_congress[df_congress['passed']==True]['delta_days'].mean()}\")\n",
    "print(f\"mode: {df_congress[df_congress['passed']==True]['delta_days'].mode()[0]}\")"
   ]
  },
  {
   "cell_type": "code",
   "execution_count": 14,
   "metadata": {
    "ExecuteTime": {
     "end_time": "2019-11-21T07:07:30.025363Z",
     "start_time": "2019-11-21T07:07:30.018343Z"
    }
   },
   "outputs": [],
   "source": [
    "bound = df_congress[df_congress['passed']==True]['delta_days'].mean()\n",
    "df_congress['upper']=np.where(df_congress.delta_days>bound,True,False)"
   ]
  },
  {
   "cell_type": "code",
   "execution_count": 15,
   "metadata": {
    "ExecuteTime": {
     "end_time": "2019-11-21T07:07:30.139095Z",
     "start_time": "2019-11-21T07:07:30.031841Z"
    }
   },
   "outputs": [],
   "source": [
    "df_congress['mon']=df_congress.date_filed.apply(lambda x: x.month)"
   ]
  },
  {
   "cell_type": "code",
   "execution_count": 16,
   "metadata": {
    "ExecuteTime": {
     "end_time": "2019-11-21T07:07:30.178000Z",
     "start_time": "2019-11-21T07:07:30.145492Z"
    }
   },
   "outputs": [],
   "source": [
    "df_congress.loc[(df_congress.mon.isin([1,2,3])), 'quarter']= 1\n",
    "df_congress.loc[df_congress.mon.isin([4,5,6]), 'quarter']= 2\n",
    "df_congress.loc[df_congress.mon.isin([7,8,9]), 'quarter']= 3\n",
    "df_congress.loc[df_congress.mon.isin([10,11,12]), 'quarter']= 4"
   ]
  },
  {
   "cell_type": "code",
   "execution_count": 17,
   "metadata": {
    "ExecuteTime": {
     "end_time": "2019-11-21T07:07:30.191222Z",
     "start_time": "2019-11-21T07:07:30.182617Z"
    }
   },
   "outputs": [],
   "source": [
    "df_congress['scope_national']=np.where(df_congress.scope=='National',True,False)"
   ]
  },
  {
   "cell_type": "code",
   "execution_count": 18,
   "metadata": {
    "ExecuteTime": {
     "end_time": "2019-11-21T07:07:30.216478Z",
     "start_time": "2019-11-21T07:07:30.203202Z"
    }
   },
   "outputs": [],
   "source": [
    "df_congress['majority_bloc']=np.where(df_congress['Bloc']=='Majority',True,False)"
   ]
  },
  {
   "cell_type": "code",
   "execution_count": 19,
   "metadata": {
    "ExecuteTime": {
     "end_time": "2019-11-21T07:07:30.233071Z",
     "start_time": "2019-11-21T07:07:30.218824Z"
    }
   },
   "outputs": [],
   "source": [
    "df_congress['len_desc']=df_congress.long_title.str.len()"
   ]
  },
  {
   "cell_type": "code",
   "execution_count": 20,
   "metadata": {
    "ExecuteTime": {
     "end_time": "2019-11-21T07:07:30.242207Z",
     "start_time": "2019-11-21T07:07:30.236364Z"
    }
   },
   "outputs": [
    {
     "name": "stdout",
     "output_type": "stream",
     "text": [
      "df_congress Data Points: 15,078\n"
     ]
    }
   ],
   "source": [
    "print(f\"df_congress Data Points: {df_congress.shape[0]:,}\")"
   ]
  },
  {
   "cell_type": "code",
   "execution_count": 21,
   "metadata": {
    "ExecuteTime": {
     "end_time": "2019-11-21T07:07:30.277899Z",
     "start_time": "2019-11-21T07:07:30.249004Z"
    }
   },
   "outputs": [
    {
     "data": {
      "text/plain": [
       "False"
      ]
     },
     "execution_count": 21,
     "metadata": {},
     "output_type": "execute_result"
    }
   ],
   "source": [
    "df_congress.isna().sum().any()"
   ]
  },
  {
   "cell_type": "markdown",
   "metadata": {},
   "source": [
    "## One-Hot Encoding on 'Party' Feature"
   ]
  },
  {
   "cell_type": "code",
   "execution_count": 22,
   "metadata": {
    "ExecuteTime": {
     "end_time": "2019-11-21T07:07:30.305895Z",
     "start_time": "2019-11-21T07:07:30.283030Z"
    }
   },
   "outputs": [],
   "source": [
    "ohe = OneHotEncoder(sparse=False)"
   ]
  },
  {
   "cell_type": "code",
   "execution_count": 23,
   "metadata": {
    "ExecuteTime": {
     "end_time": "2019-11-21T07:07:30.366154Z",
     "start_time": "2019-11-21T07:07:30.313051Z"
    }
   },
   "outputs": [],
   "source": [
    "X = ohe.fit_transform(df_congress[['Party']])"
   ]
  },
  {
   "cell_type": "code",
   "execution_count": 24,
   "metadata": {
    "ExecuteTime": {
     "end_time": "2019-11-21T07:07:30.376439Z",
     "start_time": "2019-11-21T07:07:30.372366Z"
    }
   },
   "outputs": [
    {
     "data": {
      "text/plain": [
       "(15078, 15)"
      ]
     },
     "execution_count": 24,
     "metadata": {},
     "output_type": "execute_result"
    }
   ],
   "source": [
    "X.shape"
   ]
  },
  {
   "cell_type": "code",
   "execution_count": 25,
   "metadata": {
    "ExecuteTime": {
     "end_time": "2019-11-21T07:07:30.387599Z",
     "start_time": "2019-11-21T07:07:30.380677Z"
    }
   },
   "outputs": [
    {
     "data": {
      "text/plain": [
       "(15078, 22)"
      ]
     },
     "execution_count": 25,
     "metadata": {},
     "output_type": "execute_result"
    }
   ],
   "source": [
    "df_congress.shape"
   ]
  },
  {
   "cell_type": "code",
   "execution_count": 26,
   "metadata": {
    "ExecuteTime": {
     "end_time": "2019-11-21T07:07:30.398858Z",
     "start_time": "2019-11-21T07:07:30.390715Z"
    }
   },
   "outputs": [
    {
     "data": {
      "text/plain": [
       "[array(['Akbayan', 'Bagumbayan-VNP', 'Independent', 'LDP', 'Lakas',\n",
       "        'Lakas-CMD', 'Lakas-Kampi-CMD', 'Liberal', 'NPC', 'Nacionalista',\n",
       "        'PDP-Laban', 'PDP–Laban', 'PMP', 'PRP', 'UNA'], dtype=object)]"
      ]
     },
     "execution_count": 26,
     "metadata": {},
     "output_type": "execute_result"
    }
   ],
   "source": [
    "ohe.categories_"
   ]
  },
  {
   "cell_type": "markdown",
   "metadata": {},
   "source": [
    "## Prediction Using Hot-Encoded 'Party' field Only"
   ]
  },
  {
   "cell_type": "code",
   "execution_count": 27,
   "metadata": {
    "ExecuteTime": {
     "end_time": "2019-11-21T07:07:30.404707Z",
     "start_time": "2019-11-21T07:07:30.401712Z"
    }
   },
   "outputs": [],
   "source": [
    "log_reg = LogisticRegression(solver='lbfgs')"
   ]
  },
  {
   "cell_type": "code",
   "execution_count": 28,
   "metadata": {
    "ExecuteTime": {
     "end_time": "2019-11-21T07:07:30.416512Z",
     "start_time": "2019-11-21T07:07:30.408535Z"
    }
   },
   "outputs": [
    {
     "data": {
      "text/plain": [
       "(15078,)"
      ]
     },
     "execution_count": 28,
     "metadata": {},
     "output_type": "execute_result"
    }
   ],
   "source": [
    "y = df_congress['passed']\n",
    "y.shape"
   ]
  },
  {
   "cell_type": "code",
   "execution_count": 29,
   "metadata": {
    "ExecuteTime": {
     "end_time": "2019-11-21T07:07:30.958815Z",
     "start_time": "2019-11-21T07:07:30.420284Z"
    }
   },
   "outputs": [
    {
     "data": {
      "text/plain": [
       "0.9709510801430513"
      ]
     },
     "execution_count": 29,
     "metadata": {},
     "output_type": "execute_result"
    }
   ],
   "source": [
    "cross_val_score(log_reg, X, y, cv=5, scoring='accuracy').mean()"
   ]
  },
  {
   "cell_type": "code",
   "execution_count": 30,
   "metadata": {
    "ExecuteTime": {
     "end_time": "2019-11-21T07:07:30.982455Z",
     "start_time": "2019-11-21T07:07:30.967118Z"
    }
   },
   "outputs": [
    {
     "data": {
      "text/plain": [
       "False    0.970951\n",
       "True     0.029049\n",
       "Name: passed, dtype: float64"
      ]
     },
     "execution_count": 30,
     "metadata": {},
     "output_type": "execute_result"
    }
   ],
   "source": [
    "y.value_counts(normalize=True)"
   ]
  },
  {
   "cell_type": "code",
   "execution_count": 31,
   "metadata": {
    "ExecuteTime": {
     "end_time": "2019-11-21T07:07:31.002316Z",
     "start_time": "2019-11-21T07:07:30.984830Z"
    }
   },
   "outputs": [],
   "source": [
    "X_train, X_test, y_train, y_test = train_test_split(X, y, test_size = 0.25, random_state=43)"
   ]
  },
  {
   "cell_type": "code",
   "execution_count": 32,
   "metadata": {
    "ExecuteTime": {
     "end_time": "2019-11-21T07:07:31.037563Z",
     "start_time": "2019-11-21T07:07:31.012881Z"
    }
   },
   "outputs": [
    {
     "name": "stdout",
     "output_type": "stream",
     "text": [
      "Our new train set has 642 data points, 321 of which are actual positives.\n"
     ]
    }
   ],
   "source": [
    "rus = RandomUnderSampler(random_state=42)\n",
    "nx_train, ny_train = rus.fit_resample(X_train, y_train)\n",
    "print(f\"Our new train set has {ny_train.shape[0]} data points, {np.sum(ny_train)} of which are actual positives.\")"
   ]
  },
  {
   "cell_type": "code",
   "execution_count": 33,
   "metadata": {
    "ExecuteTime": {
     "end_time": "2019-11-21T07:07:31.117604Z",
     "start_time": "2019-11-21T07:07:31.057612Z"
    }
   },
   "outputs": [
    {
     "data": {
      "text/plain": [
       "SVC(C=1.0, cache_size=200, class_weight=None, coef0=0.0,\n",
       "    decision_function_shape='ovr', degree=3, gamma='auto', kernel='linear',\n",
       "    max_iter=-1, probability=False, random_state=42, shrinking=True, tol=0.001,\n",
       "    verbose=False)"
      ]
     },
     "execution_count": 33,
     "metadata": {},
     "output_type": "execute_result"
    }
   ],
   "source": [
    "svc = SVC(gamma='auto', kernel='linear', random_state = 42)\n",
    "svc.fit(nx_train, ny_train)"
   ]
  },
  {
   "cell_type": "code",
   "execution_count": 34,
   "metadata": {
    "ExecuteTime": {
     "end_time": "2019-11-21T07:07:31.226336Z",
     "start_time": "2019-11-21T07:07:31.135286Z"
    }
   },
   "outputs": [],
   "source": [
    "predicted = svc.predict(X_test)"
   ]
  },
  {
   "cell_type": "markdown",
   "metadata": {},
   "source": [
    "## Evaluation"
   ]
  },
  {
   "cell_type": "code",
   "execution_count": 35,
   "metadata": {
    "ExecuteTime": {
     "end_time": "2019-11-21T07:07:31.290324Z",
     "start_time": "2019-11-21T07:07:31.230013Z"
    }
   },
   "outputs": [
    {
     "name": "stdout",
     "output_type": "stream",
     "text": [
      "              precision    recall  f1-score   support\n",
      "\n",
      "       False       0.99      0.48      0.65      3653\n",
      "        True       0.05      0.84      0.09       117\n",
      "\n",
      "    accuracy                           0.49      3770\n",
      "   macro avg       0.52      0.66      0.37      3770\n",
      "weighted avg       0.96      0.49      0.63      3770\n",
      "\n"
     ]
    }
   ],
   "source": [
    "print(classification_report(y_test, predicted))"
   ]
  },
  {
   "cell_type": "code",
   "execution_count": null,
   "metadata": {},
   "outputs": [],
   "source": []
  }
 ],
 "metadata": {
  "hide_input": false,
  "kernelspec": {
   "display_name": "Python 3",
   "language": "python",
   "name": "python3"
  },
  "language_info": {
   "codemirror_mode": {
    "name": "ipython",
    "version": 3
   },
   "file_extension": ".py",
   "mimetype": "text/x-python",
   "name": "python",
   "nbconvert_exporter": "python",
   "pygments_lexer": "ipython3",
   "version": "3.6.5"
  },
  "toc": {
   "base_numbering": 1,
   "nav_menu": {},
   "number_sections": false,
   "sideBar": true,
   "skip_h1_title": true,
   "title_cell": "Table of Contents",
   "title_sidebar": "Contents",
   "toc_cell": false,
   "toc_position": {},
   "toc_section_display": true,
   "toc_window_display": true
  },
  "varInspector": {
   "cols": {
    "lenName": 16,
    "lenType": 16,
    "lenVar": 40
   },
   "kernels_config": {
    "python": {
     "delete_cmd_postfix": "",
     "delete_cmd_prefix": "del ",
     "library": "var_list.py",
     "varRefreshCmd": "print(var_dic_list())"
    },
    "r": {
     "delete_cmd_postfix": ") ",
     "delete_cmd_prefix": "rm(",
     "library": "var_list.r",
     "varRefreshCmd": "cat(var_dic_list()) "
    }
   },
   "types_to_exclude": [
    "module",
    "function",
    "builtin_function_or_method",
    "instance",
    "_Feature"
   ],
   "window_display": false
  }
 },
 "nbformat": 4,
 "nbformat_minor": 2
}
