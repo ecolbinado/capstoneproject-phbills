{
 "cells": [
  {
   "cell_type": "markdown",
   "metadata": {},
   "source": [
    "# Exploratory Data Analytics on Philippine Bills from 13th Congress to 17th Congress"
   ]
  },
  {
   "cell_type": "markdown",
   "metadata": {},
   "source": [
    "## Importing Python Packages"
   ]
  },
  {
   "cell_type": "code",
   "execution_count": 32,
   "metadata": {
    "ExecuteTime": {
     "end_time": "2019-11-20T15:54:06.365311Z",
     "start_time": "2019-11-20T15:54:06.358433Z"
    }
   },
   "outputs": [],
   "source": [
    "# For loading, manipulating dataframe.\n",
    "import pandas as pd\n",
    "import sqlite3, datetime, re\n",
    "\n",
    "# For Text Preprocessing\n",
    "from nltk import word_tokenize, pos_tag\n",
    "from nltk.corpus import stopwords\n",
    "from nltk.stem import WordNetLemmatizer\n",
    "from nltk.stem import SnowballStemmer\n",
    "\n",
    "# Vectorizers\n",
    "from sklearn.feature_extraction.text import TfidfVectorizer\n",
    "from sklearn.preprocessing import StandardScaler\n",
    "\n",
    "# Visualizations\n",
    "from matplotlib import pyplot as plt\n",
    "%matplotlib inline\n",
    "import seaborn as sns\n",
    "\n",
    "# Hide Warning messages\n",
    "import warnings\n",
    "warnings.filterwarnings('ignore')"
   ]
  },
  {
   "cell_type": "code",
   "execution_count": 33,
   "metadata": {
    "ExecuteTime": {
     "end_time": "2019-11-20T15:54:07.108716Z",
     "start_time": "2019-11-20T15:54:06.369429Z"
    }
   },
   "outputs": [],
   "source": [
    "con = sqlite3.connect(\"phBills.db\")\n",
    "df = pd.read_sql_query(\"SELECT * from senateBills\", con, index_col = None, parse_dates = ['date_filed','date_lastUpdate'])\n",
    "con.close()"
   ]
  },
  {
   "cell_type": "code",
   "execution_count": 34,
   "metadata": {
    "ExecuteTime": {
     "end_time": "2019-11-20T15:54:08.714390Z",
     "start_time": "2019-11-20T15:54:07.110988Z"
    }
   },
   "outputs": [],
   "source": [
    "df_senators = pd.read_excel('Bills with Authors.xlsx',sheet_name='Sheet2')"
   ]
  },
  {
   "cell_type": "code",
   "execution_count": 35,
   "metadata": {
    "ExecuteTime": {
     "end_time": "2019-11-20T15:54:08.769090Z",
     "start_time": "2019-11-20T15:54:08.721972Z"
    }
   },
   "outputs": [
    {
     "name": "stdout",
     "output_type": "stream",
     "text": [
      "There are 16284 records and 16 features from our original data frame.\n",
      "From 13th Congress to 17th Congress, the PH Bill Passage Percentage is 2.89%\n"
     ]
    }
   ],
   "source": [
    "df['Passed']=np.where(df.ra!='',True, False)\n",
    "df['long_title']=df['long_title'].str.lower()\n",
    "df_13_17_all = df[df['congress']!=18]\n",
    "df_num_rows, df_num_col = df.shape\n",
    "print(f\"There are {df_num_rows} records and {df_num_col} features from our original data frame.\")\n",
    "bill_passage_rate = (df_13_17_all['ra']!='').sum()/((df_13_17_all['ra']!='').sum() + (df_13_17_all['ra']=='').sum())\n",
    "print(f\"From 13th Congress to 17th Congress, the PH Bill Passage Percentage is {(bill_passage_rate*100):.2f}%\")"
   ]
  },
  {
   "cell_type": "code",
   "execution_count": 36,
   "metadata": {
    "ExecuteTime": {
     "end_time": "2019-11-20T15:54:08.874199Z",
     "start_time": "2019-11-20T15:54:08.777388Z"
    }
   },
   "outputs": [],
   "source": [
    "df_merged = pd.merge(df_13_17_all,df_senators[['bill_id','Bloc','Party']],how='left',on=['bill_id'])"
   ]
  },
  {
   "cell_type": "code",
   "execution_count": 37,
   "metadata": {
    "ExecuteTime": {
     "end_time": "2019-11-20T15:54:08.903045Z",
     "start_time": "2019-11-20T15:54:08.879797Z"
    }
   },
   "outputs": [
    {
     "data": {
      "text/plain": [
       "Independent        97\n",
       "Nacionalista       74\n",
       "NPC                58\n",
       "Liberal            58\n",
       "PMP                40\n",
       "LDP                34\n",
       "PDP–Laban          16\n",
       "PRP                15\n",
       "Lakas-Kampi-CMD    12\n",
       "Lakas               7\n",
       "UNA                 7\n",
       "PDP-Laban           6\n",
       "Bagumbayan-VNP      6\n",
       "Lakas-CMD           5\n",
       "Akbayan             3\n",
       "Name: Party, dtype: int64"
      ]
     },
     "execution_count": 37,
     "metadata": {},
     "output_type": "execute_result"
    }
   ],
   "source": [
    "df_merged[df_merged['Passed']==True].Party.value_counts()"
   ]
  },
  {
   "cell_type": "code",
   "execution_count": 38,
   "metadata": {
    "ExecuteTime": {
     "end_time": "2019-11-20T15:54:08.927124Z",
     "start_time": "2019-11-20T15:54:08.906992Z"
    }
   },
   "outputs": [],
   "source": [
    "df_merged=df_merged[df_merged['status']!='Withdrawn']"
   ]
  },
  {
   "cell_type": "code",
   "execution_count": 39,
   "metadata": {
    "ExecuteTime": {
     "end_time": "2019-11-20T15:54:08.986771Z",
     "start_time": "2019-11-20T15:54:08.932531Z"
    }
   },
   "outputs": [],
   "source": [
    "df_merged['num_authors']=((df_merged.author.str.count(',') + 1)/2).astype('int')"
   ]
  },
  {
   "cell_type": "code",
   "execution_count": 40,
   "metadata": {
    "ExecuteTime": {
     "end_time": "2019-11-20T15:54:09.031759Z",
     "start_time": "2019-11-20T15:54:08.998449Z"
    }
   },
   "outputs": [],
   "source": [
    "df_merged['lapsed_day']=np.where(df_merged.Passed==True,df_merged.date_lastUpdate-df_merged.date_filed,\n",
    "                                    pd.to_datetime('today')-df_merged.date_filed)"
   ]
  },
  {
   "cell_type": "code",
   "execution_count": 41,
   "metadata": {
    "ExecuteTime": {
     "end_time": "2019-11-20T15:54:09.043082Z",
     "start_time": "2019-11-20T15:54:09.037088Z"
    }
   },
   "outputs": [],
   "source": [
    "df_merged.Bloc.fillna('Majority',inplace=True)"
   ]
  },
  {
   "cell_type": "code",
   "execution_count": 42,
   "metadata": {
    "ExecuteTime": {
     "end_time": "2019-11-20T15:54:09.061090Z",
     "start_time": "2019-11-20T15:54:09.045369Z"
    }
   },
   "outputs": [],
   "source": [
    "passed_ave = df_merged[df_merged['Passed']==True]['lapsed_day'].median()\n",
    "df_merged['upper']=np.where(df_merged.lapsed_day>passed_ave,True,False)"
   ]
  },
  {
   "cell_type": "code",
   "execution_count": 43,
   "metadata": {
    "ExecuteTime": {
     "end_time": "2019-11-20T15:54:09.081806Z",
     "start_time": "2019-11-20T15:54:09.064955Z"
    }
   },
   "outputs": [
    {
     "data": {
      "text/plain": [
       "Timedelta('306 days 12:00:00')"
      ]
     },
     "execution_count": 43,
     "metadata": {},
     "output_type": "execute_result"
    }
   ],
   "source": [
    "df_merged[df_merged['Passed']==True]['lapsed_day'].median()"
   ]
  },
  {
   "cell_type": "code",
   "execution_count": 44,
   "metadata": {
    "ExecuteTime": {
     "end_time": "2019-11-20T15:54:09.099210Z",
     "start_time": "2019-11-20T15:54:09.085284Z"
    }
   },
   "outputs": [
    {
     "data": {
      "text/plain": [
       "Timedelta('374 days 15:30:24.657534')"
      ]
     },
     "execution_count": 44,
     "metadata": {},
     "output_type": "execute_result"
    }
   ],
   "source": [
    "df_merged[df_merged['Passed']==True]['lapsed_day'].mean()"
   ]
  },
  {
   "cell_type": "code",
   "execution_count": 45,
   "metadata": {
    "ExecuteTime": {
     "end_time": "2019-11-20T15:54:09.119936Z",
     "start_time": "2019-11-20T15:54:09.102164Z"
    }
   },
   "outputs": [
    {
     "data": {
      "text/plain": [
       "Timedelta('546 days 00:00:00')"
      ]
     },
     "execution_count": 45,
     "metadata": {},
     "output_type": "execute_result"
    }
   ],
   "source": [
    "df_merged[df_merged['Passed']==True]['lapsed_day'].mode()[0]"
   ]
  },
  {
   "cell_type": "code",
   "execution_count": 46,
   "metadata": {
    "ExecuteTime": {
     "end_time": "2019-11-20T15:54:09.193495Z",
     "start_time": "2019-11-20T15:54:09.122990Z"
    }
   },
   "outputs": [],
   "source": [
    "df_merged['mon']=df_merged.date_filed.apply(lambda x: x.month)"
   ]
  },
  {
   "cell_type": "code",
   "execution_count": 47,
   "metadata": {
    "ExecuteTime": {
     "end_time": "2019-11-20T15:54:09.207658Z",
     "start_time": "2019-11-20T15:54:09.197098Z"
    }
   },
   "outputs": [
    {
     "data": {
      "text/plain": [
       "11    70\n",
       "5     53\n",
       "9     44\n",
       "12    40\n",
       "1     40\n",
       "6     34\n",
       "2     34\n",
       "7     33\n",
       "10    30\n",
       "3     30\n",
       "8     26\n",
       "4      4\n",
       "Name: mon, dtype: int64"
      ]
     },
     "execution_count": 47,
     "metadata": {},
     "output_type": "execute_result"
    }
   ],
   "source": [
    "df_merged[df_merged['Passed']==True].mon.value_counts()"
   ]
  },
  {
   "cell_type": "code",
   "execution_count": 48,
   "metadata": {
    "ExecuteTime": {
     "end_time": "2019-11-20T15:54:09.247611Z",
     "start_time": "2019-11-20T15:54:09.210850Z"
    }
   },
   "outputs": [
    {
     "name": "stdout",
     "output_type": "stream",
     "text": [
      "National    421\n",
      "Local        17\n",
      "Name: scope, dtype: int64\n",
      "\n",
      "Only 3.88% of local senate bills are passed.\n"
     ]
    }
   ],
   "source": [
    "print(df_merged[df_merged['Passed']==True].scope.value_counts(dropna=False))\n",
    "print(f\"\\nOnly {(((df_merged.Passed==True)&\\\n",
    "(df_merged.scope=='Local')).sum())/((df_merged.Passed==True).sum()):.2%} of local senate bills are passed.\")"
   ]
  },
  {
   "cell_type": "code",
   "execution_count": 49,
   "metadata": {
    "ExecuteTime": {
     "end_time": "2019-11-20T15:54:09.274993Z",
     "start_time": "2019-11-20T15:54:09.250711Z"
    }
   },
   "outputs": [
    {
     "data": {
      "text/plain": [
       "Majority    9860\n",
       "Minority    5218\n",
       "Name: Bloc, dtype: int64"
      ]
     },
     "execution_count": 49,
     "metadata": {},
     "output_type": "execute_result"
    }
   ],
   "source": [
    "df_merged.Bloc.value_counts(dropna=False)"
   ]
  },
  {
   "cell_type": "code",
   "execution_count": 50,
   "metadata": {
    "ExecuteTime": {
     "end_time": "2019-11-20T15:54:09.292925Z",
     "start_time": "2019-11-20T15:54:09.278640Z"
    }
   },
   "outputs": [
    {
     "data": {
      "text/plain": [
       "Majority    351\n",
       "Minority     87\n",
       "Name: Bloc, dtype: int64"
      ]
     },
     "execution_count": 50,
     "metadata": {},
     "output_type": "execute_result"
    }
   ],
   "source": [
    "df_merged[df_merged['Passed']==True].Bloc.value_counts(dropna=False)"
   ]
  },
  {
   "cell_type": "code",
   "execution_count": 51,
   "metadata": {
    "ExecuteTime": {
     "end_time": "2019-11-20T15:54:09.317948Z",
     "start_time": "2019-11-20T15:54:09.298502Z"
    }
   },
   "outputs": [],
   "source": [
    "df_merged['majority']=np.where(df_merged['Bloc']=='Majority',True,False)"
   ]
  },
  {
   "cell_type": "code",
   "execution_count": 53,
   "metadata": {
    "ExecuteTime": {
     "end_time": "2019-11-20T15:54:09.414241Z",
     "start_time": "2019-11-20T15:54:09.392357Z"
    }
   },
   "outputs": [],
   "source": [
    "cols_of_interest = ['num_authors','lapsed_day','upper','mon','majority','Passed']\n",
    "data_set = df_merged[cols_of_interest]\n",
    "data_set['lapsed_day'] = data_set.lapsed_day.astype('int')"
   ]
  },
  {
   "cell_type": "code",
   "execution_count": 54,
   "metadata": {
    "ExecuteTime": {
     "end_time": "2019-11-20T15:54:09.465055Z",
     "start_time": "2019-11-20T15:54:09.428170Z"
    }
   },
   "outputs": [
    {
     "data": {
      "text/html": [
       "<div>\n",
       "<style scoped>\n",
       "    .dataframe tbody tr th:only-of-type {\n",
       "        vertical-align: middle;\n",
       "    }\n",
       "\n",
       "    .dataframe tbody tr th {\n",
       "        vertical-align: top;\n",
       "    }\n",
       "\n",
       "    .dataframe thead th {\n",
       "        text-align: right;\n",
       "    }\n",
       "</style>\n",
       "<table border=\"1\" class=\"dataframe\">\n",
       "  <thead>\n",
       "    <tr style=\"text-align: right;\">\n",
       "      <th></th>\n",
       "      <th>num_authors</th>\n",
       "      <th>lapsed_day</th>\n",
       "      <th>upper</th>\n",
       "      <th>mon</th>\n",
       "      <th>majority</th>\n",
       "      <th>Passed</th>\n",
       "    </tr>\n",
       "  </thead>\n",
       "  <tbody>\n",
       "    <tr>\n",
       "      <td>num_authors</td>\n",
       "      <td>1.000000</td>\n",
       "      <td>-0.198671</td>\n",
       "      <td>-0.392653</td>\n",
       "      <td>-0.029448</td>\n",
       "      <td>0.042476</td>\n",
       "      <td>0.513843</td>\n",
       "    </tr>\n",
       "    <tr>\n",
       "      <td>lapsed_day</td>\n",
       "      <td>-0.198671</td>\n",
       "      <td>1.000000</td>\n",
       "      <td>0.275344</td>\n",
       "      <td>0.008457</td>\n",
       "      <td>-0.149643</td>\n",
       "      <td>-0.320637</td>\n",
       "    </tr>\n",
       "    <tr>\n",
       "      <td>upper</td>\n",
       "      <td>-0.392653</td>\n",
       "      <td>0.275344</td>\n",
       "      <td>1.000000</td>\n",
       "      <td>0.069507</td>\n",
       "      <td>-0.036618</td>\n",
       "      <td>-0.606577</td>\n",
       "    </tr>\n",
       "    <tr>\n",
       "      <td>mon</td>\n",
       "      <td>-0.029448</td>\n",
       "      <td>0.008457</td>\n",
       "      <td>0.069507</td>\n",
       "      <td>1.000000</td>\n",
       "      <td>0.011350</td>\n",
       "      <td>0.006364</td>\n",
       "    </tr>\n",
       "    <tr>\n",
       "      <td>majority</td>\n",
       "      <td>0.042476</td>\n",
       "      <td>-0.149643</td>\n",
       "      <td>-0.036618</td>\n",
       "      <td>0.011350</td>\n",
       "      <td>1.000000</td>\n",
       "      <td>0.053608</td>\n",
       "    </tr>\n",
       "    <tr>\n",
       "      <td>Passed</td>\n",
       "      <td>0.513843</td>\n",
       "      <td>-0.320637</td>\n",
       "      <td>-0.606577</td>\n",
       "      <td>0.006364</td>\n",
       "      <td>0.053608</td>\n",
       "      <td>1.000000</td>\n",
       "    </tr>\n",
       "  </tbody>\n",
       "</table>\n",
       "</div>"
      ],
      "text/plain": [
       "             num_authors  lapsed_day     upper       mon  majority    Passed\n",
       "num_authors     1.000000   -0.198671 -0.392653 -0.029448  0.042476  0.513843\n",
       "lapsed_day     -0.198671    1.000000  0.275344  0.008457 -0.149643 -0.320637\n",
       "upper          -0.392653    0.275344  1.000000  0.069507 -0.036618 -0.606577\n",
       "mon            -0.029448    0.008457  0.069507  1.000000  0.011350  0.006364\n",
       "majority        0.042476   -0.149643 -0.036618  0.011350  1.000000  0.053608\n",
       "Passed          0.513843   -0.320637 -0.606577  0.006364  0.053608  1.000000"
      ]
     },
     "execution_count": 54,
     "metadata": {},
     "output_type": "execute_result"
    }
   ],
   "source": [
    "data_set.corr()"
   ]
  },
  {
   "cell_type": "code",
   "execution_count": 55,
   "metadata": {
    "ExecuteTime": {
     "end_time": "2019-11-20T15:54:09.474291Z",
     "start_time": "2019-11-20T15:54:09.470263Z"
    }
   },
   "outputs": [],
   "source": [
    "# plt.style.use('seaborn-dark')\n",
    "# sns.kdeplot(df_13_17_all['lapsed_day'].astype('int'), shade=True, label='Number of Days from Filing to Passing of Law');"
   ]
  },
  {
   "cell_type": "code",
   "execution_count": 56,
   "metadata": {
    "ExecuteTime": {
     "end_time": "2019-11-20T15:54:12.981771Z",
     "start_time": "2019-11-20T15:54:09.479904Z"
    }
   },
   "outputs": [],
   "source": [
    "df_merged['long_title'] = df_merged['long_title'].map(word_tokenize)"
   ]
  },
  {
   "cell_type": "code",
   "execution_count": 57,
   "metadata": {
    "ExecuteTime": {
     "end_time": "2019-11-20T15:54:31.353150Z",
     "start_time": "2019-11-20T15:54:12.987112Z"
    }
   },
   "outputs": [],
   "source": [
    "df_merged['long_title'] = df_merged['long_title'].map(pos_tag)"
   ]
  },
  {
   "cell_type": "code",
   "execution_count": 58,
   "metadata": {
    "ExecuteTime": {
     "end_time": "2019-11-20T15:54:31.605258Z",
     "start_time": "2019-11-20T15:54:31.356429Z"
    }
   },
   "outputs": [],
   "source": [
    "df_merged['long_title'] = df_merged['long_title'].map(lambda words: \n",
    "                            [word for word in words if (word[1].startswith('N') or word[1].startswith('J'))])"
   ]
  },
  {
   "cell_type": "code",
   "execution_count": 59,
   "metadata": {
    "ExecuteTime": {
     "end_time": "2019-11-20T15:54:31.615977Z",
     "start_time": "2019-11-20T15:54:31.607468Z"
    }
   },
   "outputs": [],
   "source": [
    "stoppers = stopwords.words('english')\n",
    "stoppers.extend(['act', 'presidential', 'ii', 'eo', 'code', 'government', 'provide', 'purpose', 'therefor', 'penal', \n",
    "           'thereof', 'revised', 'article', 'provision', 'amended', 'therefore', 'ng', 'ra', 'b', 'san', 'sa', \n",
    "           'del', 'pd', 'decree', 'rano', 'fund', 'program', 'national', 'law', 'republic', 'philippine', 'otherwise', \n",
    "           'section','philippines','xxii','xviii','xiv','xiii','xii','wvcst','ix','iv'])"
   ]
  },
  {
   "cell_type": "code",
   "execution_count": 60,
   "metadata": {
    "ExecuteTime": {
     "end_time": "2019-11-20T15:54:32.251147Z",
     "start_time": "2019-11-20T15:54:31.618210Z"
    }
   },
   "outputs": [],
   "source": [
    "df_merged['long_title']=df_merged['long_title'].map(lambda tags: \n",
    "                                                                [tag[0] for tag in tags if tag[0] not in stoppers])"
   ]
  },
  {
   "cell_type": "code",
   "execution_count": 62,
   "metadata": {
    "ExecuteTime": {
     "end_time": "2019-11-20T15:57:07.186496Z",
     "start_time": "2019-11-20T15:57:04.903609Z"
    }
   },
   "outputs": [],
   "source": [
    "lemmatizer = WordNetLemmatizer()\n",
    "df_merged['long_title'] = df_merged['long_title'].map(lambda words: \n",
    "                                                                [lemmatizer.lemmatize(word) for word in words])"
   ]
  },
  {
   "cell_type": "code",
   "execution_count": 63,
   "metadata": {
    "ExecuteTime": {
     "end_time": "2019-11-20T15:57:12.158909Z",
     "start_time": "2019-11-20T15:57:12.153094Z"
    }
   },
   "outputs": [],
   "source": [
    "def allWordChar(word):\n",
    "    return not(any(char.isdigit() for char in word))"
   ]
  },
  {
   "cell_type": "code",
   "execution_count": 64,
   "metadata": {
    "ExecuteTime": {
     "end_time": "2019-11-20T15:57:12.467549Z",
     "start_time": "2019-11-20T15:57:12.162175Z"
    }
   },
   "outputs": [],
   "source": [
    "df_merged['long_title'] = df_merged['long_title'].apply(lambda words:\n",
    "                                                      [word for word in words if allWordChar(word)])"
   ]
  },
  {
   "cell_type": "code",
   "execution_count": 65,
   "metadata": {
    "ExecuteTime": {
     "end_time": "2019-11-20T15:57:12.502306Z",
     "start_time": "2019-11-20T15:57:12.469563Z"
    }
   },
   "outputs": [],
   "source": [
    "df_merged['processed'] = df_merged['long_title'].apply(lambda x: ' '.join(x))"
   ]
  },
  {
   "cell_type": "code",
   "execution_count": 66,
   "metadata": {
    "ExecuteTime": {
     "end_time": "2019-11-20T15:57:12.705592Z",
     "start_time": "2019-11-20T15:57:12.506041Z"
    }
   },
   "outputs": [],
   "source": [
    "tfidf_vectorizer = TfidfVectorizer()\n",
    "tfidf_out = tfidf_vectorizer.fit_transform(df_merged['processed'])"
   ]
  },
  {
   "cell_type": "code",
   "execution_count": 67,
   "metadata": {
    "ExecuteTime": {
     "end_time": "2019-11-20T15:57:12.728125Z",
     "start_time": "2019-11-20T15:57:12.713189Z"
    }
   },
   "outputs": [],
   "source": [
    "df_vect_words = pd.DataFrame(sorted(tfidf_vectorizer.vocabulary_.items(), key=lambda kv: kv[1], reverse=True),\n",
    "                  columns = ['Word', 'Weight'])"
   ]
  },
  {
   "cell_type": "markdown",
   "metadata": {},
   "source": [
    "## EDA"
   ]
  },
  {
   "cell_type": "code",
   "execution_count": 68,
   "metadata": {
    "ExecuteTime": {
     "end_time": "2019-11-20T15:57:12.735714Z",
     "start_time": "2019-11-20T15:57:12.732572Z"
    }
   },
   "outputs": [],
   "source": [
    "# plt.style.use('seaborn-dark')\n",
    "# plt.figure(figsize=(15,6))\n",
    "# plt.bar(df_vect_words['Word'].head(30), df_vect_words['Count'].head(30))"
   ]
  },
  {
   "cell_type": "markdown",
   "metadata": {},
   "source": [
    "## Modeling"
   ]
  },
  {
   "cell_type": "code",
   "execution_count": 69,
   "metadata": {
    "ExecuteTime": {
     "end_time": "2019-11-20T15:57:12.911106Z",
     "start_time": "2019-11-20T15:57:12.749496Z"
    }
   },
   "outputs": [],
   "source": [
    "from sklearn.model_selection import train_test_split\n",
    "from imblearn.under_sampling import RandomUnderSampler \n",
    "from sklearn.decomposition import TruncatedSVD\n",
    "from sklearn.svm import SVC\n",
    "from sklearn.metrics import classification_report"
   ]
  },
  {
   "cell_type": "code",
   "execution_count": 70,
   "metadata": {
    "ExecuteTime": {
     "end_time": "2019-11-20T15:57:13.194261Z",
     "start_time": "2019-11-20T15:57:12.913015Z"
    }
   },
   "outputs": [],
   "source": [
    "ds = pd.DataFrame(tfidf_out.todense())"
   ]
  },
  {
   "cell_type": "code",
   "execution_count": 71,
   "metadata": {
    "ExecuteTime": {
     "end_time": "2019-11-20T15:57:13.203939Z",
     "start_time": "2019-11-20T15:57:13.199740Z"
    }
   },
   "outputs": [],
   "source": [
    "cols_of_interest = ['num_authors','lapsed_day','upper','mon','majority','Passed']"
   ]
  },
  {
   "cell_type": "code",
   "execution_count": 72,
   "metadata": {
    "ExecuteTime": {
     "end_time": "2019-11-20T15:57:13.228038Z",
     "start_time": "2019-11-20T15:57:13.210139Z"
    }
   },
   "outputs": [],
   "source": [
    "ds['num_authors']=data_set['num_authors'].tolist()\n",
    "ds['upper']=data_set['upper'].tolist()\n",
    "# ds['mon']=data_set['mon'].tolist()\n",
    "# ds['majority']=data_set['majority'].tolist()"
   ]
  },
  {
   "cell_type": "code",
   "execution_count": 73,
   "metadata": {
    "ExecuteTime": {
     "end_time": "2019-11-20T15:57:13.242503Z",
     "start_time": "2019-11-20T15:57:13.234675Z"
    }
   },
   "outputs": [],
   "source": [
    "scaler = StandardScaler()"
   ]
  },
  {
   "cell_type": "code",
   "execution_count": 74,
   "metadata": {
    "ExecuteTime": {
     "end_time": "2019-11-20T16:00:17.196144Z",
     "start_time": "2019-11-20T15:57:13.246143Z"
    }
   },
   "outputs": [],
   "source": [
    "ds_scaled = scaler.fit_transform(ds)"
   ]
  },
  {
   "cell_type": "code",
   "execution_count": 75,
   "metadata": {
    "ExecuteTime": {
     "end_time": "2019-11-20T16:00:20.154521Z",
     "start_time": "2019-11-20T16:00:17.233768Z"
    }
   },
   "outputs": [
    {
     "name": "stdout",
     "output_type": "stream",
     "text": [
      "Our train set has 11,308 data points whilst our test set has 3,770 data points.\n",
      "\n",
      "3.10% from the test set are actual positives.\n"
     ]
    }
   ],
   "source": [
    "X_train, X_test, y_train, y_test = train_test_split(ds_scaled, df_merged['Passed'], test_size = 0.25, random_state=43)\n",
    "print(f\"Our train set has {X_train.shape[0]:,} data points whilst our test set has {X_test.shape[0]:,} data points.\")\n",
    "print(f\"\\n{y_test.sum()/X_test.shape[0]:.2%} from the test set are actual positives.\")"
   ]
  },
  {
   "cell_type": "code",
   "execution_count": 76,
   "metadata": {
    "ExecuteTime": {
     "end_time": "2019-11-20T16:00:20.244758Z",
     "start_time": "2019-11-20T16:00:20.163536Z"
    }
   },
   "outputs": [
    {
     "name": "stdout",
     "output_type": "stream",
     "text": [
      "Our new train set has 642 data points, 321 of which are actual positives.\n"
     ]
    }
   ],
   "source": [
    "# Under sample the majority target variable, so that we get about equal number of observations from both classes.\n",
    "rus = RandomUnderSampler(random_state=42)\n",
    "nx_train, ny_train = rus.fit_resample(X_train, y_train)\n",
    "print(f\"Our new train set has {ny_train.shape[0]} data points, {np.sum(ny_train)} of which are actual positives.\")"
   ]
  },
  {
   "cell_type": "code",
   "execution_count": 77,
   "metadata": {
    "ExecuteTime": {
     "end_time": "2019-11-20T16:00:20.761870Z",
     "start_time": "2019-11-20T16:00:20.247204Z"
    }
   },
   "outputs": [],
   "source": [
    "svd = TruncatedSVD(n_components=20, algorithm='arpack', random_state = 42)\n",
    "nx_train_svd = svd.fit_transform(nx_train)\n",
    "x_test_svd = svd.transform(X_test)"
   ]
  },
  {
   "cell_type": "code",
   "execution_count": 78,
   "metadata": {
    "ExecuteTime": {
     "end_time": "2019-11-20T16:00:20.827645Z",
     "start_time": "2019-11-20T16:00:20.767934Z"
    }
   },
   "outputs": [
    {
     "data": {
      "text/plain": [
       "SVC(C=1.0, cache_size=200, class_weight=None, coef0=0.0,\n",
       "    decision_function_shape='ovr', degree=3, gamma='auto', kernel='linear',\n",
       "    max_iter=-1, probability=False, random_state=42, shrinking=True, tol=0.001,\n",
       "    verbose=False)"
      ]
     },
     "execution_count": 78,
     "metadata": {},
     "output_type": "execute_result"
    }
   ],
   "source": [
    "svc = SVC(gamma='auto', kernel='linear', random_state = 42)\n",
    "svc.fit(nx_train_svd, ny_train)"
   ]
  },
  {
   "cell_type": "code",
   "execution_count": 79,
   "metadata": {
    "ExecuteTime": {
     "end_time": "2019-11-20T16:00:20.852732Z",
     "start_time": "2019-11-20T16:00:20.830294Z"
    }
   },
   "outputs": [],
   "source": [
    "predicted = svc.predict(x_test_svd)"
   ]
  },
  {
   "cell_type": "code",
   "execution_count": 80,
   "metadata": {
    "ExecuteTime": {
     "end_time": "2019-11-20T16:00:20.872648Z",
     "start_time": "2019-11-20T16:00:20.855303Z"
    }
   },
   "outputs": [
    {
     "name": "stdout",
     "output_type": "stream",
     "text": [
      "              precision    recall  f1-score   support\n",
      "\n",
      "       False       0.99      0.94      0.97      3653\n",
      "        True       0.27      0.68      0.39       117\n",
      "\n",
      "    accuracy                           0.93      3770\n",
      "   macro avg       0.63      0.81      0.68      3770\n",
      "weighted avg       0.97      0.93      0.95      3770\n",
      "\n"
     ]
    }
   ],
   "source": [
    "print(classification_report(y_test, predicted))"
   ]
  },
  {
   "cell_type": "code",
   "execution_count": null,
   "metadata": {},
   "outputs": [],
   "source": []
  }
 ],
 "metadata": {
  "hide_input": false,
  "kernelspec": {
   "display_name": "Python 3",
   "language": "python",
   "name": "python3"
  },
  "language_info": {
   "codemirror_mode": {
    "name": "ipython",
    "version": 3
   },
   "file_extension": ".py",
   "mimetype": "text/x-python",
   "name": "python",
   "nbconvert_exporter": "python",
   "pygments_lexer": "ipython3",
   "version": "3.6.5"
  },
  "toc": {
   "base_numbering": 1,
   "nav_menu": {},
   "number_sections": false,
   "sideBar": true,
   "skip_h1_title": true,
   "title_cell": "Table of Contents",
   "title_sidebar": "Contents",
   "toc_cell": false,
   "toc_position": {},
   "toc_section_display": true,
   "toc_window_display": true
  },
  "varInspector": {
   "cols": {
    "lenName": 16,
    "lenType": 16,
    "lenVar": 40
   },
   "kernels_config": {
    "python": {
     "delete_cmd_postfix": "",
     "delete_cmd_prefix": "del ",
     "library": "var_list.py",
     "varRefreshCmd": "print(var_dic_list())"
    },
    "r": {
     "delete_cmd_postfix": ") ",
     "delete_cmd_prefix": "rm(",
     "library": "var_list.r",
     "varRefreshCmd": "cat(var_dic_list()) "
    }
   },
   "types_to_exclude": [
    "module",
    "function",
    "builtin_function_or_method",
    "instance",
    "_Feature"
   ],
   "window_display": false
  }
 },
 "nbformat": 4,
 "nbformat_minor": 2
}
