{
 "cells": [
  {
   "cell_type": "markdown",
   "metadata": {},
   "source": [
    "# Exploratory Data Analytics on Philippine Bills from 13th Congress to 17th Congress"
   ]
  },
  {
   "cell_type": "markdown",
   "metadata": {},
   "source": [
    "## Importing Python Packages"
   ]
  },
  {
   "cell_type": "code",
   "execution_count": 65,
   "metadata": {
    "ExecuteTime": {
     "end_time": "2019-11-21T05:50:28.001498Z",
     "start_time": "2019-11-21T05:50:27.738089Z"
    }
   },
   "outputs": [],
   "source": [
    "# For loading, manipulating dataframe.\n",
    "import pandas as pd\n",
    "import sqlite3, datetime, re\n",
    "\n",
    "# For Text Preprocessing\n",
    "from nltk import word_tokenize, pos_tag\n",
    "from nltk.corpus import stopwords\n",
    "from nltk.stem import WordNetLemmatizer\n",
    "from nltk.stem import SnowballStemmer\n",
    "\n",
    "# Vectorizers\n",
    "from sklearn.feature_extraction.text import TfidfVectorizer\n",
    "from sklearn.preprocessing import StandardScaler\n",
    "\n",
    "# Visualizations\n",
    "from matplotlib import pyplot as plt\n",
    "%matplotlib inline\n",
    "import seaborn as sns\n",
    "\n",
    "# Modeling\n",
    "from sklearn.model_selection import train_test_split\n",
    "from imblearn.under_sampling import RandomUnderSampler \n",
    "from sklearn.decomposition import TruncatedSVD\n",
    "from sklearn.svm import SVC\n",
    "from sklearn.metrics import classification_report\n",
    "\n",
    "# Hide Warning messages\n",
    "import warnings\n",
    "warnings.filterwarnings('ignore')"
   ]
  },
  {
   "cell_type": "code",
   "execution_count": 2,
   "metadata": {
    "ExecuteTime": {
     "end_time": "2019-11-21T03:11:41.445130Z",
     "start_time": "2019-11-21T03:11:40.846393Z"
    }
   },
   "outputs": [],
   "source": [
    "con = sqlite3.connect(\"phBills.db\")\n",
    "df_bills = pd.read_sql_query(\"SELECT * from senateBills\", con, index_col = None, parse_dates = ['date_filed','date_lastUpdate'])\n",
    "con.close()"
   ]
  },
  {
   "cell_type": "code",
   "execution_count": 3,
   "metadata": {
    "ExecuteTime": {
     "end_time": "2019-11-21T03:11:43.944569Z",
     "start_time": "2019-11-21T03:11:41.447534Z"
    }
   },
   "outputs": [],
   "source": [
    "df_senators = pd.read_excel('Bills with Authors.xlsx',sheet_name='Sheet1')"
   ]
  },
  {
   "cell_type": "code",
   "execution_count": 4,
   "metadata": {
    "ExecuteTime": {
     "end_time": "2019-11-21T03:11:43.989052Z",
     "start_time": "2019-11-21T03:11:43.947305Z"
    }
   },
   "outputs": [],
   "source": [
    "df_bills['passed']=np.where(df_bills.ra!='',True, False)\n",
    "df_bills['long_title']=df_bills['long_title'].str.lower()\n",
    "df_bills = df_bills[df_bills['congress']!=18]"
   ]
  },
  {
   "cell_type": "code",
   "execution_count": 5,
   "metadata": {
    "ExecuteTime": {
     "end_time": "2019-11-21T03:11:44.060343Z",
     "start_time": "2019-11-21T03:11:44.010197Z"
    }
   },
   "outputs": [
    {
     "data": {
      "text/plain": [
       "Pending in the Committee                            11722\n",
       "Consolidated/Substituted in the Committee Report     2337\n",
       "Approved by the President of the Philippines          329\n",
       "Pending Second Reading, Special Order                 241\n",
       "Consolidated with Approved Bill                        97\n",
       "Pending in the House of Representatives                95\n",
       "Sent to the Archives                                   91\n",
       "Pending Second Reading, Ordinary Business              86\n",
       "Withdrawn                                              53\n",
       "Lapsed Into Law                                        27\n",
       "Pending Conference Committee                           17\n",
       "Approved on Third Reading by the Senate                 9\n",
       "Conference Committee Report Approved by Senate          7\n",
       "Vetoed by the President of the Philippines              7\n",
       "Pending First Reading                                   4\n",
       "Approved on  Second Reading, with Amendments            3\n",
       "Committee Report Sent to the Archives                   2\n",
       "Passed by Both Houses                                   1\n",
       "Recommitted to the Committee                            1\n",
       "Reconsideration of Approval on Second Reading           1\n",
       "With Senate Designated Conferees                        1\n",
       "Name: status, dtype: int64"
      ]
     },
     "execution_count": 5,
     "metadata": {},
     "output_type": "execute_result"
    }
   ],
   "source": [
    "df_bills.status.value_counts()"
   ]
  },
  {
   "cell_type": "code",
   "execution_count": 6,
   "metadata": {
    "ExecuteTime": {
     "end_time": "2019-11-21T03:11:44.076414Z",
     "start_time": "2019-11-21T03:11:44.063722Z"
    }
   },
   "outputs": [],
   "source": [
    "df_bills.drop(['link','short_title','subject','pri_committee','ra','logs'],axis=1,inplace=True)"
   ]
  },
  {
   "cell_type": "code",
   "execution_count": 7,
   "metadata": {
    "ExecuteTime": {
     "end_time": "2019-11-21T03:11:44.099713Z",
     "start_time": "2019-11-21T03:11:44.081159Z"
    }
   },
   "outputs": [
    {
     "data": {
      "text/plain": [
       "bill_id            False\n",
       "num                False\n",
       "congress           False\n",
       "long_title         False\n",
       "date_filed         False\n",
       "scope              False\n",
       "status             False\n",
       "author             False\n",
       "date_lastUpdate    False\n",
       "passed             False\n",
       "dtype: bool"
      ]
     },
     "execution_count": 7,
     "metadata": {},
     "output_type": "execute_result"
    }
   ],
   "source": [
    "df_bills.isna().any()"
   ]
  },
  {
   "cell_type": "code",
   "execution_count": 8,
   "metadata": {
    "ExecuteTime": {
     "end_time": "2019-11-21T03:11:44.114040Z",
     "start_time": "2019-11-21T03:11:44.102474Z"
    }
   },
   "outputs": [],
   "source": [
    "df_senators=df_senators[['bill_id','Full Name Primary Author','Party','Bloc','Years of Service']]"
   ]
  },
  {
   "cell_type": "code",
   "execution_count": 9,
   "metadata": {
    "ExecuteTime": {
     "end_time": "2019-11-21T03:11:44.138614Z",
     "start_time": "2019-11-21T03:11:44.120051Z"
    }
   },
   "outputs": [
    {
     "data": {
      "text/html": [
       "<div>\n",
       "<style scoped>\n",
       "    .dataframe tbody tr th:only-of-type {\n",
       "        vertical-align: middle;\n",
       "    }\n",
       "\n",
       "    .dataframe tbody tr th {\n",
       "        vertical-align: top;\n",
       "    }\n",
       "\n",
       "    .dataframe thead th {\n",
       "        text-align: right;\n",
       "    }\n",
       "</style>\n",
       "<table border=\"1\" class=\"dataframe\">\n",
       "  <thead>\n",
       "    <tr style=\"text-align: right;\">\n",
       "      <th></th>\n",
       "      <th>bill_id</th>\n",
       "      <th>Full Name Primary Author</th>\n",
       "      <th>Party</th>\n",
       "      <th>Bloc</th>\n",
       "      <th>Years of Service</th>\n",
       "    </tr>\n",
       "  </thead>\n",
       "  <tbody>\n",
       "    <tr>\n",
       "      <td>0</td>\n",
       "      <td>17SBN-2235</td>\n",
       "      <td>Franklin Drilon</td>\n",
       "      <td>Liberal</td>\n",
       "      <td>Minority</td>\n",
       "      <td>24.0</td>\n",
       "    </tr>\n",
       "    <tr>\n",
       "      <td>1</td>\n",
       "      <td>17SBN-2234</td>\n",
       "      <td>Ralph Recto</td>\n",
       "      <td>Nacionalista</td>\n",
       "      <td>Majority</td>\n",
       "      <td>18.0</td>\n",
       "    </tr>\n",
       "  </tbody>\n",
       "</table>\n",
       "</div>"
      ],
      "text/plain": [
       "      bill_id Full Name Primary Author         Party      Bloc  \\\n",
       "0  17SBN-2235          Franklin Drilon       Liberal  Minority   \n",
       "1  17SBN-2234              Ralph Recto  Nacionalista  Majority   \n",
       "\n",
       "   Years of Service  \n",
       "0              24.0  \n",
       "1              18.0  "
      ]
     },
     "execution_count": 9,
     "metadata": {},
     "output_type": "execute_result"
    }
   ],
   "source": [
    "df_senators.head(2)"
   ]
  },
  {
   "cell_type": "code",
   "execution_count": 10,
   "metadata": {
    "ExecuteTime": {
     "end_time": "2019-11-21T03:11:44.146939Z",
     "start_time": "2019-11-21T03:11:44.141332Z"
    }
   },
   "outputs": [
    {
     "name": "stdout",
     "output_type": "stream",
     "text": [
      "Bills Data Points: 15,131\n",
      "Senators Data Points: 15,131\n"
     ]
    }
   ],
   "source": [
    "print(f\"Bills Data Points: {df_bills.shape[0]:,}\\nSenators Data Points: {df_senators.shape[0]:,}\")"
   ]
  },
  {
   "cell_type": "code",
   "execution_count": 11,
   "metadata": {
    "ExecuteTime": {
     "end_time": "2019-11-21T03:11:44.312759Z",
     "start_time": "2019-11-21T03:11:44.151191Z"
    }
   },
   "outputs": [
    {
     "name": "stdout",
     "output_type": "stream",
     "text": [
      "Congress DF Data Points: 15,131\n"
     ]
    }
   ],
   "source": [
    "df_congress = pd.merge(df_bills,df_senators,how='left',on=['bill_id'])\n",
    "print(f\"Congress DF Data Points: {df_congress.shape[0]:,}\")"
   ]
  },
  {
   "cell_type": "code",
   "execution_count": 12,
   "metadata": {
    "ExecuteTime": {
     "end_time": "2019-11-21T03:11:44.338020Z",
     "start_time": "2019-11-21T03:11:44.317040Z"
    }
   },
   "outputs": [],
   "source": [
    "df_congress=df_congress[df_congress.status!='Withdrawn']"
   ]
  },
  {
   "cell_type": "code",
   "execution_count": 13,
   "metadata": {
    "ExecuteTime": {
     "end_time": "2019-11-21T03:11:44.378516Z",
     "start_time": "2019-11-21T03:11:44.350905Z"
    }
   },
   "outputs": [
    {
     "data": {
      "text/plain": [
       "bill_id                        0\n",
       "num                            0\n",
       "congress                       0\n",
       "long_title                     0\n",
       "date_filed                     0\n",
       "scope                          0\n",
       "status                         0\n",
       "author                         0\n",
       "date_lastUpdate                0\n",
       "passed                         0\n",
       "Full Name Primary Author       0\n",
       "Party                          1\n",
       "Bloc                           1\n",
       "Years of Service            1334\n",
       "dtype: int64"
      ]
     },
     "execution_count": 13,
     "metadata": {},
     "output_type": "execute_result"
    }
   ],
   "source": [
    "df_congress.isna().sum()"
   ]
  },
  {
   "cell_type": "code",
   "execution_count": 14,
   "metadata": {
    "ExecuteTime": {
     "end_time": "2019-11-21T03:11:44.504508Z",
     "start_time": "2019-11-21T03:11:44.384976Z"
    }
   },
   "outputs": [],
   "source": [
    "df_congress.loc[df_congress['Full Name Primary Author']=='Mannuel Villar Jr','Years of Service'] = df_congress.date_filed.apply(\n",
    "                                                        lambda x: x.year - 2001)\n",
    "df_congress.loc[df_congress['Full Name Primary Author']=='Mannuel Villar Jr','Party'] = 'Independent'\n",
    "df_congress.loc[df_congress['Full Name Primary Author']=='Mannuel Villar Jr','Bloc'] = 'Majority'"
   ]
  },
  {
   "cell_type": "code",
   "execution_count": 15,
   "metadata": {
    "ExecuteTime": {
     "end_time": "2019-11-21T03:11:44.535784Z",
     "start_time": "2019-11-21T03:11:44.512936Z"
    }
   },
   "outputs": [
    {
     "data": {
      "text/plain": [
       "bill_id                     0\n",
       "num                         0\n",
       "congress                    0\n",
       "long_title                  0\n",
       "date_filed                  0\n",
       "scope                       0\n",
       "status                      0\n",
       "author                      0\n",
       "date_lastUpdate             0\n",
       "passed                      0\n",
       "Full Name Primary Author    0\n",
       "Party                       0\n",
       "Bloc                        0\n",
       "Years of Service            0\n",
       "dtype: int64"
      ]
     },
     "execution_count": 15,
     "metadata": {},
     "output_type": "execute_result"
    }
   ],
   "source": [
    "df_congress.isna().sum()"
   ]
  },
  {
   "cell_type": "code",
   "execution_count": 16,
   "metadata": {
    "ExecuteTime": {
     "end_time": "2019-11-21T03:11:44.561889Z",
     "start_time": "2019-11-21T03:11:44.547712Z"
    }
   },
   "outputs": [
    {
     "data": {
      "text/plain": [
       "PRP                2998\n",
       "Independent        2934\n",
       "PMP                2400\n",
       "Nacionalista       1541\n",
       "Liberal            1188\n",
       "NPC                1023\n",
       "LDP                 627\n",
       "PDP-Laban           503\n",
       "Lakas               436\n",
       "Lakas-Kampi-CMD     404\n",
       "Lakas-CMD           351\n",
       "UNA                 281\n",
       "PDP–Laban           225\n",
       "Bagumbayan-VNP      104\n",
       "Akbayan              63\n",
       "Name: Party, dtype: int64"
      ]
     },
     "execution_count": 16,
     "metadata": {},
     "output_type": "execute_result"
    }
   ],
   "source": [
    "df_congress.Party.value_counts(dropna=False)"
   ]
  },
  {
   "cell_type": "code",
   "execution_count": 17,
   "metadata": {
    "ExecuteTime": {
     "end_time": "2019-11-21T03:11:44.582613Z",
     "start_time": "2019-11-21T03:11:44.564715Z"
    }
   },
   "outputs": [
    {
     "data": {
      "text/plain": [
       "Majority    10268\n",
       "Minority     4810\n",
       "Name: Bloc, dtype: int64"
      ]
     },
     "execution_count": 17,
     "metadata": {},
     "output_type": "execute_result"
    }
   ],
   "source": [
    "df_congress.Bloc.value_counts(dropna=False)"
   ]
  },
  {
   "cell_type": "code",
   "execution_count": 18,
   "metadata": {
    "ExecuteTime": {
     "end_time": "2019-11-21T03:11:44.598626Z",
     "start_time": "2019-11-21T03:11:44.593833Z"
    }
   },
   "outputs": [
    {
     "name": "stdout",
     "output_type": "stream",
     "text": [
      "df_congress Data Points: 15,078\n"
     ]
    }
   ],
   "source": [
    "print(f\"df_congress Data Points: {df_congress.shape[0]:,}\")"
   ]
  },
  {
   "cell_type": "code",
   "execution_count": 19,
   "metadata": {
    "ExecuteTime": {
     "end_time": "2019-11-21T03:11:44.620033Z",
     "start_time": "2019-11-21T03:11:44.605092Z"
    }
   },
   "outputs": [
    {
     "name": "stdout",
     "output_type": "stream",
     "text": [
      "New df_congress Data Points: 529\n"
     ]
    }
   ],
   "source": [
    "df_congress=df_congress[(df_congress.status=='Sent to the Archives') | (df_congress.passed==True)]\n",
    "print(f\"New df_congress Data Points: {df_congress.shape[0]:,}\")"
   ]
  },
  {
   "cell_type": "code",
   "execution_count": 20,
   "metadata": {
    "ExecuteTime": {
     "end_time": "2019-11-21T03:11:44.955964Z",
     "start_time": "2019-11-21T03:11:44.627351Z"
    }
   },
   "outputs": [],
   "source": [
    "df_congress['num_authors']=((df_congress.author.str.count(',') + 1)/2).astype('int')"
   ]
  },
  {
   "cell_type": "code",
   "execution_count": 21,
   "metadata": {
    "ExecuteTime": {
     "end_time": "2019-11-21T03:11:44.965735Z",
     "start_time": "2019-11-21T03:11:44.960217Z"
    }
   },
   "outputs": [],
   "source": [
    "df_congress['delta_days']=df_congress.date_lastUpdate-df_congress.date_filed"
   ]
  },
  {
   "cell_type": "code",
   "execution_count": 22,
   "metadata": {
    "ExecuteTime": {
     "end_time": "2019-11-21T03:11:44.979136Z",
     "start_time": "2019-11-21T03:11:44.973477Z"
    }
   },
   "outputs": [],
   "source": [
    "df_congress['delta_days']=df_congress['delta_days'].astype('timedelta64[D]')"
   ]
  },
  {
   "cell_type": "code",
   "execution_count": 23,
   "metadata": {
    "ExecuteTime": {
     "end_time": "2019-11-21T03:11:45.001382Z",
     "start_time": "2019-11-21T03:11:44.983643Z"
    }
   },
   "outputs": [
    {
     "name": "stdout",
     "output_type": "stream",
     "text": [
      "median: 306.5\n",
      "mean: 374.64611872146116\n",
      "mode: 546.0\n"
     ]
    }
   ],
   "source": [
    "print(f\"median: {df_congress[df_congress['passed']==True]['delta_days'].median()}\")\n",
    "print(f\"mean: {df_congress[df_congress['passed']==True]['delta_days'].mean()}\")\n",
    "print(f\"mode: {df_congress[df_congress['passed']==True]['delta_days'].mode()[0]}\")"
   ]
  },
  {
   "cell_type": "code",
   "execution_count": 24,
   "metadata": {
    "ExecuteTime": {
     "end_time": "2019-11-21T03:11:45.015680Z",
     "start_time": "2019-11-21T03:11:45.004554Z"
    }
   },
   "outputs": [],
   "source": [
    "bound = df_congress[df_congress['passed']==True]['delta_days'].mean()\n",
    "df_congress['upper']=np.where(df_congress.delta_days>bound,True,False)"
   ]
  },
  {
   "cell_type": "code",
   "execution_count": 25,
   "metadata": {
    "ExecuteTime": {
     "end_time": "2019-11-21T03:11:45.032307Z",
     "start_time": "2019-11-21T03:11:45.021245Z"
    }
   },
   "outputs": [],
   "source": [
    "df_congress['mon']=df_congress.date_filed.apply(lambda x: x.month)"
   ]
  },
  {
   "cell_type": "code",
   "execution_count": 26,
   "metadata": {
    "ExecuteTime": {
     "end_time": "2019-11-21T03:11:45.068847Z",
     "start_time": "2019-11-21T03:11:45.036485Z"
    }
   },
   "outputs": [],
   "source": [
    "df_congress.loc[(df_congress.mon.isin([1,2,3])), 'quarter']= 1\n",
    "df_congress.loc[df_congress.mon.isin([4,5,6]), 'quarter']= 2\n",
    "df_congress.loc[df_congress.mon.isin([7,8,9]), 'quarter']= 3\n",
    "df_congress.loc[df_congress.mon.isin([10,11,12]), 'quarter']= 4"
   ]
  },
  {
   "cell_type": "code",
   "execution_count": 27,
   "metadata": {
    "ExecuteTime": {
     "end_time": "2019-11-21T03:11:45.084183Z",
     "start_time": "2019-11-21T03:11:45.073279Z"
    }
   },
   "outputs": [
    {
     "data": {
      "text/plain": [
       "1     40\n",
       "2     34\n",
       "3     30\n",
       "4      4\n",
       "5     53\n",
       "6     34\n",
       "7     33\n",
       "8     26\n",
       "9     44\n",
       "10    30\n",
       "11    70\n",
       "12    40\n",
       "Name: mon, dtype: int64"
      ]
     },
     "execution_count": 27,
     "metadata": {},
     "output_type": "execute_result"
    }
   ],
   "source": [
    "df_congress[df_congress['passed']==True].mon.value_counts(sort=False)"
   ]
  },
  {
   "cell_type": "code",
   "execution_count": 28,
   "metadata": {
    "ExecuteTime": {
     "end_time": "2019-11-21T03:11:45.109664Z",
     "start_time": "2019-11-21T03:11:45.089116Z"
    }
   },
   "outputs": [
    {
     "data": {
      "text/plain": [
       "2.0     91\n",
       "1.0    104\n",
       "4.0    140\n",
       "3.0    103\n",
       "Name: quarter, dtype: int64"
      ]
     },
     "execution_count": 28,
     "metadata": {},
     "output_type": "execute_result"
    }
   ],
   "source": [
    "df_congress[df_congress['passed']==True].quarter.value_counts(sort=False)"
   ]
  },
  {
   "cell_type": "code",
   "execution_count": 29,
   "metadata": {
    "ExecuteTime": {
     "end_time": "2019-11-21T03:11:45.122135Z",
     "start_time": "2019-11-21T03:11:45.112083Z"
    }
   },
   "outputs": [
    {
     "data": {
      "text/plain": [
       "National    511\n",
       "Local        18\n",
       "Name: scope, dtype: int64"
      ]
     },
     "execution_count": 29,
     "metadata": {},
     "output_type": "execute_result"
    }
   ],
   "source": [
    "df_congress.scope.value_counts()"
   ]
  },
  {
   "cell_type": "code",
   "execution_count": 30,
   "metadata": {
    "ExecuteTime": {
     "end_time": "2019-11-21T03:11:45.142742Z",
     "start_time": "2019-11-21T03:11:45.137008Z"
    }
   },
   "outputs": [],
   "source": [
    "df_congress['scope_national']=np.where(df_congress.scope=='National',True,False)"
   ]
  },
  {
   "cell_type": "code",
   "execution_count": 31,
   "metadata": {
    "ExecuteTime": {
     "end_time": "2019-11-21T03:11:45.168791Z",
     "start_time": "2019-11-21T03:11:45.152612Z"
    }
   },
   "outputs": [
    {
     "data": {
      "text/plain": [
       "True     511\n",
       "False     18\n",
       "Name: scope_national, dtype: int64"
      ]
     },
     "execution_count": 31,
     "metadata": {},
     "output_type": "execute_result"
    }
   ],
   "source": [
    "df_congress.scope_national.value_counts()"
   ]
  },
  {
   "cell_type": "code",
   "execution_count": 32,
   "metadata": {
    "ExecuteTime": {
     "end_time": "2019-11-21T03:11:45.184747Z",
     "start_time": "2019-11-21T03:11:45.171114Z"
    }
   },
   "outputs": [
    {
     "data": {
      "text/plain": [
       "Majority    353\n",
       "Minority     85\n",
       "Name: Bloc, dtype: int64"
      ]
     },
     "execution_count": 32,
     "metadata": {},
     "output_type": "execute_result"
    }
   ],
   "source": [
    "df_congress[df_congress['passed']==True].Bloc.value_counts(dropna=False)"
   ]
  },
  {
   "cell_type": "code",
   "execution_count": 33,
   "metadata": {
    "ExecuteTime": {
     "end_time": "2019-11-21T03:11:45.206893Z",
     "start_time": "2019-11-21T03:11:45.189385Z"
    }
   },
   "outputs": [
    {
     "data": {
      "text/plain": [
       "Majority    75\n",
       "Minority    16\n",
       "Name: Bloc, dtype: int64"
      ]
     },
     "execution_count": 33,
     "metadata": {},
     "output_type": "execute_result"
    }
   ],
   "source": [
    "df_congress[df_congress['passed']==False].Bloc.value_counts(dropna=False)"
   ]
  },
  {
   "cell_type": "code",
   "execution_count": 34,
   "metadata": {
    "ExecuteTime": {
     "end_time": "2019-11-21T03:11:45.218957Z",
     "start_time": "2019-11-21T03:11:45.212026Z"
    }
   },
   "outputs": [],
   "source": [
    "df_congress['majority_bloc']=np.where(df_congress['Bloc']=='Majority',True,False)"
   ]
  },
  {
   "cell_type": "code",
   "execution_count": 35,
   "metadata": {
    "ExecuteTime": {
     "end_time": "2019-11-21T03:11:45.236652Z",
     "start_time": "2019-11-21T03:11:45.221854Z"
    }
   },
   "outputs": [
    {
     "data": {
      "text/plain": [
       "bill_id                             object\n",
       "num                                 object\n",
       "congress                             int64\n",
       "long_title                          object\n",
       "date_filed                  datetime64[ns]\n",
       "scope                               object\n",
       "status                              object\n",
       "author                              object\n",
       "date_lastUpdate             datetime64[ns]\n",
       "passed                                bool\n",
       "Full Name Primary Author            object\n",
       "Party                               object\n",
       "Bloc                                object\n",
       "Years of Service                   float64\n",
       "num_authors                          int64\n",
       "delta_days                         float64\n",
       "upper                                 bool\n",
       "mon                                  int64\n",
       "quarter                            float64\n",
       "scope_national                        bool\n",
       "majority_bloc                         bool\n",
       "dtype: object"
      ]
     },
     "execution_count": 35,
     "metadata": {},
     "output_type": "execute_result"
    }
   ],
   "source": [
    "df_congress.dtypes"
   ]
  },
  {
   "cell_type": "code",
   "execution_count": 40,
   "metadata": {
    "ExecuteTime": {
     "end_time": "2019-11-21T03:16:36.887473Z",
     "start_time": "2019-11-21T03:16:36.877581Z"
    }
   },
   "outputs": [],
   "source": [
    "df_congress['len_desc']=df_congress.long_title.str.len()"
   ]
  },
  {
   "cell_type": "code",
   "execution_count": 48,
   "metadata": {
    "ExecuteTime": {
     "end_time": "2019-11-21T04:39:10.215442Z",
     "start_time": "2019-11-21T04:39:10.171339Z"
    }
   },
   "outputs": [
    {
     "data": {
      "text/html": [
       "<div>\n",
       "<style scoped>\n",
       "    .dataframe tbody tr th:only-of-type {\n",
       "        vertical-align: middle;\n",
       "    }\n",
       "\n",
       "    .dataframe tbody tr th {\n",
       "        vertical-align: top;\n",
       "    }\n",
       "\n",
       "    .dataframe thead th {\n",
       "        text-align: right;\n",
       "    }\n",
       "</style>\n",
       "<table border=\"1\" class=\"dataframe\">\n",
       "  <thead>\n",
       "    <tr style=\"text-align: right;\">\n",
       "      <th></th>\n",
       "      <th>bill_id</th>\n",
       "      <th>num</th>\n",
       "      <th>congress</th>\n",
       "      <th>long_title</th>\n",
       "      <th>date_filed</th>\n",
       "      <th>scope</th>\n",
       "      <th>status</th>\n",
       "      <th>author</th>\n",
       "      <th>date_lastUpdate</th>\n",
       "      <th>passed</th>\n",
       "      <th>...</th>\n",
       "      <th>Bloc</th>\n",
       "      <th>Years of Service</th>\n",
       "      <th>num_authors</th>\n",
       "      <th>delta_days</th>\n",
       "      <th>upper</th>\n",
       "      <th>mon</th>\n",
       "      <th>quarter</th>\n",
       "      <th>scope_national</th>\n",
       "      <th>majority_bloc</th>\n",
       "      <th>len_desc</th>\n",
       "    </tr>\n",
       "  </thead>\n",
       "  <tbody>\n",
       "    <tr>\n",
       "      <td>1</td>\n",
       "      <td>17SBN-2234</td>\n",
       "      <td>SBN-2234</td>\n",
       "      <td>17</td>\n",
       "      <td>an act authorizing the sale of certain parcels...</td>\n",
       "      <td>2019-05-27</td>\n",
       "      <td>National</td>\n",
       "      <td>Approved by the President of the Philippines</td>\n",
       "      <td>Recto, Ralph G., Sotto III, Vicente C., Escude...</td>\n",
       "      <td>2019-06-30</td>\n",
       "      <td>True</td>\n",
       "      <td>...</td>\n",
       "      <td>Majority</td>\n",
       "      <td>18.0</td>\n",
       "      <td>3</td>\n",
       "      <td>34.0</td>\n",
       "      <td>False</td>\n",
       "      <td>5</td>\n",
       "      <td>2.0</td>\n",
       "      <td>True</td>\n",
       "      <td>True</td>\n",
       "      <td>300</td>\n",
       "    </tr>\n",
       "    <tr>\n",
       "      <td>2</td>\n",
       "      <td>17SBN-2233</td>\n",
       "      <td>SBN-2233</td>\n",
       "      <td>17</td>\n",
       "      <td>an act increasing the excise tax on tobacco pr...</td>\n",
       "      <td>2019-05-27</td>\n",
       "      <td>National</td>\n",
       "      <td>Consolidated with Approved Bill</td>\n",
       "      <td>Pacquiao, Emmanuel \"Manny\" D., Ejercito, Josep...</td>\n",
       "      <td>2019-06-30</td>\n",
       "      <td>True</td>\n",
       "      <td>...</td>\n",
       "      <td>Majority</td>\n",
       "      <td>3.0</td>\n",
       "      <td>6</td>\n",
       "      <td>34.0</td>\n",
       "      <td>False</td>\n",
       "      <td>5</td>\n",
       "      <td>2.0</td>\n",
       "      <td>True</td>\n",
       "      <td>True</td>\n",
       "      <td>426</td>\n",
       "    </tr>\n",
       "  </tbody>\n",
       "</table>\n",
       "<p>2 rows × 22 columns</p>\n",
       "</div>"
      ],
      "text/plain": [
       "      bill_id       num  congress  \\\n",
       "1  17SBN-2234  SBN-2234        17   \n",
       "2  17SBN-2233  SBN-2233        17   \n",
       "\n",
       "                                          long_title date_filed     scope  \\\n",
       "1  an act authorizing the sale of certain parcels... 2019-05-27  National   \n",
       "2  an act increasing the excise tax on tobacco pr... 2019-05-27  National   \n",
       "\n",
       "                                         status  \\\n",
       "1  Approved by the President of the Philippines   \n",
       "2               Consolidated with Approved Bill   \n",
       "\n",
       "                                              author date_lastUpdate  passed  \\\n",
       "1  Recto, Ralph G., Sotto III, Vicente C., Escude...      2019-06-30    True   \n",
       "2  Pacquiao, Emmanuel \"Manny\" D., Ejercito, Josep...      2019-06-30    True   \n",
       "\n",
       "   ...      Bloc Years of Service num_authors  delta_days  upper  mon  \\\n",
       "1  ...  Majority             18.0           3        34.0  False    5   \n",
       "2  ...  Majority              3.0           6        34.0  False    5   \n",
       "\n",
       "   quarter  scope_national  majority_bloc  len_desc  \n",
       "1      2.0            True           True       300  \n",
       "2      2.0            True           True       426  \n",
       "\n",
       "[2 rows x 22 columns]"
      ]
     },
     "execution_count": 48,
     "metadata": {},
     "output_type": "execute_result"
    }
   ],
   "source": [
    "df_congress.head(2)"
   ]
  },
  {
   "cell_type": "code",
   "execution_count": 49,
   "metadata": {
    "ExecuteTime": {
     "end_time": "2019-11-21T04:48:21.946194Z",
     "start_time": "2019-11-21T04:48:21.931057Z"
    }
   },
   "outputs": [],
   "source": [
    "from sklearn.linear_model import LogisticRegression\n",
    "from sklearn.preprocessing import OneHotEncoder\n",
    "from sklearn.compose import make_column_transformer"
   ]
  },
  {
   "cell_type": "code",
   "execution_count": 50,
   "metadata": {
    "ExecuteTime": {
     "end_time": "2019-11-21T04:48:54.875795Z",
     "start_time": "2019-11-21T04:48:54.870145Z"
    }
   },
   "outputs": [],
   "source": [
    "ohe = OneHotEncoder(sparse=False)"
   ]
  },
  {
   "cell_type": "code",
   "execution_count": 56,
   "metadata": {
    "ExecuteTime": {
     "end_time": "2019-11-21T05:43:23.840072Z",
     "start_time": "2019-11-21T05:43:23.825192Z"
    }
   },
   "outputs": [],
   "source": [
    "X = ohe.fit_transform(df_congress[['Party']])"
   ]
  },
  {
   "cell_type": "code",
   "execution_count": 57,
   "metadata": {
    "ExecuteTime": {
     "end_time": "2019-11-21T05:43:47.235259Z",
     "start_time": "2019-11-21T05:43:47.227714Z"
    }
   },
   "outputs": [
    {
     "data": {
      "text/plain": [
       "(529, 15)"
      ]
     },
     "execution_count": 57,
     "metadata": {},
     "output_type": "execute_result"
    }
   ],
   "source": [
    "X.shape"
   ]
  },
  {
   "cell_type": "code",
   "execution_count": 58,
   "metadata": {
    "ExecuteTime": {
     "end_time": "2019-11-21T05:44:08.781134Z",
     "start_time": "2019-11-21T05:44:08.773658Z"
    }
   },
   "outputs": [
    {
     "data": {
      "text/plain": [
       "(529, 22)"
      ]
     },
     "execution_count": 58,
     "metadata": {},
     "output_type": "execute_result"
    }
   ],
   "source": [
    "df_congress.shape"
   ]
  },
  {
   "cell_type": "code",
   "execution_count": 52,
   "metadata": {
    "ExecuteTime": {
     "end_time": "2019-11-21T04:49:43.162601Z",
     "start_time": "2019-11-21T04:49:43.156247Z"
    }
   },
   "outputs": [
    {
     "data": {
      "text/plain": [
       "[array(['Akbayan', 'Bagumbayan-VNP', 'Independent', 'LDP', 'Lakas',\n",
       "        'Lakas-CMD', 'Lakas-Kampi-CMD', 'Liberal', 'NPC', 'Nacionalista',\n",
       "        'PDP-Laban', 'PDP–Laban', 'PMP', 'PRP', 'UNA'], dtype=object)]"
      ]
     },
     "execution_count": 52,
     "metadata": {},
     "output_type": "execute_result"
    }
   ],
   "source": [
    "ohe.categories_"
   ]
  },
  {
   "cell_type": "code",
   "execution_count": 54,
   "metadata": {
    "ExecuteTime": {
     "end_time": "2019-11-21T05:41:03.532641Z",
     "start_time": "2019-11-21T05:41:03.525265Z"
    }
   },
   "outputs": [],
   "source": [
    "log_reg = LogisticRegression(solver='lbfgs')"
   ]
  },
  {
   "cell_type": "code",
   "execution_count": 55,
   "metadata": {
    "ExecuteTime": {
     "end_time": "2019-11-21T05:41:47.869923Z",
     "start_time": "2019-11-21T05:41:47.865587Z"
    }
   },
   "outputs": [],
   "source": [
    "from sklearn.model_selection import cross_val_score"
   ]
  },
  {
   "cell_type": "code",
   "execution_count": 59,
   "metadata": {
    "ExecuteTime": {
     "end_time": "2019-11-21T05:44:45.255754Z",
     "start_time": "2019-11-21T05:44:45.251966Z"
    }
   },
   "outputs": [],
   "source": [
    "y = df_congress['passed']"
   ]
  },
  {
   "cell_type": "code",
   "execution_count": 60,
   "metadata": {
    "ExecuteTime": {
     "end_time": "2019-11-21T05:45:41.479997Z",
     "start_time": "2019-11-21T05:45:41.176996Z"
    }
   },
   "outputs": [
    {
     "data": {
      "text/plain": [
       "0.9127915627545322"
      ]
     },
     "execution_count": 60,
     "metadata": {},
     "output_type": "execute_result"
    }
   ],
   "source": [
    "cross_val_score(log_reg,X, y, cv=5, scoring='accuracy').mean()"
   ]
  },
  {
   "cell_type": "code",
   "execution_count": 63,
   "metadata": {
    "ExecuteTime": {
     "end_time": "2019-11-21T05:48:14.115071Z",
     "start_time": "2019-11-21T05:48:14.093390Z"
    }
   },
   "outputs": [
    {
     "data": {
      "text/plain": [
       "True     438\n",
       "False     91\n",
       "Name: passed, dtype: int64"
      ]
     },
     "execution_count": 63,
     "metadata": {},
     "output_type": "execute_result"
    }
   ],
   "source": [
    "y.value_counts()"
   ]
  },
  {
   "cell_type": "code",
   "execution_count": 67,
   "metadata": {
    "ExecuteTime": {
     "end_time": "2019-11-21T05:50:54.308409Z",
     "start_time": "2019-11-21T05:50:54.294870Z"
    }
   },
   "outputs": [],
   "source": [
    "X_train, X_test, y_train, y_test = train_test_split(X, y, test_size = 0.25, random_state=43)"
   ]
  },
  {
   "cell_type": "code",
   "execution_count": 68,
   "metadata": {
    "ExecuteTime": {
     "end_time": "2019-11-21T05:50:56.372448Z",
     "start_time": "2019-11-21T05:50:56.353359Z"
    }
   },
   "outputs": [
    {
     "data": {
      "text/plain": [
       "SVC(C=1.0, cache_size=200, class_weight=None, coef0=0.0,\n",
       "    decision_function_shape='ovr', degree=3, gamma='auto', kernel='linear',\n",
       "    max_iter=-1, probability=False, random_state=42, shrinking=True, tol=0.001,\n",
       "    verbose=False)"
      ]
     },
     "execution_count": 68,
     "metadata": {},
     "output_type": "execute_result"
    }
   ],
   "source": [
    "svc = SVC(gamma='auto', kernel='linear', random_state = 42)\n",
    "svc.fit(X_train, y_train)"
   ]
  },
  {
   "cell_type": "code",
   "execution_count": 69,
   "metadata": {
    "ExecuteTime": {
     "end_time": "2019-11-21T05:51:47.700597Z",
     "start_time": "2019-11-21T05:51:47.694545Z"
    }
   },
   "outputs": [],
   "source": [
    "predicted = svc.predict(X_test)"
   ]
  },
  {
   "cell_type": "code",
   "execution_count": 70,
   "metadata": {
    "ExecuteTime": {
     "end_time": "2019-11-21T05:51:52.647111Z",
     "start_time": "2019-11-21T05:51:52.635860Z"
    }
   },
   "outputs": [
    {
     "name": "stdout",
     "output_type": "stream",
     "text": [
      "              precision    recall  f1-score   support\n",
      "\n",
      "       False       0.92      0.85      0.88        26\n",
      "        True       0.96      0.98      0.97       107\n",
      "\n",
      "    accuracy                           0.95       133\n",
      "   macro avg       0.94      0.91      0.93       133\n",
      "weighted avg       0.95      0.95      0.95       133\n",
      "\n"
     ]
    }
   ],
   "source": [
    "print(classification_report(y_test, predicted))"
   ]
  }
 ],
 "metadata": {
  "hide_input": false,
  "kernelspec": {
   "display_name": "Python 3",
   "language": "python",
   "name": "python3"
  },
  "language_info": {
   "codemirror_mode": {
    "name": "ipython",
    "version": 3
   },
   "file_extension": ".py",
   "mimetype": "text/x-python",
   "name": "python",
   "nbconvert_exporter": "python",
   "pygments_lexer": "ipython3",
   "version": "3.6.5"
  },
  "toc": {
   "base_numbering": 1,
   "nav_menu": {},
   "number_sections": false,
   "sideBar": true,
   "skip_h1_title": true,
   "title_cell": "Table of Contents",
   "title_sidebar": "Contents",
   "toc_cell": false,
   "toc_position": {
    "height": "calc(100% - 180px)",
    "left": "10px",
    "top": "150px",
    "width": "288px"
   },
   "toc_section_display": true,
   "toc_window_display": true
  },
  "varInspector": {
   "cols": {
    "lenName": 16,
    "lenType": 16,
    "lenVar": 40
   },
   "kernels_config": {
    "python": {
     "delete_cmd_postfix": "",
     "delete_cmd_prefix": "del ",
     "library": "var_list.py",
     "varRefreshCmd": "print(var_dic_list())"
    },
    "r": {
     "delete_cmd_postfix": ") ",
     "delete_cmd_prefix": "rm(",
     "library": "var_list.r",
     "varRefreshCmd": "cat(var_dic_list()) "
    }
   },
   "types_to_exclude": [
    "module",
    "function",
    "builtin_function_or_method",
    "instance",
    "_Feature"
   ],
   "window_display": false
  }
 },
 "nbformat": 4,
 "nbformat_minor": 2
}
