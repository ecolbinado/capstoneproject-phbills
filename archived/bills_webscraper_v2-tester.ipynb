{
 "cells": [
  {
   "cell_type": "markdown",
   "metadata": {},
   "source": [
    "# bills_webscraper.ipynb"
   ]
  },
  {
   "cell_type": "markdown",
   "metadata": {},
   "source": [
    "### Import python packages"
   ]
  },
  {
   "cell_type": "code",
   "execution_count": 1,
   "metadata": {
    "ExecuteTime": {
     "end_time": "2019-11-10T14:59:28.931246Z",
     "start_time": "2019-11-10T14:59:28.661543Z"
    }
   },
   "outputs": [],
   "source": [
    "import warnings\n",
    "warnings.filterwarnings('ignore')\n",
    "\n",
    "import re, sqlite3, sys\n",
    "from collections import OrderedDict\n",
    "\n",
    "import requests\n",
    "from bs4 import BeautifulSoup\n",
    "import selenium.webdriver\n",
    "from selenium.webdriver.support.ui import WebDriverWait\n",
    "from selenium.common.exceptions import NoSuchElementException"
   ]
  },
  {
   "cell_type": "markdown",
   "metadata": {},
   "source": [
    "### Define Bill class"
   ]
  },
  {
   "cell_type": "code",
   "execution_count": 2,
   "metadata": {
    "ExecuteTime": {
     "end_time": "2019-11-10T14:59:31.840933Z",
     "start_time": "2019-11-10T14:59:31.828069Z"
    }
   },
   "outputs": [],
   "source": [
    "class Bill:\n",
    "    \n",
    "    def __init__(self, num, link, congress, short_title, long_title, date_filed, scope, status, author,\n",
    "                 subject, pri_committee, date_lastUpdate, logs, ra):\n",
    "        self.num = num\n",
    "        self.link = link\n",
    "        self.congress = congress\n",
    "        self.short_title = short_title\n",
    "        self.long_title = long_title\n",
    "        self.date_filed = date_filed\n",
    "        self.scope = scope\n",
    "        self.status = status\n",
    "        self.author = author\n",
    "        self.subject = subject\n",
    "        self.pri_committee = pri_committee\n",
    "        self.date_lastUpdate = date_lastUpdate\n",
    "        self.logs = logs\n",
    "        self.ra = ra\n",
    "        self.entities = (num, link, congress, short_title, long_title, date_filed, scope, status, author,\n",
    "                 subject, pri_committee, date_lastUpdate, logs, ra)\n",
    "        \n",
    "    def __str__(self):\n",
    "        return 'Congress: ' + str(self.congress) + ' ' + self.num + ': ' + self.short_title\n",
    "    \n",
    "    def insert_bill():\n",
    "        pass\n",
    "    \n",
    "    def update_bill():\n",
    "        pass\n",
    "    \n",
    "    def remove_bill():\n",
    "        pass"
   ]
  },
  {
   "cell_type": "markdown",
   "metadata": {},
   "source": [
    "### Compile Regex Patterns\n",
    "These regex patterns will be used to extract relevant strings only from the webscraping function."
   ]
  },
  {
   "cell_type": "code",
   "execution_count": 5,
   "metadata": {
    "ExecuteTime": {
     "end_time": "2019-11-10T15:01:02.102800Z",
     "start_time": "2019-11-10T15:01:02.092178Z"
    }
   },
   "outputs": [],
   "source": [
    "bill_number_regex = re.compile(r'(?<=\\d\\d&q=).*')\n",
    "filed_date_regex = re.compile(r'(?<=Filed on ).*(?= by )')\n",
    "author_regex = re.compile(r'(?<= by ).*(?=\\n)')\n",
    "status_regex = re.compile(r'.*(?= \\()')\n",
    "last_update_regex = re.compile(r'(?<=\\().*(?=\\))')\n",
    "logs_regex = re.compile(r'(?<=\\n\\[ \\d\\d\\d\\d \\]\\n).*(?=\\(The (legislative history)|(LEGISLATIVE HISTORY))',re.DOTALL)\n",
    "logs_wFootNote_regex = re.compile(r'(?<=, \\d\\d\\w\\w CONGRESS \\]\\n\\[ \\d\\d\\d\\d \\]\\n).*(?=;)',re.DOTALL)\n",
    "ra_regex = re.compile(r'(?<=\\nRepublic Act No\\. )\\d*(?=(\\n)| )',re.DOTALL)"
   ]
  },
  {
   "cell_type": "code",
   "execution_count": 3,
   "metadata": {
    "ExecuteTime": {
     "end_time": "2019-11-10T14:59:36.219437Z",
     "start_time": "2019-11-10T14:59:36.213173Z"
    }
   },
   "outputs": [],
   "source": [
    "def bills_logScraper(logs):\n",
    "    try:\n",
    "        return logs_regex.search(logs).group()\n",
    "    except AttributeError:\n",
    "        return logs_wFootNote_regex.search(logs).group()"
   ]
  },
  {
   "cell_type": "markdown",
   "metadata": {},
   "source": [
    "#### getBill function\n",
    "Our main scraping function."
   ]
  },
  {
   "cell_type": "code",
   "execution_count": 6,
   "metadata": {
    "ExecuteTime": {
     "end_time": "2019-11-10T15:01:16.181638Z",
     "start_time": "2019-11-10T15:01:11.786622Z"
    },
    "scrolled": true
   },
   "outputs": [
    {
     "name": "stdout",
     "output_type": "stream",
     "text": [
      "Trying to access child link http://www.senate.gov.ph/lis/bill_res.aspx?congress=17&q=SBN-1075 ...\n",
      "All Bills have been successfully scraped on this page.\n"
     ]
    }
   ],
   "source": [
    "driver = selenium.webdriver.PhantomJS()\n",
    "\n",
    "link = 'http://www.senate.gov.ph/lis/bill_res.aspx?congress=17&q=SBN-1075'\n",
    "\n",
    "print(\"Trying to access child link \"+ link + ' ...')\n",
    "driver.get(link)\n",
    "driver.implicitly_wait(100)\n",
    "try:\n",
    "    allInfo_btn = driver.find_element_by_xpath(\"//a[@id='lbAll']\")\n",
    "except NoSuchElementException:\n",
    "    print('\\t' + str(num) + ' is missing! Skipping...\\n')\n",
    "    fetch_errors.append(num)\n",
    "    pass\n",
    "\n",
    "allInfo_btn.click()\n",
    "element = WebDriverWait(driver, \n",
    "                        10).until(lambda x:x.find_element_by_xpath(\"//p[contains(text(),'Legislative History')]\")) \n",
    "soup_allinfo = BeautifulSoup(driver.page_source, 'html.parser')\n",
    "\n",
    "short_title = soup_allinfo.select('p[class=\"h1_bold\"]')[0].getText()\n",
    "allinfo_frame_text = soup_allinfo.select('td[id=\"content\"]')[0].getText()\n",
    "date_filed = filed_date_regex.search(allinfo_frame_text).group()\n",
    "author = author_regex.search(allinfo_frame_text).group()\n",
    "long_title = soup_allinfo.select('blockquote')[0].getText()\n",
    "scope = soup_allinfo.select('blockquote')[1].getText()\n",
    "legis_status = soup_allinfo.select('blockquote')[2].getText()\n",
    "status = status_regex.search(legis_status).group()\n",
    "date_lastUpdate = last_update_regex.search(legis_status).group()\n",
    "\n",
    "# Special case if a bill was 'Withdrawn.'\n",
    "if 'Withdrawn' in status:\n",
    "    subject, pri_committee = ('','')\n",
    "else: \n",
    "    subject = soup_allinfo.select('blockquote')[3].getText()       \n",
    "    pri_committee = soup_allinfo.select('blockquote')[4].getText()\n",
    "\n",
    "all_blkquotes = '\\n'.join([soup_allinfo.select('blockquote')[i].\n",
    "                   getText() for i in range(len(soup_allinfo.select('blockquote')))])        \n",
    "logs = bills_logScraper(all_blkquotes)\n",
    "\n",
    "try:\n",
    "    ra = ra_regex.search(all_blkquotes).group()\n",
    "except AttributeError:\n",
    "    ra = ''\n",
    "\n",
    "\n",
    "print('All Bills have been successfully scraped on this page.')\n",
    "# Must close the ghostDriver before exiting this function...\n",
    "driver.quit()"
   ]
  },
  {
   "cell_type": "code",
   "execution_count": 7,
   "metadata": {
    "ExecuteTime": {
     "end_time": "2019-11-10T15:01:26.697096Z",
     "start_time": "2019-11-10T15:01:26.686223Z"
    }
   },
   "outputs": [
    {
     "data": {
      "text/plain": [
       "'8/25/2016\\nIntroduced by Senator JOSEPH VICTOR G. EJERCITO;\\n8/30/2016\\nRead on First Reading and Referred to the Committee on HEALTH AND DEMOGRAPHY;\\n'"
      ]
     },
     "execution_count": 7,
     "metadata": {},
     "output_type": "execute_result"
    }
   ],
   "source": [
    "logs"
   ]
  },
  {
   "cell_type": "code",
   "execution_count": null,
   "metadata": {},
   "outputs": [],
   "source": []
  }
 ],
 "metadata": {
  "hide_input": false,
  "kernelspec": {
   "display_name": "Python 3",
   "language": "python",
   "name": "python3"
  },
  "language_info": {
   "codemirror_mode": {
    "name": "ipython",
    "version": 3
   },
   "file_extension": ".py",
   "mimetype": "text/x-python",
   "name": "python",
   "nbconvert_exporter": "python",
   "pygments_lexer": "ipython3",
   "version": "3.6.5"
  },
  "toc": {
   "base_numbering": 1,
   "nav_menu": {},
   "number_sections": false,
   "sideBar": true,
   "skip_h1_title": true,
   "title_cell": "Table of Contents",
   "title_sidebar": "Contents",
   "toc_cell": false,
   "toc_position": {
    "height": "calc(100% - 180px)",
    "left": "10px",
    "top": "150px",
    "width": "288px"
   },
   "toc_section_display": true,
   "toc_window_display": true
  },
  "varInspector": {
   "cols": {
    "lenName": 16,
    "lenType": 16,
    "lenVar": 40
   },
   "kernels_config": {
    "python": {
     "delete_cmd_postfix": "",
     "delete_cmd_prefix": "del ",
     "library": "var_list.py",
     "varRefreshCmd": "print(var_dic_list())"
    },
    "r": {
     "delete_cmd_postfix": ") ",
     "delete_cmd_prefix": "rm(",
     "library": "var_list.r",
     "varRefreshCmd": "cat(var_dic_list()) "
    }
   },
   "types_to_exclude": [
    "module",
    "function",
    "builtin_function_or_method",
    "instance",
    "_Feature"
   ],
   "window_display": false
  }
 },
 "nbformat": 4,
 "nbformat_minor": 2
}
