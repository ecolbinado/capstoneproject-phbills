{
 "cells": [
  {
   "cell_type": "markdown",
   "metadata": {},
   "source": [
    "# Exploratory Data Analytics on Philippine Bills from 13th Congress to 17th Congress"
   ]
  },
  {
   "cell_type": "markdown",
   "metadata": {},
   "source": [
    "## Importing Python Packages"
   ]
  },
  {
   "cell_type": "code",
   "execution_count": 88,
   "metadata": {
    "ExecuteTime": {
     "end_time": "2019-11-20T12:29:52.717373Z",
     "start_time": "2019-11-20T12:29:52.690060Z"
    }
   },
   "outputs": [],
   "source": [
    "# For loading, manipulating dataframe.\n",
    "import pandas as pd\n",
    "import sqlite3, datetime, re\n",
    "\n",
    "# For Text Preprocessing\n",
    "from nltk import word_tokenize, pos_tag\n",
    "from nltk.corpus import stopwords\n",
    "from nltk.stem import WordNetLemmatizer\n",
    "from nltk.stem import SnowballStemmer\n",
    "\n",
    "# Vectorizers\n",
    "from sklearn.feature_extraction.text import TfidfVectorizer\n",
    "from sklearn.preprocessing import StandardScaler\n",
    "\n",
    "# Visualizations\n",
    "from matplotlib import pyplot as plt\n",
    "%matplotlib inline\n",
    "import seaborn as sns\n",
    "\n",
    "# Hide Warning messages\n",
    "import warnings\n",
    "warnings.filterwarnings('ignore')"
   ]
  },
  {
   "cell_type": "code",
   "execution_count": 89,
   "metadata": {
    "ExecuteTime": {
     "end_time": "2019-11-20T12:29:54.201417Z",
     "start_time": "2019-11-20T12:29:53.553959Z"
    }
   },
   "outputs": [],
   "source": [
    "con = sqlite3.connect(\"phBills.db\")\n",
    "df = pd.read_sql_query(\"SELECT * from senateBills\", con, index_col = 'bill_id', parse_dates = ['date_filed','date_lastUpdate'])\n",
    "con.close()"
   ]
  },
  {
   "cell_type": "code",
   "execution_count": 90,
   "metadata": {
    "ExecuteTime": {
     "end_time": "2019-11-20T12:30:03.455344Z",
     "start_time": "2019-11-20T12:29:55.039648Z"
    }
   },
   "outputs": [],
   "source": [
    "df_senators = pd.read_excel('Congress Members.xlsx',sheet_name='Senators')\n",
    "df_senators['sponsorids']=df_senators['Congress #'].apply(str)+'_'+df_senators.Surname.str.lower()\n",
    "df_senators.sort_values(by=['sponsorids'],inplace=True)"
   ]
  },
  {
   "cell_type": "code",
   "execution_count": 91,
   "metadata": {
    "ExecuteTime": {
     "end_time": "2019-11-20T12:30:03.587398Z",
     "start_time": "2019-11-20T12:30:03.573147Z"
    }
   },
   "outputs": [],
   "source": [
    "sponsors_dict = {}\n",
    "for (ids,bloc) in zip(df_senators['sponsorids'].tolist(),df_senators['Bloc'].tolist()):\n",
    "    sponsors_dict[ids]=bloc"
   ]
  },
  {
   "cell_type": "code",
   "execution_count": 92,
   "metadata": {
    "ExecuteTime": {
     "end_time": "2019-11-20T12:30:03.755683Z",
     "start_time": "2019-11-20T12:30:03.741129Z"
    }
   },
   "outputs": [
    {
     "ename": "SyntaxError",
     "evalue": "invalid syntax (<ipython-input-92-32efffbfc668>, line 5)",
     "output_type": "error",
     "traceback": [
      "\u001b[0;36m  File \u001b[0;32m\"<ipython-input-92-32efffbfc668>\"\u001b[0;36m, line \u001b[0;32m5\u001b[0m\n\u001b[0;31m    for sponsor in sponsors\u001b[0m\n\u001b[0m                           ^\u001b[0m\n\u001b[0;31mSyntaxError\u001b[0m\u001b[0;31m:\u001b[0m invalid syntax\n"
     ]
    }
   ],
   "source": [
    "sponsor_regex = re.compile(r'[A-Z][\\w ]*(?=[ ,])')\n",
    "sponsorids = df_senators['sponsorids'].tolist()\n",
    "def getBloc(congress, sponsors):\n",
    "    sponsors = [str(congress)+'_'+sponsor.lower() for sponsor in sponsor_regex.findall(sponsors) if ' ' in sponsor]\n",
    "    for sponsor in sponsors\n",
    "    return sponsors"
   ]
  },
  {
   "cell_type": "code",
   "execution_count": null,
   "metadata": {
    "ExecuteTime": {
     "end_time": "2019-11-20T12:30:03.761295Z",
     "start_time": "2019-11-20T12:30:02.038Z"
    }
   },
   "outputs": [],
   "source": [
    "df['Passed']=np.where(df.ra!='',True, False)\n",
    "df['long_title']=df['long_title'].str.lower()\n",
    "df_13_17_all = df[df['congress']!=18]\n",
    "df_num_rows, df_num_col = df.shape\n",
    "print(f\"There are {df_num_rows} records and {df_num_col} features from our original data frame.\")\n",
    "bill_passage_rate = (df_13_17_all['ra']!='').sum()/((df_13_17_all['ra']!='').sum() + (df_13_17_all['ra']=='').sum())\n",
    "print(f\"From 13th Congress to 17th Congress, the PH Bill Passage Rate is {(bill_passage_rate*100):.2f}%\")"
   ]
  },
  {
   "cell_type": "code",
   "execution_count": null,
   "metadata": {},
   "outputs": [],
   "source": [
    "df_13_17_all['']"
   ]
  },
  {
   "cell_type": "code",
   "execution_count": 80,
   "metadata": {
    "ExecuteTime": {
     "end_time": "2019-11-20T09:33:54.282647Z",
     "start_time": "2019-11-20T09:33:54.268254Z"
    }
   },
   "outputs": [
    {
     "data": {
      "text/html": [
       "<div>\n",
       "<style scoped>\n",
       "    .dataframe tbody tr th:only-of-type {\n",
       "        vertical-align: middle;\n",
       "    }\n",
       "\n",
       "    .dataframe tbody tr th {\n",
       "        vertical-align: top;\n",
       "    }\n",
       "\n",
       "    .dataframe thead th {\n",
       "        text-align: right;\n",
       "    }\n",
       "</style>\n",
       "<table border=\"1\" class=\"dataframe\">\n",
       "  <thead>\n",
       "    <tr style=\"text-align: right;\">\n",
       "      <th></th>\n",
       "      <th>Code</th>\n",
       "      <th>Surname</th>\n",
       "      <th>First Name</th>\n",
       "      <th>Full Name</th>\n",
       "      <th>Party</th>\n",
       "      <th># of Terms</th>\n",
       "      <th>Term Starts</th>\n",
       "      <th>Term Ends</th>\n",
       "      <th>Bloc</th>\n",
       "      <th>City/municipality of registration</th>\n",
       "      <th>Congress #</th>\n",
       "      <th>sponsorids</th>\n",
       "    </tr>\n",
       "  </thead>\n",
       "  <tbody>\n",
       "    <tr>\n",
       "      <td>0</td>\n",
       "      <td>1</td>\n",
       "      <td>Angara</td>\n",
       "      <td>Eduardo</td>\n",
       "      <td>Eduardo Angara</td>\n",
       "      <td>LDP</td>\n",
       "      <td>1</td>\n",
       "      <td>2001</td>\n",
       "      <td>2007</td>\n",
       "      <td>Minority</td>\n",
       "      <td>Baler (Central Luzon)</td>\n",
       "      <td>13</td>\n",
       "      <td>13_angara</td>\n",
       "    </tr>\n",
       "    <tr>\n",
       "      <td>1</td>\n",
       "      <td>4</td>\n",
       "      <td>Arroyo</td>\n",
       "      <td>Joker</td>\n",
       "      <td>Joker Arroyo</td>\n",
       "      <td>Independent</td>\n",
       "      <td>1</td>\n",
       "      <td>2001</td>\n",
       "      <td>2007</td>\n",
       "      <td>Majority</td>\n",
       "      <td>(blank)</td>\n",
       "      <td>13</td>\n",
       "      <td>13_arroyo</td>\n",
       "    </tr>\n",
       "    <tr>\n",
       "      <td>2</td>\n",
       "      <td>5</td>\n",
       "      <td>Biazon</td>\n",
       "      <td>Rodolfo</td>\n",
       "      <td>Rodolfo Biazon</td>\n",
       "      <td>Liberal</td>\n",
       "      <td>2</td>\n",
       "      <td>2004</td>\n",
       "      <td>2010</td>\n",
       "      <td>Majority</td>\n",
       "      <td>(blank)</td>\n",
       "      <td>13</td>\n",
       "      <td>13_biazon</td>\n",
       "    </tr>\n",
       "    <tr>\n",
       "      <td>3</td>\n",
       "      <td>8</td>\n",
       "      <td>Cayetano</td>\n",
       "      <td>Pilar Juliana</td>\n",
       "      <td>Pilar Juliana Cayetano</td>\n",
       "      <td>Lakas-CMD</td>\n",
       "      <td>1</td>\n",
       "      <td>2004</td>\n",
       "      <td>2010</td>\n",
       "      <td>Majority</td>\n",
       "      <td>Taguig</td>\n",
       "      <td>13</td>\n",
       "      <td>13_cayetano</td>\n",
       "    </tr>\n",
       "    <tr>\n",
       "      <td>4</td>\n",
       "      <td>38</td>\n",
       "      <td>Santiago</td>\n",
       "      <td>Miriam</td>\n",
       "      <td>Miriam Santiago</td>\n",
       "      <td>PRP</td>\n",
       "      <td>1</td>\n",
       "      <td>2004</td>\n",
       "      <td>2010</td>\n",
       "      <td>Minority</td>\n",
       "      <td>Quezon City</td>\n",
       "      <td>13</td>\n",
       "      <td>13_santiago</td>\n",
       "    </tr>\n",
       "  </tbody>\n",
       "</table>\n",
       "</div>"
      ],
      "text/plain": [
       "   Code   Surname     First Name               Full Name        Party  \\\n",
       "0     1    Angara        Eduardo          Eduardo Angara          LDP   \n",
       "1     4    Arroyo          Joker            Joker Arroyo  Independent   \n",
       "2     5    Biazon        Rodolfo          Rodolfo Biazon      Liberal   \n",
       "3     8  Cayetano  Pilar Juliana  Pilar Juliana Cayetano    Lakas-CMD   \n",
       "4    38  Santiago         Miriam         Miriam Santiago          PRP   \n",
       "\n",
       "   # of Terms Term Starts Term Ends      Bloc  \\\n",
       "0           1        2001      2007  Minority   \n",
       "1           1        2001      2007  Majority   \n",
       "2           2        2004      2010  Majority   \n",
       "3           1        2004      2010  Majority   \n",
       "4           1        2004      2010  Minority   \n",
       "\n",
       "  City/municipality of registration  Congress #   sponsorids  \n",
       "0             Baler (Central Luzon)          13    13_angara  \n",
       "1                           (blank)          13    13_arroyo  \n",
       "2                           (blank)          13    13_biazon  \n",
       "3                            Taguig          13  13_cayetano  \n",
       "4                       Quezon City          13  13_santiago  "
      ]
     },
     "execution_count": 80,
     "metadata": {},
     "output_type": "execute_result"
    }
   ],
   "source": [
    "df_senators.head()"
   ]
  },
  {
   "cell_type": "code",
   "execution_count": 79,
   "metadata": {
    "ExecuteTime": {
     "end_time": "2019-11-20T09:32:55.988300Z",
     "start_time": "2019-11-20T09:32:55.948409Z"
    }
   },
   "outputs": [
    {
     "data": {
      "text/html": [
       "<div>\n",
       "<style scoped>\n",
       "    .dataframe tbody tr th:only-of-type {\n",
       "        vertical-align: middle;\n",
       "    }\n",
       "\n",
       "    .dataframe tbody tr th {\n",
       "        vertical-align: top;\n",
       "    }\n",
       "\n",
       "    .dataframe thead th {\n",
       "        text-align: right;\n",
       "    }\n",
       "</style>\n",
       "<table border=\"1\" class=\"dataframe\">\n",
       "  <thead>\n",
       "    <tr style=\"text-align: right;\">\n",
       "      <th></th>\n",
       "      <th>num</th>\n",
       "      <th>link</th>\n",
       "      <th>congress</th>\n",
       "      <th>short_title</th>\n",
       "      <th>long_title</th>\n",
       "      <th>date_filed</th>\n",
       "      <th>scope</th>\n",
       "      <th>status</th>\n",
       "      <th>author</th>\n",
       "      <th>subject</th>\n",
       "      <th>pri_committee</th>\n",
       "      <th>date_lastUpdate</th>\n",
       "      <th>logs</th>\n",
       "      <th>ra</th>\n",
       "      <th>Passed</th>\n",
       "    </tr>\n",
       "    <tr>\n",
       "      <th>bill_id</th>\n",
       "      <th></th>\n",
       "      <th></th>\n",
       "      <th></th>\n",
       "      <th></th>\n",
       "      <th></th>\n",
       "      <th></th>\n",
       "      <th></th>\n",
       "      <th></th>\n",
       "      <th></th>\n",
       "      <th></th>\n",
       "      <th></th>\n",
       "      <th></th>\n",
       "      <th></th>\n",
       "      <th></th>\n",
       "      <th></th>\n",
       "    </tr>\n",
       "  </thead>\n",
       "  <tbody>\n",
       "    <tr>\n",
       "      <td>17SBN-2235</td>\n",
       "      <td>SBN-2235</td>\n",
       "      <td>http://www.senate.gov.ph/lis/bill_res.aspx?con...</td>\n",
       "      <td>17</td>\n",
       "      <td>FISCAL REGIME FOR THE MINING INDUSTRY</td>\n",
       "      <td>an act establishing the fiscal regime for the ...</td>\n",
       "      <td>2019-05-28</td>\n",
       "      <td>National</td>\n",
       "      <td>Pending Second Reading, Special Order</td>\n",
       "      <td>Drilon, Franklin M., Recto, Ralph G., Sotto II...</td>\n",
       "      <td>Mining Companies</td>\n",
       "      <td>Ways and Means</td>\n",
       "      <td>2019-05-28</td>\n",
       "      <td>5/28/2019\\nPrepared and submitted by the Commi...</td>\n",
       "      <td></td>\n",
       "      <td>False</td>\n",
       "    </tr>\n",
       "    <tr>\n",
       "      <td>17SBN-2234</td>\n",
       "      <td>SBN-2234</td>\n",
       "      <td>http://www.senate.gov.ph/lis/bill_res.aspx?con...</td>\n",
       "      <td>17</td>\n",
       "      <td>PARCELS OF LAND IN BARANGAY KRUS NA LIGAS (QUE...</td>\n",
       "      <td>an act authorizing the sale of certain parcels...</td>\n",
       "      <td>2019-05-27</td>\n",
       "      <td>National</td>\n",
       "      <td>Approved by the President of the Philippines</td>\n",
       "      <td>Recto, Ralph G., Sotto III, Vicente C., Escude...</td>\n",
       "      <td>University of the Philippines Charter (R.A.No....</td>\n",
       "      <td>Education, Arts and Culture</td>\n",
       "      <td>2019-06-30</td>\n",
       "      <td>5/27/2019\\nPrepared and submitted jointly by t...</td>\n",
       "      <td>11454</td>\n",
       "      <td>True</td>\n",
       "    </tr>\n",
       "    <tr>\n",
       "      <td>17SBN-2233</td>\n",
       "      <td>SBN-2233</td>\n",
       "      <td>http://www.senate.gov.ph/lis/bill_res.aspx?con...</td>\n",
       "      <td>17</td>\n",
       "      <td>EXCISE TAX INCREASE ON TOBACCO PRODUCTS</td>\n",
       "      <td>an act increasing the excise tax on tobacco pr...</td>\n",
       "      <td>2019-05-27</td>\n",
       "      <td>National</td>\n",
       "      <td>Consolidated with Approved Bill</td>\n",
       "      <td>Pacquiao, Emmanuel \"Manny\" D., Ejercito, Josep...</td>\n",
       "      <td>Taxes (Excise Tax)Tobacco Products/Tobacco Ind...</td>\n",
       "      <td>Ways and Means</td>\n",
       "      <td>2019-06-30</td>\n",
       "      <td>5/27/2019\\nPrepared and submitted by the Commi...</td>\n",
       "      <td>11346</td>\n",
       "      <td>True</td>\n",
       "    </tr>\n",
       "    <tr>\n",
       "      <td>17SBN-2232</td>\n",
       "      <td>SBN-2232</td>\n",
       "      <td>http://www.senate.gov.ph/lis/bill_res.aspx?con...</td>\n",
       "      <td>17</td>\n",
       "      <td>SENIOR HIGH SCHOOL RESERVE OFFICERS TRAINING C...</td>\n",
       "      <td>an act mandating the institutionalization, dev...</td>\n",
       "      <td>2019-05-22</td>\n",
       "      <td>National</td>\n",
       "      <td>Pending Second Reading, Special Order</td>\n",
       "      <td>Pacquiao, Emmanuel \"Manny\" D., Sotto III, Vice...</td>\n",
       "      <td>Reserve Officers Training Corps (ROTC)National...</td>\n",
       "      <td>Education, Arts and Culture</td>\n",
       "      <td>2019-05-27</td>\n",
       "      <td>5/22/2019\\nPrepared and submitted jointly by t...</td>\n",
       "      <td></td>\n",
       "      <td>False</td>\n",
       "    </tr>\n",
       "    <tr>\n",
       "      <td>17SBN-2231</td>\n",
       "      <td>SBN-2231</td>\n",
       "      <td>http://www.senate.gov.ph/lis/bill_res.aspx?con...</td>\n",
       "      <td>17</td>\n",
       "      <td>AL-AMANAH ISLAMIC BANK OF THE PHILIPPINES ACT</td>\n",
       "      <td>an act strengthening the al-amanah islamic bank</td>\n",
       "      <td>2019-05-22</td>\n",
       "      <td>National</td>\n",
       "      <td>Pending Second Reading, Special Order</td>\n",
       "      <td>Aquino IV, Paolo Benigno \"Bam\", Escudero, Fran...</td>\n",
       "      <td>Islamic Banking</td>\n",
       "      <td>Banks, Financial Institutions and Currencies</td>\n",
       "      <td>2019-05-22</td>\n",
       "      <td>5/22/2019\\nPrepared and submitted jointly by t...</td>\n",
       "      <td></td>\n",
       "      <td>False</td>\n",
       "    </tr>\n",
       "  </tbody>\n",
       "</table>\n",
       "</div>"
      ],
      "text/plain": [
       "                 num                                               link  \\\n",
       "bill_id                                                                   \n",
       "17SBN-2235  SBN-2235  http://www.senate.gov.ph/lis/bill_res.aspx?con...   \n",
       "17SBN-2234  SBN-2234  http://www.senate.gov.ph/lis/bill_res.aspx?con...   \n",
       "17SBN-2233  SBN-2233  http://www.senate.gov.ph/lis/bill_res.aspx?con...   \n",
       "17SBN-2232  SBN-2232  http://www.senate.gov.ph/lis/bill_res.aspx?con...   \n",
       "17SBN-2231  SBN-2231  http://www.senate.gov.ph/lis/bill_res.aspx?con...   \n",
       "\n",
       "            congress                                        short_title  \\\n",
       "bill_id                                                                   \n",
       "17SBN-2235        17              FISCAL REGIME FOR THE MINING INDUSTRY   \n",
       "17SBN-2234        17  PARCELS OF LAND IN BARANGAY KRUS NA LIGAS (QUE...   \n",
       "17SBN-2233        17            EXCISE TAX INCREASE ON TOBACCO PRODUCTS   \n",
       "17SBN-2232        17  SENIOR HIGH SCHOOL RESERVE OFFICERS TRAINING C...   \n",
       "17SBN-2231        17      AL-AMANAH ISLAMIC BANK OF THE PHILIPPINES ACT   \n",
       "\n",
       "                                                   long_title date_filed  \\\n",
       "bill_id                                                                    \n",
       "17SBN-2235  an act establishing the fiscal regime for the ... 2019-05-28   \n",
       "17SBN-2234  an act authorizing the sale of certain parcels... 2019-05-27   \n",
       "17SBN-2233  an act increasing the excise tax on tobacco pr... 2019-05-27   \n",
       "17SBN-2232  an act mandating the institutionalization, dev... 2019-05-22   \n",
       "17SBN-2231    an act strengthening the al-amanah islamic bank 2019-05-22   \n",
       "\n",
       "               scope                                        status  \\\n",
       "bill_id                                                              \n",
       "17SBN-2235  National         Pending Second Reading, Special Order   \n",
       "17SBN-2234  National  Approved by the President of the Philippines   \n",
       "17SBN-2233  National               Consolidated with Approved Bill   \n",
       "17SBN-2232  National         Pending Second Reading, Special Order   \n",
       "17SBN-2231  National         Pending Second Reading, Special Order   \n",
       "\n",
       "                                                       author  \\\n",
       "bill_id                                                         \n",
       "17SBN-2235  Drilon, Franklin M., Recto, Ralph G., Sotto II...   \n",
       "17SBN-2234  Recto, Ralph G., Sotto III, Vicente C., Escude...   \n",
       "17SBN-2233  Pacquiao, Emmanuel \"Manny\" D., Ejercito, Josep...   \n",
       "17SBN-2232  Pacquiao, Emmanuel \"Manny\" D., Sotto III, Vice...   \n",
       "17SBN-2231  Aquino IV, Paolo Benigno \"Bam\", Escudero, Fran...   \n",
       "\n",
       "                                                      subject  \\\n",
       "bill_id                                                         \n",
       "17SBN-2235                                   Mining Companies   \n",
       "17SBN-2234  University of the Philippines Charter (R.A.No....   \n",
       "17SBN-2233  Taxes (Excise Tax)Tobacco Products/Tobacco Ind...   \n",
       "17SBN-2232  Reserve Officers Training Corps (ROTC)National...   \n",
       "17SBN-2231                                    Islamic Banking   \n",
       "\n",
       "                                           pri_committee date_lastUpdate  \\\n",
       "bill_id                                                                    \n",
       "17SBN-2235                                Ways and Means      2019-05-28   \n",
       "17SBN-2234                   Education, Arts and Culture      2019-06-30   \n",
       "17SBN-2233                                Ways and Means      2019-06-30   \n",
       "17SBN-2232                   Education, Arts and Culture      2019-05-27   \n",
       "17SBN-2231  Banks, Financial Institutions and Currencies      2019-05-22   \n",
       "\n",
       "                                                         logs     ra  Passed  \n",
       "bill_id                                                                       \n",
       "17SBN-2235  5/28/2019\\nPrepared and submitted by the Commi...          False  \n",
       "17SBN-2234  5/27/2019\\nPrepared and submitted jointly by t...  11454    True  \n",
       "17SBN-2233  5/27/2019\\nPrepared and submitted by the Commi...  11346    True  \n",
       "17SBN-2232  5/22/2019\\nPrepared and submitted jointly by t...          False  \n",
       "17SBN-2231  5/22/2019\\nPrepared and submitted jointly by t...          False  "
      ]
     },
     "execution_count": 79,
     "metadata": {},
     "output_type": "execute_result"
    }
   ],
   "source": [
    "df_13_17_all.head()"
   ]
  },
  {
   "cell_type": "markdown",
   "metadata": {},
   "source": [
    "## Text Processing"
   ]
  },
  {
   "cell_type": "code",
   "execution_count": 93,
   "metadata": {
    "ExecuteTime": {
     "end_time": "2019-11-20T12:30:12.245954Z",
     "start_time": "2019-11-20T12:30:12.227710Z"
    }
   },
   "outputs": [],
   "source": [
    "df_13_17_all=df_13_17_all[df_13_17_all['status']!='Withdrawn']"
   ]
  },
  {
   "cell_type": "code",
   "execution_count": 7,
   "metadata": {
    "ExecuteTime": {
     "end_time": "2019-11-20T08:04:14.087368Z",
     "start_time": "2019-11-20T08:04:13.666660Z"
    }
   },
   "outputs": [],
   "source": [
    "df_13_17_all['num_authors']=((df_13_17_all.author.str.count(',') + 1)/2).astype('int')"
   ]
  },
  {
   "cell_type": "code",
   "execution_count": 6,
   "metadata": {
    "ExecuteTime": {
     "end_time": "2019-11-19T16:40:14.777352Z",
     "start_time": "2019-11-19T16:40:14.764766Z"
    }
   },
   "outputs": [],
   "source": [
    "df_13_17_all['lapsed_day']=np.where(df_13_17_all.Passed==True,df_13_17_all.date_lastUpdate-df_13_17_all.date_filed,\n",
    "                                    pd.to_datetime('today')-df_13_17_all.date_filed)"
   ]
  },
  {
   "cell_type": "code",
   "execution_count": 17,
   "metadata": {
    "ExecuteTime": {
     "end_time": "2019-11-19T16:42:11.507268Z",
     "start_time": "2019-11-19T16:42:11.500233Z"
    }
   },
   "outputs": [],
   "source": [
    "passed_ave = df_13_17_all[df_13_17_all['Passed']==True]['lapsed_day'].median()\n",
    "df_13_17_all['upper']=np.where(df_13_17_all.lapsed_day>passed_ave,True,False)"
   ]
  },
  {
   "cell_type": "code",
   "execution_count": 8,
   "metadata": {
    "ExecuteTime": {
     "end_time": "2019-11-19T16:40:29.537252Z",
     "start_time": "2019-11-19T16:40:29.519157Z"
    }
   },
   "outputs": [
    {
     "data": {
      "text/plain": [
       "Timedelta('306 days 12:00:00')"
      ]
     },
     "execution_count": 8,
     "metadata": {},
     "output_type": "execute_result"
    }
   ],
   "source": [
    "df_13_17_all[df_13_17_all['Passed']==True]['lapsed_day'].median()"
   ]
  },
  {
   "cell_type": "code",
   "execution_count": 9,
   "metadata": {
    "ExecuteTime": {
     "end_time": "2019-11-19T16:40:31.848155Z",
     "start_time": "2019-11-19T16:40:31.837364Z"
    }
   },
   "outputs": [
    {
     "data": {
      "text/plain": [
       "Timedelta('374 days 15:30:24.657534')"
      ]
     },
     "execution_count": 9,
     "metadata": {},
     "output_type": "execute_result"
    }
   ],
   "source": [
    "df_13_17_all[df_13_17_all['Passed']==True]['lapsed_day'].mean()"
   ]
  },
  {
   "cell_type": "code",
   "execution_count": 10,
   "metadata": {
    "ExecuteTime": {
     "end_time": "2019-11-19T16:40:33.279623Z",
     "start_time": "2019-11-19T16:40:33.269208Z"
    }
   },
   "outputs": [
    {
     "data": {
      "text/plain": [
       "Timedelta('546 days 00:00:00')"
      ]
     },
     "execution_count": 10,
     "metadata": {},
     "output_type": "execute_result"
    }
   ],
   "source": [
    "df_13_17_all[df_13_17_all['Passed']==True]['lapsed_day'].mode()[0]"
   ]
  },
  {
   "cell_type": "code",
   "execution_count": 11,
   "metadata": {
    "ExecuteTime": {
     "end_time": "2019-11-19T16:40:41.271980Z",
     "start_time": "2019-11-19T16:40:41.174809Z"
    }
   },
   "outputs": [],
   "source": [
    "df_13_17_all['mon']=df_13_17_all.date_filed.apply(lambda x: x.month)"
   ]
  },
  {
   "cell_type": "code",
   "execution_count": 12,
   "metadata": {
    "ExecuteTime": {
     "end_time": "2019-11-19T16:40:42.321950Z",
     "start_time": "2019-11-19T16:40:42.306387Z"
    }
   },
   "outputs": [
    {
     "name": "stdout",
     "output_type": "stream",
     "text": [
      "National    421\n",
      "Local        17\n",
      "Name: scope, dtype: int64\n",
      "\n",
      "Only 3.88% of local senate bills are passed.\n"
     ]
    }
   ],
   "source": [
    "print(df_13_17_all[df_13_17_all['Passed']==True].scope.value_counts(dropna=False))\n",
    "print(f\"\\nOnly {(((df_13_17_all.Passed==True)&\\\n",
    "(df_13_17_all.scope=='Local')).sum())/((df_13_17_all.Passed==True).sum()):.2%} of local senate bills are passed.\")"
   ]
  },
  {
   "cell_type": "code",
   "execution_count": 13,
   "metadata": {
    "ExecuteTime": {
     "end_time": "2019-11-19T16:40:43.806306Z",
     "start_time": "2019-11-19T16:40:43.782592Z"
    }
   },
   "outputs": [
    {
     "name": "stdout",
     "output_type": "stream",
     "text": [
      "National    14076\n",
      "Local         564\n",
      "Name: scope, dtype: int64\n",
      "\n",
      "Only 3.85% of local senate bills are passed.\n"
     ]
    }
   ],
   "source": [
    "print(df_13_17_all[df_13_17_all['Passed']==False].scope.value_counts(dropna=False))\n",
    "print(f\"\\nOnly {(((df_13_17_all.Passed==False)&\\\n",
    "(df_13_17_all.scope=='Local')).sum())/((df_13_17_all.Passed==False).sum()):.2%} of local senate bills are passed.\")"
   ]
  },
  {
   "cell_type": "code",
   "execution_count": 14,
   "metadata": {
    "ExecuteTime": {
     "end_time": "2019-11-19T16:40:46.170134Z",
     "start_time": "2019-11-19T16:40:46.144667Z"
    }
   },
   "outputs": [
    {
     "data": {
      "text/html": [
       "<div>\n",
       "<style scoped>\n",
       "    .dataframe tbody tr th:only-of-type {\n",
       "        vertical-align: middle;\n",
       "    }\n",
       "\n",
       "    .dataframe tbody tr th {\n",
       "        vertical-align: top;\n",
       "    }\n",
       "\n",
       "    .dataframe thead th {\n",
       "        text-align: right;\n",
       "    }\n",
       "</style>\n",
       "<table border=\"1\" class=\"dataframe\">\n",
       "  <thead>\n",
       "    <tr style=\"text-align: right;\">\n",
       "      <th></th>\n",
       "      <th>num</th>\n",
       "      <th>link</th>\n",
       "      <th>congress</th>\n",
       "      <th>short_title</th>\n",
       "      <th>long_title</th>\n",
       "      <th>date_filed</th>\n",
       "      <th>scope</th>\n",
       "      <th>status</th>\n",
       "      <th>author</th>\n",
       "      <th>subject</th>\n",
       "      <th>pri_committee</th>\n",
       "      <th>date_lastUpdate</th>\n",
       "      <th>logs</th>\n",
       "      <th>ra</th>\n",
       "      <th>Passed</th>\n",
       "      <th>num_authors</th>\n",
       "      <th>lapsed_day</th>\n",
       "      <th>upper</th>\n",
       "      <th>mon</th>\n",
       "    </tr>\n",
       "    <tr>\n",
       "      <th>bill_id</th>\n",
       "      <th></th>\n",
       "      <th></th>\n",
       "      <th></th>\n",
       "      <th></th>\n",
       "      <th></th>\n",
       "      <th></th>\n",
       "      <th></th>\n",
       "      <th></th>\n",
       "      <th></th>\n",
       "      <th></th>\n",
       "      <th></th>\n",
       "      <th></th>\n",
       "      <th></th>\n",
       "      <th></th>\n",
       "      <th></th>\n",
       "      <th></th>\n",
       "      <th></th>\n",
       "      <th></th>\n",
       "      <th></th>\n",
       "    </tr>\n",
       "  </thead>\n",
       "  <tbody>\n",
       "    <tr>\n",
       "      <td>17SBN-2235</td>\n",
       "      <td>SBN-2235</td>\n",
       "      <td>http://www.senate.gov.ph/lis/bill_res.aspx?con...</td>\n",
       "      <td>17</td>\n",
       "      <td>FISCAL REGIME FOR THE MINING INDUSTRY</td>\n",
       "      <td>an act establishing the fiscal regime for the ...</td>\n",
       "      <td>2019-05-28</td>\n",
       "      <td>National</td>\n",
       "      <td>Pending Second Reading, Special Order</td>\n",
       "      <td>Drilon, Franklin M., Recto, Ralph G., Sotto II...</td>\n",
       "      <td>Mining Companies</td>\n",
       "      <td>Ways and Means</td>\n",
       "      <td>2019-05-28</td>\n",
       "      <td>5/28/2019\\nPrepared and submitted by the Commi...</td>\n",
       "      <td></td>\n",
       "      <td>False</td>\n",
       "      <td>4</td>\n",
       "      <td>176 days 00:40:14.768978</td>\n",
       "      <td>False</td>\n",
       "      <td>5</td>\n",
       "    </tr>\n",
       "  </tbody>\n",
       "</table>\n",
       "</div>"
      ],
      "text/plain": [
       "                 num                                               link  \\\n",
       "bill_id                                                                   \n",
       "17SBN-2235  SBN-2235  http://www.senate.gov.ph/lis/bill_res.aspx?con...   \n",
       "\n",
       "            congress                            short_title  \\\n",
       "bill_id                                                       \n",
       "17SBN-2235        17  FISCAL REGIME FOR THE MINING INDUSTRY   \n",
       "\n",
       "                                                   long_title date_filed  \\\n",
       "bill_id                                                                    \n",
       "17SBN-2235  an act establishing the fiscal regime for the ... 2019-05-28   \n",
       "\n",
       "               scope                                 status  \\\n",
       "bill_id                                                       \n",
       "17SBN-2235  National  Pending Second Reading, Special Order   \n",
       "\n",
       "                                                       author  \\\n",
       "bill_id                                                         \n",
       "17SBN-2235  Drilon, Franklin M., Recto, Ralph G., Sotto II...   \n",
       "\n",
       "                     subject   pri_committee date_lastUpdate  \\\n",
       "bill_id                                                        \n",
       "17SBN-2235  Mining Companies  Ways and Means      2019-05-28   \n",
       "\n",
       "                                                         logs ra  Passed  \\\n",
       "bill_id                                                                    \n",
       "17SBN-2235  5/28/2019\\nPrepared and submitted by the Commi...      False   \n",
       "\n",
       "            num_authors               lapsed_day  upper  mon  \n",
       "bill_id                                                       \n",
       "17SBN-2235            4 176 days 00:40:14.768978  False    5  "
      ]
     },
     "execution_count": 14,
     "metadata": {},
     "output_type": "execute_result"
    }
   ],
   "source": [
    "df_13_17_all.head(1)"
   ]
  },
  {
   "cell_type": "code",
   "execution_count": 18,
   "metadata": {
    "ExecuteTime": {
     "end_time": "2019-11-19T16:42:23.574174Z",
     "start_time": "2019-11-19T16:42:23.567378Z"
    }
   },
   "outputs": [],
   "source": [
    "cols_of_interest = ['num_authors','lapsed_day','upper','mon','Passed']\n",
    "data_set = df_13_17_all[cols_of_interest]\n",
    "data_set['lapsed_day'] = data_set.lapsed_day.astype('int')"
   ]
  },
  {
   "cell_type": "code",
   "execution_count": 19,
   "metadata": {
    "ExecuteTime": {
     "end_time": "2019-11-19T16:42:29.913078Z",
     "start_time": "2019-11-19T16:42:29.895422Z"
    }
   },
   "outputs": [
    {
     "data": {
      "text/html": [
       "<div>\n",
       "<style scoped>\n",
       "    .dataframe tbody tr th:only-of-type {\n",
       "        vertical-align: middle;\n",
       "    }\n",
       "\n",
       "    .dataframe tbody tr th {\n",
       "        vertical-align: top;\n",
       "    }\n",
       "\n",
       "    .dataframe thead th {\n",
       "        text-align: right;\n",
       "    }\n",
       "</style>\n",
       "<table border=\"1\" class=\"dataframe\">\n",
       "  <thead>\n",
       "    <tr style=\"text-align: right;\">\n",
       "      <th></th>\n",
       "      <th>num_authors</th>\n",
       "      <th>lapsed_day</th>\n",
       "      <th>upper</th>\n",
       "      <th>mon</th>\n",
       "      <th>Passed</th>\n",
       "    </tr>\n",
       "  </thead>\n",
       "  <tbody>\n",
       "    <tr>\n",
       "      <td>num_authors</td>\n",
       "      <td>1.000000</td>\n",
       "      <td>-0.198624</td>\n",
       "      <td>-0.392653</td>\n",
       "      <td>-0.029448</td>\n",
       "      <td>0.513843</td>\n",
       "    </tr>\n",
       "    <tr>\n",
       "      <td>lapsed_day</td>\n",
       "      <td>-0.198624</td>\n",
       "      <td>1.000000</td>\n",
       "      <td>0.275289</td>\n",
       "      <td>0.008458</td>\n",
       "      <td>-0.320543</td>\n",
       "    </tr>\n",
       "    <tr>\n",
       "      <td>upper</td>\n",
       "      <td>-0.392653</td>\n",
       "      <td>0.275289</td>\n",
       "      <td>1.000000</td>\n",
       "      <td>0.069507</td>\n",
       "      <td>-0.606577</td>\n",
       "    </tr>\n",
       "    <tr>\n",
       "      <td>mon</td>\n",
       "      <td>-0.029448</td>\n",
       "      <td>0.008458</td>\n",
       "      <td>0.069507</td>\n",
       "      <td>1.000000</td>\n",
       "      <td>0.006364</td>\n",
       "    </tr>\n",
       "    <tr>\n",
       "      <td>Passed</td>\n",
       "      <td>0.513843</td>\n",
       "      <td>-0.320543</td>\n",
       "      <td>-0.606577</td>\n",
       "      <td>0.006364</td>\n",
       "      <td>1.000000</td>\n",
       "    </tr>\n",
       "  </tbody>\n",
       "</table>\n",
       "</div>"
      ],
      "text/plain": [
       "             num_authors  lapsed_day     upper       mon    Passed\n",
       "num_authors     1.000000   -0.198624 -0.392653 -0.029448  0.513843\n",
       "lapsed_day     -0.198624    1.000000  0.275289  0.008458 -0.320543\n",
       "upper          -0.392653    0.275289  1.000000  0.069507 -0.606577\n",
       "mon            -0.029448    0.008458  0.069507  1.000000  0.006364\n",
       "Passed          0.513843   -0.320543 -0.606577  0.006364  1.000000"
      ]
     },
     "execution_count": 19,
     "metadata": {},
     "output_type": "execute_result"
    }
   ],
   "source": [
    "data_set.corr()"
   ]
  },
  {
   "cell_type": "code",
   "execution_count": 16,
   "metadata": {
    "ExecuteTime": {
     "end_time": "2019-11-19T14:24:31.724985Z",
     "start_time": "2019-11-19T14:24:31.422463Z"
    }
   },
   "outputs": [
    {
     "data": {
      "image/png": "[encoded data removed]",
      "text/plain": [
       "<Figure size 432x288 with 1 Axes>"
      ]
     },
     "metadata": {},
     "output_type": "display_data"
    }
   ],
   "source": [
    "plt.style.use('seaborn-dark')\n",
    "sns.kdeplot(df_13_17_all['lapsed_day'].astype('int'), shade=True, label='Number of Days from Filing to Passing of Law');"
   ]
  },
  {
   "cell_type": "code",
   "execution_count": 20,
   "metadata": {
    "ExecuteTime": {
     "end_time": "2019-11-19T16:43:16.231715Z",
     "start_time": "2019-11-19T16:43:13.147380Z"
    }
   },
   "outputs": [],
   "source": [
    "df_13_17_all['long_title'] = df_13_17_all['long_title'].map(word_tokenize)"
   ]
  },
  {
   "cell_type": "code",
   "execution_count": 21,
   "metadata": {
    "ExecuteTime": {
     "end_time": "2019-11-19T16:43:34.361433Z",
     "start_time": "2019-11-19T16:43:16.732962Z"
    }
   },
   "outputs": [],
   "source": [
    "df_13_17_all['long_title'] = df_13_17_all['long_title'].map(pos_tag)"
   ]
  },
  {
   "cell_type": "code",
   "execution_count": 22,
   "metadata": {
    "ExecuteTime": {
     "end_time": "2019-11-19T16:43:36.546999Z",
     "start_time": "2019-11-19T16:43:36.363006Z"
    }
   },
   "outputs": [],
   "source": [
    "df_13_17_all['long_title'] = df_13_17_all['long_title'].map(lambda words: \n",
    "                            [word for word in words if (word[1].startswith('N') or word[1].startswith('J'))])"
   ]
  },
  {
   "cell_type": "code",
   "execution_count": 23,
   "metadata": {
    "ExecuteTime": {
     "end_time": "2019-11-19T16:43:37.408980Z",
     "start_time": "2019-11-19T16:43:37.401456Z"
    }
   },
   "outputs": [],
   "source": [
    "stoppers = stopwords.words('english')\n",
    "stoppers.extend(['act', 'presidential', 'ii', 'eo', 'code', 'government', 'provide', 'purpose', 'therefor', 'penal', \n",
    "           'thereof', 'revised', 'article', 'provision', 'amended', 'therefore', 'ng', 'ra', 'b', 'san', 'sa', \n",
    "           'del', 'pd', 'decree', 'rano', 'fund', 'program', 'national', 'law', 'republic', 'philippine', 'otherwise', \n",
    "           'section','philippines'])"
   ]
  },
  {
   "cell_type": "code",
   "execution_count": 24,
   "metadata": {
    "ExecuteTime": {
     "end_time": "2019-11-19T16:43:39.086281Z",
     "start_time": "2019-11-19T16:43:38.612367Z"
    }
   },
   "outputs": [],
   "source": [
    "df_13_17_all['long_title']=df_13_17_all['long_title'].map(lambda tags: \n",
    "                                                                [tag[0] for tag in tags if tag[0] not in stoppers])"
   ]
  },
  {
   "cell_type": "code",
   "execution_count": 25,
   "metadata": {
    "ExecuteTime": {
     "end_time": "2019-11-19T16:43:42.229969Z",
     "start_time": "2019-11-19T16:43:39.985093Z"
    }
   },
   "outputs": [],
   "source": [
    "lemmatizer = WordNetLemmatizer()\n",
    "df_13_17_all['long_title'] = df_13_17_all['long_title'].map(lambda words: \n",
    "                                                                [lemmatizer.lemmatize(word) for word in words])"
   ]
  },
  {
   "cell_type": "code",
   "execution_count": 26,
   "metadata": {
    "ExecuteTime": {
     "end_time": "2019-11-19T16:43:43.080859Z",
     "start_time": "2019-11-19T16:43:43.074916Z"
    }
   },
   "outputs": [],
   "source": [
    "def allWordChar(word):\n",
    "    return not(any(char.isdigit() for char in word))"
   ]
  },
  {
   "cell_type": "code",
   "execution_count": 27,
   "metadata": {
    "ExecuteTime": {
     "end_time": "2019-11-19T16:43:44.147481Z",
     "start_time": "2019-11-19T16:43:43.950671Z"
    }
   },
   "outputs": [],
   "source": [
    "df_13_17_all['long_title'] = df_13_17_all['long_title'].apply(lambda words:\n",
    "                                                      [word for word in words if allWordChar(word)])"
   ]
  },
  {
   "cell_type": "code",
   "execution_count": 28,
   "metadata": {
    "ExecuteTime": {
     "end_time": "2019-11-19T16:43:44.910627Z",
     "start_time": "2019-11-19T16:43:44.895097Z"
    }
   },
   "outputs": [],
   "source": [
    "df_13_17_all['processed'] = df_13_17_all['long_title'].apply(lambda x: ' '.join(x))"
   ]
  },
  {
   "cell_type": "code",
   "execution_count": 29,
   "metadata": {
    "ExecuteTime": {
     "end_time": "2019-11-19T16:43:46.005081Z",
     "start_time": "2019-11-19T16:43:45.817577Z"
    }
   },
   "outputs": [],
   "source": [
    "tfidf_vectorizer = TfidfVectorizer()\n",
    "tfidf_out = tfidf_vectorizer.fit_transform(df_13_17_all['processed'])"
   ]
  },
  {
   "cell_type": "code",
   "execution_count": 30,
   "metadata": {
    "ExecuteTime": {
     "end_time": "2019-11-19T16:43:46.887437Z",
     "start_time": "2019-11-19T16:43:46.874582Z"
    }
   },
   "outputs": [],
   "source": [
    "df_vect_words = pd.DataFrame(sorted(tfidf_vectorizer.vocabulary_.items(), key=lambda kv: kv[1], reverse=True),\n",
    "                  columns = ['Word', 'Count'])"
   ]
  },
  {
   "cell_type": "markdown",
   "metadata": {},
   "source": [
    "## EDA"
   ]
  },
  {
   "cell_type": "code",
   "execution_count": 31,
   "metadata": {
    "ExecuteTime": {
     "end_time": "2019-11-19T15:13:57.935095Z",
     "start_time": "2019-11-19T15:13:57.476507Z"
    }
   },
   "outputs": [
    {
     "data": {
      "text/plain": [
       "<BarContainer object of 30 artists>"
      ]
     },
     "execution_count": 31,
     "metadata": {},
     "output_type": "execute_result"
    },
    {
     "data": {
      "image/png": "[encoded data removed]",
      "text/plain": [
       "<Figure size 1080x432 with 1 Axes>"
      ]
     },
     "metadata": {},
     "output_type": "display_data"
    }
   ],
   "source": [
    "plt.style.use('seaborn-dark')\n",
    "plt.figure(figsize=(15,6))\n",
    "plt.bar(df_vect_words['Word'].head(30), df_vect_words['Count'].head(30))"
   ]
  },
  {
   "cell_type": "markdown",
   "metadata": {},
   "source": [
    "## Modeling"
   ]
  },
  {
   "cell_type": "code",
   "execution_count": 31,
   "metadata": {
    "ExecuteTime": {
     "end_time": "2019-11-19T16:43:56.119314Z",
     "start_time": "2019-11-19T16:43:55.932303Z"
    }
   },
   "outputs": [],
   "source": [
    "from sklearn.model_selection import train_test_split\n",
    "from imblearn.under_sampling import RandomUnderSampler \n",
    "from sklearn.decomposition import TruncatedSVD\n",
    "from sklearn.svm import SVC\n",
    "from sklearn.metrics import classification_report"
   ]
  },
  {
   "cell_type": "code",
   "execution_count": 32,
   "metadata": {
    "ExecuteTime": {
     "end_time": "2019-11-19T16:43:57.420887Z",
     "start_time": "2019-11-19T16:43:57.200758Z"
    }
   },
   "outputs": [],
   "source": [
    "ds = pd.DataFrame(tfidf_out.todense())"
   ]
  },
  {
   "cell_type": "code",
   "execution_count": 33,
   "metadata": {
    "ExecuteTime": {
     "end_time": "2019-11-19T16:46:20.777674Z",
     "start_time": "2019-11-19T16:46:20.762104Z"
    }
   },
   "outputs": [],
   "source": [
    "ds['upper']=data_set['upper'].tolist()\n",
    "ds['num_authors']=data_set['num_authors'].tolist()"
   ]
  },
  {
   "cell_type": "code",
   "execution_count": 34,
   "metadata": {
    "ExecuteTime": {
     "end_time": "2019-11-19T16:46:23.288716Z",
     "start_time": "2019-11-19T16:46:23.283224Z"
    }
   },
   "outputs": [],
   "source": [
    "scaler = StandardScaler()"
   ]
  },
  {
   "cell_type": "code",
   "execution_count": 35,
   "metadata": {
    "ExecuteTime": {
     "end_time": "2019-11-19T16:49:18.616382Z",
     "start_time": "2019-11-19T16:46:24.927349Z"
    }
   },
   "outputs": [],
   "source": [
    "ds_scaled = scaler.fit_transform(ds)"
   ]
  },
  {
   "cell_type": "code",
   "execution_count": 36,
   "metadata": {
    "ExecuteTime": {
     "end_time": "2019-11-19T16:49:30.646950Z",
     "start_time": "2019-11-19T16:49:27.740660Z"
    }
   },
   "outputs": [
    {
     "name": "stdout",
     "output_type": "stream",
     "text": [
      "Our train set has 11,308 data points whilst our test set has 3,770 data points.\n",
      "3.10% from the test set are actual positives.\n"
     ]
    }
   ],
   "source": [
    "X_train, X_test, y_train, y_test = train_test_split(ds_scaled, df_13_17_all['Passed'], test_size = 0.25, random_state=43)\n",
    "print(f\"Our train set has {X_train.shape[0]:,} data points whilst our test set has {X_test.shape[0]:,} data points.\")\n",
    "print(f\"\\n{y_test.sum()/X_test.shape[0]:.2%} from the test set are actual positives.\")"
   ]
  },
  {
   "cell_type": "code",
   "execution_count": 37,
   "metadata": {
    "ExecuteTime": {
     "end_time": "2019-11-19T16:49:32.463004Z",
     "start_time": "2019-11-19T16:49:32.376324Z"
    }
   },
   "outputs": [
    {
     "name": "stdout",
     "output_type": "stream",
     "text": [
      "Our new train set has 642 data points, 321 of which are actual positives.\n"
     ]
    }
   ],
   "source": [
    "# Under sample the majority target variable, so that we get about equal number of observations from both classes.\n",
    "rus = RandomUnderSampler(random_state=42)\n",
    "nx_train, ny_train = rus.fit_resample(X_train, y_train)\n",
    "print(f\"Our new train set has {ny_train.shape[0]} data points, {np.sum(ny_train)} of which are actual positives.\")"
   ]
  },
  {
   "cell_type": "code",
   "execution_count": 38,
   "metadata": {
    "ExecuteTime": {
     "end_time": "2019-11-19T16:49:34.480178Z",
     "start_time": "2019-11-19T16:49:33.961175Z"
    }
   },
   "outputs": [],
   "source": [
    "svd = TruncatedSVD(n_components=20, algorithm='arpack', random_state = 42)\n",
    "nx_train_svd = svd.fit_transform(nx_train)\n",
    "x_test_svd = svd.transform(X_test)"
   ]
  },
  {
   "cell_type": "code",
   "execution_count": 39,
   "metadata": {
    "ExecuteTime": {
     "end_time": "2019-11-19T16:49:36.027369Z",
     "start_time": "2019-11-19T16:49:36.000057Z"
    }
   },
   "outputs": [
    {
     "data": {
      "text/plain": [
       "SVC(C=1.0, cache_size=200, class_weight=None, coef0=0.0,\n",
       "    decision_function_shape='ovr', degree=3, gamma='auto', kernel='linear',\n",
       "    max_iter=-1, probability=False, random_state=42, shrinking=True, tol=0.001,\n",
       "    verbose=False)"
      ]
     },
     "execution_count": 39,
     "metadata": {},
     "output_type": "execute_result"
    }
   ],
   "source": [
    "svc = SVC(gamma='auto', kernel='linear', random_state = 42)\n",
    "svc.fit(nx_train_svd, ny_train)"
   ]
  },
  {
   "cell_type": "code",
   "execution_count": 40,
   "metadata": {
    "ExecuteTime": {
     "end_time": "2019-11-19T16:49:39.557720Z",
     "start_time": "2019-11-19T16:49:39.537344Z"
    }
   },
   "outputs": [],
   "source": [
    "predicted = svc.predict(x_test_svd)"
   ]
  },
  {
   "cell_type": "code",
   "execution_count": 41,
   "metadata": {
    "ExecuteTime": {
     "end_time": "2019-11-19T16:49:41.833610Z",
     "start_time": "2019-11-19T16:49:41.820454Z"
    }
   },
   "outputs": [
    {
     "name": "stdout",
     "output_type": "stream",
     "text": [
      "              precision    recall  f1-score   support\n",
      "\n",
      "       False       0.99      0.94      0.97      3653\n",
      "        True       0.27      0.68      0.39       117\n",
      "\n",
      "    accuracy                           0.93      3770\n",
      "   macro avg       0.63      0.81      0.68      3770\n",
      "weighted avg       0.97      0.93      0.95      3770\n",
      "\n"
     ]
    }
   ],
   "source": [
    "print(classification_report(y_test, predicted))"
   ]
  },
  {
   "cell_type": "code",
   "execution_count": null,
   "metadata": {},
   "outputs": [],
   "source": []
  }
 ],
 "metadata": {
  "hide_input": false,
  "kernelspec": {
   "display_name": "Python 3",
   "language": "python",
   "name": "python3"
  },
  "language_info": {
   "codemirror_mode": {
    "name": "ipython",
    "version": 3
   },
   "file_extension": ".py",
   "mimetype": "text/x-python",
   "name": "python",
   "nbconvert_exporter": "python",
   "pygments_lexer": "ipython3",
   "version": "3.6.5"
  },
  "toc": {
   "base_numbering": 1,
   "nav_menu": {},
   "number_sections": false,
   "sideBar": true,
   "skip_h1_title": true,
   "title_cell": "Table of Contents",
   "title_sidebar": "Contents",
   "toc_cell": false,
   "toc_position": {},
   "toc_section_display": true,
   "toc_window_display": true
  },
  "varInspector": {
   "cols": {
    "lenName": 16,
    "lenType": 16,
    "lenVar": 40
   },
   "kernels_config": {
    "python": {
     "delete_cmd_postfix": "",
     "delete_cmd_prefix": "del ",
     "library": "var_list.py",
     "varRefreshCmd": "print(var_dic_list())"
    },
    "r": {
     "delete_cmd_postfix": ") ",
     "delete_cmd_prefix": "rm(",
     "library": "var_list.r",
     "varRefreshCmd": "cat(var_dic_list()) "
    }
   },
   "types_to_exclude": [
    "module",
    "function",
    "builtin_function_or_method",
    "instance",
    "_Feature"
   ],
   "window_display": false
  }
 },
 "nbformat": 4,
 "nbformat_minor": 2
}
