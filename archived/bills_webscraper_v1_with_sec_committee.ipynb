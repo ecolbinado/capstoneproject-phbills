{
 "cells": [
  {
   "cell_type": "markdown",
   "metadata": {},
   "source": [
    "# bills_webscraper.ipynb"
   ]
  },
  {
   "cell_type": "markdown",
   "metadata": {},
   "source": [
    "### Import python packages"
   ]
  },
  {
   "cell_type": "code",
   "execution_count": 10,
   "metadata": {
    "ExecuteTime": {
     "end_time": "2019-11-10T02:13:59.077202Z",
     "start_time": "2019-11-10T02:13:59.070832Z"
    }
   },
   "outputs": [],
   "source": [
    "import warnings\n",
    "warnings.filterwarnings('ignore')\n",
    "\n",
    "import re, sqlite3, sys\n",
    "from collections import OrderedDict\n",
    "\n",
    "import requests\n",
    "from bs4 import BeautifulSoup\n",
    "import selenium.webdriver\n",
    "from selenium.webdriver.support.ui import WebDriverWait\n",
    "from selenium.common.exceptions import NoSuchElementException"
   ]
  },
  {
   "cell_type": "markdown",
   "metadata": {},
   "source": [
    "### Define Bill class"
   ]
  },
  {
   "cell_type": "code",
   "execution_count": 11,
   "metadata": {
    "ExecuteTime": {
     "end_time": "2019-11-10T02:14:01.433308Z",
     "start_time": "2019-11-10T02:14:01.427878Z"
    }
   },
   "outputs": [],
   "source": [
    "class Bill:\n",
    "    \n",
    "    def __init__(self, num, link, congress, short_title, long_title, date_filed, scope, status, author,\n",
    "                 subject, pri_committee, sec_committee, date_lastUpdate, logs):\n",
    "        self.num = num\n",
    "        self.link = link\n",
    "        self.congress = congress\n",
    "        self.short_title = short_title\n",
    "        self.long_title = long_title\n",
    "        self.date_filed = date_filed\n",
    "        self.scope = scope\n",
    "        self.status = status\n",
    "        self.author = author\n",
    "        self.subject = subject\n",
    "        self.pri_committee = pri_committee\n",
    "        self.sec_committee = sec_committee\n",
    "        self.date_lastUpdate = date_lastUpdate\n",
    "        self.logs = logs\n",
    "        self.entities = (num, link, congress, short_title, long_title, date_filed, scope, status, author,\n",
    "                 subject, pri_committee, sec_committee, date_lastUpdate, logs)\n",
    "        \n",
    "    def __str__(self):\n",
    "        return 'from ' + str(self.congress) + '_' + self.num + ': ' + self.short_title\n",
    "    \n",
    "    def insert_bill():\n",
    "        pass\n",
    "    \n",
    "    def update_bill():\n",
    "        pass\n",
    "    \n",
    "    def remove_bill():\n",
    "        pass"
   ]
  },
  {
   "cell_type": "markdown",
   "metadata": {},
   "source": [
    "### Compile Regex Patterns\n",
    "These regex patterns will be used to extract relevant strings only from the webscraping function."
   ]
  },
  {
   "cell_type": "code",
   "execution_count": 12,
   "metadata": {
    "ExecuteTime": {
     "end_time": "2019-11-10T02:14:09.224123Z",
     "start_time": "2019-11-10T02:14:09.220068Z"
    }
   },
   "outputs": [],
   "source": [
    "bill_number_regex = re.compile(r'(?<=\\d\\d&q=).*')\n",
    "filed_date_regex = re.compile(r'(?<=Filed on ).*(?= by )')\n",
    "author_regex = re.compile(r'(?<= by ).*(?=\\n)')\n",
    "status_regex = re.compile(r'.*(?= \\()')\n",
    "last_update_regex = re.compile(r'(?<=\\().*(?=\\))')\n",
    "logs_regex = re.compile(r'(?<=\\[ FIRST REGULAR SESSION, \\d\\d\\w\\w CONGRESS ]\\n\\[ \\d\\d\\d\\d ]\\n).*(?=\\(The legislative history)',\n",
    "                       re.DOTALL)\n",
    "logs_wFootNote_regex = re.compile(r'(?<=\\[ FIRST REGULAR SESSION, \\d\\d\\w\\w CONGRESS ]\\n\\[ \\d\\d\\d\\d ]\\n).*(?=;)',\n",
    "                                       re.DOTALL)"
   ]
  },
  {
   "cell_type": "markdown",
   "metadata": {},
   "source": [
    "### Define getBill function\n",
    "getBill function is our web scraping script. It follows the following workflow: <br>\n",
    "1. Access Home URL of 'senate.gov.ph' <br>\n",
    "2. Collect all the bills' links on that page.<br>\n",
    "3. Iterate over the gathered links.<br>\n",
    "4. Click the \"All Information\" button and then scrape all the bills' informations from that frame.<br>\n",
    "5. Go to next page from the Home URL and repeat all steps again.<br>"
   ]
  },
  {
   "cell_type": "markdown",
   "metadata": {},
   "source": [
    "#### Define bills_logScraper function\n",
    "Scraper for special case of logs wherein the footnote is missing."
   ]
  },
  {
   "cell_type": "code",
   "execution_count": 13,
   "metadata": {
    "ExecuteTime": {
     "end_time": "2019-11-10T02:14:12.088112Z",
     "start_time": "2019-11-10T02:14:12.084726Z"
    }
   },
   "outputs": [],
   "source": [
    "def bills_logScraper(logs):\n",
    "    try:\n",
    "        return logs_regex.search(logs).group()\n",
    "    except AttributeError:\n",
    "        return logs_wFootNote_regex.search(logs).group()"
   ]
  },
  {
   "cell_type": "code",
   "execution_count": 14,
   "metadata": {
    "ExecuteTime": {
     "end_time": "2019-11-10T02:14:23.092733Z",
     "start_time": "2019-11-10T02:14:23.066223Z"
    },
    "scrolled": true
   },
   "outputs": [],
   "source": [
    "def getBill(congress_num, page_num):\n",
    "    \n",
    "    driver = selenium.webdriver.PhantomJS()\n",
    "    \n",
    "    home_url = 'http://www.senate.gov.ph/lis/leg_sys.aspx?congress='+str(congress_num)+'&type=bill&p='+str(page_num)\n",
    "    res = requests.get(home_url)\n",
    "    res.raise_for_status()\n",
    "    print('Accessing '+ 'http://www.senate.gov.ph' + ' ...\\n')\n",
    "    \n",
    "    soup = BeautifulSoup(res.content, 'html.parser')\n",
    "    sublinks=[str(bill.attrs['href']) for bill in soup.select('a') if 'bill_res' in str(bill.attrs['href'])]\n",
    "    print('There are ' + str(len(sublinks)) + ' bills on this page, '+ 'p' + str(page_num) + '.\\n')\n",
    "    \n",
    "    bills_dict = OrderedDict()\n",
    "    for sublink in sublinks:\n",
    "        #\n",
    "        link = 'http://www.senate.gov.ph/lis/'+sublink\n",
    "        num = bill_number_regex.search(sublink).group()\n",
    "        print(\"Trying to access child link \"+ link + ' ...')\n",
    "        driver.get(link)\n",
    "        driver.implicitly_wait(100)\n",
    "        \n",
    "        allInfo_btn = driver.find_element_by_xpath(\"//a[@id='lbAll']\")\n",
    "        allInfo_btn.click()\n",
    "        element = WebDriverWait(driver, 10).until(lambda x:x.find_element_by_xpath(\"//p[contains(text(),'Subject(s)')]\")) \n",
    "        soup_allinfo = BeautifulSoup(driver.page_source, 'html.parser')\n",
    "        \n",
    "        short_title = soup_allinfo.select('p[class=\"h1_bold\"]')[0].getText()\n",
    "        allinfo_frame_text = soup_allinfo.select('td[id=\"content\"]')[0].getText()\n",
    "        date_filed = filed_date_regex.search(allinfo_frame_text).group()\n",
    "        author = author_regex.search(allinfo_frame_text).group()\n",
    "        long_title = soup_allinfo.select('blockquote')[0].getText()\n",
    "        scope = soup_allinfo.select('blockquote')[1].getText()\n",
    "        legis_status = soup_allinfo.select('blockquote')[2].getText()\n",
    "        status = status_regex.search(legis_status).group()\n",
    "        date_lastUpdate = last_update_regex.search(legis_status).group()\n",
    "        \n",
    "        # Special case if a bill was 'Withdrawn.'\n",
    "        if 'Withdrawn' in status:\n",
    "            subject, pri_committee, sec_committee = ('','','')\n",
    "        else: \n",
    "            subject = soup_allinfo.select('blockquote')[3].getText()       \n",
    "            pri_committee = soup_allinfo.select('blockquote')[4].getText()\n",
    "        \n",
    "        # Place holder for varying positions of 'logs' variable due to unpredictable 'blockquote' tag length change.\n",
    "        blockquote_length = len(soup_allinfo.select('blockquote'))\n",
    "        if blockquote_length==7: # for the case of missing 'sec_committee' value.\n",
    "            sec_committee = soup_allinfo.select('blockquote')[-2].getText()\n",
    "        elif blockquote_length==6:\n",
    "            sec_committee = ''            \n",
    "        else:\n",
    "            print('Unrecognized blockquote format. Format should be added to this program. Exiting...')\n",
    "            sys.exit()\n",
    "        logs = bills_logScraper(soup_allinfo.select('blockquote')[-1].getText())   \n",
    "        bills_dict[num]=(num, link, congress_num, short_title, long_title, date_filed, scope, status, author,\n",
    "                 subject, pri_committee, sec_committee, date_lastUpdate, logs)\n",
    "        print('\\t' + str(num) + ' has been successfully scraped.\\n')\n",
    "        \n",
    "    print('All Bills have been successfully scraped on this page.')\n",
    "    # Must close the ghostDriver before exiting this function...\n",
    "    driver.quit()\n",
    "    \n",
    "    return bills_dict"
   ]
  },
  {
   "cell_type": "markdown",
   "metadata": {},
   "source": [
    "### Define getMax_page function\n",
    "This function will get the maximum/last page number of a Congressional Bill list."
   ]
  },
  {
   "cell_type": "code",
   "execution_count": 15,
   "metadata": {
    "ExecuteTime": {
     "end_time": "2019-11-10T02:14:25.743493Z",
     "start_time": "2019-11-10T02:14:25.738308Z"
    }
   },
   "outputs": [],
   "source": [
    "def getMax_page(congress_num):\n",
    "    driver = selenium.webdriver.PhantomJS()\n",
    "    home_url = 'http://www.senate.gov.ph/lis/leg_sys.aspx?congress='+str(congress_num)+'&type=bill&p=1'\n",
    "    clicks = 1\n",
    "    driver.get(home_url)\n",
    "    \n",
    "    while True:\n",
    "        try:\n",
    "            more_btn = driver.find_element_by_xpath(\"//div[@id='pnl_NavBottom']//a[contains(text(),'Next')]\")\n",
    "            more_btn.click()\n",
    "            bill_elem = WebDriverWait(driver, 10).until(lambda x:x.find_element_by_xpath(\"//span[@class='h1_sub']\"))\n",
    "            clicks += 1\n",
    "            continue\n",
    "        except NoSuchElementException:\n",
    "            print('We reached last page... that is page ' + str(clicks) + '.')\n",
    "            break\n",
    "            \n",
    "    driver.quit()\n",
    "    return clicks"
   ]
  },
  {
   "cell_type": "markdown",
   "metadata": {},
   "source": [
    "### Define Database functions\n",
    "These database functions will create a database connection instance. It will create table within the database, check for records, insert records, as well as update existing records."
   ]
  },
  {
   "cell_type": "code",
   "execution_count": 16,
   "metadata": {
    "ExecuteTime": {
     "end_time": "2019-11-10T02:14:32.501813Z",
     "start_time": "2019-11-10T02:14:32.495638Z"
    }
   },
   "outputs": [],
   "source": [
    "def connect_db(database):\n",
    "    try:\n",
    "        conn = sqlite3.connect(database)\n",
    "        cursor = conn.cursor()\n",
    "        return conn, cursor\n",
    "    except sqlite3.Error as error:\n",
    "        print(\"Error in connecting to sqlite3\", error)\n",
    "\n",
    "def create_bills_table(conn, cursor):\n",
    "    cursor.execute(\"\"\"CREATE TABLE if not exists senateBills(\n",
    "                    num text PRIMARY KEY,\n",
    "                    link text,\n",
    "                    congress integer,\n",
    "                    short_title text,\n",
    "                    long_title text,\n",
    "                    date_filed text,\n",
    "                    scope text,\n",
    "                    status integer,\n",
    "                    author text,\n",
    "                    subject text,\n",
    "                    pri_committee text,\n",
    "                    sec_committee text,\n",
    "                    date_lastUpdate text,\n",
    "                    logs text)\"\"\")\n",
    "    \n",
    "def check_bill_exists(bill_num, conn, cursor):\n",
    "    with conn:\n",
    "        cursor.execute(\"SELECT num FROM senateBills WHERE num = (?)\",(bill_num,))\n",
    "    rows = cursor.fetchall()\n",
    "    return True if len(rows) else False\n",
    "\n",
    "def insert_bill(entities, conn, cursor):\n",
    "    with conn:\n",
    "        cursor.execute(\"\"\"INSERT INTO senateBills(\n",
    "                        num, link, congress, short_title, long_title, date_filed, \n",
    "                        scope, status, author, subject, pri_committee, sec_committee, \n",
    "                        date_lastUpdate, logs) VALUES(?,?,?,?,?,?,?,?,?,?,?,?,?,?)\"\"\",(entities))\n",
    "        \n",
    "def update_date_lastUpdate(bill_num, date_lastUpdate, conn, cursor):\n",
    "    with conn:\n",
    "        cursor.execute(\"UPDATE senateBills SET date_lastUpdate = (?) WHERE num = (?)\",(date_lastUpdate, bill_num))"
   ]
  },
  {
   "cell_type": "markdown",
   "metadata": {},
   "source": [
    "### Define scrape_thisCongress function\n",
    "This function accepts nth Congress as an argument, _and where n is an integer,_ and scrapes through all the bills in all the available pages under that Congress. "
   ]
  },
  {
   "cell_type": "code",
   "execution_count": 17,
   "metadata": {
    "ExecuteTime": {
     "end_time": "2019-11-10T02:14:36.235096Z",
     "start_time": "2019-11-10T02:14:36.221298Z"
    }
   },
   "outputs": [],
   "source": [
    "def scrape_thisCongress(congress):\n",
    "    pages = list(range(1, getMax_page(congress) + 1, 1))\n",
    "    conn, cursor = connect_db('phBills.db')\n",
    "    create_bills_table(conn, cursor)\n",
    "    bill_count = 0\n",
    "    for page in pages:\n",
    "        thisPage_bills = getBill(congress, page)\n",
    "        for bill, contents in thisPage_bills.items():\n",
    "            some_bill = Bill(*contents)\n",
    "            if check_bill_exists(some_bill.num, conn, cursor):\n",
    "                print(str(some_bill) + \" already exists in our database. Updating 'date_lastUpdate' instead.\")\n",
    "                update_date_lastUpdate(some_bill.num, some_bill.date_lastUpdate, conn, cursor)\n",
    "            else:\n",
    "                insert_bill(some_bill.entities, conn, cursor)\n",
    "            bill_count += 1\n",
    "    print('Collected ' + str(bill_count) + 'bills from ' + congress + 'th congress.')\n",
    "    print('Disconnecting from http://www.senate.gov.ph...')\n",
    "    conn.close()\n",
    "    print('Done!')"
   ]
  },
  {
   "cell_type": "markdown",
   "metadata": {},
   "source": [
    "### Main Program"
   ]
  },
  {
   "cell_type": "code",
   "execution_count": 18,
   "metadata": {
    "ExecuteTime": {
     "end_time": "2019-11-10T02:16:38.708193Z",
     "start_time": "2019-11-10T02:14:38.765112Z"
    }
   },
   "outputs": [
    {
     "name": "stdout",
     "output_type": "stream",
     "text": [
      "We reached last page... that is page 145.\n",
      "Accessing http://www.senate.gov.ph ...\n",
      "\n",
      "There are 8 bills on this page, p1.\n",
      "\n",
      "Trying to access child link http://www.senate.gov.ph/lis/bill_res.aspx?congress=18&q=SBN-1153 ...\n",
      "\tSBN-1153 has been successfully scraped.\n",
      "\n",
      "Trying to access child link http://www.senate.gov.ph/lis/bill_res.aspx?congress=18&q=SBN-1152 ...\n",
      "\tSBN-1152 has been successfully scraped.\n",
      "\n",
      "Trying to access child link http://www.senate.gov.ph/lis/bill_res.aspx?congress=18&q=SBN-1151 ...\n",
      "\tSBN-1151 has been successfully scraped.\n",
      "\n",
      "Trying to access child link http://www.senate.gov.ph/lis/bill_res.aspx?congress=18&q=SBN-1150 ...\n",
      "\tSBN-1150 has been successfully scraped.\n",
      "\n",
      "Trying to access child link http://www.senate.gov.ph/lis/bill_res.aspx?congress=18&q=SBN-1149 ...\n",
      "\tSBN-1149 has been successfully scraped.\n",
      "\n",
      "Trying to access child link http://www.senate.gov.ph/lis/bill_res.aspx?congress=18&q=SBN-1148 ...\n",
      "\tSBN-1148 has been successfully scraped.\n",
      "\n",
      "Trying to access child link http://www.senate.gov.ph/lis/bill_res.aspx?congress=18&q=SBN-1147 ...\n",
      "\tSBN-1147 has been successfully scraped.\n",
      "\n",
      "Trying to access child link http://www.senate.gov.ph/lis/bill_res.aspx?congress=18&q=SBN-1146 ...\n",
      "\tSBN-1146 has been successfully scraped.\n",
      "\n",
      "All Bills have been successfully scraped on this page.\n",
      "from 18_SBN-1153: AMENDING SEC. 65 OF R.A. 11260, GENERAL APPROPRIATIONS ACT OF FY 2019 already exists in our database. Updating 'date_lastUpdate' instead.\n",
      "from 18_SBN-1152: PROFESSIONAL FILIPINO ATHLETES INSURANCE BENEFITS ACT already exists in our database. Updating 'date_lastUpdate' instead.\n",
      "from 18_SBN-1151: RELIEF GOODS FREE TRANSPORTATION ACT already exists in our database. Updating 'date_lastUpdate' instead.\n",
      "from 18_SBN-1150: SPECIAL EDUCATION ACT OF 2019 already exists in our database. Updating 'date_lastUpdate' instead.\n",
      "from 18_SBN-1149: PHILIPPINE ARBITRATION COMMISSION ACT OF 2019 already exists in our database. Updating 'date_lastUpdate' instead.\n",
      "from 18_SBN-1148: PHILIPPINE NATIONAL POLICE REFORM AND REORGANIZATION ACT already exists in our database. Updating 'date_lastUpdate' instead.\n",
      "from 18_SBN-1147: RESERVIST EMPLOYMENT RIGHTS ACT already exists in our database. Updating 'date_lastUpdate' instead.\n",
      "from 18_SBN-1146: MEDICAL PAROLE ACT OF 2020 already exists in our database. Updating 'date_lastUpdate' instead.\n",
      "Accessing http://www.senate.gov.ph ...\n",
      "\n",
      "There are 8 bills on this page, p2.\n",
      "\n",
      "Trying to access child link http://www.senate.gov.ph/lis/bill_res.aspx?congress=18&q=SBN-1145 ...\n",
      "\tSBN-1145 has been successfully scraped.\n",
      "\n",
      "Trying to access child link http://www.senate.gov.ph/lis/bill_res.aspx?congress=18&q=SBN-1144 ...\n",
      "\tSBN-1144 has been successfully scraped.\n",
      "\n",
      "Trying to access child link http://www.senate.gov.ph/lis/bill_res.aspx?congress=18&q=SBN-1143 ...\n",
      "\tSBN-1143 has been successfully scraped.\n",
      "\n",
      "Trying to access child link http://www.senate.gov.ph/lis/bill_res.aspx?congress=18&q=SBN-1142 ...\n",
      "\tSBN-1142 has been successfully scraped.\n",
      "\n",
      "Trying to access child link http://www.senate.gov.ph/lis/bill_res.aspx?congress=18&q=SBN-1141 ...\n",
      "\tSBN-1141 has been successfully scraped.\n",
      "\n",
      "Trying to access child link http://www.senate.gov.ph/lis/bill_res.aspx?congress=18&q=SBN-1140 ...\n",
      "\tSBN-1140 has been successfully scraped.\n",
      "\n",
      "Trying to access child link http://www.senate.gov.ph/lis/bill_res.aspx?congress=18&q=SBN-1139 ...\n",
      "\tSBN-1139 has been successfully scraped.\n",
      "\n",
      "Trying to access child link http://www.senate.gov.ph/lis/bill_res.aspx?congress=18&q=SBN-1138 ...\n",
      "\tSBN-1138 has been successfully scraped.\n",
      "\n",
      "All Bills have been successfully scraped on this page.\n",
      "from 18_SBN-1145: HUMAN RIGHTS EDUCATION ACT OF 2019 already exists in our database. Updating 'date_lastUpdate' instead.\n",
      "from 18_SBN-1144: REDEFINING THE DOMINANT MAJORITY AND MINORITY PARTIES DURING NATIONAL AND LOCAL ELECTIONS already exists in our database. Updating 'date_lastUpdate' instead.\n",
      "from 18_SBN-1143: PHILIPPINE NAVY ARCHIPELAGIC DEFENSE ACT already exists in our database. Updating 'date_lastUpdate' instead.\n",
      "from 18_SBN-1142: SHORT-TERM RESIDENTIAL RENTAL REGISTRY ACT OF 2019 already exists in our database. Updating 'date_lastUpdate' instead.\n",
      "from 18_SBN-1141: BAHAY-WIKA ACT OF 2019 already exists in our database. Updating 'date_lastUpdate' instead.\n",
      "from 18_SBN-1140: TEACHING OF DISASTER AWARENESS AND DISASTER MITIGATION already exists in our database. Updating 'date_lastUpdate' instead.\n",
      "from 18_SBN-1139: DEPARTMENT OF DISASTER RESILIENCE ACT already exists in our database. Updating 'date_lastUpdate' instead.\n",
      "from 18_SBN-1138: LOCAL GOVERNMENT AGRICULTURE DEVELOPMENT ACT OF 2019 already exists in our database. Updating 'date_lastUpdate' instead.\n",
      "Accessing http://www.senate.gov.ph ...\n",
      "\n",
      "There are 8 bills on this page, p3.\n",
      "\n",
      "Trying to access child link http://www.senate.gov.ph/lis/bill_res.aspx?congress=18&q=SBN-1137 ...\n",
      "\tSBN-1137 has been successfully scraped.\n",
      "\n",
      "Trying to access child link http://www.senate.gov.ph/lis/bill_res.aspx?congress=18&q=SBN-1136 ...\n",
      "\tSBN-1136 has been successfully scraped.\n",
      "\n",
      "Trying to access child link http://www.senate.gov.ph/lis/bill_res.aspx?congress=18&q=SBN-1135 ...\n",
      "\tSBN-1135 has been successfully scraped.\n",
      "\n",
      "Trying to access child link http://www.senate.gov.ph/lis/bill_res.aspx?congress=18&q=SBN-1134 ...\n",
      "\tSBN-1134 has been successfully scraped.\n",
      "\n",
      "Trying to access child link http://www.senate.gov.ph/lis/bill_res.aspx?congress=18&q=SBN-1133 ...\n",
      "\tSBN-1133 has been successfully scraped.\n",
      "\n",
      "Trying to access child link http://www.senate.gov.ph/lis/bill_res.aspx?congress=18&q=SBN-1132 ...\n",
      "\tSBN-1132 has been successfully scraped.\n",
      "\n",
      "Trying to access child link http://www.senate.gov.ph/lis/bill_res.aspx?congress=18&q=SBN-1131 ...\n",
      "\tSBN-1131 has been successfully scraped.\n",
      "\n",
      "Trying to access child link http://www.senate.gov.ph/lis/bill_res.aspx?congress=18&q=SBN-1130 ...\n",
      "\tSBN-1130 has been successfully scraped.\n",
      "\n",
      "All Bills have been successfully scraped on this page.\n",
      "from 18_SBN-1137: DEPARTMENT OF WATER RESOURCES MANAGEMENT ACT already exists in our database. Updating 'date_lastUpdate' instead.\n",
      "from 18_SBN-1136: SALARY STANDARDIZATION LAW V already exists in our database. Updating 'date_lastUpdate' instead.\n",
      "from 18_SBN-1135: REGIONAL LUNG CENTER ACT already exists in our database. Updating 'date_lastUpdate' instead.\n",
      "from 18_SBN-1134: REGIONAL KIDNEY AND TRANSPLANT INSTITUTE (RKTI) ACT already exists in our database. Updating 'date_lastUpdate' instead.\n",
      "from 18_SBN-1133: REGIONAL HEART CENTERS ACT already exists in our database. Updating 'date_lastUpdate' instead.\n",
      "from 18_SBN-1132: HOSPITAL SITE DEVELOPMENT PLAN ACT already exists in our database. Updating 'date_lastUpdate' instead.\n",
      "from 18_SBN-1131: TEACHING CAREER PROGRESSION ACT already exists in our database. Updating 'date_lastUpdate' instead.\n",
      "from 18_SBN-1130: FULL TUITION SUBSIDY TO MEDICAL STUDENTS ENROLLED IN SUCS ACT already exists in our database. Updating 'date_lastUpdate' instead.\n",
      "Accessing http://www.senate.gov.ph ...\n",
      "\n",
      "There are 8 bills on this page, p4.\n",
      "\n",
      "Trying to access child link http://www.senate.gov.ph/lis/bill_res.aspx?congress=18&q=SBN-1129 ...\n",
      "\tSBN-1129 has been successfully scraped.\n",
      "\n",
      "Trying to access child link http://www.senate.gov.ph/lis/bill_res.aspx?congress=18&q=SBN-1128 ...\n",
      "\tSBN-1128 has been successfully scraped.\n",
      "\n",
      "Trying to access child link http://www.senate.gov.ph/lis/bill_res.aspx?congress=18&q=SBN-1127 ...\n",
      "\tSBN-1127 has been successfully scraped.\n",
      "\n",
      "Trying to access child link http://www.senate.gov.ph/lis/bill_res.aspx?congress=18&q=SBN-1126 ...\n",
      "\tSBN-1126 has been successfully scraped.\n",
      "\n",
      "Trying to access child link http://www.senate.gov.ph/lis/bill_res.aspx?congress=18&q=SBN-1125 ...\n",
      "\tSBN-1125 has been successfully scraped.\n",
      "\n",
      "Trying to access child link http://www.senate.gov.ph/lis/bill_res.aspx?congress=18&q=SBN-1124 ...\n",
      "\tSBN-1124 has been successfully scraped.\n",
      "\n",
      "Trying to access child link http://www.senate.gov.ph/lis/bill_res.aspx?congress=18&q=SBN-1123 ...\n",
      "\tSBN-1123 has been successfully scraped.\n",
      "\n",
      "Trying to access child link http://www.senate.gov.ph/lis/bill_res.aspx?congress=18&q=SBN-1122 ...\n",
      "Unrecognized blockquote format. Format should be added to this program. Exiting...\n"
     ]
    },
    {
     "ename": "SystemExit",
     "evalue": "",
     "output_type": "error",
     "traceback": [
      "An exception has occurred, use %tb to see the full traceback.\n",
      "\u001b[0;31mSystemExit\u001b[0m\n"
     ]
    }
   ],
   "source": [
    "scrape_thisCongress(18)"
   ]
  },
  {
   "cell_type": "code",
   "execution_count": null,
   "metadata": {},
   "outputs": [],
   "source": []
  }
 ],
 "metadata": {
  "hide_input": false,
  "kernelspec": {
   "display_name": "Python 3",
   "language": "python",
   "name": "python3"
  },
  "language_info": {
   "codemirror_mode": {
    "name": "ipython",
    "version": 3
   },
   "file_extension": ".py",
   "mimetype": "text/x-python",
   "name": "python",
   "nbconvert_exporter": "python",
   "pygments_lexer": "ipython3",
   "version": "3.6.5"
  },
  "toc": {
   "base_numbering": 1,
   "nav_menu": {},
   "number_sections": false,
   "sideBar": true,
   "skip_h1_title": true,
   "title_cell": "Table of Contents",
   "title_sidebar": "Contents",
   "toc_cell": false,
   "toc_position": {
    "height": "calc(100% - 180px)",
    "left": "10px",
    "top": "150px",
    "width": "288px"
   },
   "toc_section_display": true,
   "toc_window_display": true
  },
  "varInspector": {
   "cols": {
    "lenName": 16,
    "lenType": 16,
    "lenVar": 40
   },
   "kernels_config": {
    "python": {
     "delete_cmd_postfix": "",
     "delete_cmd_prefix": "del ",
     "library": "var_list.py",
     "varRefreshCmd": "print(var_dic_list())"
    },
    "r": {
     "delete_cmd_postfix": ") ",
     "delete_cmd_prefix": "rm(",
     "library": "var_list.r",
     "varRefreshCmd": "cat(var_dic_list()) "
    }
   },
   "types_to_exclude": [
    "module",
    "function",
    "builtin_function_or_method",
    "instance",
    "_Feature"
   ],
   "window_display": false
  }
 },
 "nbformat": 4,
 "nbformat_minor": 2
}
