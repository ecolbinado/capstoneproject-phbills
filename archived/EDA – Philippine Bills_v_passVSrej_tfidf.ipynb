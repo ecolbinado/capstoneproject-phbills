{
 "cells": [
  {
   "cell_type": "markdown",
   "metadata": {},
   "source": [
    "# Exploratory Data Analytics on Philippine Bills from 13th Congress to 17th Congress"
   ]
  },
  {
   "cell_type": "markdown",
   "metadata": {},
   "source": [
    "## Importing Python Packages"
   ]
  },
  {
   "cell_type": "code",
   "execution_count": 1,
   "metadata": {
    "ExecuteTime": {
     "end_time": "2019-11-20T17:01:11.496068Z",
     "start_time": "2019-11-20T17:01:09.054877Z"
    }
   },
   "outputs": [],
   "source": [
    "# For loading, manipulating dataframe.\n",
    "import pandas as pd\n",
    "import sqlite3, datetime, re\n",
    "\n",
    "# For Text Preprocessing\n",
    "from nltk import word_tokenize, pos_tag\n",
    "from nltk.corpus import stopwords\n",
    "from nltk.stem import WordNetLemmatizer\n",
    "from nltk.stem import SnowballStemmer\n",
    "\n",
    "# Vectorizers\n",
    "from sklearn.feature_extraction.text import TfidfVectorizer\n",
    "from sklearn.preprocessing import StandardScaler\n",
    "\n",
    "# Visualizations\n",
    "from matplotlib import pyplot as plt\n",
    "%matplotlib inline\n",
    "import seaborn as sns\n",
    "\n",
    "# Hide Warning messages\n",
    "import warnings\n",
    "warnings.filterwarnings('ignore')"
   ]
  },
  {
   "cell_type": "code",
   "execution_count": 2,
   "metadata": {
    "ExecuteTime": {
     "end_time": "2019-11-20T17:01:12.306579Z",
     "start_time": "2019-11-20T17:01:11.498879Z"
    }
   },
   "outputs": [],
   "source": [
    "con = sqlite3.connect(\"phBills.db\")\n",
    "df = pd.read_sql_query(\"SELECT * from senateBills\", con, index_col = None, parse_dates = ['date_filed','date_lastUpdate'])\n",
    "con.close()"
   ]
  },
  {
   "cell_type": "code",
   "execution_count": 3,
   "metadata": {
    "ExecuteTime": {
     "end_time": "2019-11-20T17:01:14.229833Z",
     "start_time": "2019-11-20T17:01:12.309263Z"
    }
   },
   "outputs": [],
   "source": [
    "df_senators = pd.read_excel('Bills with Authors.xlsx',sheet_name='Sheet2')"
   ]
  },
  {
   "cell_type": "code",
   "execution_count": 4,
   "metadata": {
    "ExecuteTime": {
     "end_time": "2019-11-20T17:01:14.273323Z",
     "start_time": "2019-11-20T17:01:14.232884Z"
    }
   },
   "outputs": [
    {
     "name": "stdout",
     "output_type": "stream",
     "text": [
      "There are 16284 records and 16 features from our original data frame.\n",
      "From 13th Congress to 17th Congress, the PH Bill Passage Percentage is 2.89%\n"
     ]
    }
   ],
   "source": [
    "df['Passed']=np.where(df.ra!='',True, False)\n",
    "df['long_title']=df['long_title'].str.lower()\n",
    "df_13_17_all = df[df['congress']!=18]\n",
    "df_num_rows, df_num_col = df.shape\n",
    "print(f\"There are {df_num_rows} records and {df_num_col} features from our original data frame.\")\n",
    "bill_passage_rate = (df_13_17_all['ra']!='').sum()/((df_13_17_all['ra']!='').sum() + (df_13_17_all['ra']=='').sum())\n",
    "print(f\"From 13th Congress to 17th Congress, the PH Bill Passage Percentage is {(bill_passage_rate*100):.2f}%\")"
   ]
  },
  {
   "cell_type": "code",
   "execution_count": 5,
   "metadata": {
    "ExecuteTime": {
     "end_time": "2019-11-20T17:01:14.374059Z",
     "start_time": "2019-11-20T17:01:14.280528Z"
    }
   },
   "outputs": [],
   "source": [
    "df_merged = pd.merge(df_13_17_all,df_senators[['bill_id','Bloc','Party']],how='left',on=['bill_id'])"
   ]
  },
  {
   "cell_type": "code",
   "execution_count": 6,
   "metadata": {
    "ExecuteTime": {
     "end_time": "2019-11-20T17:01:14.485882Z",
     "start_time": "2019-11-20T17:01:14.382286Z"
    }
   },
   "outputs": [
    {
     "data": {
      "text/plain": [
       "Independent        97\n",
       "Nacionalista       74\n",
       "NPC                58\n",
       "Liberal            58\n",
       "PMP                40\n",
       "LDP                34\n",
       "PDP–Laban          16\n",
       "PRP                15\n",
       "Lakas-Kampi-CMD    12\n",
       "Lakas               7\n",
       "UNA                 7\n",
       "PDP-Laban           6\n",
       "Bagumbayan-VNP      6\n",
       "Lakas-CMD           5\n",
       "Akbayan             3\n",
       "Name: Party, dtype: int64"
      ]
     },
     "execution_count": 6,
     "metadata": {},
     "output_type": "execute_result"
    }
   ],
   "source": [
    "df_merged[df_merged['Passed']==True].Party.value_counts()"
   ]
  },
  {
   "cell_type": "code",
   "execution_count": 7,
   "metadata": {
    "ExecuteTime": {
     "end_time": "2019-11-20T17:01:14.507245Z",
     "start_time": "2019-11-20T17:01:14.489884Z"
    }
   },
   "outputs": [],
   "source": [
    "df_merged=df_merged[df_merged['status']!='Withdrawn']"
   ]
  },
  {
   "cell_type": "code",
   "execution_count": 8,
   "metadata": {
    "ExecuteTime": {
     "end_time": "2019-11-20T17:01:14.953964Z",
     "start_time": "2019-11-20T17:01:14.517390Z"
    }
   },
   "outputs": [],
   "source": [
    "df_merged['num_authors']=((df_merged.author.str.count(',') + 1)/2).astype('int')"
   ]
  },
  {
   "cell_type": "code",
   "execution_count": 10,
   "metadata": {
    "ExecuteTime": {
     "end_time": "2019-11-20T17:01:56.099311Z",
     "start_time": "2019-11-20T17:01:56.083402Z"
    }
   },
   "outputs": [],
   "source": [
    "df_merged['lapsed_day']=df_merged.date_lastUpdate-df_merged.date_filed"
   ]
  },
  {
   "cell_type": "code",
   "execution_count": 11,
   "metadata": {
    "ExecuteTime": {
     "end_time": "2019-11-20T17:01:56.111338Z",
     "start_time": "2019-11-20T17:01:56.102571Z"
    }
   },
   "outputs": [],
   "source": [
    "df_merged.Bloc.fillna('Majority',inplace=True)"
   ]
  },
  {
   "cell_type": "code",
   "execution_count": 12,
   "metadata": {
    "ExecuteTime": {
     "end_time": "2019-11-20T17:01:56.130132Z",
     "start_time": "2019-11-20T17:01:56.114897Z"
    }
   },
   "outputs": [],
   "source": [
    "passed_ave = df_merged[df_merged['Passed']==True]['lapsed_day'].median()\n",
    "df_merged['upper']=np.where(df_merged.lapsed_day>passed_ave,True,False)"
   ]
  },
  {
   "cell_type": "code",
   "execution_count": 13,
   "metadata": {
    "ExecuteTime": {
     "end_time": "2019-11-20T17:01:56.145058Z",
     "start_time": "2019-11-20T17:01:56.134529Z"
    }
   },
   "outputs": [
    {
     "data": {
      "text/plain": [
       "Timedelta('306 days 12:00:00')"
      ]
     },
     "execution_count": 13,
     "metadata": {},
     "output_type": "execute_result"
    }
   ],
   "source": [
    "df_merged[df_merged['Passed']==True]['lapsed_day'].median()"
   ]
  },
  {
   "cell_type": "code",
   "execution_count": 14,
   "metadata": {
    "ExecuteTime": {
     "end_time": "2019-11-20T17:01:56.161399Z",
     "start_time": "2019-11-20T17:01:56.149737Z"
    }
   },
   "outputs": [
    {
     "data": {
      "text/plain": [
       "Timedelta('374 days 15:30:24.657534')"
      ]
     },
     "execution_count": 14,
     "metadata": {},
     "output_type": "execute_result"
    }
   ],
   "source": [
    "df_merged[df_merged['Passed']==True]['lapsed_day'].mean()"
   ]
  },
  {
   "cell_type": "code",
   "execution_count": 15,
   "metadata": {
    "ExecuteTime": {
     "end_time": "2019-11-20T17:01:56.178545Z",
     "start_time": "2019-11-20T17:01:56.165559Z"
    }
   },
   "outputs": [
    {
     "data": {
      "text/plain": [
       "Timedelta('546 days 00:00:00')"
      ]
     },
     "execution_count": 15,
     "metadata": {},
     "output_type": "execute_result"
    }
   ],
   "source": [
    "df_merged[df_merged['Passed']==True]['lapsed_day'].mode()[0]"
   ]
  },
  {
   "cell_type": "code",
   "execution_count": 16,
   "metadata": {
    "ExecuteTime": {
     "end_time": "2019-11-20T17:01:56.262155Z",
     "start_time": "2019-11-20T17:01:56.183343Z"
    }
   },
   "outputs": [],
   "source": [
    "df_merged['mon']=df_merged.date_filed.apply(lambda x: x.month)"
   ]
  },
  {
   "cell_type": "code",
   "execution_count": 17,
   "metadata": {
    "ExecuteTime": {
     "end_time": "2019-11-20T17:01:56.281047Z",
     "start_time": "2019-11-20T17:01:56.267322Z"
    }
   },
   "outputs": [
    {
     "data": {
      "text/plain": [
       "11    70\n",
       "5     53\n",
       "9     44\n",
       "12    40\n",
       "1     40\n",
       "6     34\n",
       "2     34\n",
       "7     33\n",
       "10    30\n",
       "3     30\n",
       "8     26\n",
       "4      4\n",
       "Name: mon, dtype: int64"
      ]
     },
     "execution_count": 17,
     "metadata": {},
     "output_type": "execute_result"
    }
   ],
   "source": [
    "df_merged[df_merged['Passed']==True].mon.value_counts()"
   ]
  },
  {
   "cell_type": "code",
   "execution_count": 18,
   "metadata": {
    "ExecuteTime": {
     "end_time": "2019-11-20T17:01:56.298599Z",
     "start_time": "2019-11-20T17:01:56.284184Z"
    }
   },
   "outputs": [
    {
     "name": "stdout",
     "output_type": "stream",
     "text": [
      "National    421\n",
      "Local        17\n",
      "Name: scope, dtype: int64\n",
      "\n",
      "Only 3.88% of local senate bills are passed.\n"
     ]
    }
   ],
   "source": [
    "print(df_merged[df_merged['Passed']==True].scope.value_counts(dropna=False))\n",
    "print(f\"\\nOnly {(((df_merged.Passed==True)&\\\n",
    "(df_merged.scope=='Local')).sum())/((df_merged.Passed==True).sum()):.2%} of local senate bills are passed.\")"
   ]
  },
  {
   "cell_type": "code",
   "execution_count": 19,
   "metadata": {
    "ExecuteTime": {
     "end_time": "2019-11-20T17:01:56.312444Z",
     "start_time": "2019-11-20T17:01:56.302184Z"
    }
   },
   "outputs": [
    {
     "data": {
      "text/plain": [
       "Majority    9860\n",
       "Minority    5218\n",
       "Name: Bloc, dtype: int64"
      ]
     },
     "execution_count": 19,
     "metadata": {},
     "output_type": "execute_result"
    }
   ],
   "source": [
    "df_merged.Bloc.value_counts(dropna=False)"
   ]
  },
  {
   "cell_type": "code",
   "execution_count": 20,
   "metadata": {
    "ExecuteTime": {
     "end_time": "2019-11-20T17:01:56.327573Z",
     "start_time": "2019-11-20T17:01:56.315364Z"
    }
   },
   "outputs": [
    {
     "data": {
      "text/plain": [
       "Majority    351\n",
       "Minority     87\n",
       "Name: Bloc, dtype: int64"
      ]
     },
     "execution_count": 20,
     "metadata": {},
     "output_type": "execute_result"
    }
   ],
   "source": [
    "df_merged[df_merged['Passed']==True].Bloc.value_counts(dropna=False)"
   ]
  },
  {
   "cell_type": "code",
   "execution_count": 21,
   "metadata": {
    "ExecuteTime": {
     "end_time": "2019-11-20T17:01:56.338465Z",
     "start_time": "2019-11-20T17:01:56.331415Z"
    }
   },
   "outputs": [],
   "source": [
    "df_merged['majority']=np.where(df_merged['Bloc']=='Majority',True,False)"
   ]
  },
  {
   "cell_type": "code",
   "execution_count": 22,
   "metadata": {
    "ExecuteTime": {
     "end_time": "2019-11-20T17:01:56.353014Z",
     "start_time": "2019-11-20T17:01:56.342024Z"
    }
   },
   "outputs": [],
   "source": [
    "df_merged=df_merged[(df_merged.status=='Sent to the Archives') | (df_merged.Passed==True)]"
   ]
  },
  {
   "cell_type": "code",
   "execution_count": 23,
   "metadata": {
    "ExecuteTime": {
     "end_time": "2019-11-20T17:01:56.367918Z",
     "start_time": "2019-11-20T17:01:56.356884Z"
    }
   },
   "outputs": [],
   "source": [
    "cols_of_interest = ['num_authors','lapsed_day','upper','mon','majority','Passed']\n",
    "data_set = df_merged[cols_of_interest]\n",
    "data_set['lapsed_day'] = data_set.lapsed_day.astype('int')"
   ]
  },
  {
   "cell_type": "code",
   "execution_count": 24,
   "metadata": {
    "ExecuteTime": {
     "end_time": "2019-11-20T17:01:56.410214Z",
     "start_time": "2019-11-20T17:01:56.371851Z"
    }
   },
   "outputs": [
    {
     "data": {
      "text/html": [
       "<div>\n",
       "<style scoped>\n",
       "    .dataframe tbody tr th:only-of-type {\n",
       "        vertical-align: middle;\n",
       "    }\n",
       "\n",
       "    .dataframe tbody tr th {\n",
       "        vertical-align: top;\n",
       "    }\n",
       "\n",
       "    .dataframe thead th {\n",
       "        text-align: right;\n",
       "    }\n",
       "</style>\n",
       "<table border=\"1\" class=\"dataframe\">\n",
       "  <thead>\n",
       "    <tr style=\"text-align: right;\">\n",
       "      <th></th>\n",
       "      <th>num_authors</th>\n",
       "      <th>lapsed_day</th>\n",
       "      <th>upper</th>\n",
       "      <th>mon</th>\n",
       "      <th>majority</th>\n",
       "      <th>Passed</th>\n",
       "    </tr>\n",
       "  </thead>\n",
       "  <tbody>\n",
       "    <tr>\n",
       "      <td>num_authors</td>\n",
       "      <td>1.000000</td>\n",
       "      <td>-0.091366</td>\n",
       "      <td>-0.080328</td>\n",
       "      <td>0.073247</td>\n",
       "      <td>-0.054739</td>\n",
       "      <td>0.334389</td>\n",
       "    </tr>\n",
       "    <tr>\n",
       "      <td>lapsed_day</td>\n",
       "      <td>-0.091366</td>\n",
       "      <td>1.000000</td>\n",
       "      <td>0.832508</td>\n",
       "      <td>0.247615</td>\n",
       "      <td>-0.098108</td>\n",
       "      <td>0.197407</td>\n",
       "    </tr>\n",
       "    <tr>\n",
       "      <td>upper</td>\n",
       "      <td>-0.080328</td>\n",
       "      <td>0.832508</td>\n",
       "      <td>1.000000</td>\n",
       "      <td>0.192588</td>\n",
       "      <td>-0.042831</td>\n",
       "      <td>0.212500</td>\n",
       "    </tr>\n",
       "    <tr>\n",
       "      <td>mon</td>\n",
       "      <td>0.073247</td>\n",
       "      <td>0.247615</td>\n",
       "      <td>0.192588</td>\n",
       "      <td>1.000000</td>\n",
       "      <td>-0.005113</td>\n",
       "      <td>0.370561</td>\n",
       "    </tr>\n",
       "    <tr>\n",
       "      <td>majority</td>\n",
       "      <td>-0.054739</td>\n",
       "      <td>-0.098108</td>\n",
       "      <td>-0.042831</td>\n",
       "      <td>-0.005113</td>\n",
       "      <td>1.000000</td>\n",
       "      <td>-0.021736</td>\n",
       "    </tr>\n",
       "    <tr>\n",
       "      <td>Passed</td>\n",
       "      <td>0.334389</td>\n",
       "      <td>0.197407</td>\n",
       "      <td>0.212500</td>\n",
       "      <td>0.370561</td>\n",
       "      <td>-0.021736</td>\n",
       "      <td>1.000000</td>\n",
       "    </tr>\n",
       "  </tbody>\n",
       "</table>\n",
       "</div>"
      ],
      "text/plain": [
       "             num_authors  lapsed_day     upper       mon  majority    Passed\n",
       "num_authors     1.000000   -0.091366 -0.080328  0.073247 -0.054739  0.334389\n",
       "lapsed_day     -0.091366    1.000000  0.832508  0.247615 -0.098108  0.197407\n",
       "upper          -0.080328    0.832508  1.000000  0.192588 -0.042831  0.212500\n",
       "mon             0.073247    0.247615  0.192588  1.000000 -0.005113  0.370561\n",
       "majority       -0.054739   -0.098108 -0.042831 -0.005113  1.000000 -0.021736\n",
       "Passed          0.334389    0.197407  0.212500  0.370561 -0.021736  1.000000"
      ]
     },
     "execution_count": 24,
     "metadata": {},
     "output_type": "execute_result"
    }
   ],
   "source": [
    "data_set.corr()"
   ]
  },
  {
   "cell_type": "code",
   "execution_count": 25,
   "metadata": {
    "ExecuteTime": {
     "end_time": "2019-11-20T17:01:56.423682Z",
     "start_time": "2019-11-20T17:01:56.417463Z"
    }
   },
   "outputs": [],
   "source": [
    "# plt.style.use('seaborn-dark')\n",
    "# sns.kdeplot(df_13_17_all['lapsed_day'].astype('int'), shade=True, label='Number of Days from Filing to Passing of Law');"
   ]
  },
  {
   "cell_type": "code",
   "execution_count": 26,
   "metadata": {
    "ExecuteTime": {
     "end_time": "2019-11-20T17:01:56.646743Z",
     "start_time": "2019-11-20T17:01:56.433221Z"
    }
   },
   "outputs": [],
   "source": [
    "df_merged['long_title'] = df_merged['long_title'].map(word_tokenize)"
   ]
  },
  {
   "cell_type": "code",
   "execution_count": 27,
   "metadata": {
    "ExecuteTime": {
     "end_time": "2019-11-20T17:01:58.236553Z",
     "start_time": "2019-11-20T17:01:56.652304Z"
    }
   },
   "outputs": [],
   "source": [
    "df_merged['long_title'] = df_merged['long_title'].map(pos_tag)"
   ]
  },
  {
   "cell_type": "code",
   "execution_count": 28,
   "metadata": {
    "ExecuteTime": {
     "end_time": "2019-11-20T17:01:58.304964Z",
     "start_time": "2019-11-20T17:01:58.250387Z"
    }
   },
   "outputs": [],
   "source": [
    "df_merged['long_title'] = df_merged['long_title'].map(lambda words: \n",
    "                            [word for word in words if (word[1].startswith('N') or word[1].startswith('J'))])"
   ]
  },
  {
   "cell_type": "code",
   "execution_count": 29,
   "metadata": {
    "ExecuteTime": {
     "end_time": "2019-11-20T17:01:58.331562Z",
     "start_time": "2019-11-20T17:01:58.308739Z"
    }
   },
   "outputs": [],
   "source": [
    "stoppers = stopwords.words('english')\n",
    "stoppers.extend(['act', 'presidential', 'ii', 'eo', 'code', 'government', 'provide', 'purpose', 'therefor', 'penal', \n",
    "           'thereof', 'revised', 'article', 'provision', 'amended', 'therefore', 'ng', 'ra', 'b', 'san', 'sa', \n",
    "           'del', 'pd', 'decree', 'rano', 'fund', 'program', 'national', 'law', 'republic', 'philippine', 'otherwise', \n",
    "           'section','philippines','xxii','xviii','xiv','xiii','xii','wvcst','ix','iv'])"
   ]
  },
  {
   "cell_type": "code",
   "execution_count": 30,
   "metadata": {
    "ExecuteTime": {
     "end_time": "2019-11-20T17:01:58.442880Z",
     "start_time": "2019-11-20T17:01:58.339617Z"
    }
   },
   "outputs": [],
   "source": [
    "df_merged['long_title']=df_merged['long_title'].map(lambda tags: \n",
    "                                                                [tag[0] for tag in tags if tag[0] not in stoppers])"
   ]
  },
  {
   "cell_type": "code",
   "execution_count": 31,
   "metadata": {
    "ExecuteTime": {
     "end_time": "2019-11-20T17:02:00.715149Z",
     "start_time": "2019-11-20T17:01:58.450669Z"
    }
   },
   "outputs": [],
   "source": [
    "lemmatizer = WordNetLemmatizer()\n",
    "df_merged['long_title'] = df_merged['long_title'].map(lambda words: \n",
    "                                                                [lemmatizer.lemmatize(word) for word in words])"
   ]
  },
  {
   "cell_type": "code",
   "execution_count": 32,
   "metadata": {
    "ExecuteTime": {
     "end_time": "2019-11-20T17:02:00.724635Z",
     "start_time": "2019-11-20T17:02:00.717566Z"
    }
   },
   "outputs": [],
   "source": [
    "def allWordChar(word):\n",
    "    return not(any(char.isdigit() for char in word))"
   ]
  },
  {
   "cell_type": "code",
   "execution_count": 33,
   "metadata": {
    "ExecuteTime": {
     "end_time": "2019-11-20T17:02:00.751225Z",
     "start_time": "2019-11-20T17:02:00.731859Z"
    }
   },
   "outputs": [],
   "source": [
    "df_merged['long_title'] = df_merged['long_title'].apply(lambda words:\n",
    "                                                      [word for word in words if allWordChar(word)])"
   ]
  },
  {
   "cell_type": "code",
   "execution_count": 34,
   "metadata": {
    "ExecuteTime": {
     "end_time": "2019-11-20T17:02:00.764610Z",
     "start_time": "2019-11-20T17:02:00.753877Z"
    }
   },
   "outputs": [],
   "source": [
    "df_merged['processed'] = df_merged['long_title'].apply(lambda x: ' '.join(x))"
   ]
  },
  {
   "cell_type": "code",
   "execution_count": 35,
   "metadata": {
    "ExecuteTime": {
     "end_time": "2019-11-20T17:02:00.797405Z",
     "start_time": "2019-11-20T17:02:00.769646Z"
    }
   },
   "outputs": [],
   "source": [
    "tfidf_vectorizer = TfidfVectorizer()\n",
    "tfidf_out = tfidf_vectorizer.fit_transform(df_merged['processed'])"
   ]
  },
  {
   "cell_type": "code",
   "execution_count": 36,
   "metadata": {
    "ExecuteTime": {
     "end_time": "2019-11-20T17:02:00.819345Z",
     "start_time": "2019-11-20T17:02:00.803256Z"
    }
   },
   "outputs": [],
   "source": [
    "df_vect_words = pd.DataFrame(sorted(tfidf_vectorizer.vocabulary_.items(), key=lambda kv: kv[1], reverse=True),\n",
    "                  columns = ['Word', 'Count'])"
   ]
  },
  {
   "cell_type": "code",
   "execution_count": 37,
   "metadata": {
    "ExecuteTime": {
     "end_time": "2019-11-20T17:02:00.830920Z",
     "start_time": "2019-11-20T17:02:00.825761Z"
    }
   },
   "outputs": [],
   "source": [
    "# plt.style.use('seaborn-dark')\n",
    "# plt.figure(figsize=(15,6))\n",
    "# plt.bar(df_vect_words['Word'].head(30), df_vect_words['Count'].head(30))"
   ]
  },
  {
   "cell_type": "markdown",
   "metadata": {},
   "source": [
    "## Modeling"
   ]
  },
  {
   "cell_type": "code",
   "execution_count": 38,
   "metadata": {
    "ExecuteTime": {
     "end_time": "2019-11-20T17:02:01.058973Z",
     "start_time": "2019-11-20T17:02:00.837536Z"
    }
   },
   "outputs": [],
   "source": [
    "from sklearn.model_selection import train_test_split\n",
    "from imblearn.under_sampling import RandomUnderSampler \n",
    "from sklearn.decomposition import TruncatedSVD\n",
    "from sklearn.svm import SVC\n",
    "from sklearn.metrics import classification_report"
   ]
  },
  {
   "cell_type": "code",
   "execution_count": 39,
   "metadata": {
    "ExecuteTime": {
     "end_time": "2019-11-20T17:02:01.097369Z",
     "start_time": "2019-11-20T17:02:01.062998Z"
    }
   },
   "outputs": [],
   "source": [
    "ds = pd.DataFrame(tfidf_out.todense())"
   ]
  },
  {
   "cell_type": "code",
   "execution_count": 40,
   "metadata": {
    "ExecuteTime": {
     "end_time": "2019-11-20T17:02:01.123375Z",
     "start_time": "2019-11-20T17:02:01.102564Z"
    }
   },
   "outputs": [],
   "source": [
    "cols_of_interest = ['num_authors','lapsed_day','upper','mon','majority','Passed']"
   ]
  },
  {
   "cell_type": "code",
   "execution_count": 53,
   "metadata": {
    "ExecuteTime": {
     "end_time": "2019-11-20T17:05:34.182489Z",
     "start_time": "2019-11-20T17:05:34.174781Z"
    }
   },
   "outputs": [],
   "source": [
    "ds['num_authors']=data_set['num_authors'].tolist()\n",
    "ds['lapsed_day']=data_set['lapsed_day'].tolist()\n",
    "ds['Passed']=data_set['Passed'].tolist()\n",
    "# ds['mon']=data_set['mon'].tolist()\n",
    "# ds['majority']=data_set['majority'].tolist()"
   ]
  },
  {
   "cell_type": "code",
   "execution_count": 65,
   "metadata": {
    "ExecuteTime": {
     "end_time": "2019-11-20T17:14:37.273572Z",
     "start_time": "2019-11-20T17:14:37.265284Z"
    }
   },
   "outputs": [
    {
     "data": {
      "text/plain": [
       "0             -0.003277\n",
       "1              1.000000\n",
       "2             -0.002481\n",
       "3             -0.003510\n",
       "4             -0.005990\n",
       "                 ...   \n",
       "1494          -0.002481\n",
       "1495          -0.004494\n",
       "num_authors   -0.022102\n",
       "lapsed_day    -0.032719\n",
       "Passed        -0.080398\n",
       "Name: 1, Length: 1499, dtype: float64"
      ]
     },
     "execution_count": 65,
     "metadata": {},
     "output_type": "execute_result"
    }
   ],
   "source": [
    "dstest[(dstest.Passed>0.8).any()]"
   ]
  },
  {
   "cell_type": "code",
   "execution_count": 62,
   "metadata": {
    "ExecuteTime": {
     "end_time": "2019-11-20T17:13:28.560346Z",
     "start_time": "2019-11-20T17:13:24.764634Z"
    }
   },
   "outputs": [
    {
     "data": {
      "text/html": [
       "<div>\n",
       "<style scoped>\n",
       "    .dataframe tbody tr th:only-of-type {\n",
       "        vertical-align: middle;\n",
       "    }\n",
       "\n",
       "    .dataframe tbody tr th {\n",
       "        vertical-align: top;\n",
       "    }\n",
       "\n",
       "    .dataframe thead th {\n",
       "        text-align: right;\n",
       "    }\n",
       "</style>\n",
       "<table border=\"1\" class=\"dataframe\">\n",
       "  <thead>\n",
       "    <tr style=\"text-align: right;\">\n",
       "      <th></th>\n",
       "      <th>0</th>\n",
       "      <th>1</th>\n",
       "      <th>2</th>\n",
       "      <th>3</th>\n",
       "      <th>4</th>\n",
       "      <th>5</th>\n",
       "      <th>6</th>\n",
       "      <th>7</th>\n",
       "      <th>8</th>\n",
       "      <th>9</th>\n",
       "      <th>...</th>\n",
       "      <th>1489</th>\n",
       "      <th>1490</th>\n",
       "      <th>1491</th>\n",
       "      <th>1492</th>\n",
       "      <th>1493</th>\n",
       "      <th>1494</th>\n",
       "      <th>1495</th>\n",
       "      <th>num_authors</th>\n",
       "      <th>lapsed_day</th>\n",
       "      <th>Passed</th>\n",
       "    </tr>\n",
       "  </thead>\n",
       "  <tbody>\n",
       "    <tr>\n",
       "      <td>0</td>\n",
       "      <td>1.000000</td>\n",
       "      <td>-0.003277</td>\n",
       "      <td>-0.002502</td>\n",
       "      <td>-0.003538</td>\n",
       "      <td>-0.006039</td>\n",
       "      <td>-0.003406</td>\n",
       "      <td>-0.002502</td>\n",
       "      <td>-0.003155</td>\n",
       "      <td>-0.002502</td>\n",
       "      <td>-0.004283</td>\n",
       "      <td>...</td>\n",
       "      <td>-0.002502</td>\n",
       "      <td>-0.004023</td>\n",
       "      <td>-0.002502</td>\n",
       "      <td>-0.003541</td>\n",
       "      <td>-0.002502</td>\n",
       "      <td>-0.002502</td>\n",
       "      <td>-0.004531</td>\n",
       "      <td>-0.013733</td>\n",
       "      <td>0.023160</td>\n",
       "      <td>0.026201</td>\n",
       "    </tr>\n",
       "    <tr>\n",
       "      <td>1</td>\n",
       "      <td>-0.003277</td>\n",
       "      <td>1.000000</td>\n",
       "      <td>-0.002481</td>\n",
       "      <td>-0.003510</td>\n",
       "      <td>-0.005990</td>\n",
       "      <td>-0.003378</td>\n",
       "      <td>-0.002481</td>\n",
       "      <td>-0.003130</td>\n",
       "      <td>-0.002481</td>\n",
       "      <td>-0.004249</td>\n",
       "      <td>...</td>\n",
       "      <td>-0.002481</td>\n",
       "      <td>-0.003990</td>\n",
       "      <td>-0.002481</td>\n",
       "      <td>-0.003512</td>\n",
       "      <td>-0.002481</td>\n",
       "      <td>-0.002481</td>\n",
       "      <td>-0.004494</td>\n",
       "      <td>-0.022102</td>\n",
       "      <td>-0.032719</td>\n",
       "      <td>-0.080398</td>\n",
       "    </tr>\n",
       "    <tr>\n",
       "      <td>2</td>\n",
       "      <td>-0.002502</td>\n",
       "      <td>-0.002481</td>\n",
       "      <td>1.000000</td>\n",
       "      <td>-0.002679</td>\n",
       "      <td>-0.004572</td>\n",
       "      <td>-0.002579</td>\n",
       "      <td>-0.001894</td>\n",
       "      <td>-0.002389</td>\n",
       "      <td>-0.001894</td>\n",
       "      <td>-0.003243</td>\n",
       "      <td>...</td>\n",
       "      <td>-0.001894</td>\n",
       "      <td>-0.003046</td>\n",
       "      <td>-0.001894</td>\n",
       "      <td>-0.002681</td>\n",
       "      <td>-0.001894</td>\n",
       "      <td>-0.001894</td>\n",
       "      <td>-0.003430</td>\n",
       "      <td>0.053706</td>\n",
       "      <td>0.049598</td>\n",
       "      <td>0.019837</td>\n",
       "    </tr>\n",
       "    <tr>\n",
       "      <td>3</td>\n",
       "      <td>-0.003538</td>\n",
       "      <td>-0.003510</td>\n",
       "      <td>-0.002679</td>\n",
       "      <td>1.000000</td>\n",
       "      <td>-0.006467</td>\n",
       "      <td>-0.003647</td>\n",
       "      <td>-0.002679</td>\n",
       "      <td>-0.003379</td>\n",
       "      <td>-0.002679</td>\n",
       "      <td>-0.004587</td>\n",
       "      <td>...</td>\n",
       "      <td>-0.002679</td>\n",
       "      <td>-0.004308</td>\n",
       "      <td>-0.002679</td>\n",
       "      <td>-0.003792</td>\n",
       "      <td>-0.002679</td>\n",
       "      <td>-0.002679</td>\n",
       "      <td>-0.004852</td>\n",
       "      <td>-0.030581</td>\n",
       "      <td>0.053186</td>\n",
       "      <td>0.028057</td>\n",
       "    </tr>\n",
       "    <tr>\n",
       "      <td>4</td>\n",
       "      <td>-0.006039</td>\n",
       "      <td>-0.005990</td>\n",
       "      <td>-0.004572</td>\n",
       "      <td>-0.006467</td>\n",
       "      <td>1.000000</td>\n",
       "      <td>-0.006225</td>\n",
       "      <td>-0.004572</td>\n",
       "      <td>-0.005767</td>\n",
       "      <td>-0.004572</td>\n",
       "      <td>-0.007828</td>\n",
       "      <td>...</td>\n",
       "      <td>-0.004572</td>\n",
       "      <td>-0.007352</td>\n",
       "      <td>-0.004572</td>\n",
       "      <td>-0.006471</td>\n",
       "      <td>-0.004572</td>\n",
       "      <td>-0.004572</td>\n",
       "      <td>-0.008280</td>\n",
       "      <td>0.025340</td>\n",
       "      <td>-0.031661</td>\n",
       "      <td>-0.007153</td>\n",
       "    </tr>\n",
       "    <tr>\n",
       "      <td>...</td>\n",
       "      <td>...</td>\n",
       "      <td>...</td>\n",
       "      <td>...</td>\n",
       "      <td>...</td>\n",
       "      <td>...</td>\n",
       "      <td>...</td>\n",
       "      <td>...</td>\n",
       "      <td>...</td>\n",
       "      <td>...</td>\n",
       "      <td>...</td>\n",
       "      <td>...</td>\n",
       "      <td>...</td>\n",
       "      <td>...</td>\n",
       "      <td>...</td>\n",
       "      <td>...</td>\n",
       "      <td>...</td>\n",
       "      <td>...</td>\n",
       "      <td>...</td>\n",
       "      <td>...</td>\n",
       "      <td>...</td>\n",
       "      <td>...</td>\n",
       "    </tr>\n",
       "    <tr>\n",
       "      <td>1494</td>\n",
       "      <td>-0.002502</td>\n",
       "      <td>-0.002481</td>\n",
       "      <td>-0.001894</td>\n",
       "      <td>-0.002679</td>\n",
       "      <td>-0.004572</td>\n",
       "      <td>-0.002579</td>\n",
       "      <td>-0.001894</td>\n",
       "      <td>-0.002389</td>\n",
       "      <td>-0.001894</td>\n",
       "      <td>-0.003243</td>\n",
       "      <td>...</td>\n",
       "      <td>-0.001894</td>\n",
       "      <td>-0.003046</td>\n",
       "      <td>-0.001894</td>\n",
       "      <td>-0.002681</td>\n",
       "      <td>-0.001894</td>\n",
       "      <td>1.000000</td>\n",
       "      <td>-0.003430</td>\n",
       "      <td>-0.011232</td>\n",
       "      <td>-0.026155</td>\n",
       "      <td>0.019837</td>\n",
       "    </tr>\n",
       "    <tr>\n",
       "      <td>1495</td>\n",
       "      <td>-0.004531</td>\n",
       "      <td>-0.004494</td>\n",
       "      <td>-0.003430</td>\n",
       "      <td>-0.004852</td>\n",
       "      <td>-0.008280</td>\n",
       "      <td>-0.004670</td>\n",
       "      <td>-0.003430</td>\n",
       "      <td>-0.004327</td>\n",
       "      <td>-0.003430</td>\n",
       "      <td>-0.005873</td>\n",
       "      <td>...</td>\n",
       "      <td>-0.003430</td>\n",
       "      <td>-0.005516</td>\n",
       "      <td>-0.003430</td>\n",
       "      <td>-0.004855</td>\n",
       "      <td>-0.003430</td>\n",
       "      <td>-0.003430</td>\n",
       "      <td>1.000000</td>\n",
       "      <td>-0.029703</td>\n",
       "      <td>-0.010814</td>\n",
       "      <td>0.035926</td>\n",
       "    </tr>\n",
       "    <tr>\n",
       "      <td>num_authors</td>\n",
       "      <td>-0.013733</td>\n",
       "      <td>-0.022102</td>\n",
       "      <td>0.053706</td>\n",
       "      <td>-0.030581</td>\n",
       "      <td>0.025340</td>\n",
       "      <td>0.022544</td>\n",
       "      <td>-0.011232</td>\n",
       "      <td>-0.034760</td>\n",
       "      <td>-0.011232</td>\n",
       "      <td>0.017008</td>\n",
       "      <td>...</td>\n",
       "      <td>-0.032878</td>\n",
       "      <td>0.036841</td>\n",
       "      <td>-0.032878</td>\n",
       "      <td>-0.046536</td>\n",
       "      <td>-0.000409</td>\n",
       "      <td>-0.011232</td>\n",
       "      <td>-0.029703</td>\n",
       "      <td>1.000000</td>\n",
       "      <td>-0.091366</td>\n",
       "      <td>0.334389</td>\n",
       "    </tr>\n",
       "    <tr>\n",
       "      <td>lapsed_day</td>\n",
       "      <td>0.023160</td>\n",
       "      <td>-0.032719</td>\n",
       "      <td>0.049598</td>\n",
       "      <td>0.053186</td>\n",
       "      <td>-0.031661</td>\n",
       "      <td>-0.045887</td>\n",
       "      <td>-0.012706</td>\n",
       "      <td>-0.039014</td>\n",
       "      <td>-0.017132</td>\n",
       "      <td>-0.030861</td>\n",
       "      <td>...</td>\n",
       "      <td>-0.038922</td>\n",
       "      <td>0.028329</td>\n",
       "      <td>0.034618</td>\n",
       "      <td>0.030122</td>\n",
       "      <td>-0.007600</td>\n",
       "      <td>-0.026155</td>\n",
       "      <td>-0.010814</td>\n",
       "      <td>-0.091366</td>\n",
       "      <td>1.000000</td>\n",
       "      <td>0.197407</td>\n",
       "    </tr>\n",
       "    <tr>\n",
       "      <td>Passed</td>\n",
       "      <td>0.026201</td>\n",
       "      <td>-0.080398</td>\n",
       "      <td>0.019837</td>\n",
       "      <td>0.028057</td>\n",
       "      <td>-0.007153</td>\n",
       "      <td>0.027009</td>\n",
       "      <td>0.019837</td>\n",
       "      <td>-0.084677</td>\n",
       "      <td>0.019837</td>\n",
       "      <td>0.033965</td>\n",
       "      <td>...</td>\n",
       "      <td>-0.095477</td>\n",
       "      <td>0.031898</td>\n",
       "      <td>0.019837</td>\n",
       "      <td>0.028077</td>\n",
       "      <td>0.019837</td>\n",
       "      <td>0.019837</td>\n",
       "      <td>0.035926</td>\n",
       "      <td>0.334389</td>\n",
       "      <td>0.197407</td>\n",
       "      <td>1.000000</td>\n",
       "    </tr>\n",
       "  </tbody>\n",
       "</table>\n",
       "<p>1499 rows × 1499 columns</p>\n",
       "</div>"
      ],
      "text/plain": [
       "                    0         1         2         3         4         5  \\\n",
       "0            1.000000 -0.003277 -0.002502 -0.003538 -0.006039 -0.003406   \n",
       "1           -0.003277  1.000000 -0.002481 -0.003510 -0.005990 -0.003378   \n",
       "2           -0.002502 -0.002481  1.000000 -0.002679 -0.004572 -0.002579   \n",
       "3           -0.003538 -0.003510 -0.002679  1.000000 -0.006467 -0.003647   \n",
       "4           -0.006039 -0.005990 -0.004572 -0.006467  1.000000 -0.006225   \n",
       "...               ...       ...       ...       ...       ...       ...   \n",
       "1494        -0.002502 -0.002481 -0.001894 -0.002679 -0.004572 -0.002579   \n",
       "1495        -0.004531 -0.004494 -0.003430 -0.004852 -0.008280 -0.004670   \n",
       "num_authors -0.013733 -0.022102  0.053706 -0.030581  0.025340  0.022544   \n",
       "lapsed_day   0.023160 -0.032719  0.049598  0.053186 -0.031661 -0.045887   \n",
       "Passed       0.026201 -0.080398  0.019837  0.028057 -0.007153  0.027009   \n",
       "\n",
       "                    6         7         8         9  ...      1489      1490  \\\n",
       "0           -0.002502 -0.003155 -0.002502 -0.004283  ... -0.002502 -0.004023   \n",
       "1           -0.002481 -0.003130 -0.002481 -0.004249  ... -0.002481 -0.003990   \n",
       "2           -0.001894 -0.002389 -0.001894 -0.003243  ... -0.001894 -0.003046   \n",
       "3           -0.002679 -0.003379 -0.002679 -0.004587  ... -0.002679 -0.004308   \n",
       "4           -0.004572 -0.005767 -0.004572 -0.007828  ... -0.004572 -0.007352   \n",
       "...               ...       ...       ...       ...  ...       ...       ...   \n",
       "1494        -0.001894 -0.002389 -0.001894 -0.003243  ... -0.001894 -0.003046   \n",
       "1495        -0.003430 -0.004327 -0.003430 -0.005873  ... -0.003430 -0.005516   \n",
       "num_authors -0.011232 -0.034760 -0.011232  0.017008  ... -0.032878  0.036841   \n",
       "lapsed_day  -0.012706 -0.039014 -0.017132 -0.030861  ... -0.038922  0.028329   \n",
       "Passed       0.019837 -0.084677  0.019837  0.033965  ... -0.095477  0.031898   \n",
       "\n",
       "                 1491      1492      1493      1494      1495  num_authors  \\\n",
       "0           -0.002502 -0.003541 -0.002502 -0.002502 -0.004531    -0.013733   \n",
       "1           -0.002481 -0.003512 -0.002481 -0.002481 -0.004494    -0.022102   \n",
       "2           -0.001894 -0.002681 -0.001894 -0.001894 -0.003430     0.053706   \n",
       "3           -0.002679 -0.003792 -0.002679 -0.002679 -0.004852    -0.030581   \n",
       "4           -0.004572 -0.006471 -0.004572 -0.004572 -0.008280     0.025340   \n",
       "...               ...       ...       ...       ...       ...          ...   \n",
       "1494        -0.001894 -0.002681 -0.001894  1.000000 -0.003430    -0.011232   \n",
       "1495        -0.003430 -0.004855 -0.003430 -0.003430  1.000000    -0.029703   \n",
       "num_authors -0.032878 -0.046536 -0.000409 -0.011232 -0.029703     1.000000   \n",
       "lapsed_day   0.034618  0.030122 -0.007600 -0.026155 -0.010814    -0.091366   \n",
       "Passed       0.019837  0.028077  0.019837  0.019837  0.035926     0.334389   \n",
       "\n",
       "             lapsed_day    Passed  \n",
       "0              0.023160  0.026201  \n",
       "1             -0.032719 -0.080398  \n",
       "2              0.049598  0.019837  \n",
       "3              0.053186  0.028057  \n",
       "4             -0.031661 -0.007153  \n",
       "...                 ...       ...  \n",
       "1494          -0.026155  0.019837  \n",
       "1495          -0.010814  0.035926  \n",
       "num_authors   -0.091366  0.334389  \n",
       "lapsed_day     1.000000  0.197407  \n",
       "Passed         0.197407  1.000000  \n",
       "\n",
       "[1499 rows x 1499 columns]"
      ]
     },
     "execution_count": 62,
     "metadata": {},
     "output_type": "execute_result"
    }
   ],
   "source": [
    "dstest = ds.corr()\n",
    "ds.corr()"
   ]
  },
  {
   "cell_type": "code",
   "execution_count": 56,
   "metadata": {
    "ExecuteTime": {
     "end_time": "2019-11-20T17:09:41.947059Z",
     "start_time": "2019-11-20T17:09:41.933158Z"
    }
   },
   "outputs": [
    {
     "ename": "ModuleNotFoundError",
     "evalue": "No module named 'feature_selector'",
     "output_type": "error",
     "traceback": [
      "\u001b[0;31m---------------------------------------------------------------------------\u001b[0m",
      "\u001b[0;31mModuleNotFoundError\u001b[0m                       Traceback (most recent call last)",
      "\u001b[0;32m<ipython-input-56-ea3c9d50c1a5>\u001b[0m in \u001b[0;36m<module>\u001b[0;34m()\u001b[0m\n\u001b[0;32m----> 1\u001b[0;31m \u001b[0;32mfrom\u001b[0m \u001b[0mfeature_selector\u001b[0m \u001b[0;32mimport\u001b[0m \u001b[0mFeatureSelector\u001b[0m\u001b[0;34m\u001b[0m\u001b[0m\n\u001b[0m",
      "\u001b[0;31mModuleNotFoundError\u001b[0m: No module named 'feature_selector'"
     ]
    }
   ],
   "source": []
  },
  {
   "cell_type": "code",
   "execution_count": null,
   "metadata": {},
   "outputs": [],
   "source": [
    "fs = FeatureSelector(data = ds, labels = train_lab"
   ]
  },
  {
   "cell_type": "code",
   "execution_count": 55,
   "metadata": {
    "ExecuteTime": {
     "end_time": "2019-11-20T17:08:23.099142Z",
     "start_time": "2019-11-20T17:08:23.059955Z"
    }
   },
   "outputs": [
    {
     "ename": "AttributeError",
     "evalue": "'DataFrame' object has no attribute 'identify_collinear'",
     "output_type": "error",
     "traceback": [
      "\u001b[0;31m---------------------------------------------------------------------------\u001b[0m",
      "\u001b[0;31mAttributeError\u001b[0m                            Traceback (most recent call last)",
      "\u001b[0;32m<ipython-input-55-475a51e598dd>\u001b[0m in \u001b[0;36m<module>\u001b[0;34m()\u001b[0m\n\u001b[0;32m----> 1\u001b[0;31m \u001b[0mds\u001b[0m\u001b[0;34m.\u001b[0m\u001b[0midentify_collinear\u001b[0m\u001b[0;34m(\u001b[0m\u001b[0mcorrelation_threshold\u001b[0m \u001b[0;34m=\u001b[0m \u001b[0;36m0.98\u001b[0m\u001b[0;34m)\u001b[0m\u001b[0;34m\u001b[0m\u001b[0m\n\u001b[0m",
      "\u001b[0;32m~/anaconda3/lib/python3.6/site-packages/pandas/core/generic.py\u001b[0m in \u001b[0;36m__getattr__\u001b[0;34m(self, name)\u001b[0m\n\u001b[1;32m   5177\u001b[0m             \u001b[0;32mif\u001b[0m \u001b[0mself\u001b[0m\u001b[0;34m.\u001b[0m\u001b[0m_info_axis\u001b[0m\u001b[0;34m.\u001b[0m\u001b[0m_can_hold_identifiers_and_holds_name\u001b[0m\u001b[0;34m(\u001b[0m\u001b[0mname\u001b[0m\u001b[0;34m)\u001b[0m\u001b[0;34m:\u001b[0m\u001b[0;34m\u001b[0m\u001b[0m\n\u001b[1;32m   5178\u001b[0m                 \u001b[0;32mreturn\u001b[0m \u001b[0mself\u001b[0m\u001b[0;34m[\u001b[0m\u001b[0mname\u001b[0m\u001b[0;34m]\u001b[0m\u001b[0;34m\u001b[0m\u001b[0m\n\u001b[0;32m-> 5179\u001b[0;31m             \u001b[0;32mreturn\u001b[0m \u001b[0mobject\u001b[0m\u001b[0;34m.\u001b[0m\u001b[0m__getattribute__\u001b[0m\u001b[0;34m(\u001b[0m\u001b[0mself\u001b[0m\u001b[0;34m,\u001b[0m \u001b[0mname\u001b[0m\u001b[0;34m)\u001b[0m\u001b[0;34m\u001b[0m\u001b[0m\n\u001b[0m\u001b[1;32m   5180\u001b[0m \u001b[0;34m\u001b[0m\u001b[0m\n\u001b[1;32m   5181\u001b[0m     \u001b[0;32mdef\u001b[0m \u001b[0m__setattr__\u001b[0m\u001b[0;34m(\u001b[0m\u001b[0mself\u001b[0m\u001b[0;34m,\u001b[0m \u001b[0mname\u001b[0m\u001b[0;34m,\u001b[0m \u001b[0mvalue\u001b[0m\u001b[0;34m)\u001b[0m\u001b[0;34m:\u001b[0m\u001b[0;34m\u001b[0m\u001b[0m\n",
      "\u001b[0;31mAttributeError\u001b[0m: 'DataFrame' object has no attribute 'identify_collinear'"
     ]
    }
   ],
   "source": [
    "fs.identify_collinear(correlation_threshold = 0.98)"
   ]
  },
  {
   "cell_type": "code",
   "execution_count": null,
   "metadata": {},
   "outputs": [],
   "source": [
    "ds.drop('Passed',axis=1,inplace=True)"
   ]
  },
  {
   "cell_type": "code",
   "execution_count": 42,
   "metadata": {
    "ExecuteTime": {
     "end_time": "2019-11-20T17:02:01.257902Z",
     "start_time": "2019-11-20T17:02:01.177513Z"
    }
   },
   "outputs": [],
   "source": [
    "scaler = StandardScaler()\n",
    "ds_scaled = scaler.fit_transform(ds)"
   ]
  },
  {
   "cell_type": "code",
   "execution_count": 43,
   "metadata": {
    "ExecuteTime": {
     "end_time": "2019-11-20T17:02:01.290273Z",
     "start_time": "2019-11-20T17:02:01.262399Z"
    }
   },
   "outputs": [
    {
     "name": "stdout",
     "output_type": "stream",
     "text": [
      "Our train set has 396 data points whilst our test set has 133 data points.\n",
      "\n",
      "80.45% from the test set are actual positives.\n"
     ]
    }
   ],
   "source": [
    "X_train, X_test, y_train, y_test = train_test_split(ds_scaled, df_merged['Passed'], test_size = 0.25, random_state=43)\n",
    "print(f\"Our train set has {X_train.shape[0]:,} data points whilst our test set has {X_test.shape[0]:,} data points.\")\n",
    "print(f\"\\n{y_test.sum()/X_test.shape[0]:.2%} from the test set are actual positives.\")"
   ]
  },
  {
   "cell_type": "code",
   "execution_count": 44,
   "metadata": {
    "ExecuteTime": {
     "end_time": "2019-11-20T17:02:01.309723Z",
     "start_time": "2019-11-20T17:02:01.297208Z"
    }
   },
   "outputs": [
    {
     "name": "stdout",
     "output_type": "stream",
     "text": [
      "Our new train set has 130 data points, 65 of which are actual positives.\n"
     ]
    }
   ],
   "source": [
    "# Under sample the majority target variable, so that we get about equal number of observations from both classes.\n",
    "rus = RandomUnderSampler(random_state=42)\n",
    "nx_train, ny_train = rus.fit_resample(X_train, y_train)\n",
    "print(f\"Our new train set has {ny_train.shape[0]} data points, {np.sum(ny_train)} of which are actual positives.\")"
   ]
  },
  {
   "cell_type": "code",
   "execution_count": 49,
   "metadata": {
    "ExecuteTime": {
     "end_time": "2019-11-20T17:03:18.319077Z",
     "start_time": "2019-11-20T17:03:18.285399Z"
    }
   },
   "outputs": [],
   "source": [
    "svd = TruncatedSVD(n_components=100, algorithm='arpack', random_state = 42)\n",
    "nx_train_svd = svd.fit_transform(nx_train)\n",
    "x_test_svd = svd.transform(X_test)"
   ]
  },
  {
   "cell_type": "code",
   "execution_count": 50,
   "metadata": {
    "ExecuteTime": {
     "end_time": "2019-11-20T17:03:18.338861Z",
     "start_time": "2019-11-20T17:03:18.321224Z"
    }
   },
   "outputs": [
    {
     "data": {
      "text/plain": [
       "SVC(C=1.0, cache_size=200, class_weight=None, coef0=0.0,\n",
       "    decision_function_shape='ovr', degree=3, gamma='auto', kernel='linear',\n",
       "    max_iter=-1, probability=False, random_state=42, shrinking=True, tol=0.001,\n",
       "    verbose=False)"
      ]
     },
     "execution_count": 50,
     "metadata": {},
     "output_type": "execute_result"
    }
   ],
   "source": [
    "svc = SVC(gamma='auto', kernel='linear', random_state = 42)\n",
    "svc.fit(nx_train_svd, ny_train)"
   ]
  },
  {
   "cell_type": "code",
   "execution_count": 51,
   "metadata": {
    "ExecuteTime": {
     "end_time": "2019-11-20T17:03:18.356235Z",
     "start_time": "2019-11-20T17:03:18.344303Z"
    }
   },
   "outputs": [],
   "source": [
    "predicted = svc.predict(x_test_svd)"
   ]
  },
  {
   "cell_type": "code",
   "execution_count": 52,
   "metadata": {
    "ExecuteTime": {
     "end_time": "2019-11-20T17:03:18.371509Z",
     "start_time": "2019-11-20T17:03:18.359021Z"
    }
   },
   "outputs": [
    {
     "name": "stdout",
     "output_type": "stream",
     "text": [
      "              precision    recall  f1-score   support\n",
      "\n",
      "       False       0.30      0.54      0.39        26\n",
      "        True       0.86      0.70      0.77       107\n",
      "\n",
      "    accuracy                           0.67       133\n",
      "   macro avg       0.58      0.62      0.58       133\n",
      "weighted avg       0.75      0.67      0.70       133\n",
      "\n"
     ]
    }
   ],
   "source": [
    "print(classification_report(y_test, predicted))"
   ]
  },
  {
   "cell_type": "code",
   "execution_count": null,
   "metadata": {},
   "outputs": [],
   "source": []
  }
 ],
 "metadata": {
  "hide_input": false,
  "kernelspec": {
   "display_name": "Python 3",
   "language": "python",
   "name": "python3"
  },
  "language_info": {
   "codemirror_mode": {
    "name": "ipython",
    "version": 3
   },
   "file_extension": ".py",
   "mimetype": "text/x-python",
   "name": "python",
   "nbconvert_exporter": "python",
   "pygments_lexer": "ipython3",
   "version": "3.6.5"
  },
  "toc": {
   "base_numbering": 1,
   "nav_menu": {},
   "number_sections": false,
   "sideBar": true,
   "skip_h1_title": true,
   "title_cell": "Table of Contents",
   "title_sidebar": "Contents",
   "toc_cell": false,
   "toc_position": {},
   "toc_section_display": true,
   "toc_window_display": true
  },
  "varInspector": {
   "cols": {
    "lenName": 16,
    "lenType": 16,
    "lenVar": 40
   },
   "kernels_config": {
    "python": {
     "delete_cmd_postfix": "",
     "delete_cmd_prefix": "del ",
     "library": "var_list.py",
     "varRefreshCmd": "print(var_dic_list())"
    },
    "r": {
     "delete_cmd_postfix": ") ",
     "delete_cmd_prefix": "rm(",
     "library": "var_list.r",
     "varRefreshCmd": "cat(var_dic_list()) "
    }
   },
   "types_to_exclude": [
    "module",
    "function",
    "builtin_function_or_method",
    "instance",
    "_Feature"
   ],
   "window_display": false
  }
 },
 "nbformat": 4,
 "nbformat_minor": 2
}
