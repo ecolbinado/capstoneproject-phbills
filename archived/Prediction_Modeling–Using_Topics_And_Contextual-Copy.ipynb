{
 "cells": [
  {
   "cell_type": "markdown",
   "metadata": {},
   "source": [
    "# Prediction Modeling – Using Topics and Contextual Data"
   ]
  },
  {
   "cell_type": "code",
   "execution_count": 1,
   "metadata": {
    "ExecuteTime": {
     "end_time": "2019-11-28T04:10:26.351759Z",
     "start_time": "2019-11-28T04:10:25.843810Z"
    }
   },
   "outputs": [],
   "source": [
    "import pandas as pd\n",
    "import numpy as np\n",
    "import os\n",
    "import pickle\n",
    "from sklearn.feature_extraction.text import TfidfVectorizer"
   ]
  },
  {
   "cell_type": "markdown",
   "metadata": {},
   "source": [
    "### Load Text Data"
   ]
  },
  {
   "cell_type": "code",
   "execution_count": 2,
   "metadata": {},
   "outputs": [],
   "source": [
    "df_text = pd.read_pickle(os.path.join('data_files', 'lt_processed.pkl'))"
   ]
  },
  {
   "cell_type": "code",
   "execution_count": 3,
   "metadata": {},
   "outputs": [
    {
     "data": {
      "text/plain": [
       "(14786, 3)"
      ]
     },
     "execution_count": 3,
     "metadata": {},
     "output_type": "execute_result"
    }
   ],
   "source": [
    "df_text.shape"
   ]
  },
  {
   "cell_type": "code",
   "execution_count": 4,
   "metadata": {},
   "outputs": [
    {
     "data": {
      "text/html": [
       "<div>\n",
       "<style scoped>\n",
       "    .dataframe tbody tr th:only-of-type {\n",
       "        vertical-align: middle;\n",
       "    }\n",
       "\n",
       "    .dataframe tbody tr th {\n",
       "        vertical-align: top;\n",
       "    }\n",
       "\n",
       "    .dataframe thead th {\n",
       "        text-align: right;\n",
       "    }\n",
       "</style>\n",
       "<table border=\"1\" class=\"dataframe\">\n",
       "  <thead>\n",
       "    <tr style=\"text-align: right;\">\n",
       "      <th></th>\n",
       "      <th>bill_id</th>\n",
       "      <th>long_title</th>\n",
       "      <th>bill_status</th>\n",
       "    </tr>\n",
       "  </thead>\n",
       "  <tbody>\n",
       "    <tr>\n",
       "      <th>0</th>\n",
       "      <td>17SBN-2235</td>\n",
       "      <td>[fiscal, regime, mining, industry]</td>\n",
       "      <td>Pending</td>\n",
       "    </tr>\n",
       "    <tr>\n",
       "      <th>1</th>\n",
       "      <td>17SBN-2234</td>\n",
       "      <td>[sale, certain, land, barangay, na, ligas, cit...</td>\n",
       "      <td>Passed</td>\n",
       "    </tr>\n",
       "  </tbody>\n",
       "</table>\n",
       "</div>"
      ],
      "text/plain": [
       "      bill_id                                         long_title bill_status\n",
       "0  17SBN-2235                 [fiscal, regime, mining, industry]     Pending\n",
       "1  17SBN-2234  [sale, certain, land, barangay, na, ligas, cit...      Passed"
      ]
     },
     "execution_count": 4,
     "metadata": {},
     "output_type": "execute_result"
    }
   ],
   "source": [
    "df_text.head(2)"
   ]
  },
  {
   "cell_type": "markdown",
   "metadata": {},
   "source": [
    "Drop Pending Senate Bills"
   ]
  },
  {
   "cell_type": "code",
   "execution_count": 5,
   "metadata": {},
   "outputs": [
    {
     "data": {
      "text/plain": [
       "Pending     14270\n",
       "Passed        427\n",
       "Archived       89\n",
       "Name: bill_status, dtype: int64"
      ]
     },
     "execution_count": 5,
     "metadata": {},
     "output_type": "execute_result"
    }
   ],
   "source": [
    "df_text.bill_status.value_counts()"
   ]
  },
  {
   "cell_type": "code",
   "execution_count": 6,
   "metadata": {},
   "outputs": [],
   "source": [
    "df_text.drop(df_text[df_text.bill_status=='Pending'].index, inplace=True)"
   ]
  },
  {
   "cell_type": "markdown",
   "metadata": {},
   "source": [
    "Set Target Variable 'Pass'"
   ]
  },
  {
   "cell_type": "code",
   "execution_count": 7,
   "metadata": {},
   "outputs": [],
   "source": [
    "df_text['Pass'] = np.where(df_text.bill_status == 'Passed', True, False)"
   ]
  },
  {
   "cell_type": "code",
   "execution_count": 8,
   "metadata": {},
   "outputs": [],
   "source": [
    "df_text.drop(['bill_status'], axis=1, inplace=True)"
   ]
  },
  {
   "cell_type": "code",
   "execution_count": 9,
   "metadata": {},
   "outputs": [
    {
     "data": {
      "text/plain": [
       "(516, 3)"
      ]
     },
     "execution_count": 9,
     "metadata": {},
     "output_type": "execute_result"
    }
   ],
   "source": [
    "df_text.shape"
   ]
  },
  {
   "cell_type": "code",
   "execution_count": 10,
   "metadata": {},
   "outputs": [
    {
     "data": {
      "text/html": [
       "<div>\n",
       "<style scoped>\n",
       "    .dataframe tbody tr th:only-of-type {\n",
       "        vertical-align: middle;\n",
       "    }\n",
       "\n",
       "    .dataframe tbody tr th {\n",
       "        vertical-align: top;\n",
       "    }\n",
       "\n",
       "    .dataframe thead th {\n",
       "        text-align: right;\n",
       "    }\n",
       "</style>\n",
       "<table border=\"1\" class=\"dataframe\">\n",
       "  <thead>\n",
       "    <tr style=\"text-align: right;\">\n",
       "      <th></th>\n",
       "      <th>bill_id</th>\n",
       "      <th>long_title</th>\n",
       "      <th>Pass</th>\n",
       "    </tr>\n",
       "  </thead>\n",
       "  <tbody>\n",
       "    <tr>\n",
       "      <th>1</th>\n",
       "      <td>17SBN-2234</td>\n",
       "      <td>[sale, certain, land, barangay, na, ligas, cit...</td>\n",
       "      <td>True</td>\n",
       "    </tr>\n",
       "    <tr>\n",
       "      <th>2</th>\n",
       "      <td>17SBN-2233</td>\n",
       "      <td>[excise, tax, tobacco, subject, tax, increment...</td>\n",
       "      <td>True</td>\n",
       "    </tr>\n",
       "    <tr>\n",
       "      <th>7</th>\n",
       "      <td>17SBN-2228</td>\n",
       "      <td>[nature, park, barangay, city, province, bataa...</td>\n",
       "      <td>True</td>\n",
       "    </tr>\n",
       "    <tr>\n",
       "      <th>40</th>\n",
       "      <td>17SBN-2195</td>\n",
       "      <td>[court, community, service, lieu, imprisonment...</td>\n",
       "      <td>True</td>\n",
       "    </tr>\n",
       "    <tr>\n",
       "      <th>47</th>\n",
       "      <td>17SBN-2188</td>\n",
       "      <td>[bed, capacity, memorial, hospital, medical, c...</td>\n",
       "      <td>True</td>\n",
       "    </tr>\n",
       "  </tbody>\n",
       "</table>\n",
       "</div>"
      ],
      "text/plain": [
       "       bill_id                                         long_title  Pass\n",
       "1   17SBN-2234  [sale, certain, land, barangay, na, ligas, cit...  True\n",
       "2   17SBN-2233  [excise, tax, tobacco, subject, tax, increment...  True\n",
       "7   17SBN-2228  [nature, park, barangay, city, province, bataa...  True\n",
       "40  17SBN-2195  [court, community, service, lieu, imprisonment...  True\n",
       "47  17SBN-2188  [bed, capacity, memorial, hospital, medical, c...  True"
      ]
     },
     "execution_count": 10,
     "metadata": {},
     "output_type": "execute_result"
    }
   ],
   "source": [
    "df_text.head()"
   ]
  },
  {
   "cell_type": "markdown",
   "metadata": {},
   "source": [
    "### Load Context Data"
   ]
  },
  {
   "cell_type": "code",
   "execution_count": 11,
   "metadata": {},
   "outputs": [],
   "source": [
    "df_context = pd.read_pickle(os.path.join('data_files', 'encoded.pkl'))"
   ]
  },
  {
   "cell_type": "code",
   "execution_count": 12,
   "metadata": {},
   "outputs": [
    {
     "data": {
      "text/plain": [
       "(529, 31)"
      ]
     },
     "execution_count": 12,
     "metadata": {},
     "output_type": "execute_result"
    }
   ],
   "source": [
    "df_context.drop('Pass', axis=1, inplace=True)\n",
    "df_context.shape"
   ]
  },
  {
   "cell_type": "markdown",
   "metadata": {},
   "source": [
    "### Merged Data: Text + Context"
   ]
  },
  {
   "cell_type": "code",
   "execution_count": 13,
   "metadata": {},
   "outputs": [],
   "source": [
    "df = pd.merge(df_text, df_context, how='left', on='bill_id')"
   ]
  },
  {
   "cell_type": "code",
   "execution_count": 14,
   "metadata": {},
   "outputs": [
    {
     "data": {
      "text/plain": [
       "(516, 33)"
      ]
     },
     "execution_count": 14,
     "metadata": {},
     "output_type": "execute_result"
    }
   ],
   "source": [
    "df.shape"
   ]
  },
  {
   "cell_type": "code",
   "execution_count": 15,
   "metadata": {},
   "outputs": [
    {
     "data": {
      "text/html": [
       "<div>\n",
       "<style scoped>\n",
       "    .dataframe tbody tr th:only-of-type {\n",
       "        vertical-align: middle;\n",
       "    }\n",
       "\n",
       "    .dataframe tbody tr th {\n",
       "        vertical-align: top;\n",
       "    }\n",
       "\n",
       "    .dataframe thead th {\n",
       "        text-align: right;\n",
       "    }\n",
       "</style>\n",
       "<table border=\"1\" class=\"dataframe\">\n",
       "  <thead>\n",
       "    <tr style=\"text-align: right;\">\n",
       "      <th></th>\n",
       "      <th>bill_id</th>\n",
       "      <th>long_title</th>\n",
       "      <th>Pass</th>\n",
       "      <th>Years of Service</th>\n",
       "      <th>num_authors</th>\n",
       "      <th>delta_days</th>\n",
       "      <th>scope_national</th>\n",
       "      <th>majority_bloc</th>\n",
       "      <th>len_desc</th>\n",
       "      <th>Party_Bagumbayan-VNP</th>\n",
       "      <th>...</th>\n",
       "      <th>month_December</th>\n",
       "      <th>month_February</th>\n",
       "      <th>month_January</th>\n",
       "      <th>month_July</th>\n",
       "      <th>month_June</th>\n",
       "      <th>month_March</th>\n",
       "      <th>month_May</th>\n",
       "      <th>month_November</th>\n",
       "      <th>month_October</th>\n",
       "      <th>month_September</th>\n",
       "    </tr>\n",
       "  </thead>\n",
       "  <tbody>\n",
       "    <tr>\n",
       "      <th>0</th>\n",
       "      <td>17SBN-2234</td>\n",
       "      <td>[sale, certain, land, barangay, na, ligas, cit...</td>\n",
       "      <td>True</td>\n",
       "      <td>18</td>\n",
       "      <td>3</td>\n",
       "      <td>34</td>\n",
       "      <td>True</td>\n",
       "      <td>True</td>\n",
       "      <td>300</td>\n",
       "      <td>0</td>\n",
       "      <td>...</td>\n",
       "      <td>0</td>\n",
       "      <td>0</td>\n",
       "      <td>0</td>\n",
       "      <td>0</td>\n",
       "      <td>0</td>\n",
       "      <td>0</td>\n",
       "      <td>1</td>\n",
       "      <td>0</td>\n",
       "      <td>0</td>\n",
       "      <td>0</td>\n",
       "    </tr>\n",
       "    <tr>\n",
       "      <th>1</th>\n",
       "      <td>17SBN-2233</td>\n",
       "      <td>[excise, tax, tobacco, subject, tax, increment...</td>\n",
       "      <td>True</td>\n",
       "      <td>3</td>\n",
       "      <td>6</td>\n",
       "      <td>34</td>\n",
       "      <td>True</td>\n",
       "      <td>True</td>\n",
       "      <td>426</td>\n",
       "      <td>0</td>\n",
       "      <td>...</td>\n",
       "      <td>0</td>\n",
       "      <td>0</td>\n",
       "      <td>0</td>\n",
       "      <td>0</td>\n",
       "      <td>0</td>\n",
       "      <td>0</td>\n",
       "      <td>1</td>\n",
       "      <td>0</td>\n",
       "      <td>0</td>\n",
       "      <td>0</td>\n",
       "    </tr>\n",
       "  </tbody>\n",
       "</table>\n",
       "<p>2 rows × 33 columns</p>\n",
       "</div>"
      ],
      "text/plain": [
       "      bill_id                                         long_title  Pass  \\\n",
       "0  17SBN-2234  [sale, certain, land, barangay, na, ligas, cit...  True   \n",
       "1  17SBN-2233  [excise, tax, tobacco, subject, tax, increment...  True   \n",
       "\n",
       "   Years of Service  num_authors  delta_days  scope_national  majority_bloc  \\\n",
       "0                18            3          34            True           True   \n",
       "1                 3            6          34            True           True   \n",
       "\n",
       "   len_desc  Party_Bagumbayan-VNP  ...  month_December  month_February  \\\n",
       "0       300                     0  ...               0               0   \n",
       "1       426                     0  ...               0               0   \n",
       "\n",
       "   month_January  month_July  month_June  month_March  month_May  \\\n",
       "0              0           0           0            0          1   \n",
       "1              0           0           0            0          1   \n",
       "\n",
       "   month_November  month_October  month_September  \n",
       "0               0              0                0  \n",
       "1               0              0                0  \n",
       "\n",
       "[2 rows x 33 columns]"
      ]
     },
     "execution_count": 15,
     "metadata": {},
     "output_type": "execute_result"
    }
   ],
   "source": [
    "df.head(2)"
   ]
  },
  {
   "cell_type": "markdown",
   "metadata": {},
   "source": [
    "### Load Topic Modeling Results"
   ]
  },
  {
   "cell_type": "code",
   "execution_count": 16,
   "metadata": {
    "ExecuteTime": {
     "end_time": "2019-11-28T04:10:45.799510Z",
     "start_time": "2019-11-28T04:10:45.789510Z"
    }
   },
   "outputs": [],
   "source": [
    "topic_dict = pickle.load(open(os.path.join('data_files',\n",
    "                                           'topic_dict.pkl'), 'rb'))"
   ]
  },
  {
   "cell_type": "code",
   "execution_count": 17,
   "metadata": {
    "ExecuteTime": {
     "end_time": "2019-11-28T04:15:51.066818Z",
     "start_time": "2019-11-28T04:15:51.062953Z"
    }
   },
   "outputs": [],
   "source": [
    "def topic_mapper(lst1, lst2):\n",
    "    intersect_list = list(set(lst1) & set(lst2))\n",
    "    return 1 if len(intersect_list) > 0 else 0"
   ]
  },
  {
   "cell_type": "code",
   "execution_count": 18,
   "metadata": {
    "ExecuteTime": {
     "end_time": "2019-11-28T04:24:59.629417Z",
     "start_time": "2019-11-28T04:24:59.327983Z"
    }
   },
   "outputs": [],
   "source": [
    "df['t_0'] = df.long_title.map(lambda x: topic_mapper(x, topic_dict[0]))\n",
    "df['t_1'] = df.long_title.map(lambda x: topic_mapper(x, topic_dict[1]))\n",
    "df['t_2'] = df.long_title.map(lambda x: topic_mapper(x, topic_dict[2]))\n",
    "df['t_3'] = df.long_title.map(lambda x: topic_mapper(x, topic_dict[3]))\n",
    "df['t_4'] = df.long_title.map(lambda x: topic_mapper(x, topic_dict[4]))\n",
    "df['t_5'] = df.long_title.map(lambda x: topic_mapper(x, topic_dict[5]))\n",
    "df['t_6'] = df.long_title.map(lambda x: topic_mapper(x, topic_dict[6]))\n",
    "df['t_7'] = df.long_title.map(lambda x: topic_mapper(x, topic_dict[7]))\n",
    "df['t_8'] = df.long_title.map(lambda x: topic_mapper(x, topic_dict[8]))\n",
    "df['t_9'] = df.long_title.map(lambda x: topic_mapper(x, topic_dict[9]))"
   ]
  },
  {
   "cell_type": "code",
   "execution_count": 21,
   "metadata": {},
   "outputs": [
    {
     "name": "stdout",
     "output_type": "stream",
     "text": [
      " N-Topic 0 Obs: 261\n",
      " N-Topic 1 Obs: 227\n",
      " N-Topic 2 Obs: 77\n",
      " N-Topic 3 Obs: 221\n",
      " N-Topic 4 Obs: 259\n",
      " N-Topic 5 Obs: 59\n",
      " N-Topic 6 Obs: 256\n",
      " N-Topic 7 Obs: 226\n",
      " N-Topic 8 Obs: 37\n",
      " N-Topic 9 Obs: 249\n"
     ]
    }
   ],
   "source": [
    "print(f\" N-Topic 0 Obs: {df.t_0.sum()}\\n\",\n",
    "      f\"N-Topic 1 Obs: {df.t_1.sum()}\\n\",\n",
    "      f\"N-Topic 2 Obs: {df.t_2.sum()}\\n\",\n",
    "      f\"N-Topic 3 Obs: {df.t_3.sum()}\\n\",\n",
    "      f\"N-Topic 4 Obs: {df.t_4.sum()}\\n\",\n",
    "      f\"N-Topic 5 Obs: {df.t_5.sum()}\\n\",\n",
    "      f\"N-Topic 6 Obs: {df.t_6.sum()}\\n\",\n",
    "      f\"N-Topic 7 Obs: {df.t_7.sum()}\\n\",\n",
    "      f\"N-Topic 8 Obs: {df.t_8.sum()}\\n\",\n",
    "      f\"N-Topic 9 Obs: {df.t_9.sum()}\")"
   ]
  },
  {
   "cell_type": "markdown",
   "metadata": {},
   "source": [
    "### Combined Data: Merged Data + Topic"
   ]
  },
  {
   "cell_type": "code",
   "execution_count": 24,
   "metadata": {},
   "outputs": [],
   "source": [
    "df.drop(['bill_id', 'long_title'], axis=1, inplace=True)"
   ]
  },
  {
   "cell_type": "code",
   "execution_count": 25,
   "metadata": {
    "ExecuteTime": {
     "end_time": "2019-11-28T04:27:43.712014Z",
     "start_time": "2019-11-28T04:27:43.696498Z"
    }
   },
   "outputs": [
    {
     "data": {
      "text/html": [
       "<div>\n",
       "<style scoped>\n",
       "    .dataframe tbody tr th:only-of-type {\n",
       "        vertical-align: middle;\n",
       "    }\n",
       "\n",
       "    .dataframe tbody tr th {\n",
       "        vertical-align: top;\n",
       "    }\n",
       "\n",
       "    .dataframe thead th {\n",
       "        text-align: right;\n",
       "    }\n",
       "</style>\n",
       "<table border=\"1\" class=\"dataframe\">\n",
       "  <thead>\n",
       "    <tr style=\"text-align: right;\">\n",
       "      <th></th>\n",
       "      <th>Pass</th>\n",
       "      <th>Years of Service</th>\n",
       "      <th>num_authors</th>\n",
       "      <th>delta_days</th>\n",
       "      <th>scope_national</th>\n",
       "      <th>majority_bloc</th>\n",
       "      <th>len_desc</th>\n",
       "      <th>Party_Bagumbayan-VNP</th>\n",
       "      <th>Party_Independent</th>\n",
       "      <th>Party_LDP</th>\n",
       "      <th>...</th>\n",
       "      <th>t_0</th>\n",
       "      <th>t_1</th>\n",
       "      <th>t_2</th>\n",
       "      <th>t_3</th>\n",
       "      <th>t_4</th>\n",
       "      <th>t_5</th>\n",
       "      <th>t_6</th>\n",
       "      <th>t_7</th>\n",
       "      <th>t_8</th>\n",
       "      <th>t_9</th>\n",
       "    </tr>\n",
       "  </thead>\n",
       "  <tbody>\n",
       "    <tr>\n",
       "      <th>0</th>\n",
       "      <td>True</td>\n",
       "      <td>18</td>\n",
       "      <td>3</td>\n",
       "      <td>34</td>\n",
       "      <td>True</td>\n",
       "      <td>True</td>\n",
       "      <td>300</td>\n",
       "      <td>0</td>\n",
       "      <td>0</td>\n",
       "      <td>0</td>\n",
       "      <td>...</td>\n",
       "      <td>1</td>\n",
       "      <td>0</td>\n",
       "      <td>0</td>\n",
       "      <td>0</td>\n",
       "      <td>1</td>\n",
       "      <td>1</td>\n",
       "      <td>0</td>\n",
       "      <td>0</td>\n",
       "      <td>1</td>\n",
       "      <td>0</td>\n",
       "    </tr>\n",
       "    <tr>\n",
       "      <th>1</th>\n",
       "      <td>True</td>\n",
       "      <td>3</td>\n",
       "      <td>6</td>\n",
       "      <td>34</td>\n",
       "      <td>True</td>\n",
       "      <td>True</td>\n",
       "      <td>426</td>\n",
       "      <td>0</td>\n",
       "      <td>0</td>\n",
       "      <td>0</td>\n",
       "      <td>...</td>\n",
       "      <td>1</td>\n",
       "      <td>1</td>\n",
       "      <td>1</td>\n",
       "      <td>1</td>\n",
       "      <td>1</td>\n",
       "      <td>0</td>\n",
       "      <td>1</td>\n",
       "      <td>1</td>\n",
       "      <td>0</td>\n",
       "      <td>1</td>\n",
       "    </tr>\n",
       "    <tr>\n",
       "      <th>2</th>\n",
       "      <td>True</td>\n",
       "      <td>6</td>\n",
       "      <td>3</td>\n",
       "      <td>40</td>\n",
       "      <td>True</td>\n",
       "      <td>True</td>\n",
       "      <td>201</td>\n",
       "      <td>0</td>\n",
       "      <td>0</td>\n",
       "      <td>0</td>\n",
       "      <td>...</td>\n",
       "      <td>1</td>\n",
       "      <td>1</td>\n",
       "      <td>0</td>\n",
       "      <td>1</td>\n",
       "      <td>1</td>\n",
       "      <td>0</td>\n",
       "      <td>1</td>\n",
       "      <td>1</td>\n",
       "      <td>0</td>\n",
       "      <td>1</td>\n",
       "    </tr>\n",
       "    <tr>\n",
       "      <th>3</th>\n",
       "      <td>True</td>\n",
       "      <td>12</td>\n",
       "      <td>4</td>\n",
       "      <td>151</td>\n",
       "      <td>True</td>\n",
       "      <td>False</td>\n",
       "      <td>258</td>\n",
       "      <td>0</td>\n",
       "      <td>0</td>\n",
       "      <td>0</td>\n",
       "      <td>...</td>\n",
       "      <td>0</td>\n",
       "      <td>1</td>\n",
       "      <td>1</td>\n",
       "      <td>0</td>\n",
       "      <td>0</td>\n",
       "      <td>0</td>\n",
       "      <td>0</td>\n",
       "      <td>0</td>\n",
       "      <td>0</td>\n",
       "      <td>0</td>\n",
       "    </tr>\n",
       "    <tr>\n",
       "      <th>4</th>\n",
       "      <td>True</td>\n",
       "      <td>9</td>\n",
       "      <td>2</td>\n",
       "      <td>73</td>\n",
       "      <td>False</td>\n",
       "      <td>True</td>\n",
       "      <td>354</td>\n",
       "      <td>0</td>\n",
       "      <td>0</td>\n",
       "      <td>0</td>\n",
       "      <td>...</td>\n",
       "      <td>1</td>\n",
       "      <td>1</td>\n",
       "      <td>1</td>\n",
       "      <td>1</td>\n",
       "      <td>1</td>\n",
       "      <td>0</td>\n",
       "      <td>1</td>\n",
       "      <td>1</td>\n",
       "      <td>0</td>\n",
       "      <td>1</td>\n",
       "    </tr>\n",
       "  </tbody>\n",
       "</table>\n",
       "<p>5 rows × 41 columns</p>\n",
       "</div>"
      ],
      "text/plain": [
       "   Pass  Years of Service  num_authors  delta_days  scope_national  \\\n",
       "0  True                18            3          34            True   \n",
       "1  True                 3            6          34            True   \n",
       "2  True                 6            3          40            True   \n",
       "3  True                12            4         151            True   \n",
       "4  True                 9            2          73           False   \n",
       "\n",
       "   majority_bloc  len_desc  Party_Bagumbayan-VNP  Party_Independent  \\\n",
       "0           True       300                     0                  0   \n",
       "1           True       426                     0                  0   \n",
       "2           True       201                     0                  0   \n",
       "3          False       258                     0                  0   \n",
       "4           True       354                     0                  0   \n",
       "\n",
       "   Party_LDP  ...  t_0  t_1  t_2  t_3  t_4  t_5  t_6  t_7  t_8  t_9  \n",
       "0          0  ...    1    0    0    0    1    1    0    0    1    0  \n",
       "1          0  ...    1    1    1    1    1    0    1    1    0    1  \n",
       "2          0  ...    1    1    0    1    1    0    1    1    0    1  \n",
       "3          0  ...    0    1    1    0    0    0    0    0    0    0  \n",
       "4          0  ...    1    1    1    1    1    0    1    1    0    1  \n",
       "\n",
       "[5 rows x 41 columns]"
      ]
     },
     "execution_count": 25,
     "metadata": {},
     "output_type": "execute_result"
    }
   ],
   "source": [
    "df.head()"
   ]
  },
  {
   "cell_type": "code",
   "execution_count": 26,
   "metadata": {},
   "outputs": [
    {
     "data": {
      "text/plain": [
       "Pass                      bool\n",
       "Years of Service         int64\n",
       "num_authors              int64\n",
       "delta_days               int64\n",
       "scope_national            bool\n",
       "majority_bloc             bool\n",
       "len_desc                 int64\n",
       "Party_Bagumbayan-VNP     uint8\n",
       "Party_Independent        uint8\n",
       "Party_LDP                uint8\n",
       "Party_Lakas              uint8\n",
       "Party_Lakas-CMD          uint8\n",
       "Party_Lakas-Kampi-CMD    uint8\n",
       "Party_Liberal            uint8\n",
       "Party_NPC                uint8\n",
       "Party_Nacionalista       uint8\n",
       "Party_PDP_Laban          uint8\n",
       "Party_PMP                uint8\n",
       "Party_PRP                uint8\n",
       "Party_UNA                uint8\n",
       "month_August             uint8\n",
       "month_December           uint8\n",
       "month_February           uint8\n",
       "month_January            uint8\n",
       "month_July               uint8\n",
       "month_June               uint8\n",
       "month_March              uint8\n",
       "month_May                uint8\n",
       "month_November           uint8\n",
       "month_October            uint8\n",
       "month_September          uint8\n",
       "t_0                      int64\n",
       "t_1                      int64\n",
       "t_2                      int64\n",
       "t_3                      int64\n",
       "t_4                      int64\n",
       "t_5                      int64\n",
       "t_6                      int64\n",
       "t_7                      int64\n",
       "t_8                      int64\n",
       "t_9                      int64\n",
       "dtype: object"
      ]
     },
     "execution_count": 26,
     "metadata": {},
     "output_type": "execute_result"
    }
   ],
   "source": [
    "df.dtypes"
   ]
  },
  {
   "cell_type": "markdown",
   "metadata": {},
   "source": [
    "## Word Vectorizer"
   ]
  },
  {
   "cell_type": "code",
   "execution_count": null,
   "metadata": {
    "ExecuteTime": {
     "end_time": "2019-11-27T23:13:12.443828Z",
     "start_time": "2019-11-27T23:13:12.282019Z"
    }
   },
   "outputs": [],
   "source": [
    "tfidf = TfidfVectorizer(stop_words=\"english\")\n",
    "tfidf_v = tfidf.fit_transform(df_billText.long_title)"
   ]
  },
  {
   "cell_type": "code",
   "execution_count": null,
   "metadata": {
    "ExecuteTime": {
     "end_time": "2019-11-27T23:13:12.450172Z",
     "start_time": "2019-11-27T23:13:12.445850Z"
    }
   },
   "outputs": [],
   "source": [
    "import pickle"
   ]
  },
  {
   "cell_type": "code",
   "execution_count": null,
   "metadata": {
    "ExecuteTime": {
     "end_time": "2019-11-27T23:13:12.472368Z",
     "start_time": "2019-11-27T23:13:12.454485Z"
    }
   },
   "outputs": [],
   "source": [
    "pickle.dump(tfidf, open(\"tfidf.pkl\", \"wb\"))"
   ]
  },
  {
   "cell_type": "code",
   "execution_count": null,
   "metadata": {
    "ExecuteTime": {
     "end_time": "2019-11-27T23:13:12.616595Z",
     "start_time": "2019-11-27T23:13:12.474787Z"
    }
   },
   "outputs": [],
   "source": [
    "data_dtm = pd.DataFrame(tfidf_v.toarray(), columns=tfidf.get_feature_names())\n",
    "data_dtm.index = df_billText.index"
   ]
  },
  {
   "cell_type": "code",
   "execution_count": null,
   "metadata": {
    "ExecuteTime": {
     "end_time": "2019-11-27T23:13:12.640819Z",
     "start_time": "2019-11-27T23:13:12.625939Z"
    }
   },
   "outputs": [],
   "source": [
    "df_vect_words = pd.DataFrame(sorted(tfidf.vocabulary_.items(), key=lambda kv: kv[1], reverse=True),\n",
    "                  columns = ['Word', 'Weight'])"
   ]
  },
  {
   "cell_type": "code",
   "execution_count": null,
   "metadata": {
    "ExecuteTime": {
     "end_time": "2019-11-27T23:13:12.674374Z",
     "start_time": "2019-11-27T23:13:12.643287Z"
    }
   },
   "outputs": [],
   "source": [
    "df_vect_words.to_csv('vectorizer_voc.csv')"
   ]
  },
  {
   "cell_type": "code",
   "execution_count": null,
   "metadata": {
    "ExecuteTime": {
     "end_time": "2019-11-27T23:13:13.796904Z",
     "start_time": "2019-11-27T23:13:12.681515Z"
    }
   },
   "outputs": [],
   "source": [
    "# Let's pickle it for later use\n",
    "data_dtm.to_pickle(\"dtm.pkl\")"
   ]
  },
  {
   "cell_type": "code",
   "execution_count": null,
   "metadata": {
    "ExecuteTime": {
     "end_time": "2019-11-27T23:13:13.929230Z",
     "start_time": "2019-11-27T23:13:13.799612Z"
    }
   },
   "outputs": [],
   "source": [
    "df_billText.to_csv('billText_Processed_n.csv')"
   ]
  },
  {
   "cell_type": "code",
   "execution_count": null,
   "metadata": {},
   "outputs": [],
   "source": []
  }
 ],
 "metadata": {
  "hide_input": false,
  "kernelspec": {
   "display_name": "Python 3",
   "language": "python",
   "name": "python3"
  },
  "language_info": {
   "codemirror_mode": {
    "name": "ipython",
    "version": 3
   },
   "file_extension": ".py",
   "mimetype": "text/x-python",
   "name": "python",
   "nbconvert_exporter": "python",
   "pygments_lexer": "ipython3",
   "version": "3.7.4"
  },
  "toc": {
   "base_numbering": 1,
   "nav_menu": {},
   "number_sections": false,
   "sideBar": true,
   "skip_h1_title": true,
   "title_cell": "Table of Contents",
   "title_sidebar": "Contents",
   "toc_cell": false,
   "toc_position": {
    "height": "calc(100% - 180px)",
    "left": "10px",
    "top": "150px",
    "width": "288px"
   },
   "toc_section_display": true,
   "toc_window_display": true
  },
  "varInspector": {
   "cols": {
    "lenName": 16,
    "lenType": 16,
    "lenVar": 40
   },
   "kernels_config": {
    "python": {
     "delete_cmd_postfix": "",
     "delete_cmd_prefix": "del ",
     "library": "var_list.py",
     "varRefreshCmd": "print(var_dic_list())"
    },
    "r": {
     "delete_cmd_postfix": ") ",
     "delete_cmd_prefix": "rm(",
     "library": "var_list.r",
     "varRefreshCmd": "cat(var_dic_list()) "
    }
   },
   "types_to_exclude": [
    "module",
    "function",
    "builtin_function_or_method",
    "instance",
    "_Feature"
   ],
   "window_display": false
  }
 },
 "nbformat": 4,
 "nbformat_minor": 4
}
